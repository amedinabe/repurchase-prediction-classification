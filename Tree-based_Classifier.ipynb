{
 "cells": [
  {
   "cell_type": "markdown",
   "id": "6d4b9a86",
   "metadata": {},
   "source": [
    " # Experiment 4: Binary classification"
   ]
  },
  {
   "cell_type": "markdown",
   "id": "b75faa83",
   "metadata": {},
   "source": [
    "Content\n",
    "\n",
    "1. Introduction\n",
    "2. Used libraries\n",
    "3. Reading Clean Data from a CSV File\n",
    "4. Case of study and data understanding\n",
    "5. Split the data\n",
    "6. Assess Baseline Model\n",
    "7. Training a model\n",
    "    \n",
    "    7.1 Decision Tree Classifier\n",
    "    \n",
    "    7.2 Decision Tree Classifier with different min_samples_split\n",
    "    \n",
    "    7.3 Decision Tree Classifier with different max_depth\n",
    "    \n",
    "    7.4 Decision Tree Classifier with different max_depth and min_samples_split\n",
    "    \n",
    "    7.5 Random Forest Classifier\n",
    "    \n",
    "    7.6 Random Forest Classifier with n_estimators\n",
    "    \n",
    "    7.7 Random Forest Classifier with max_depth\n",
    "    \n",
    "    7.8 Random Forest Classifier with min_samples_leaf\n",
    "    \n",
    "    7.9 Random Forest Classifier with max_features\n",
    "    \n",
    "    7.10 Extra trees Classifier\n",
    "    \n",
    "    \n",
    "8. Conclusion\n",
    "9. References"
   ]
  },
  {
   "cell_type": "markdown",
   "id": "5422fb9f",
   "metadata": {},
   "source": [
    "## 1. Introduction"
   ]
  },
  {
   "cell_type": "markdown",
   "id": "67b8b574",
   "metadata": {},
   "source": [
    "In the following study, we will fit a binary classification model using Decision tree,  random forest and extra trees classifier to predict if an existing customer is more likely to buy a new car as accurate as possible."
   ]
  },
  {
   "cell_type": "markdown",
   "id": "7b4cd5a1",
   "metadata": {},
   "source": [
    "## 2. Used libraries "
   ]
  },
  {
   "cell_type": "code",
   "execution_count": 1,
   "id": "aacb30aa",
   "metadata": {},
   "outputs": [],
   "source": [
    "#working with data\n",
    "import pandas as pd\n",
    "import numpy as np\n",
    "\n",
    "#plotting data\n",
    "import seaborn as sns\n",
    "import matplotlib.pyplot as plt "
   ]
  },
  {
   "cell_type": "code",
   "execution_count": 2,
   "id": "38952dd4",
   "metadata": {},
   "outputs": [],
   "source": [
    "import warnings\n",
    "warnings.filterwarnings('ignore')"
   ]
  },
  {
   "cell_type": "code",
   "execution_count": 3,
   "id": "b907b29d",
   "metadata": {},
   "outputs": [],
   "source": [
    "import warnings\n",
    "warnings.simplefilter(action='ignore', category=FutureWarning)"
   ]
  },
  {
   "cell_type": "markdown",
   "id": "a01b38c1",
   "metadata": {},
   "source": [
    "## 3. Reading Clean Data from a CSV File"
   ]
  },
  {
   "cell_type": "markdown",
   "id": "a7b90b0d",
   "metadata": {},
   "source": [
    "Clean data:"
   ]
  },
  {
   "cell_type": "code",
   "execution_count": 4,
   "id": "bf3776f9",
   "metadata": {},
   "outputs": [],
   "source": [
    "df_cleaned = pd.read_csv(\"df_cleaned1.csv\")\n",
    "#clean columns\n",
    "df_cleaned.drop(df_cleaned.columns[0], axis=1, inplace=True)"
   ]
  },
  {
   "cell_type": "code",
   "execution_count": 5,
   "id": "c5c9eb4d",
   "metadata": {},
   "outputs": [
    {
     "data": {
      "text/plain": [
       "(131337, 17)"
      ]
     },
     "execution_count": 5,
     "metadata": {},
     "output_type": "execute_result"
    }
   ],
   "source": [
    "df_cleaned.shape"
   ]
  },
  {
   "cell_type": "code",
   "execution_count": 6,
   "id": "a8e50d06",
   "metadata": {},
   "outputs": [
    {
     "data": {
      "text/html": [
       "<div>\n",
       "<style scoped>\n",
       "    .dataframe tbody tr th:only-of-type {\n",
       "        vertical-align: middle;\n",
       "    }\n",
       "\n",
       "    .dataframe tbody tr th {\n",
       "        vertical-align: top;\n",
       "    }\n",
       "\n",
       "    .dataframe thead th {\n",
       "        text-align: right;\n",
       "    }\n",
       "</style>\n",
       "<table border=\"1\" class=\"dataframe\">\n",
       "  <thead>\n",
       "    <tr style=\"text-align: right;\">\n",
       "      <th></th>\n",
       "      <th>Target</th>\n",
       "      <th>age_band</th>\n",
       "      <th>car_model</th>\n",
       "      <th>car_segment</th>\n",
       "      <th>age_of_vehicle_years</th>\n",
       "      <th>sched_serv_warr</th>\n",
       "      <th>non_sched_serv_warr</th>\n",
       "      <th>sched_serv_paid</th>\n",
       "      <th>non_sched_serv_paid</th>\n",
       "      <th>total_paid_services</th>\n",
       "      <th>total_services</th>\n",
       "      <th>mth_since_last_serv</th>\n",
       "      <th>annualised_mileage</th>\n",
       "      <th>num_dealers_visited</th>\n",
       "      <th>num_serv_dealer_purchased</th>\n",
       "      <th>Female</th>\n",
       "      <th>Male</th>\n",
       "    </tr>\n",
       "  </thead>\n",
       "  <tbody>\n",
       "    <tr>\n",
       "      <th>0</th>\n",
       "      <td>0</td>\n",
       "      <td>3</td>\n",
       "      <td>1</td>\n",
       "      <td>3</td>\n",
       "      <td>9</td>\n",
       "      <td>2</td>\n",
       "      <td>10</td>\n",
       "      <td>3</td>\n",
       "      <td>7</td>\n",
       "      <td>5</td>\n",
       "      <td>6</td>\n",
       "      <td>9</td>\n",
       "      <td>8</td>\n",
       "      <td>10</td>\n",
       "      <td>4</td>\n",
       "      <td>0</td>\n",
       "      <td>1</td>\n",
       "    </tr>\n",
       "    <tr>\n",
       "      <th>1</th>\n",
       "      <td>0</td>\n",
       "      <td>0</td>\n",
       "      <td>2</td>\n",
       "      <td>1</td>\n",
       "      <td>6</td>\n",
       "      <td>10</td>\n",
       "      <td>3</td>\n",
       "      <td>10</td>\n",
       "      <td>4</td>\n",
       "      <td>9</td>\n",
       "      <td>10</td>\n",
       "      <td>6</td>\n",
       "      <td>10</td>\n",
       "      <td>7</td>\n",
       "      <td>10</td>\n",
       "      <td>0</td>\n",
       "      <td>0</td>\n",
       "    </tr>\n",
       "    <tr>\n",
       "      <th>2</th>\n",
       "      <td>0</td>\n",
       "      <td>0</td>\n",
       "      <td>3</td>\n",
       "      <td>2</td>\n",
       "      <td>9</td>\n",
       "      <td>10</td>\n",
       "      <td>9</td>\n",
       "      <td>10</td>\n",
       "      <td>9</td>\n",
       "      <td>10</td>\n",
       "      <td>10</td>\n",
       "      <td>7</td>\n",
       "      <td>10</td>\n",
       "      <td>6</td>\n",
       "      <td>10</td>\n",
       "      <td>0</td>\n",
       "      <td>1</td>\n",
       "    </tr>\n",
       "    <tr>\n",
       "      <th>3</th>\n",
       "      <td>0</td>\n",
       "      <td>0</td>\n",
       "      <td>3</td>\n",
       "      <td>2</td>\n",
       "      <td>5</td>\n",
       "      <td>8</td>\n",
       "      <td>5</td>\n",
       "      <td>8</td>\n",
       "      <td>4</td>\n",
       "      <td>5</td>\n",
       "      <td>6</td>\n",
       "      <td>4</td>\n",
       "      <td>10</td>\n",
       "      <td>9</td>\n",
       "      <td>7</td>\n",
       "      <td>0</td>\n",
       "      <td>0</td>\n",
       "    </tr>\n",
       "    <tr>\n",
       "      <th>4</th>\n",
       "      <td>0</td>\n",
       "      <td>0</td>\n",
       "      <td>2</td>\n",
       "      <td>1</td>\n",
       "      <td>8</td>\n",
       "      <td>9</td>\n",
       "      <td>4</td>\n",
       "      <td>10</td>\n",
       "      <td>7</td>\n",
       "      <td>9</td>\n",
       "      <td>8</td>\n",
       "      <td>5</td>\n",
       "      <td>4</td>\n",
       "      <td>4</td>\n",
       "      <td>9</td>\n",
       "      <td>1</td>\n",
       "      <td>0</td>\n",
       "    </tr>\n",
       "    <tr>\n",
       "      <th>...</th>\n",
       "      <td>...</td>\n",
       "      <td>...</td>\n",
       "      <td>...</td>\n",
       "      <td>...</td>\n",
       "      <td>...</td>\n",
       "      <td>...</td>\n",
       "      <td>...</td>\n",
       "      <td>...</td>\n",
       "      <td>...</td>\n",
       "      <td>...</td>\n",
       "      <td>...</td>\n",
       "      <td>...</td>\n",
       "      <td>...</td>\n",
       "      <td>...</td>\n",
       "      <td>...</td>\n",
       "      <td>...</td>\n",
       "      <td>...</td>\n",
       "    </tr>\n",
       "    <tr>\n",
       "      <th>131332</th>\n",
       "      <td>1</td>\n",
       "      <td>0</td>\n",
       "      <td>3</td>\n",
       "      <td>2</td>\n",
       "      <td>7</td>\n",
       "      <td>10</td>\n",
       "      <td>10</td>\n",
       "      <td>9</td>\n",
       "      <td>10</td>\n",
       "      <td>10</td>\n",
       "      <td>10</td>\n",
       "      <td>3</td>\n",
       "      <td>6</td>\n",
       "      <td>10</td>\n",
       "      <td>10</td>\n",
       "      <td>0</td>\n",
       "      <td>0</td>\n",
       "    </tr>\n",
       "    <tr>\n",
       "      <th>131333</th>\n",
       "      <td>1</td>\n",
       "      <td>0</td>\n",
       "      <td>3</td>\n",
       "      <td>2</td>\n",
       "      <td>4</td>\n",
       "      <td>10</td>\n",
       "      <td>10</td>\n",
       "      <td>10</td>\n",
       "      <td>10</td>\n",
       "      <td>10</td>\n",
       "      <td>10</td>\n",
       "      <td>2</td>\n",
       "      <td>3</td>\n",
       "      <td>10</td>\n",
       "      <td>10</td>\n",
       "      <td>0</td>\n",
       "      <td>0</td>\n",
       "    </tr>\n",
       "    <tr>\n",
       "      <th>131334</th>\n",
       "      <td>1</td>\n",
       "      <td>0</td>\n",
       "      <td>5</td>\n",
       "      <td>2</td>\n",
       "      <td>4</td>\n",
       "      <td>4</td>\n",
       "      <td>9</td>\n",
       "      <td>5</td>\n",
       "      <td>4</td>\n",
       "      <td>3</td>\n",
       "      <td>8</td>\n",
       "      <td>4</td>\n",
       "      <td>7</td>\n",
       "      <td>10</td>\n",
       "      <td>10</td>\n",
       "      <td>0</td>\n",
       "      <td>0</td>\n",
       "    </tr>\n",
       "    <tr>\n",
       "      <th>131335</th>\n",
       "      <td>1</td>\n",
       "      <td>0</td>\n",
       "      <td>5</td>\n",
       "      <td>2</td>\n",
       "      <td>2</td>\n",
       "      <td>1</td>\n",
       "      <td>10</td>\n",
       "      <td>1</td>\n",
       "      <td>10</td>\n",
       "      <td>9</td>\n",
       "      <td>8</td>\n",
       "      <td>3</td>\n",
       "      <td>6</td>\n",
       "      <td>7</td>\n",
       "      <td>10</td>\n",
       "      <td>0</td>\n",
       "      <td>0</td>\n",
       "    </tr>\n",
       "    <tr>\n",
       "      <th>131336</th>\n",
       "      <td>1</td>\n",
       "      <td>0</td>\n",
       "      <td>1</td>\n",
       "      <td>3</td>\n",
       "      <td>6</td>\n",
       "      <td>1</td>\n",
       "      <td>7</td>\n",
       "      <td>1</td>\n",
       "      <td>10</td>\n",
       "      <td>10</td>\n",
       "      <td>5</td>\n",
       "      <td>3</td>\n",
       "      <td>4</td>\n",
       "      <td>9</td>\n",
       "      <td>10</td>\n",
       "      <td>0</td>\n",
       "      <td>0</td>\n",
       "    </tr>\n",
       "  </tbody>\n",
       "</table>\n",
       "<p>131337 rows × 17 columns</p>\n",
       "</div>"
      ],
      "text/plain": [
       "        Target  age_band  car_model  car_segment  age_of_vehicle_years  \\\n",
       "0            0         3          1            3                     9   \n",
       "1            0         0          2            1                     6   \n",
       "2            0         0          3            2                     9   \n",
       "3            0         0          3            2                     5   \n",
       "4            0         0          2            1                     8   \n",
       "...        ...       ...        ...          ...                   ...   \n",
       "131332       1         0          3            2                     7   \n",
       "131333       1         0          3            2                     4   \n",
       "131334       1         0          5            2                     4   \n",
       "131335       1         0          5            2                     2   \n",
       "131336       1         0          1            3                     6   \n",
       "\n",
       "        sched_serv_warr  non_sched_serv_warr  sched_serv_paid  \\\n",
       "0                     2                   10                3   \n",
       "1                    10                    3               10   \n",
       "2                    10                    9               10   \n",
       "3                     8                    5                8   \n",
       "4                     9                    4               10   \n",
       "...                 ...                  ...              ...   \n",
       "131332               10                   10                9   \n",
       "131333               10                   10               10   \n",
       "131334                4                    9                5   \n",
       "131335                1                   10                1   \n",
       "131336                1                    7                1   \n",
       "\n",
       "        non_sched_serv_paid  total_paid_services  total_services  \\\n",
       "0                         7                    5               6   \n",
       "1                         4                    9              10   \n",
       "2                         9                   10              10   \n",
       "3                         4                    5               6   \n",
       "4                         7                    9               8   \n",
       "...                     ...                  ...             ...   \n",
       "131332                   10                   10              10   \n",
       "131333                   10                   10              10   \n",
       "131334                    4                    3               8   \n",
       "131335                   10                    9               8   \n",
       "131336                   10                   10               5   \n",
       "\n",
       "        mth_since_last_serv  annualised_mileage  num_dealers_visited  \\\n",
       "0                         9                   8                   10   \n",
       "1                         6                  10                    7   \n",
       "2                         7                  10                    6   \n",
       "3                         4                  10                    9   \n",
       "4                         5                   4                    4   \n",
       "...                     ...                 ...                  ...   \n",
       "131332                    3                   6                   10   \n",
       "131333                    2                   3                   10   \n",
       "131334                    4                   7                   10   \n",
       "131335                    3                   6                    7   \n",
       "131336                    3                   4                    9   \n",
       "\n",
       "        num_serv_dealer_purchased  Female  Male  \n",
       "0                               4       0     1  \n",
       "1                              10       0     0  \n",
       "2                              10       0     1  \n",
       "3                               7       0     0  \n",
       "4                               9       1     0  \n",
       "...                           ...     ...   ...  \n",
       "131332                         10       0     0  \n",
       "131333                         10       0     0  \n",
       "131334                         10       0     0  \n",
       "131335                         10       0     0  \n",
       "131336                         10       0     0  \n",
       "\n",
       "[131337 rows x 17 columns]"
      ]
     },
     "execution_count": 6,
     "metadata": {},
     "output_type": "execute_result"
    }
   ],
   "source": [
    "df_cleaned"
   ]
  },
  {
   "cell_type": "markdown",
   "id": "cc4b9505",
   "metadata": {},
   "source": [
    "## 4. Case of study and data understanding "
   ]
  },
  {
   "cell_type": "markdown",
   "id": "afd75be9",
   "metadata": {},
   "source": [
    "**[4.1]** Hypothesis"
   ]
  },
  {
   "cell_type": "markdown",
   "id": "c766bf9e",
   "metadata": {},
   "source": [
    "The case study has the following hypothesis:\n",
    "We will train several models like decision tree, random forest and extra trees Classifier to predict if an existing customer is more likely to buy a new car. Assuming that decision trees-based algorithms will perform better base on the categorical features predominant for this dataset."
   ]
  },
  {
   "cell_type": "markdown",
   "id": "b89f3624",
   "metadata": {},
   "source": [
    "## 5. Split the data "
   ]
  },
  {
   "cell_type": "markdown",
   "id": "33ab1467",
   "metadata": {},
   "source": [
    "**[5.1]** Split data and test"
   ]
  },
  {
   "cell_type": "markdown",
   "id": "b5c4a405",
   "metadata": {},
   "source": [
    "Stratify=y will be used to distribute the data for train, valid and test proportionally, preserving the distribution of the two classes (Brownlee, 2020a), (Brownlee, 2020d)."
   ]
  },
  {
   "cell_type": "code",
   "execution_count": 7,
   "id": "9f3a3fd2",
   "metadata": {},
   "outputs": [],
   "source": [
    "from sklearn.model_selection import train_test_split"
   ]
  },
  {
   "cell_type": "code",
   "execution_count": 8,
   "id": "2cdf5f17",
   "metadata": {},
   "outputs": [
    {
     "data": {
      "text/plain": [
       "Index(['Target', 'age_band', 'car_model', 'car_segment',\n",
       "       'age_of_vehicle_years', 'sched_serv_warr', 'non_sched_serv_warr',\n",
       "       'sched_serv_paid', 'non_sched_serv_paid', 'total_paid_services',\n",
       "       'total_services', 'mth_since_last_serv', 'annualised_mileage',\n",
       "       'num_dealers_visited', 'num_serv_dealer_purchased', 'Female', 'Male'],\n",
       "      dtype='object')"
      ]
     },
     "execution_count": 8,
     "metadata": {},
     "output_type": "execute_result"
    }
   ],
   "source": [
    "df_cleaned.columns"
   ]
  },
  {
   "cell_type": "code",
   "execution_count": 9,
   "id": "d1f43c09",
   "metadata": {},
   "outputs": [],
   "source": [
    "X = df_cleaned[['age_band', 'car_model', 'car_segment',\n",
    "       'age_of_vehicle_years', 'sched_serv_warr', 'non_sched_serv_warr',\n",
    "       'sched_serv_paid', 'non_sched_serv_paid', 'total_paid_services',\n",
    "       'total_services', 'mth_since_last_serv', 'annualised_mileage',\n",
    "       'num_dealers_visited', 'num_serv_dealer_purchased', 'Female', 'Male']].values\n",
    "y = df_cleaned['Target'].values"
   ]
  },
  {
   "cell_type": "code",
   "execution_count": 10,
   "id": "8bb60813",
   "metadata": {},
   "outputs": [],
   "source": [
    "X_data, X_test, y_data, y_test = train_test_split(X, y, test_size=0.2, random_state=42, stratify=y)"
   ]
  },
  {
   "cell_type": "code",
   "execution_count": 11,
   "id": "3c90aea8",
   "metadata": {},
   "outputs": [
    {
     "data": {
      "text/plain": [
       "(105069, 16)"
      ]
     },
     "execution_count": 11,
     "metadata": {},
     "output_type": "execute_result"
    }
   ],
   "source": [
    "X_data.shape"
   ]
  },
  {
   "cell_type": "code",
   "execution_count": 12,
   "id": "a7755585",
   "metadata": {},
   "outputs": [
    {
     "data": {
      "text/plain": [
       "(105069,)"
      ]
     },
     "execution_count": 12,
     "metadata": {},
     "output_type": "execute_result"
    }
   ],
   "source": [
    "y_data.shape"
   ]
  },
  {
   "cell_type": "code",
   "execution_count": 13,
   "id": "a75e422a",
   "metadata": {},
   "outputs": [
    {
     "data": {
      "text/plain": [
       "(26268, 16)"
      ]
     },
     "execution_count": 13,
     "metadata": {},
     "output_type": "execute_result"
    }
   ],
   "source": [
    "X_test.shape"
   ]
  },
  {
   "cell_type": "code",
   "execution_count": 14,
   "id": "91067afe",
   "metadata": {},
   "outputs": [
    {
     "data": {
      "text/plain": [
       "(26268,)"
      ]
     },
     "execution_count": 14,
     "metadata": {},
     "output_type": "execute_result"
    }
   ],
   "source": [
    "y_test.shape"
   ]
  },
  {
   "cell_type": "markdown",
   "id": "8c2162ff",
   "metadata": {},
   "source": [
    "**[5.2]** Split train and validation"
   ]
  },
  {
   "cell_type": "code",
   "execution_count": 15,
   "id": "b7ada005",
   "metadata": {},
   "outputs": [],
   "source": [
    "X_train, X_val, y_train, y_val = train_test_split(X_data, y_data, test_size=0.2, random_state=42)"
   ]
  },
  {
   "cell_type": "code",
   "execution_count": 16,
   "id": "a374003a",
   "metadata": {},
   "outputs": [
    {
     "name": "stdout",
     "output_type": "stream",
     "text": [
      "(84055, 16)\n",
      "(21014, 16)\n",
      "(26268, 16)\n",
      "(84055,)\n",
      "(21014,)\n",
      "(26268,)\n"
     ]
    }
   ],
   "source": [
    "print(X_train.shape)\n",
    "print(X_val.shape)\n",
    "print(X_test.shape)\n",
    "\n",
    "print(y_train.shape)\n",
    "print(y_val.shape)\n",
    "print(y_test.shape)"
   ]
  },
  {
   "cell_type": "markdown",
   "id": "8ae3b07b",
   "metadata": {},
   "source": [
    "**[5.3]** Count classes"
   ]
  },
  {
   "cell_type": "code",
   "execution_count": 17,
   "id": "ad259e35",
   "metadata": {},
   "outputs": [
    {
     "data": {
      "text/plain": [
       "(array([0, 1], dtype=int64), array([81803,  2252], dtype=int64))"
      ]
     },
     "execution_count": 17,
     "metadata": {},
     "output_type": "execute_result"
    }
   ],
   "source": [
    "np.unique(y_train, return_counts=True)"
   ]
  },
  {
   "cell_type": "code",
   "execution_count": 18,
   "id": "0ed9d274",
   "metadata": {},
   "outputs": [
    {
     "data": {
      "text/plain": [
       "(array([0, 1], dtype=int64), array([20449,   565], dtype=int64))"
      ]
     },
     "execution_count": 18,
     "metadata": {},
     "output_type": "execute_result"
    }
   ],
   "source": [
    "np.unique(y_val, return_counts=True)"
   ]
  },
  {
   "cell_type": "code",
   "execution_count": 19,
   "id": "bb59326f",
   "metadata": {},
   "outputs": [
    {
     "data": {
      "text/plain": [
       "(array([0, 1], dtype=int64), array([25564,   704], dtype=int64))"
      ]
     },
     "execution_count": 19,
     "metadata": {},
     "output_type": "execute_result"
    }
   ],
   "source": [
    "np.unique(y_test, return_counts=True)"
   ]
  },
  {
   "cell_type": "markdown",
   "id": "e6a97261",
   "metadata": {},
   "source": [
    "The count per label indicates that we are preserving the class distribution with 2,7% values class 1 over class 0."
   ]
  },
  {
   "cell_type": "markdown",
   "id": "45ac9307",
   "metadata": {},
   "source": [
    "## 6. Assess Baseline Model"
   ]
  },
  {
   "cell_type": "markdown",
   "id": "7c877ba8",
   "metadata": {},
   "source": [
    "This study will use F2 score. The reason behind the metric selection is based on the highly imbalanced dataset and the fact that we care more about positive class for the purpose of the prediction (Czakon, 2022) (Malato, 2021) and (Olugbenga, 2022). \n",
    "\n",
    "We want the prediction of repurchases to be as correct as possible and avoid false negative predictions (type II error) where the campaigns can lose potential clients. Moreover, we will prevent excessive type I error by predicting false potential clients.\n",
    "\n",
    "This phenomenon could occur easily in this dataset due to the unbalanced classes in the study. (Brownlee, 2020a)(Brownlee, 2020b)\n"
   ]
  },
  {
   "cell_type": "markdown",
   "id": "ce5b0bba",
   "metadata": {},
   "source": [
    "**[6.1]** base model"
   ]
  },
  {
   "cell_type": "code",
   "execution_count": 20,
   "id": "394d9558",
   "metadata": {},
   "outputs": [],
   "source": [
    "from statistics import mode"
   ]
  },
  {
   "cell_type": "code",
   "execution_count": 21,
   "id": "871c57b8",
   "metadata": {},
   "outputs": [
    {
     "data": {
      "text/plain": [
       "0"
      ]
     },
     "execution_count": 21,
     "metadata": {},
     "output_type": "execute_result"
    }
   ],
   "source": [
    "y_mode = mode(y_train)\n",
    "y_mode"
   ]
  },
  {
   "cell_type": "code",
   "execution_count": 22,
   "id": "082bb816",
   "metadata": {},
   "outputs": [
    {
     "data": {
      "text/plain": [
       "(84055,)"
      ]
     },
     "execution_count": 22,
     "metadata": {},
     "output_type": "execute_result"
    }
   ],
   "source": [
    "y_train.shape"
   ]
  },
  {
   "cell_type": "code",
   "execution_count": 23,
   "id": "f6d2acc9",
   "metadata": {},
   "outputs": [],
   "source": [
    "y_base = np.full(y_train.shape, y_mode)"
   ]
  },
  {
   "cell_type": "code",
   "execution_count": 24,
   "id": "800fd0ab",
   "metadata": {},
   "outputs": [
    {
     "data": {
      "text/plain": [
       "array([0, 0, 0, ..., 0, 0, 0], dtype=int64)"
      ]
     },
     "execution_count": 24,
     "metadata": {},
     "output_type": "execute_result"
    }
   ],
   "source": [
    "y_base"
   ]
  },
  {
   "cell_type": "code",
   "execution_count": 25,
   "id": "b6c4e24c",
   "metadata": {},
   "outputs": [
    {
     "data": {
      "text/plain": [
       "(84055,)"
      ]
     },
     "execution_count": 25,
     "metadata": {},
     "output_type": "execute_result"
    }
   ],
   "source": [
    "y_base.shape"
   ]
  },
  {
   "cell_type": "code",
   "execution_count": 26,
   "id": "10150f2f",
   "metadata": {},
   "outputs": [],
   "source": [
    "from sklearn.metrics import accuracy_score, precision_score, recall_score, f1_score, average_precision_score, fbeta_score\n",
    "from sklearn.metrics import auc, precision_recall_curve"
   ]
  },
  {
   "cell_type": "code",
   "execution_count": 27,
   "id": "8b4ec535",
   "metadata": {},
   "outputs": [
    {
     "name": "stdout",
     "output_type": "stream",
     "text": [
      "0.9732080185592766\n",
      "0.9599939169916978\n",
      "0.0\n",
      "0.0\n",
      "0.026791981440723336\n",
      "0.0\n"
     ]
    }
   ],
   "source": [
    "print(accuracy_score(y_train, y_base))\n",
    "print(f1_score(y_train, y_base, average='weighted'))\n",
    "print(precision_score(y_train, y_base))\n",
    "print(recall_score(y_train, y_base))\n",
    "print(average_precision_score(y_train, y_base))\n",
    "print(fbeta_score(y_train, y_base, beta=2, pos_label=1, average='binary'))"
   ]
  },
  {
   "cell_type": "markdown",
   "id": "338c19d3",
   "metadata": {},
   "source": [
    "**[6.2]** confusion matrix"
   ]
  },
  {
   "cell_type": "code",
   "execution_count": 28,
   "id": "08bb18a2",
   "metadata": {},
   "outputs": [],
   "source": [
    "from sklearn.metrics import confusion_matrix"
   ]
  },
  {
   "cell_type": "code",
   "execution_count": 29,
   "id": "7b68bbb3",
   "metadata": {},
   "outputs": [
    {
     "name": "stdout",
     "output_type": "stream",
     "text": [
      "[[81803     0]\n",
      " [ 2252     0]]\n"
     ]
    }
   ],
   "source": [
    "results = confusion_matrix(y_train, y_base)\n",
    "print(results)"
   ]
  },
  {
   "cell_type": "markdown",
   "id": "9b37b147",
   "metadata": {},
   "source": [
    "**[6.3]** Count classes"
   ]
  },
  {
   "cell_type": "code",
   "execution_count": 30,
   "id": "3dcee03d",
   "metadata": {},
   "outputs": [
    {
     "data": {
      "text/plain": [
       "(array([0, 1], dtype=int64), array([81803,  2252], dtype=int64))"
      ]
     },
     "execution_count": 30,
     "metadata": {},
     "output_type": "execute_result"
    }
   ],
   "source": [
    "np.unique(y_train, return_counts=True)"
   ]
  },
  {
   "cell_type": "markdown",
   "id": "258d045f",
   "metadata": {},
   "source": [
    "## 7. Training a model"
   ]
  },
  {
   "cell_type": "markdown",
   "id": "83e07af9",
   "metadata": {},
   "source": [
    "Based on: (So, 2023), (scikit-learn developers, 2023a) and (scikit-learn developers, 2023b)"
   ]
  },
  {
   "cell_type": "markdown",
   "id": "c61638cb",
   "metadata": {},
   "source": [
    "note: We will not use data standardisation since algorithms based on decision trees are invariant according to the scale of the data and do not use distance metrics for the learning process (Filho, 2023)."
   ]
  },
  {
   "cell_type": "markdown",
   "id": "a8296ee8",
   "metadata": {},
   "source": [
    "**[7.1]** Decision Tree Classifier"
   ]
  },
  {
   "cell_type": "code",
   "execution_count": 31,
   "id": "976f16b2",
   "metadata": {},
   "outputs": [],
   "source": [
    "from sklearn.tree import DecisionTreeClassifier\n",
    "\n",
    "from sklearn.metrics import accuracy_score, precision_score, recall_score, f1_score, average_precision_score, fbeta_score\n",
    "from sklearn.metrics import auc, precision_recall_curve"
   ]
  },
  {
   "cell_type": "code",
   "execution_count": 160,
   "id": "625f9bde",
   "metadata": {},
   "outputs": [],
   "source": [
    "tree_default = DecisionTreeClassifier(random_state=42, class_weight='balanced')"
   ]
  },
  {
   "cell_type": "code",
   "execution_count": 161,
   "id": "d4fde5fd",
   "metadata": {},
   "outputs": [
    {
     "data": {
      "text/plain": [
       "DecisionTreeClassifier(class_weight='balanced', random_state=42)"
      ]
     },
     "execution_count": 161,
     "metadata": {},
     "output_type": "execute_result"
    }
   ],
   "source": [
    "tree_default.fit(X_train, y_train)"
   ]
  },
  {
   "cell_type": "code",
   "execution_count": 162,
   "id": "f7882190",
   "metadata": {},
   "outputs": [],
   "source": [
    "y_train_preds = tree_default.predict(X_train)"
   ]
  },
  {
   "cell_type": "code",
   "execution_count": 163,
   "id": "fffd5bbf",
   "metadata": {},
   "outputs": [
    {
     "name": "stdout",
     "output_type": "stream",
     "text": [
      "1.0\n",
      "1.0\n",
      "1.0\n",
      "1.0\n",
      "1.0\n",
      "1.0\n"
     ]
    }
   ],
   "source": [
    "#score for the train set\n",
    "print(accuracy_score(y_train, y_train_preds_tree_default))\n",
    "print(f1_score(y_train, y_train_preds_tree_default, average='weighted'))\n",
    "print(precision_score(y_train, y_train_preds_tree_default))\n",
    "print(recall_score(y_train, y_train_preds_tree_default))\n",
    "print(average_precision_score(y_train, y_train_preds_tree_default))\n",
    "print(fbeta_score(y_train, y_train_preds, beta=2, pos_label=1, average='binary'))"
   ]
  },
  {
   "cell_type": "code",
   "execution_count": 164,
   "id": "e399cfc0",
   "metadata": {},
   "outputs": [
    {
     "name": "stdout",
     "output_type": "stream",
     "text": [
      "[[81803     0]\n",
      " [    0  2252]]\n"
     ]
    }
   ],
   "source": [
    "#confusion matrix\n",
    "results = confusion_matrix(y_train, y_train_preds)\n",
    "print(results)"
   ]
  },
  {
   "cell_type": "code",
   "execution_count": 165,
   "id": "7d53f310",
   "metadata": {},
   "outputs": [
    {
     "name": "stdout",
     "output_type": "stream",
     "text": [
      "DT PR AUC: 1.000\n"
     ]
    }
   ],
   "source": [
    "#precision-recall auc curve\n",
    "probs = tree_default.predict_proba(X_train)\n",
    "pos_probs = probs[:, 1]\n",
    "# calculate the precision-recall auc\n",
    "precision, recall, thresholds = precision_recall_curve(y_train, pos_probs)\n",
    "\n",
    "# precision-recall auc score\n",
    "auc_score = auc(recall, precision)\n",
    "print('DT PR AUC: %.3f' % auc_score)"
   ]
  },
  {
   "cell_type": "code",
   "execution_count": 166,
   "id": "0482eeb1",
   "metadata": {},
   "outputs": [
    {
     "data": {
      "image/png": "[encoded data removed]",
      "text/plain": [
       "<Figure size 640x480 with 1 Axes>"
      ]
     },
     "metadata": {},
     "output_type": "display_data"
    }
   ],
   "source": [
    "# plot the model precision-recall curve\n",
    "plt.plot(recall, precision, marker='.', label='DT')\n",
    "# axis labels\n",
    "plt.xlabel('Recall')\n",
    "plt.ylabel('Precision')\n",
    "# show the legend\n",
    "plt.legend()\n",
    "# show the plot\n",
    "plt.show()"
   ]
  },
  {
   "cell_type": "code",
   "execution_count": 167,
   "id": "2d2a8d3b",
   "metadata": {},
   "outputs": [
    {
     "name": "stdout",
     "output_type": "stream",
     "text": [
      "0.9872941848291615\n",
      "0.9871543349011839\n",
      "0.7759259259259259\n",
      "0.7415929203539823\n",
      "0.5823689225054097\n",
      "0.7482142857142857\n"
     ]
    }
   ],
   "source": [
    "#score for the validation set\n",
    "y_val_preds = tree_default.predict(X_val)\n",
    "print(accuracy_score(y_val, y_val_preds))\n",
    "print(f1_score(y_val, y_val_preds, average='weighted'))\n",
    "print(precision_score(y_val, y_val_preds))\n",
    "print(recall_score(y_val, y_val_preds))\n",
    "print(average_precision_score(y_val, y_val_preds))\n",
    "print(fbeta_score(y_val, y_val_preds, beta=2, pos_label=1, average='binary'))"
   ]
  },
  {
   "cell_type": "code",
   "execution_count": 168,
   "id": "a9833633",
   "metadata": {},
   "outputs": [
    {
     "name": "stdout",
     "output_type": "stream",
     "text": [
      "DT PR AUC: 0.762\n"
     ]
    }
   ],
   "source": [
    "#precision-recall auc curve\n",
    "probs = tree_default.predict_proba(X_val)\n",
    "pos_probs = probs[:, 1]\n",
    "# calculate the precision-recall auc\n",
    "precision, recall, thresholds = precision_recall_curve(y_val, pos_probs)\n",
    "\n",
    "# precision-recall auc score\n",
    "auc_score = auc(recall, precision)\n",
    "print('DT PR AUC: %.3f' % auc_score)"
   ]
  },
  {
   "cell_type": "code",
   "execution_count": 169,
   "id": "bf5d5ccc",
   "metadata": {},
   "outputs": [
    {
     "name": "stdout",
     "output_type": "stream",
     "text": [
      "0.9868280797929039\n",
      "0.9865723682137181\n",
      "0.7753846153846153\n",
      "0.7159090909090909\n",
      "0.5627187218141992\n",
      "0.727062896710906\n"
     ]
    }
   ],
   "source": [
    "#score for the test set\n",
    "y_test_preds = tree_default.predict(X_test)\n",
    "print(accuracy_score(y_test, y_test_preds))\n",
    "print(f1_score(y_test, y_test_preds, average='weighted'))\n",
    "print(precision_score(y_test, y_test_preds))\n",
    "print(recall_score(y_test, y_test_preds))\n",
    "print(average_precision_score(y_test, y_test_preds))\n",
    "print(fbeta_score(y_test, y_test_preds, beta=2, pos_label=1, average='binary'))"
   ]
  },
  {
   "cell_type": "code",
   "execution_count": 170,
   "id": "1a477bf8",
   "metadata": {},
   "outputs": [
    {
     "name": "stdout",
     "output_type": "stream",
     "text": [
      "DT PR AUC: 0.749\n"
     ]
    }
   ],
   "source": [
    "#precision-recall auc curve\n",
    "probs = tree_default.predict_proba(X_test)\n",
    "pos_probs = probs[:, 1]\n",
    "# calculate the precision-recall auc\n",
    "precision, recall, thresholds = precision_recall_curve(y_test, pos_probs)\n",
    "\n",
    "# precision-recall auc score\n",
    "auc_score = auc(recall, precision)\n",
    "print('DT PR AUC: %.3f' % auc_score)"
   ]
  },
  {
   "cell_type": "markdown",
   "id": "9dfa5b64",
   "metadata": {},
   "source": [
    "**[7.2]** Decision Tree Classifier with different min_samples_split"
   ]
  },
  {
   "cell_type": "markdown",
   "id": "ed11d071",
   "metadata": {},
   "source": [
    "Based on: (scikit-learn developers, 2023a) and (So, 2023) "
   ]
  },
  {
   "cell_type": "code",
   "execution_count": 215,
   "id": "677696e2",
   "metadata": {
    "scrolled": true
   },
   "outputs": [],
   "source": [
    "min_samples_split_values = [i for i in (2, 3, 5, 10, 20)]\n",
    "scores = []\n",
    "\n",
    "for m in min_samples_split_values:\n",
    "    tree = DecisionTreeClassifier(random_state=42,  min_samples_split= m, class_weight='balanced')\n",
    "    tree.fit(X_train, y_train)\n",
    "    y_train_preds = tree.predict(X_train)\n",
    "    score = fbeta_score(y_train, y_train_preds, beta=2, pos_label=1, average='binary')\n",
    "    scores.append(score)"
   ]
  },
  {
   "cell_type": "code",
   "execution_count": 216,
   "id": "3a8100e1",
   "metadata": {
    "scrolled": false
   },
   "outputs": [
    {
     "data": {
      "text/plain": [
       "Text(0, 0.5, 'average_precision Score')"
      ]
     },
     "execution_count": 216,
     "metadata": {},
     "output_type": "execute_result"
    },
    {
     "data": {
      "image/png": "[encoded data removed]",
      "text/plain": [
       "<Figure size 640x480 with 1 Axes>"
      ]
     },
     "metadata": {},
     "output_type": "display_data"
    }
   ],
   "source": [
    "sns.lineplot(x = min_samples_split_values, y = scores, marker = 'o')\n",
    "plt.xlabel(\"min_samples_split Values\")\n",
    "plt.ylabel(\"average_precision Score\")"
   ]
  },
  {
   "cell_type": "code",
   "execution_count": 217,
   "id": "5981a45f",
   "metadata": {
    "scrolled": true
   },
   "outputs": [
    {
     "data": {
      "text/plain": [
       "[1.0,\n",
       " 0.9941726999823417,\n",
       " 0.980579987808064,\n",
       " 0.9490896830748483,\n",
       " 0.898428149684832]"
      ]
     },
     "execution_count": 217,
     "metadata": {},
     "output_type": "execute_result"
    }
   ],
   "source": [
    "scores"
   ]
  },
  {
   "cell_type": "code",
   "execution_count": 178,
   "id": "f1350ea8",
   "metadata": {},
   "outputs": [
    {
     "data": {
      "text/plain": [
       "2"
      ]
     },
     "execution_count": 178,
     "metadata": {},
     "output_type": "execute_result"
    }
   ],
   "source": [
    "best_index = np.argmax(scores)\n",
    "best_min_samples_split_values = min_samples_split_values[best_index]\n",
    "\n",
    "best_min_samples_split_values"
   ]
  },
  {
   "cell_type": "markdown",
   "id": "253cd293",
   "metadata": {},
   "source": [
    "The best min_samples_split_values is equal to the default"
   ]
  },
  {
   "cell_type": "markdown",
   "id": "ea9041a4",
   "metadata": {},
   "source": [
    "**[7.3]** Decision Tree Classifier with different max_depth"
   ]
  },
  {
   "cell_type": "markdown",
   "id": "c157e1a4",
   "metadata": {},
   "source": [
    "Based on: (scikit-learn developers, 2023a) and (So, 2023) "
   ]
  },
  {
   "cell_type": "code",
   "execution_count": 198,
   "id": "7bea7b67",
   "metadata": {
    "scrolled": true
   },
   "outputs": [],
   "source": [
    "max_depth_values = [i for i in (30, 32, 34)]\n",
    "scores = []\n",
    "\n",
    "for m in max_depth_values:\n",
    "    tree = DecisionTreeClassifier(random_state=42,  max_depth= m, class_weight='balanced')\n",
    "    tree.fit(X_train, y_train)\n",
    "    y_train_preds = tree.predict(X_train)\n",
    "    score = fbeta_score(y_train, y_train_preds, beta=2, pos_label=1, average='binary')\n",
    "    scores.append(score)"
   ]
  },
  {
   "cell_type": "code",
   "execution_count": 199,
   "id": "a52a33c3",
   "metadata": {
    "scrolled": false
   },
   "outputs": [
    {
     "data": {
      "text/plain": [
       "Text(0, 0.5, 'average_precision Score')"
      ]
     },
     "execution_count": 199,
     "metadata": {},
     "output_type": "execute_result"
    },
    {
     "data": {
      "image/png": "[encoded data removed]",
      "text/plain": [
       "<Figure size 640x480 with 1 Axes>"
      ]
     },
     "metadata": {},
     "output_type": "display_data"
    }
   ],
   "source": [
    "sns.lineplot(x = max_depth_values, y = scores, marker = 'o')\n",
    "plt.xlabel(\"max_dept Values\")\n",
    "plt.ylabel(\"average_precision Score\")"
   ]
  },
  {
   "cell_type": "code",
   "execution_count": 200,
   "id": "b7ff8471",
   "metadata": {
    "scrolled": true
   },
   "outputs": [
    {
     "data": {
      "text/plain": [
       "[0.9999111979397922, 1.0, 1.0]"
      ]
     },
     "execution_count": 200,
     "metadata": {},
     "output_type": "execute_result"
    }
   ],
   "source": [
    "scores"
   ]
  },
  {
   "cell_type": "code",
   "execution_count": 197,
   "id": "7f4dd1f4",
   "metadata": {},
   "outputs": [
    {
     "data": {
      "text/plain": [
       "32"
      ]
     },
     "execution_count": 197,
     "metadata": {},
     "output_type": "execute_result"
    }
   ],
   "source": [
    "best_index = np.argmax(scores)\n",
    "best_max_depth_values = max_depth_values[best_index]\n",
    "\n",
    "best_max_depth_values"
   ]
  },
  {
   "cell_type": "markdown",
   "id": "3813b4db",
   "metadata": {},
   "source": [
    "**[7.4]** Decision Tree Classifier with different max_depth and min_samples_split"
   ]
  },
  {
   "cell_type": "code",
   "execution_count": 201,
   "id": "b91c54ab",
   "metadata": {},
   "outputs": [],
   "source": [
    "tree_2 = DecisionTreeClassifier(random_state=42, max_depth=32 , min_samples_split=2 ,class_weight='balanced')"
   ]
  },
  {
   "cell_type": "code",
   "execution_count": 202,
   "id": "ed50509f",
   "metadata": {},
   "outputs": [
    {
     "data": {
      "text/plain": [
       "DecisionTreeClassifier(class_weight='balanced', max_depth=32, random_state=42)"
      ]
     },
     "execution_count": 202,
     "metadata": {},
     "output_type": "execute_result"
    }
   ],
   "source": [
    "tree_2.fit(X_train, y_train)"
   ]
  },
  {
   "cell_type": "code",
   "execution_count": 203,
   "id": "4ad08b83",
   "metadata": {},
   "outputs": [],
   "source": [
    "y_train_preds = tree_2.predict(X_train)"
   ]
  },
  {
   "cell_type": "code",
   "execution_count": 204,
   "id": "93645ad5",
   "metadata": {},
   "outputs": [
    {
     "name": "stdout",
     "output_type": "stream",
     "text": [
      "1.0\n",
      "1.0\n",
      "1.0\n",
      "1.0\n",
      "1.0\n",
      "1.0\n"
     ]
    }
   ],
   "source": [
    "#score for the train set\n",
    "print(accuracy_score(y_train, y_train_preds))\n",
    "print(f1_score(y_train, y_train_preds, average='weighted'))\n",
    "print(precision_score(y_train, y_train_preds))\n",
    "print(recall_score(y_train, y_train_preds))\n",
    "print(average_precision_score(y_train, y_train_preds))\n",
    "print(fbeta_score(y_train, y_train_preds, beta=2, pos_label=1, average='binary'))"
   ]
  },
  {
   "cell_type": "code",
   "execution_count": 205,
   "id": "a77a180d",
   "metadata": {},
   "outputs": [
    {
     "name": "stdout",
     "output_type": "stream",
     "text": [
      "[[81803     0]\n",
      " [    0  2252]]\n"
     ]
    }
   ],
   "source": [
    "#confusion matrix\n",
    "results = confusion_matrix(y_train, y_train_preds)\n",
    "print(results)"
   ]
  },
  {
   "cell_type": "code",
   "execution_count": 208,
   "id": "ace88bbc",
   "metadata": {},
   "outputs": [
    {
     "name": "stdout",
     "output_type": "stream",
     "text": [
      "0.9872941848291615\n",
      "0.9871543349011839\n",
      "0.7759259259259259\n",
      "0.7415929203539823\n",
      "0.5823689225054097\n",
      "0.7482142857142857\n"
     ]
    }
   ],
   "source": [
    "#score for the validation set\n",
    "y_val_preds = tree_2.predict(X_val)\n",
    "print(accuracy_score(y_val, y_val_preds))\n",
    "print(f1_score(y_val, y_val_preds, average='weighted'))\n",
    "print(precision_score(y_val, y_val_preds))\n",
    "print(recall_score(y_val, y_val_preds))\n",
    "print(average_precision_score(y_val, y_val_preds))\n",
    "print(fbeta_score(y_val, y_val_preds, beta=2, pos_label=1, average='binary'))"
   ]
  },
  {
   "cell_type": "code",
   "execution_count": 218,
   "id": "fd5d06aa",
   "metadata": {},
   "outputs": [
    {
     "name": "stdout",
     "output_type": "stream",
     "text": [
      "[[20328   121]\n",
      " [  146   419]]\n"
     ]
    }
   ],
   "source": [
    "#confusion matrix\n",
    "results = confusion_matrix(y_val, y_val_preds)\n",
    "print(results)"
   ]
  },
  {
   "cell_type": "code",
   "execution_count": 210,
   "id": "c66a6aa8",
   "metadata": {},
   "outputs": [
    {
     "name": "stdout",
     "output_type": "stream",
     "text": [
      "0.9868280797929039\n",
      "0.9865723682137181\n",
      "0.7753846153846153\n",
      "0.7159090909090909\n",
      "0.5627187218141992\n",
      "0.727062896710906\n"
     ]
    }
   ],
   "source": [
    "#score for the test set\n",
    "y_test_preds = tree_2.predict(X_test)\n",
    "print(accuracy_score(y_test, y_test_preds))\n",
    "print(f1_score(y_test, y_test_preds, average='weighted'))\n",
    "print(precision_score(y_test, y_test_preds))\n",
    "print(recall_score(y_test, y_test_preds))\n",
    "print(average_precision_score(y_test, y_test_preds))\n",
    "print(fbeta_score(y_test, y_test_preds, beta=2, pos_label=1, average='binary'))"
   ]
  },
  {
   "cell_type": "code",
   "execution_count": 219,
   "id": "de54808b",
   "metadata": {},
   "outputs": [
    {
     "name": "stdout",
     "output_type": "stream",
     "text": [
      "[[25418   146]\n",
      " [  200   504]]\n"
     ]
    }
   ],
   "source": [
    "#confusion matrix\n",
    "results = confusion_matrix(y_test, y_test_preds)\n",
    "print(results)"
   ]
  },
  {
   "cell_type": "markdown",
   "id": "e3305f41",
   "metadata": {},
   "source": [
    "Analysing feature importance in the model"
   ]
  },
  {
   "cell_type": "code",
   "execution_count": 220,
   "id": "eddd2d3a",
   "metadata": {},
   "outputs": [
    {
     "data": {
      "text/plain": [
       "array([0.00094809, 0.01399427, 0.00730631, 0.0299927 , 0.37990717,\n",
       "       0.01765774, 0.0254328 , 0.00710035, 0.06595722, 0.02623197,\n",
       "       0.21241799, 0.10202913, 0.03346681, 0.06751766, 0.00171948,\n",
       "       0.0083203 ])"
      ]
     },
     "execution_count": 220,
     "metadata": {},
     "output_type": "execute_result"
    }
   ],
   "source": [
    "tree_2.feature_importances_"
   ]
  },
  {
   "cell_type": "code",
   "execution_count": 221,
   "id": "d1287b1e",
   "metadata": {},
   "outputs": [],
   "source": [
    "X = df_cleaned[['age_band', 'car_model', 'car_segment',\n",
    "       'age_of_vehicle_years', 'sched_serv_warr', 'non_sched_serv_warr',\n",
    "       'sched_serv_paid', 'non_sched_serv_paid', 'total_paid_services',\n",
    "       'total_services', 'mth_since_last_serv', 'annualised_mileage',\n",
    "       'num_dealers_visited', 'num_serv_dealer_purchased', 'Female', 'Male']]"
   ]
  },
  {
   "cell_type": "code",
   "execution_count": 222,
   "id": "6035c058",
   "metadata": {},
   "outputs": [],
   "source": [
    "#dataframe with the values\n",
    "feat_imp_tree_2 = pd.DataFrame(\n",
    "    {\n",
    "        'feature': X.columns,\n",
    "     'feature_importance': tree_2.feature_importances_\n",
    "     }\n",
    ")"
   ]
  },
  {
   "cell_type": "code",
   "execution_count": 223,
   "id": "5fbc2044",
   "metadata": {},
   "outputs": [
    {
     "data": {
      "text/html": [
       "<div>\n",
       "<style scoped>\n",
       "    .dataframe tbody tr th:only-of-type {\n",
       "        vertical-align: middle;\n",
       "    }\n",
       "\n",
       "    .dataframe tbody tr th {\n",
       "        vertical-align: top;\n",
       "    }\n",
       "\n",
       "    .dataframe thead th {\n",
       "        text-align: right;\n",
       "    }\n",
       "</style>\n",
       "<table border=\"1\" class=\"dataframe\">\n",
       "  <thead>\n",
       "    <tr style=\"text-align: right;\">\n",
       "      <th></th>\n",
       "      <th>feature</th>\n",
       "      <th>feature_importance</th>\n",
       "    </tr>\n",
       "  </thead>\n",
       "  <tbody>\n",
       "    <tr>\n",
       "      <th>0</th>\n",
       "      <td>sched_serv_warr</td>\n",
       "      <td>0.379907</td>\n",
       "    </tr>\n",
       "    <tr>\n",
       "      <th>1</th>\n",
       "      <td>mth_since_last_serv</td>\n",
       "      <td>0.212418</td>\n",
       "    </tr>\n",
       "    <tr>\n",
       "      <th>2</th>\n",
       "      <td>annualised_mileage</td>\n",
       "      <td>0.102029</td>\n",
       "    </tr>\n",
       "    <tr>\n",
       "      <th>3</th>\n",
       "      <td>num_serv_dealer_purchased</td>\n",
       "      <td>0.067518</td>\n",
       "    </tr>\n",
       "    <tr>\n",
       "      <th>4</th>\n",
       "      <td>total_paid_services</td>\n",
       "      <td>0.065957</td>\n",
       "    </tr>\n",
       "    <tr>\n",
       "      <th>5</th>\n",
       "      <td>num_dealers_visited</td>\n",
       "      <td>0.033467</td>\n",
       "    </tr>\n",
       "    <tr>\n",
       "      <th>6</th>\n",
       "      <td>age_of_vehicle_years</td>\n",
       "      <td>0.029993</td>\n",
       "    </tr>\n",
       "    <tr>\n",
       "      <th>7</th>\n",
       "      <td>total_services</td>\n",
       "      <td>0.026232</td>\n",
       "    </tr>\n",
       "    <tr>\n",
       "      <th>8</th>\n",
       "      <td>sched_serv_paid</td>\n",
       "      <td>0.025433</td>\n",
       "    </tr>\n",
       "    <tr>\n",
       "      <th>9</th>\n",
       "      <td>non_sched_serv_warr</td>\n",
       "      <td>0.017658</td>\n",
       "    </tr>\n",
       "    <tr>\n",
       "      <th>10</th>\n",
       "      <td>car_model</td>\n",
       "      <td>0.013994</td>\n",
       "    </tr>\n",
       "    <tr>\n",
       "      <th>11</th>\n",
       "      <td>Male</td>\n",
       "      <td>0.008320</td>\n",
       "    </tr>\n",
       "    <tr>\n",
       "      <th>12</th>\n",
       "      <td>car_segment</td>\n",
       "      <td>0.007306</td>\n",
       "    </tr>\n",
       "    <tr>\n",
       "      <th>13</th>\n",
       "      <td>non_sched_serv_paid</td>\n",
       "      <td>0.007100</td>\n",
       "    </tr>\n",
       "    <tr>\n",
       "      <th>14</th>\n",
       "      <td>Female</td>\n",
       "      <td>0.001719</td>\n",
       "    </tr>\n",
       "    <tr>\n",
       "      <th>15</th>\n",
       "      <td>age_band</td>\n",
       "      <td>0.000948</td>\n",
       "    </tr>\n",
       "  </tbody>\n",
       "</table>\n",
       "</div>"
      ],
      "text/plain": [
       "                      feature  feature_importance\n",
       "0             sched_serv_warr            0.379907\n",
       "1         mth_since_last_serv            0.212418\n",
       "2          annualised_mileage            0.102029\n",
       "3   num_serv_dealer_purchased            0.067518\n",
       "4         total_paid_services            0.065957\n",
       "5         num_dealers_visited            0.033467\n",
       "6        age_of_vehicle_years            0.029993\n",
       "7              total_services            0.026232\n",
       "8             sched_serv_paid            0.025433\n",
       "9         non_sched_serv_warr            0.017658\n",
       "10                  car_model            0.013994\n",
       "11                       Male            0.008320\n",
       "12                car_segment            0.007306\n",
       "13        non_sched_serv_paid            0.007100\n",
       "14                     Female            0.001719\n",
       "15                   age_band            0.000948"
      ]
     },
     "execution_count": 223,
     "metadata": {},
     "output_type": "execute_result"
    }
   ],
   "source": [
    "feat_imp_tree_2 = feat_imp_tree_2.sort_values('feature_importance', ascending=False).reset_index(drop=True)\n",
    "feat_imp_tree_2"
   ]
  },
  {
   "cell_type": "code",
   "execution_count": 224,
   "id": "f5184bb6",
   "metadata": {},
   "outputs": [
    {
     "data": {
      "text/html": [
       "\n",
       "<div id=\"altair-viz-68da52865fd441dc9894e35729274934\"></div>\n",
       "<script type=\"text/javascript\">\n",
       "  var VEGA_DEBUG = (typeof VEGA_DEBUG == \"undefined\") ? {} : VEGA_DEBUG;\n",
       "  (function(spec, embedOpt){\n",
       "    let outputDiv = document.currentScript.previousElementSibling;\n",
       "    if (outputDiv.id !== \"altair-viz-68da52865fd441dc9894e35729274934\") {\n",
       "      outputDiv = document.getElementById(\"altair-viz-68da52865fd441dc9894e35729274934\");\n",
       "    }\n",
       "    const paths = {\n",
       "      \"vega\": \"https://cdn.jsdelivr.net/npm//vega@5?noext\",\n",
       "      \"vega-lib\": \"https://cdn.jsdelivr.net/npm//vega-lib?noext\",\n",
       "      \"vega-lite\": \"https://cdn.jsdelivr.net/npm//vega-lite@4.17.0?noext\",\n",
       "      \"vega-embed\": \"https://cdn.jsdelivr.net/npm//vega-embed@6?noext\",\n",
       "    };\n",
       "\n",
       "    function maybeLoadScript(lib, version) {\n",
       "      var key = `${lib.replace(\"-\", \"\")}_version`;\n",
       "      return (VEGA_DEBUG[key] == version) ?\n",
       "        Promise.resolve(paths[lib]) :\n",
       "        new Promise(function(resolve, reject) {\n",
       "          var s = document.createElement('script');\n",
       "          document.getElementsByTagName(\"head\")[0].appendChild(s);\n",
       "          s.async = true;\n",
       "          s.onload = () => {\n",
       "            VEGA_DEBUG[key] = version;\n",
       "            return resolve(paths[lib]);\n",
       "          };\n",
       "          s.onerror = () => reject(`Error loading script: ${paths[lib]}`);\n",
       "          s.src = paths[lib];\n",
       "        });\n",
       "    }\n",
       "\n",
       "    function showError(err) {\n",
       "      outputDiv.innerHTML = `<div class=\"error\" style=\"color:red;\">${err}</div>`;\n",
       "      throw err;\n",
       "    }\n",
       "\n",
       "    function displayChart(vegaEmbed) {\n",
       "      vegaEmbed(outputDiv, spec, embedOpt)\n",
       "        .catch(err => showError(`Javascript Error: ${err.message}<br>This usually means there's a typo in your chart specification. See the javascript console for the full traceback.`));\n",
       "    }\n",
       "\n",
       "    if(typeof define === \"function\" && define.amd) {\n",
       "      requirejs.config({paths});\n",
       "      require([\"vega-embed\"], displayChart, err => showError(`Error loading script: ${err.message}`));\n",
       "    } else {\n",
       "      maybeLoadScript(\"vega\", \"5\")\n",
       "        .then(() => maybeLoadScript(\"vega-lite\", \"4.17.0\"))\n",
       "        .then(() => maybeLoadScript(\"vega-embed\", \"6\"))\n",
       "        .catch(showError)\n",
       "        .then(() => displayChart(vegaEmbed));\n",
       "    }\n",
       "  })({\"config\": {\"view\": {\"continuousWidth\": 400, \"continuousHeight\": 300}}, \"data\": {\"name\": \"data-746dbaf1f71b54c2de944cf6fa202b31\"}, \"mark\": \"bar\", \"encoding\": {\"tooltip\": [{\"field\": \"feature\", \"type\": \"nominal\"}, {\"field\": \"feature_importance\", \"type\": \"quantitative\"}], \"x\": {\"field\": \"feature_importance\", \"type\": \"quantitative\"}, \"y\": {\"field\": \"feature\", \"sort\": \"-x\", \"type\": \"nominal\"}}, \"$schema\": \"https://vega.github.io/schema/vega-lite/v4.17.0.json\", \"datasets\": {\"data-746dbaf1f71b54c2de944cf6fa202b31\": [{\"feature\": \"sched_serv_warr\", \"feature_importance\": 0.379907169786567}, {\"feature\": \"mth_since_last_serv\", \"feature_importance\": 0.21241799316311666}, {\"feature\": \"annualised_mileage\", \"feature_importance\": 0.10202913323770646}, {\"feature\": \"num_serv_dealer_purchased\", \"feature_importance\": 0.06751765676646933}, {\"feature\": \"total_paid_services\", \"feature_importance\": 0.06595721987819626}, {\"feature\": \"num_dealers_visited\", \"feature_importance\": 0.03346681272510732}, {\"feature\": \"age_of_vehicle_years\", \"feature_importance\": 0.029992703159532067}, {\"feature\": \"total_services\", \"feature_importance\": 0.02623197440307218}, {\"feature\": \"sched_serv_paid\", \"feature_importance\": 0.025432800238336314}, {\"feature\": \"non_sched_serv_warr\", \"feature_importance\": 0.01765774161468449}, {\"feature\": \"car_model\", \"feature_importance\": 0.013994267242984335}, {\"feature\": \"Male\", \"feature_importance\": 0.008320299745432434}, {\"feature\": \"car_segment\", \"feature_importance\": 0.007306312131974086}, {\"feature\": \"non_sched_serv_paid\", \"feature_importance\": 0.007100352888222728}, {\"feature\": \"Female\", \"feature_importance\": 0.001719475115917609}, {\"feature\": \"age_band\", \"feature_importance\": 0.0009480879026806898}]}}, {\"mode\": \"vega-lite\"});\n",
       "</script>"
      ],
      "text/plain": [
       "alt.Chart(...)"
      ]
     },
     "execution_count": 224,
     "metadata": {},
     "output_type": "execute_result"
    }
   ],
   "source": [
    "import altair as alt\n",
    "\n",
    "alt.Chart(feat_imp_tree_2).mark_bar().encode(\n",
    "    x='feature_importance',\n",
    "    y=alt.Y(\"feature\", sort='-x'),\n",
    "    tooltip=['feature','feature_importance'])"
   ]
  },
  {
   "cell_type": "markdown",
   "id": "85b56e3d",
   "metadata": {},
   "source": [
    "**[7.5]** Random Forest Classifier"
   ]
  },
  {
   "cell_type": "markdown",
   "id": "54624eb1",
   "metadata": {},
   "source": [
    "Based on: (Saxena, 2020)"
   ]
  },
  {
   "cell_type": "code",
   "execution_count": 271,
   "id": "ada85851",
   "metadata": {},
   "outputs": [],
   "source": [
    "rf = RandomForestClassifier(random_state=42, class_weight='balanced')"
   ]
  },
  {
   "cell_type": "code",
   "execution_count": 272,
   "id": "69b86b35",
   "metadata": {},
   "outputs": [
    {
     "data": {
      "text/plain": [
       "RandomForestClassifier(class_weight='balanced', random_state=42)"
      ]
     },
     "execution_count": 272,
     "metadata": {},
     "output_type": "execute_result"
    }
   ],
   "source": [
    "rf.fit(X_train, y_train)"
   ]
  },
  {
   "cell_type": "code",
   "execution_count": 273,
   "id": "09efb78b",
   "metadata": {},
   "outputs": [],
   "source": [
    "y_train_preds = rf.predict(X_train)"
   ]
  },
  {
   "cell_type": "code",
   "execution_count": 274,
   "id": "dd0eaa36",
   "metadata": {},
   "outputs": [
    {
     "name": "stdout",
     "output_type": "stream",
     "text": [
      "1.0\n",
      "1.0\n",
      "1.0\n",
      "1.0\n",
      "1.0\n",
      "1.0\n"
     ]
    }
   ],
   "source": [
    "#score for the train set\n",
    "print(accuracy_score(y_train, y_train_preds))\n",
    "print(f1_score(y_train, y_train_preds, average='weighted'))\n",
    "print(precision_score(y_train, y_train_preds))\n",
    "print(recall_score(y_train, y_train_preds))\n",
    "print(average_precision_score(y_train, y_train_preds))\n",
    "print(fbeta_score(y_train, y_train_preds, beta=2, pos_label=1, average='binary'))"
   ]
  },
  {
   "cell_type": "code",
   "execution_count": 275,
   "id": "18c1a890",
   "metadata": {},
   "outputs": [
    {
     "name": "stdout",
     "output_type": "stream",
     "text": [
      "0.9921956790710955\n",
      "0.9917264923923758\n",
      "0.9546485260770975\n",
      "0.7451327433628319\n",
      "0.7181924496572717\n",
      "0.7793409848204368\n"
     ]
    }
   ],
   "source": [
    "#score for the validation set\n",
    "y_val_preds = rf.predict(X_val)\n",
    "print(accuracy_score(y_val, y_val_preds))\n",
    "print(f1_score(y_val, y_val_preds, average='weighted'))\n",
    "print(precision_score(y_val, y_val_preds))\n",
    "print(recall_score(y_val, y_val_preds))\n",
    "print(average_precision_score(y_val, y_val_preds))\n",
    "print(fbeta_score(y_val, y_val_preds, beta=2, pos_label=1, average='binary'))"
   ]
  },
  {
   "cell_type": "code",
   "execution_count": 276,
   "id": "861951c6",
   "metadata": {},
   "outputs": [
    {
     "name": "stdout",
     "output_type": "stream",
     "text": [
      "0.9920435510887772\n",
      "0.9915494490845459\n",
      "0.9541284403669725\n",
      "0.7386363636363636\n",
      "0.7117586822072554\n",
      "0.7735792918774174\n"
     ]
    }
   ],
   "source": [
    "#score for the test set\n",
    "y_test_preds = rf.predict(X_test)\n",
    "print(accuracy_score(y_test, y_test_preds))\n",
    "print(f1_score(y_test, y_test_preds, average='weighted'))\n",
    "print(precision_score(y_test, y_test_preds))\n",
    "print(recall_score(y_test, y_test_preds))\n",
    "print(average_precision_score(y_test, y_test_preds))\n",
    "print(fbeta_score(y_test, y_test_preds, beta=2, pos_label=1, average='binary'))"
   ]
  },
  {
   "cell_type": "markdown",
   "id": "50f2c9d0",
   "metadata": {},
   "source": [
    "**[7.6]** Random Forest Classifier with n_estimators"
   ]
  },
  {
   "cell_type": "code",
   "execution_count": 277,
   "id": "b2523c42",
   "metadata": {},
   "outputs": [],
   "source": [
    "from sklearn.ensemble import RandomForestClassifier\n",
    "from sklearn.metrics import precision_recall_curve\n",
    "from sklearn.metrics import auc"
   ]
  },
  {
   "cell_type": "code",
   "execution_count": 278,
   "id": "b836ffdd",
   "metadata": {
    "scrolled": true
   },
   "outputs": [],
   "source": [
    "n_estimators_values = [i for i in (50, 52, 54, 55, 57, 60)]\n",
    "scores = []\n",
    "\n",
    "for n in n_estimators_values:\n",
    "    rf = RandomForestClassifier(random_state=42, n_estimators= n, class_weight='balanced')\n",
    "    rf.fit(X_train, y_train)\n",
    "    y_train_preds = rf.predict(X_train)\n",
    "    score = fbeta_score(y_train, y_train_preds, beta=2, pos_label=1, average='binary')\n",
    "    scores.append(score)"
   ]
  },
  {
   "cell_type": "code",
   "execution_count": 279,
   "id": "2a581a9b",
   "metadata": {
    "scrolled": false
   },
   "outputs": [
    {
     "data": {
      "text/plain": [
       "Text(0, 0.5, 'average_precision Score')"
      ]
     },
     "execution_count": 279,
     "metadata": {},
     "output_type": "execute_result"
    },
    {
     "data": {
      "image/png": "[encoded data removed]",
      "text/plain": [
       "<Figure size 640x480 with 1 Axes>"
      ]
     },
     "metadata": {},
     "output_type": "display_data"
    }
   ],
   "source": [
    "sns.lineplot(x = n_estimators_values, y = scores, marker = 'o')\n",
    "plt.xlabel(\"n_estimatorst Values\")\n",
    "plt.ylabel(\"average_precision Score\")"
   ]
  },
  {
   "cell_type": "code",
   "execution_count": 280,
   "id": "a64a9892",
   "metadata": {
    "scrolled": true
   },
   "outputs": [
    {
     "data": {
      "text/plain": [
       "[0.9989339966243226,\n",
       " 0.9989339966243226,\n",
       " 0.9996447286615151,\n",
       " 0.9996447286615151,\n",
       " 0.9996447286615151,\n",
       " 0.9992893942085628]"
      ]
     },
     "execution_count": 280,
     "metadata": {},
     "output_type": "execute_result"
    }
   ],
   "source": [
    "scores"
   ]
  },
  {
   "cell_type": "code",
   "execution_count": 281,
   "id": "c3fd6a6e",
   "metadata": {},
   "outputs": [
    {
     "data": {
      "text/plain": [
       "54"
      ]
     },
     "execution_count": 281,
     "metadata": {},
     "output_type": "execute_result"
    }
   ],
   "source": [
    "best_index = np.argmax(scores)\n",
    "best_n_estimators_values = n_estimators_values[best_index]\n",
    "\n",
    "best_n_estimators_values"
   ]
  },
  {
   "cell_type": "code",
   "execution_count": 282,
   "id": "daf96944",
   "metadata": {},
   "outputs": [],
   "source": [
    "rf = RandomForestClassifier(random_state=42, n_estimators= best_n_estimators_values, class_weight='balanced')"
   ]
  },
  {
   "cell_type": "code",
   "execution_count": 283,
   "id": "454b1239",
   "metadata": {},
   "outputs": [
    {
     "data": {
      "text/plain": [
       "RandomForestClassifier(class_weight='balanced', n_estimators=54,\n",
       "                       random_state=42)"
      ]
     },
     "execution_count": 283,
     "metadata": {},
     "output_type": "execute_result"
    }
   ],
   "source": [
    "rf.fit(X_train, y_train)"
   ]
  },
  {
   "cell_type": "code",
   "execution_count": 284,
   "id": "b2f83342",
   "metadata": {},
   "outputs": [],
   "source": [
    "y_train_preds = rf.predict(X_train)"
   ]
  },
  {
   "cell_type": "code",
   "execution_count": 285,
   "id": "871b8742",
   "metadata": {},
   "outputs": [
    {
     "name": "stdout",
     "output_type": "stream",
     "text": [
      "0.9999881030277794\n",
      "0.9999881017431328\n",
      "1.0\n",
      "0.9995559502664298\n",
      "0.9995678472386504\n",
      "0.9996447286615151\n"
     ]
    }
   ],
   "source": [
    "#score for the train set\n",
    "print(accuracy_score(y_train, y_train_preds))\n",
    "print(f1_score(y_train, y_train_preds, average='weighted'))\n",
    "print(precision_score(y_train, y_train_preds))\n",
    "print(recall_score(y_train, y_train_preds))\n",
    "print(average_precision_score(y_train, y_train_preds))\n",
    "print(fbeta_score(y_train, y_train_preds, beta=2, pos_label=1, average='binary'))"
   ]
  },
  {
   "cell_type": "code",
   "execution_count": 286,
   "id": "c31ad63c",
   "metadata": {},
   "outputs": [
    {
     "name": "stdout",
     "output_type": "stream",
     "text": [
      "0.9919101551346722\n",
      "0.9914149488919473\n",
      "0.9498861047835991\n",
      "0.7380530973451327\n",
      "0.7081093055257476\n",
      "0.7725083364208966\n"
     ]
    }
   ],
   "source": [
    "#score for the validation set\n",
    "y_val_preds = rf.predict(X_val)\n",
    "print(accuracy_score(y_val, y_val_preds))\n",
    "print(f1_score(y_val, y_val_preds, average='weighted'))\n",
    "print(precision_score(y_val, y_val_preds))\n",
    "print(recall_score(y_val, y_val_preds))\n",
    "print(average_precision_score(y_val, y_val_preds))\n",
    "print(fbeta_score(y_val, y_val_preds, beta=2, pos_label=1, average='binary'))"
   ]
  },
  {
   "cell_type": "code",
   "execution_count": 287,
   "id": "8aea414f",
   "metadata": {},
   "outputs": [
    {
     "name": "stdout",
     "output_type": "stream",
     "text": [
      "0.991662859753312\n",
      "0.9911005018293938\n",
      "0.9549718574108818\n",
      "0.7230113636363636\n",
      "0.6978789859025641\n",
      "0.7599283368169604\n"
     ]
    }
   ],
   "source": [
    "#score for the test set\n",
    "y_test_preds = rf.predict(X_test)\n",
    "print(accuracy_score(y_test, y_test_preds))\n",
    "print(f1_score(y_test, y_test_preds, average='weighted'))\n",
    "print(precision_score(y_test, y_test_preds))\n",
    "print(recall_score(y_test, y_test_preds))\n",
    "print(average_precision_score(y_test, y_test_preds))\n",
    "print(fbeta_score(y_test, y_test_preds, beta=2, pos_label=1, average='binary'))"
   ]
  },
  {
   "cell_type": "markdown",
   "id": "c7983602",
   "metadata": {},
   "source": [
    "**[7.7]** Random Forest Classifier with max_depth"
   ]
  },
  {
   "cell_type": "code",
   "execution_count": 288,
   "id": "a0bd24ce",
   "metadata": {
    "scrolled": true
   },
   "outputs": [],
   "source": [
    "max_depth_values = [i for i in (30, 32, 34, 36, 38, 40, 42)]\n",
    "scores = []\n",
    "\n",
    "for m in max_depth_values:\n",
    "    rf = RandomForestClassifier(random_state=42, n_estimators= 54, max_depth = m, class_weight='balanced')\n",
    "    rf.fit(X_train, y_train)\n",
    "    y_train_preds = rf.predict(X_train)\n",
    "    score = score = fbeta_score(y_train, y_train_preds, beta=2, pos_label=1, average='binary')\n",
    "    scores.append(score)"
   ]
  },
  {
   "cell_type": "code",
   "execution_count": 289,
   "id": "a0a38374",
   "metadata": {
    "scrolled": false
   },
   "outputs": [
    {
     "data": {
      "text/plain": [
       "Text(0, 0.5, 'average_precision Score')"
      ]
     },
     "execution_count": 289,
     "metadata": {},
     "output_type": "execute_result"
    },
    {
     "data": {
      "image/png": "[encoded data removed]",
      "text/plain": [
       "<Figure size 640x480 with 1 Axes>"
      ]
     },
     "metadata": {},
     "output_type": "display_data"
    }
   ],
   "source": [
    "sns.lineplot(x = max_depth_values, y = scores, marker = 'o')\n",
    "plt.xlabel(\"max_dept Values\")\n",
    "plt.ylabel(\"average_precision Score\")"
   ]
  },
  {
   "cell_type": "code",
   "execution_count": 290,
   "id": "3a0a32d0",
   "metadata": {
    "scrolled": true
   },
   "outputs": [
    {
     "data": {
      "text/plain": [
       "[1.0,\n",
       " 0.9996447286615151,\n",
       " 0.9996447286615151,\n",
       " 0.9996447286615151,\n",
       " 0.9996447286615151,\n",
       " 0.9996447286615151,\n",
       " 0.9996447286615151]"
      ]
     },
     "execution_count": 290,
     "metadata": {},
     "output_type": "execute_result"
    }
   ],
   "source": [
    "scores"
   ]
  },
  {
   "cell_type": "code",
   "execution_count": 291,
   "id": "0dda8a9d",
   "metadata": {},
   "outputs": [
    {
     "data": {
      "text/plain": [
       "30"
      ]
     },
     "execution_count": 291,
     "metadata": {},
     "output_type": "execute_result"
    }
   ],
   "source": [
    "best_index = np.argmax(scores)\n",
    "best_max_depth_values = max_depth_values[best_index]\n",
    "\n",
    "best_max_depth_values"
   ]
  },
  {
   "cell_type": "code",
   "execution_count": 304,
   "id": "8d948968",
   "metadata": {},
   "outputs": [],
   "source": [
    "rf = RandomForestClassifier(random_state=42, n_estimators= 54, max_depth = 30, class_weight='balanced')"
   ]
  },
  {
   "cell_type": "code",
   "execution_count": 305,
   "id": "15f8d789",
   "metadata": {},
   "outputs": [
    {
     "data": {
      "text/plain": [
       "RandomForestClassifier(class_weight='balanced', max_depth=30, n_estimators=54,\n",
       "                       random_state=42)"
      ]
     },
     "execution_count": 305,
     "metadata": {},
     "output_type": "execute_result"
    }
   ],
   "source": [
    "rf.fit(X_train, y_train)"
   ]
  },
  {
   "cell_type": "code",
   "execution_count": 306,
   "id": "f0c4da78",
   "metadata": {},
   "outputs": [],
   "source": [
    "y_train_preds = rf.predict(X_train)"
   ]
  },
  {
   "cell_type": "code",
   "execution_count": 307,
   "id": "5694b7f8",
   "metadata": {},
   "outputs": [
    {
     "name": "stdout",
     "output_type": "stream",
     "text": [
      "1.0\n",
      "1.0\n",
      "1.0\n",
      "1.0\n",
      "1.0\n",
      "1.0\n"
     ]
    }
   ],
   "source": [
    "#score for the train set\n",
    "print(accuracy_score(y_train, y_train_preds))\n",
    "print(f1_score(y_train, y_train_preds, average='weighted'))\n",
    "print(precision_score(y_train, y_train_preds))\n",
    "print(recall_score(y_train, y_train_preds))\n",
    "print(average_precision_score(y_train, y_train_preds))\n",
    "print(fbeta_score(y_train, y_train_preds, beta=2, pos_label=1, average='binary'))"
   ]
  },
  {
   "cell_type": "code",
   "execution_count": 308,
   "id": "9ca9ce6a",
   "metadata": {},
   "outputs": [
    {
     "name": "stdout",
     "output_type": "stream",
     "text": [
      "0.9917673931664605\n",
      "0.9912589289841399\n",
      "0.9474885844748858\n",
      "0.7345132743362832\n",
      "0.7030810409894819\n",
      "0.7690882134914753\n"
     ]
    }
   ],
   "source": [
    "#score for the validation set\n",
    "y_val_preds = rf.predict(X_val)\n",
    "print(accuracy_score(y_val, y_val_preds))\n",
    "print(f1_score(y_val, y_val_preds, average='weighted'))\n",
    "print(precision_score(y_val, y_val_preds))\n",
    "print(recall_score(y_val, y_val_preds))\n",
    "print(average_precision_score(y_val, y_val_preds))\n",
    "print(fbeta_score(y_val, y_val_preds, beta=2, pos_label=1, average='binary'))"
   ]
  },
  {
   "cell_type": "code",
   "execution_count": 309,
   "id": "ab74365a",
   "metadata": {},
   "outputs": [
    {
     "name": "stdout",
     "output_type": "stream",
     "text": [
      "0.9917389980204051\n",
      "0.9911966086430272\n",
      "0.9534450651769087\n",
      "0.7272727272727273\n",
      "0.7007238664968656\n",
      "0.763495377274083\n"
     ]
    }
   ],
   "source": [
    "#score for the test set\n",
    "y_test_preds = rf.predict(X_test)\n",
    "print(accuracy_score(y_test, y_test_preds))\n",
    "print(f1_score(y_test, y_test_preds, average='weighted'))\n",
    "print(precision_score(y_test, y_test_preds))\n",
    "print(recall_score(y_test, y_test_preds))\n",
    "print(average_precision_score(y_test, y_test_preds))\n",
    "print(fbeta_score(y_test, y_test_preds, beta=2, pos_label=1, average='binary'))"
   ]
  },
  {
   "cell_type": "markdown",
   "id": "388918a6",
   "metadata": {},
   "source": [
    "**[7.8]** Random Forest Classifier with min_samples_leaf"
   ]
  },
  {
   "cell_type": "code",
   "execution_count": 33,
   "id": "56479141",
   "metadata": {},
   "outputs": [],
   "source": [
    "from sklearn.ensemble import RandomForestClassifier\n",
    "from sklearn.metrics import precision_recall_curve\n",
    "from sklearn.metrics import auc"
   ]
  },
  {
   "cell_type": "code",
   "execution_count": 34,
   "id": "9ffb729a",
   "metadata": {
    "scrolled": true
   },
   "outputs": [],
   "source": [
    "min_samples_leaf_values = [i for i in (2, 3, 4, 5, 10)]\n",
    "scores = []\n",
    "\n",
    "for m in min_samples_leaf_values:\n",
    "    rf = RandomForestClassifier(random_state=42, n_estimators= 54, max_depth = 30, min_samples_leaf= m, class_weight='balanced')\n",
    "    rf.fit(X_train, y_train)\n",
    "    y_train_preds = rf.predict(X_train)\n",
    "    score = fbeta_score(y_train, y_train_preds, beta=2, pos_label=1, average='binary')\n",
    "    scores.append(score)"
   ]
  },
  {
   "cell_type": "code",
   "execution_count": 35,
   "id": "260caa9d",
   "metadata": {
    "scrolled": false
   },
   "outputs": [
    {
     "data": {
      "text/plain": [
       "Text(0, 0.5, 'average_precision Score')"
      ]
     },
     "execution_count": 35,
     "metadata": {},
     "output_type": "execute_result"
    },
    {
     "data": {
      "image/png": "[encoded data removed]",
      "text/plain": [
       "<Figure size 640x480 with 1 Axes>"
      ]
     },
     "metadata": {},
     "output_type": "display_data"
    }
   ],
   "source": [
    "sns.lineplot(x = min_samples_leaf_values, y = scores, marker = 'o')\n",
    "plt.xlabel(\"min_samples_leaf Values\")\n",
    "plt.ylabel(\"average_precision Score\")"
   ]
  },
  {
   "cell_type": "code",
   "execution_count": 36,
   "id": "58da4b84",
   "metadata": {
    "scrolled": true
   },
   "outputs": [
    {
     "data": {
      "text/plain": [
       "[0.9935586340774727,\n",
       " 0.9824546089385474,\n",
       " 0.9679222566219471,\n",
       " 0.957482993197279,\n",
       " 0.8972]"
      ]
     },
     "execution_count": 36,
     "metadata": {},
     "output_type": "execute_result"
    }
   ],
   "source": [
    "scores"
   ]
  },
  {
   "cell_type": "code",
   "execution_count": 37,
   "id": "032a8dd5",
   "metadata": {},
   "outputs": [
    {
     "data": {
      "text/plain": [
       "2"
      ]
     },
     "execution_count": 37,
     "metadata": {},
     "output_type": "execute_result"
    }
   ],
   "source": [
    "best_index = np.argmax(scores)\n",
    "best_min_samples_leaf_values = min_samples_leaf_values[best_index]\n",
    "\n",
    "best_min_samples_leaf_values"
   ]
  },
  {
   "cell_type": "code",
   "execution_count": 38,
   "id": "ec3763ea",
   "metadata": {},
   "outputs": [],
   "source": [
    "rf = RandomForestClassifier(random_state=42, n_estimators= 40, max_depth = 11, min_samples_leaf= 2, class_weight='balanced')"
   ]
  },
  {
   "cell_type": "code",
   "execution_count": 39,
   "id": "8912c552",
   "metadata": {},
   "outputs": [
    {
     "data": {
      "text/plain": [
       "RandomForestClassifier(class_weight='balanced', max_depth=11,\n",
       "                       min_samples_leaf=2, n_estimators=40, random_state=42)"
      ]
     },
     "execution_count": 39,
     "metadata": {},
     "output_type": "execute_result"
    }
   ],
   "source": [
    "rf.fit(X_train, y_train)"
   ]
  },
  {
   "cell_type": "code",
   "execution_count": 40,
   "id": "f280affc",
   "metadata": {},
   "outputs": [],
   "source": [
    "y_train_preds = rf.predict(X_train)"
   ]
  },
  {
   "cell_type": "code",
   "execution_count": 41,
   "id": "6d570c2b",
   "metadata": {},
   "outputs": [
    {
     "name": "stdout",
     "output_type": "stream",
     "text": [
      "0.9669977990601392\n",
      "0.9729424102809255\n",
      "0.4475903614457831\n",
      "0.9897868561278863\n",
      "0.44329268704963903\n",
      "0.7967543608807549\n"
     ]
    }
   ],
   "source": [
    "#score for the train set\n",
    "print(accuracy_score(y_train, y_train_preds))\n",
    "print(f1_score(y_train, y_train_preds, average='weighted'))\n",
    "print(precision_score(y_train, y_train_preds))\n",
    "print(recall_score(y_train, y_train_preds))\n",
    "print(average_precision_score(y_train, y_train_preds))\n",
    "print(fbeta_score(y_train, y_train_preds, beta=2, pos_label=1, average='binary'))"
   ]
  },
  {
   "cell_type": "code",
   "execution_count": 42,
   "id": "4b5ce751",
   "metadata": {},
   "outputs": [
    {
     "name": "stdout",
     "output_type": "stream",
     "text": [
      "0.9617873798420101\n",
      "0.9688867800326755\n",
      "0.40746500777604977\n",
      "0.9274336283185841\n",
      "0.37984783080682805\n",
      "0.7388606880992669\n"
     ]
    }
   ],
   "source": [
    "#score for the validation set\n",
    "y_val_preds = rf.predict(X_val)\n",
    "print(accuracy_score(y_val, y_val_preds))\n",
    "print(f1_score(y_val, y_val_preds, average='weighted'))\n",
    "print(precision_score(y_val, y_val_preds))\n",
    "print(recall_score(y_val, y_val_preds))\n",
    "print(average_precision_score(y_val, y_val_preds))\n",
    "print(fbeta_score(y_val, y_val_preds, beta=2, pos_label=1, average='binary'))"
   ]
  },
  {
   "cell_type": "code",
   "execution_count": 43,
   "id": "ceff6f83",
   "metadata": {},
   "outputs": [
    {
     "name": "stdout",
     "output_type": "stream",
     "text": [
      "0.9620070047205725\n",
      "0.9691570157144301\n",
      "0.4093711467324291\n",
      "0.9431818181818182\n",
      "0.38763418782812914\n",
      "0.7480847228481299\n"
     ]
    }
   ],
   "source": [
    "#score for the test set\n",
    "y_test_preds = rf.predict(X_test)\n",
    "print(accuracy_score(y_test, y_test_preds))\n",
    "print(f1_score(y_test, y_test_preds, average='weighted'))\n",
    "print(precision_score(y_test, y_test_preds))\n",
    "print(recall_score(y_test, y_test_preds))\n",
    "print(average_precision_score(y_test, y_test_preds))\n",
    "print(fbeta_score(y_test, y_test_preds, beta=2, pos_label=1, average='binary'))"
   ]
  },
  {
   "cell_type": "markdown",
   "id": "8fc90421",
   "metadata": {},
   "source": [
    "**[7.9]** Random Forest Classifier with max_features"
   ]
  },
  {
   "cell_type": "code",
   "execution_count": 32,
   "id": "a2b176d3",
   "metadata": {},
   "outputs": [],
   "source": [
    "from sklearn.ensemble import RandomForestClassifier\n",
    "from sklearn.metrics import precision_recall_curve\n",
    "from sklearn.metrics import auc\n",
    "from sklearn.metrics import fbeta_score"
   ]
  },
  {
   "cell_type": "code",
   "execution_count": 376,
   "id": "0df887d5",
   "metadata": {
    "scrolled": true
   },
   "outputs": [],
   "source": [
    "max_features_values = [i for i in (5,10,15,16)]\n",
    "scores = []\n",
    "\n",
    "for m in max_features_values:\n",
    "    rf = RandomForestClassifier(random_state=42, n_estimators= 40, max_depth = 11, min_samples_leaf= 1, max_features = m, class_weight='balanced')\n",
    "    rf.fit(X_train, y_train)\n",
    "    y_train_preds = rf.predict(X_train)\n",
    "    score = fbeta_score(y_train, y_train_preds, beta=2, pos_label=1, average='binary')\n",
    "    scores.append(score)"
   ]
  },
  {
   "cell_type": "code",
   "execution_count": 377,
   "id": "3411001e",
   "metadata": {
    "scrolled": false
   },
   "outputs": [
    {
     "data": {
      "text/plain": [
       "Text(0, 0.5, 'average_precision Score')"
      ]
     },
     "execution_count": 377,
     "metadata": {},
     "output_type": "execute_result"
    },
    {
     "data": {
      "image/png": "[encoded data removed]",
      "text/plain": [
       "<Figure size 640x480 with 1 Axes>"
      ]
     },
     "metadata": {},
     "output_type": "display_data"
    }
   ],
   "source": [
    "sns.lineplot(x = max_features_values, y = scores, marker = 'o')\n",
    "plt.xlabel(\"max_features values\")\n",
    "plt.ylabel(\"average_precision Score\")"
   ]
  },
  {
   "cell_type": "code",
   "execution_count": 378,
   "id": "5ee496e6",
   "metadata": {
    "scrolled": true
   },
   "outputs": [
    {
     "data": {
      "text/plain": [
       "[0.826835969406698, 0.8537804784247365, 0.8490566037735849, 0.8448026766025397]"
      ]
     },
     "execution_count": 378,
     "metadata": {},
     "output_type": "execute_result"
    }
   ],
   "source": [
    "scores"
   ]
  },
  {
   "cell_type": "code",
   "execution_count": 379,
   "id": "d951124f",
   "metadata": {},
   "outputs": [
    {
     "data": {
      "text/plain": [
       "10"
      ]
     },
     "execution_count": 379,
     "metadata": {},
     "output_type": "execute_result"
    }
   ],
   "source": [
    "best_index = np.argmax(scores)\n",
    "best_max_features_values = max_features_values[best_index]\n",
    "\n",
    "best_max_features_values"
   ]
  },
  {
   "cell_type": "code",
   "execution_count": 33,
   "id": "ba8a6f5b",
   "metadata": {},
   "outputs": [],
   "source": [
    "rf = RandomForestClassifier(random_state=42, n_estimators= 40, max_depth = 11, min_samples_leaf= 1, max_features = 10, class_weight='balanced')"
   ]
  },
  {
   "cell_type": "code",
   "execution_count": 34,
   "id": "44f885e1",
   "metadata": {},
   "outputs": [
    {
     "data": {
      "text/plain": [
       "RandomForestClassifier(class_weight='balanced', max_depth=11, max_features=10,\n",
       "                       n_estimators=40, random_state=42)"
      ]
     },
     "execution_count": 34,
     "metadata": {},
     "output_type": "execute_result"
    }
   ],
   "source": [
    "rf.fit(X_train, y_train)"
   ]
  },
  {
   "cell_type": "code",
   "execution_count": 35,
   "id": "4c4976a6",
   "metadata": {},
   "outputs": [],
   "source": [
    "y_train_preds = rf.predict(X_train)"
   ]
  },
  {
   "cell_type": "code",
   "execution_count": 36,
   "id": "89c9dda2",
   "metadata": {},
   "outputs": [
    {
     "name": "stdout",
     "output_type": "stream",
     "text": [
      "0.9785259651418714\n",
      "0.9814037773186985\n",
      "0.5559729526671675\n",
      "0.9857904085257548\n",
      "0.5484535072500955\n",
      "0.8537804784247365\n"
     ]
    }
   ],
   "source": [
    "#score for the train set\n",
    "print(accuracy_score(y_train, y_train_preds))\n",
    "print(f1_score(y_train, y_train_preds, average='weighted'))\n",
    "print(precision_score(y_train, y_train_preds))\n",
    "print(recall_score(y_train, y_train_preds))\n",
    "print(average_precision_score(y_train, y_train_preds))\n",
    "print(fbeta_score(y_train, y_train_preds, beta=2, pos_label=1, average='binary'))"
   ]
  },
  {
   "cell_type": "code",
   "execution_count": 37,
   "id": "922aa487",
   "metadata": {},
   "outputs": [
    {
     "name": "stdout",
     "output_type": "stream",
     "text": [
      "[[80030  1773]\n",
      " [   32  2220]]\n"
     ]
    }
   ],
   "source": [
    "#confusion matrix\n",
    "results = confusion_matrix(y_train, y_train_preds)\n",
    "print(results)#confusion matrix"
   ]
  },
  {
   "cell_type": "code",
   "execution_count": 38,
   "id": "38549ab9",
   "metadata": {},
   "outputs": [
    {
     "name": "stdout",
     "output_type": "stream",
     "text": [
      "0.9743028457218997\n",
      "0.9777639864539052\n",
      "0.5124378109452736\n",
      "0.911504424778761\n",
      "0.46946869823742027\n",
      "0.7886676875957122\n"
     ]
    }
   ],
   "source": [
    "#score for the validation set\n",
    "y_val_preds = rf.predict(X_val)\n",
    "print(accuracy_score(y_val, y_val_preds))\n",
    "print(f1_score(y_val, y_val_preds, average='weighted'))\n",
    "print(precision_score(y_val, y_val_preds))\n",
    "print(recall_score(y_val, y_val_preds))\n",
    "print(average_precision_score(y_val, y_val_preds))\n",
    "print(fbeta_score(y_val, y_val_preds, beta=2, pos_label=1, average='binary'))"
   ]
  },
  {
   "cell_type": "code",
   "execution_count": 39,
   "id": "54c605af",
   "metadata": {},
   "outputs": [
    {
     "name": "stdout",
     "output_type": "stream",
     "text": [
      "[[19959   490]\n",
      " [   50   515]]\n"
     ]
    }
   ],
   "source": [
    "#confusion matrix\n",
    "results = confusion_matrix(y_val, y_val_preds)\n",
    "print(results)"
   ]
  },
  {
   "cell_type": "code",
   "execution_count": 40,
   "id": "9b6958dc",
   "metadata": {},
   "outputs": [
    {
     "name": "stdout",
     "output_type": "stream",
     "text": [
      "0.9724760164458657\n",
      "0.9764473378621902\n",
      "0.492742551566081\n",
      "0.9161931818181818\n",
      "0.45369344501578196\n",
      "0.7818181818181816\n"
     ]
    }
   ],
   "source": [
    "#score for the test set\n",
    "y_test_preds = rf.predict(X_test)\n",
    "print(accuracy_score(y_test, y_test_preds))\n",
    "print(f1_score(y_test, y_test_preds, average='weighted'))\n",
    "print(precision_score(y_test, y_test_preds))\n",
    "print(recall_score(y_test, y_test_preds))\n",
    "print(average_precision_score(y_test, y_test_preds))\n",
    "print(fbeta_score(y_test, y_test_preds, beta=2, pos_label=1, average='binary'))"
   ]
  },
  {
   "cell_type": "code",
   "execution_count": 41,
   "id": "e6203e76",
   "metadata": {},
   "outputs": [
    {
     "name": "stdout",
     "output_type": "stream",
     "text": [
      "[[24900   664]\n",
      " [   59   645]]\n"
     ]
    }
   ],
   "source": [
    "#confusion matrix\n",
    "results = confusion_matrix(y_test, y_test_preds)\n",
    "print(results)"
   ]
  },
  {
   "cell_type": "markdown",
   "id": "0bad7d51",
   "metadata": {},
   "source": [
    "Analysing feature importance in the model"
   ]
  },
  {
   "cell_type": "code",
   "execution_count": 42,
   "id": "3809eedf",
   "metadata": {},
   "outputs": [
    {
     "data": {
      "text/plain": [
       "array([0.00081442, 0.00658741, 0.00219616, 0.06211542, 0.24747027,\n",
       "       0.0229832 , 0.10359394, 0.02399918, 0.02842413, 0.09955492,\n",
       "       0.19861519, 0.09430168, 0.0422143 , 0.05815517, 0.00132913,\n",
       "       0.00764547])"
      ]
     },
     "execution_count": 42,
     "metadata": {},
     "output_type": "execute_result"
    }
   ],
   "source": [
    "rf.feature_importances_"
   ]
  },
  {
   "cell_type": "code",
   "execution_count": 43,
   "id": "cc311ef8",
   "metadata": {},
   "outputs": [],
   "source": [
    "X = df_cleaned[['age_band', 'car_model', 'car_segment',\n",
    "       'age_of_vehicle_years', 'sched_serv_warr', 'non_sched_serv_warr',\n",
    "       'sched_serv_paid', 'non_sched_serv_paid', 'total_paid_services',\n",
    "       'total_services', 'mth_since_last_serv', 'annualised_mileage',\n",
    "       'num_dealers_visited', 'num_serv_dealer_purchased', 'Female', 'Male']]"
   ]
  },
  {
   "cell_type": "code",
   "execution_count": 44,
   "id": "026cf63b",
   "metadata": {},
   "outputs": [],
   "source": [
    "#dataframe with the values\n",
    "feat_imp_rf = pd.DataFrame(\n",
    "    {\n",
    "        'feature': X.columns,\n",
    "     'feature_importance': rf.feature_importances_\n",
    "     }\n",
    ")"
   ]
  },
  {
   "cell_type": "code",
   "execution_count": 45,
   "id": "7071256a",
   "metadata": {},
   "outputs": [
    {
     "data": {
      "text/html": [
       "<div>\n",
       "<style scoped>\n",
       "    .dataframe tbody tr th:only-of-type {\n",
       "        vertical-align: middle;\n",
       "    }\n",
       "\n",
       "    .dataframe tbody tr th {\n",
       "        vertical-align: top;\n",
       "    }\n",
       "\n",
       "    .dataframe thead th {\n",
       "        text-align: right;\n",
       "    }\n",
       "</style>\n",
       "<table border=\"1\" class=\"dataframe\">\n",
       "  <thead>\n",
       "    <tr style=\"text-align: right;\">\n",
       "      <th></th>\n",
       "      <th>feature</th>\n",
       "      <th>feature_importance</th>\n",
       "    </tr>\n",
       "  </thead>\n",
       "  <tbody>\n",
       "    <tr>\n",
       "      <th>0</th>\n",
       "      <td>sched_serv_warr</td>\n",
       "      <td>0.247470</td>\n",
       "    </tr>\n",
       "    <tr>\n",
       "      <th>1</th>\n",
       "      <td>mth_since_last_serv</td>\n",
       "      <td>0.198615</td>\n",
       "    </tr>\n",
       "    <tr>\n",
       "      <th>2</th>\n",
       "      <td>sched_serv_paid</td>\n",
       "      <td>0.103594</td>\n",
       "    </tr>\n",
       "    <tr>\n",
       "      <th>3</th>\n",
       "      <td>total_services</td>\n",
       "      <td>0.099555</td>\n",
       "    </tr>\n",
       "    <tr>\n",
       "      <th>4</th>\n",
       "      <td>annualised_mileage</td>\n",
       "      <td>0.094302</td>\n",
       "    </tr>\n",
       "    <tr>\n",
       "      <th>5</th>\n",
       "      <td>age_of_vehicle_years</td>\n",
       "      <td>0.062115</td>\n",
       "    </tr>\n",
       "    <tr>\n",
       "      <th>6</th>\n",
       "      <td>num_serv_dealer_purchased</td>\n",
       "      <td>0.058155</td>\n",
       "    </tr>\n",
       "    <tr>\n",
       "      <th>7</th>\n",
       "      <td>num_dealers_visited</td>\n",
       "      <td>0.042214</td>\n",
       "    </tr>\n",
       "    <tr>\n",
       "      <th>8</th>\n",
       "      <td>total_paid_services</td>\n",
       "      <td>0.028424</td>\n",
       "    </tr>\n",
       "    <tr>\n",
       "      <th>9</th>\n",
       "      <td>non_sched_serv_paid</td>\n",
       "      <td>0.023999</td>\n",
       "    </tr>\n",
       "    <tr>\n",
       "      <th>10</th>\n",
       "      <td>non_sched_serv_warr</td>\n",
       "      <td>0.022983</td>\n",
       "    </tr>\n",
       "    <tr>\n",
       "      <th>11</th>\n",
       "      <td>Male</td>\n",
       "      <td>0.007645</td>\n",
       "    </tr>\n",
       "    <tr>\n",
       "      <th>12</th>\n",
       "      <td>car_model</td>\n",
       "      <td>0.006587</td>\n",
       "    </tr>\n",
       "    <tr>\n",
       "      <th>13</th>\n",
       "      <td>car_segment</td>\n",
       "      <td>0.002196</td>\n",
       "    </tr>\n",
       "    <tr>\n",
       "      <th>14</th>\n",
       "      <td>Female</td>\n",
       "      <td>0.001329</td>\n",
       "    </tr>\n",
       "    <tr>\n",
       "      <th>15</th>\n",
       "      <td>age_band</td>\n",
       "      <td>0.000814</td>\n",
       "    </tr>\n",
       "  </tbody>\n",
       "</table>\n",
       "</div>"
      ],
      "text/plain": [
       "                      feature  feature_importance\n",
       "0             sched_serv_warr            0.247470\n",
       "1         mth_since_last_serv            0.198615\n",
       "2             sched_serv_paid            0.103594\n",
       "3              total_services            0.099555\n",
       "4          annualised_mileage            0.094302\n",
       "5        age_of_vehicle_years            0.062115\n",
       "6   num_serv_dealer_purchased            0.058155\n",
       "7         num_dealers_visited            0.042214\n",
       "8         total_paid_services            0.028424\n",
       "9         non_sched_serv_paid            0.023999\n",
       "10        non_sched_serv_warr            0.022983\n",
       "11                       Male            0.007645\n",
       "12                  car_model            0.006587\n",
       "13                car_segment            0.002196\n",
       "14                     Female            0.001329\n",
       "15                   age_band            0.000814"
      ]
     },
     "execution_count": 45,
     "metadata": {},
     "output_type": "execute_result"
    }
   ],
   "source": [
    "feat_imp_rf = feat_imp_rf.sort_values('feature_importance', ascending=False).reset_index(drop=True)\n",
    "feat_imp_rf"
   ]
  },
  {
   "cell_type": "code",
   "execution_count": 53,
   "id": "26049ec1",
   "metadata": {},
   "outputs": [
    {
     "data": {
      "text/plain": [
       "<AxesSubplot:xlabel='feature_importance', ylabel='feature'>"
      ]
     },
     "execution_count": 53,
     "metadata": {},
     "output_type": "execute_result"
    },
    {
     "data": {
      "image/png": "[encoded data removed]",
      "text/plain": [
       "<Figure size 640x480 with 1 Axes>"
      ]
     },
     "metadata": {},
     "output_type": "display_data"
    }
   ],
   "source": [
    "sns.barplot(data= feat_imp_rf, x=\"feature_importance\", y=\"feature\")"
   ]
  },
  {
   "cell_type": "markdown",
   "id": "380ecd7d",
   "metadata": {},
   "source": [
    "**[7.10]** Extra trees Classifier"
   ]
  },
  {
   "cell_type": "markdown",
   "id": "7f56bc0f",
   "metadata": {},
   "source": [
    "Based on: (scikit-learn developers, 2023)"
   ]
  },
  {
   "cell_type": "code",
   "execution_count": 57,
   "id": "4ff458c2",
   "metadata": {},
   "outputs": [],
   "source": [
    "from sklearn.ensemble import ExtraTreesClassifier"
   ]
  },
  {
   "cell_type": "code",
   "execution_count": 58,
   "id": "0c0082bf",
   "metadata": {},
   "outputs": [],
   "source": [
    "et = ExtraTreesClassifier(random_state=42, class_weight='balanced')"
   ]
  },
  {
   "cell_type": "code",
   "execution_count": 59,
   "id": "6be3d5d7",
   "metadata": {},
   "outputs": [
    {
     "data": {
      "text/plain": [
       "ExtraTreesClassifier(class_weight='balanced', random_state=42)"
      ]
     },
     "execution_count": 59,
     "metadata": {},
     "output_type": "execute_result"
    }
   ],
   "source": [
    "et.fit(X_train, y_train)"
   ]
  },
  {
   "cell_type": "code",
   "execution_count": 60,
   "id": "940c5858",
   "metadata": {},
   "outputs": [],
   "source": [
    "y_train_preds = et.predict(X_train)"
   ]
  },
  {
   "cell_type": "code",
   "execution_count": 61,
   "id": "a4e52c3f",
   "metadata": {},
   "outputs": [
    {
     "name": "stdout",
     "output_type": "stream",
     "text": [
      "1.0\n",
      "1.0\n",
      "1.0\n",
      "1.0\n",
      "1.0\n",
      "1.0\n"
     ]
    }
   ],
   "source": [
    "#score for the train set\n",
    "print(accuracy_score(y_train, y_train_preds))\n",
    "print(f1_score(y_train, y_train_preds, average='weighted'))\n",
    "print(precision_score(y_train, y_train_preds))\n",
    "print(recall_score(y_train, y_train_preds))\n",
    "print(average_precision_score(y_train, y_train_preds))\n",
    "print(fbeta_score(y_train, y_train_preds, beta=2, pos_label=1, average='binary'))"
   ]
  },
  {
   "cell_type": "code",
   "execution_count": 62,
   "id": "da9e3c06",
   "metadata": {},
   "outputs": [
    {
     "name": "stdout",
     "output_type": "stream",
     "text": [
      "0.9913866945845626\n",
      "0.9907580921845677\n",
      "0.9593301435406698\n",
      "0.7097345132743362\n",
      "0.688674033424141\n",
      "0.7486930545182972\n"
     ]
    }
   ],
   "source": [
    "#score for the validation set\n",
    "y_val_preds = et.predict(X_val)\n",
    "print(accuracy_score(y_val, y_val_preds))\n",
    "print(f1_score(y_val, y_val_preds, average='weighted'))\n",
    "print(precision_score(y_val, y_val_preds))\n",
    "print(recall_score(y_val, y_val_preds))\n",
    "print(average_precision_score(y_val, y_val_preds))\n",
    "print(fbeta_score(y_val, y_val_preds, beta=2, pos_label=1, average='binary'))"
   ]
  },
  {
   "cell_type": "code",
   "execution_count": 63,
   "id": "5de0e23d",
   "metadata": {},
   "outputs": [
    {
     "name": "stdout",
     "output_type": "stream",
     "text": [
      "0.991662859753312\n",
      "0.9910854329845529\n",
      "0.9584120982986768\n",
      "0.7201704545454546\n",
      "0.6977196957822854\n",
      "0.757847533632287\n"
     ]
    }
   ],
   "source": [
    "#score for the test set\n",
    "y_test_preds = et.predict(X_test)\n",
    "print(accuracy_score(y_test, y_test_preds))\n",
    "print(f1_score(y_test, y_test_preds, average='weighted'))\n",
    "print(precision_score(y_test, y_test_preds))\n",
    "print(recall_score(y_test, y_test_preds))\n",
    "print(average_precision_score(y_test, y_test_preds))\n",
    "print(fbeta_score(y_test, y_test_preds, beta=2, pos_label=1, average='binary'))"
   ]
  },
  {
   "cell_type": "markdown",
   "id": "f878b20f",
   "metadata": {},
   "source": [
    "Analysing feature importance in the model"
   ]
  },
  {
   "cell_type": "code",
   "execution_count": 64,
   "id": "552b8435",
   "metadata": {},
   "outputs": [
    {
     "data": {
      "text/plain": [
       "array([0.00381671, 0.01542428, 0.01277828, 0.09439107, 0.15644114,\n",
       "       0.04020224, 0.09704296, 0.02689937, 0.03078658, 0.13345252,\n",
       "       0.16561307, 0.09720567, 0.04585737, 0.05885496, 0.00737746,\n",
       "       0.01385632])"
      ]
     },
     "execution_count": 64,
     "metadata": {},
     "output_type": "execute_result"
    }
   ],
   "source": [
    "et.feature_importances_"
   ]
  },
  {
   "cell_type": "code",
   "execution_count": 65,
   "id": "f142725f",
   "metadata": {},
   "outputs": [],
   "source": [
    "X = df_cleaned[['age_band', 'car_model', 'car_segment',\n",
    "       'age_of_vehicle_years', 'sched_serv_warr', 'non_sched_serv_warr',\n",
    "       'sched_serv_paid', 'non_sched_serv_paid', 'total_paid_services',\n",
    "       'total_services', 'mth_since_last_serv', 'annualised_mileage',\n",
    "       'num_dealers_visited', 'num_serv_dealer_purchased', 'Female', 'Male']]"
   ]
  },
  {
   "cell_type": "code",
   "execution_count": 66,
   "id": "016caf42",
   "metadata": {},
   "outputs": [],
   "source": [
    "#dataframe with the values\n",
    "feat_imp_et = pd.DataFrame(\n",
    "    {\n",
    "        'feature': X.columns,\n",
    "     'feature_importance': et.feature_importances_\n",
    "     }\n",
    ")"
   ]
  },
  {
   "cell_type": "code",
   "execution_count": 67,
   "id": "ddf5c89e",
   "metadata": {},
   "outputs": [
    {
     "data": {
      "text/html": [
       "<div>\n",
       "<style scoped>\n",
       "    .dataframe tbody tr th:only-of-type {\n",
       "        vertical-align: middle;\n",
       "    }\n",
       "\n",
       "    .dataframe tbody tr th {\n",
       "        vertical-align: top;\n",
       "    }\n",
       "\n",
       "    .dataframe thead th {\n",
       "        text-align: right;\n",
       "    }\n",
       "</style>\n",
       "<table border=\"1\" class=\"dataframe\">\n",
       "  <thead>\n",
       "    <tr style=\"text-align: right;\">\n",
       "      <th></th>\n",
       "      <th>feature</th>\n",
       "      <th>feature_importance</th>\n",
       "    </tr>\n",
       "  </thead>\n",
       "  <tbody>\n",
       "    <tr>\n",
       "      <th>0</th>\n",
       "      <td>mth_since_last_serv</td>\n",
       "      <td>0.165613</td>\n",
       "    </tr>\n",
       "    <tr>\n",
       "      <th>1</th>\n",
       "      <td>sched_serv_warr</td>\n",
       "      <td>0.156441</td>\n",
       "    </tr>\n",
       "    <tr>\n",
       "      <th>2</th>\n",
       "      <td>total_services</td>\n",
       "      <td>0.133453</td>\n",
       "    </tr>\n",
       "    <tr>\n",
       "      <th>3</th>\n",
       "      <td>annualised_mileage</td>\n",
       "      <td>0.097206</td>\n",
       "    </tr>\n",
       "    <tr>\n",
       "      <th>4</th>\n",
       "      <td>sched_serv_paid</td>\n",
       "      <td>0.097043</td>\n",
       "    </tr>\n",
       "    <tr>\n",
       "      <th>5</th>\n",
       "      <td>age_of_vehicle_years</td>\n",
       "      <td>0.094391</td>\n",
       "    </tr>\n",
       "    <tr>\n",
       "      <th>6</th>\n",
       "      <td>num_serv_dealer_purchased</td>\n",
       "      <td>0.058855</td>\n",
       "    </tr>\n",
       "    <tr>\n",
       "      <th>7</th>\n",
       "      <td>num_dealers_visited</td>\n",
       "      <td>0.045857</td>\n",
       "    </tr>\n",
       "    <tr>\n",
       "      <th>8</th>\n",
       "      <td>non_sched_serv_warr</td>\n",
       "      <td>0.040202</td>\n",
       "    </tr>\n",
       "    <tr>\n",
       "      <th>9</th>\n",
       "      <td>total_paid_services</td>\n",
       "      <td>0.030787</td>\n",
       "    </tr>\n",
       "    <tr>\n",
       "      <th>10</th>\n",
       "      <td>non_sched_serv_paid</td>\n",
       "      <td>0.026899</td>\n",
       "    </tr>\n",
       "    <tr>\n",
       "      <th>11</th>\n",
       "      <td>car_model</td>\n",
       "      <td>0.015424</td>\n",
       "    </tr>\n",
       "    <tr>\n",
       "      <th>12</th>\n",
       "      <td>Male</td>\n",
       "      <td>0.013856</td>\n",
       "    </tr>\n",
       "    <tr>\n",
       "      <th>13</th>\n",
       "      <td>car_segment</td>\n",
       "      <td>0.012778</td>\n",
       "    </tr>\n",
       "    <tr>\n",
       "      <th>14</th>\n",
       "      <td>Female</td>\n",
       "      <td>0.007377</td>\n",
       "    </tr>\n",
       "    <tr>\n",
       "      <th>15</th>\n",
       "      <td>age_band</td>\n",
       "      <td>0.003817</td>\n",
       "    </tr>\n",
       "  </tbody>\n",
       "</table>\n",
       "</div>"
      ],
      "text/plain": [
       "                      feature  feature_importance\n",
       "0         mth_since_last_serv            0.165613\n",
       "1             sched_serv_warr            0.156441\n",
       "2              total_services            0.133453\n",
       "3          annualised_mileage            0.097206\n",
       "4             sched_serv_paid            0.097043\n",
       "5        age_of_vehicle_years            0.094391\n",
       "6   num_serv_dealer_purchased            0.058855\n",
       "7         num_dealers_visited            0.045857\n",
       "8         non_sched_serv_warr            0.040202\n",
       "9         total_paid_services            0.030787\n",
       "10        non_sched_serv_paid            0.026899\n",
       "11                  car_model            0.015424\n",
       "12                       Male            0.013856\n",
       "13                car_segment            0.012778\n",
       "14                     Female            0.007377\n",
       "15                   age_band            0.003817"
      ]
     },
     "execution_count": 67,
     "metadata": {},
     "output_type": "execute_result"
    }
   ],
   "source": [
    "feat_imp_et = feat_imp_et.sort_values('feature_importance', ascending=False).reset_index(drop=True)\n",
    "feat_imp_et"
   ]
  },
  {
   "cell_type": "code",
   "execution_count": 69,
   "id": "41856ff1",
   "metadata": {},
   "outputs": [
    {
     "data": {
      "text/plain": [
       "<AxesSubplot:xlabel='feature_importance', ylabel='feature'>"
      ]
     },
     "execution_count": 69,
     "metadata": {},
     "output_type": "execute_result"
    },
    {
     "data": {
      "image/png": "[encoded data removed]",
      "text/plain": [
       "<Figure size 640x480 with 1 Axes>"
      ]
     },
     "metadata": {},
     "output_type": "display_data"
    }
   ],
   "source": [
    "sns.barplot(data= feat_imp_rf, x=\"feature_importance\", y=\"feature\")"
   ]
  },
  {
   "cell_type": "markdown",
   "id": "d0114f38",
   "metadata": {},
   "source": [
    "## 8. Conclusion"
   ]
  },
  {
   "cell_type": "markdown",
   "id": "5450a906",
   "metadata": {},
   "source": [
    "The models trained in this experiment performed well in the training phase but not in the validation and testing phase.\n",
    "Compared to previous experiments with logistic regression models, KNN and SVC; the decision tree, random forest and extra tree models better fit the categorical data under study.\n",
    "\n",
    "The presence of overfitting in the different models is evident. The variation of the different hyperparameters for each type of estimator made it possible to improve the degree of overfitting in the models. However, overfitting continues to occur.\n",
    "\n",
    "The model  [7.9] Random Forest Classifier with max_features = 10 is chosen. It improved the prediction compared to the other models. However, the model presents overfitting due to the score on the training data compared to the validation and testing process. \n",
    "\n",
    "In the next experiment, the study will search for a combination of hyperparameters that eliminates the overfitting of the previous models using automated techniques. "
   ]
  },
  {
   "cell_type": "markdown",
   "id": "23f84178",
   "metadata": {},
   "source": [
    "## 9. References"
   ]
  },
  {
   "cell_type": "markdown",
   "id": "80818a57",
   "metadata": {},
   "source": [
    "Brownlee, J. (2020a, January 5). ROC Curves and Precision-Recall Curves for Imbalanced Classification. MachineLearningMastery.Com. https://machinelearningmastery.com/roc-curves-and-precision-recall-curves-for-imbalanced-classification/\n",
    "\n",
    "Brownlee, J. (2020b, January 26). Cost-Sensitive Logistic Regression for Imbalanced Classification. MachineLearningMastery.Com. https://machinelearningmastery.com/cost-sensitive-logistic-regression/\n",
    "\n",
    "Brownlee, J. (2020c, June 9). How to Use StandardScaler and MinMaxScaler Transforms in Python. MachineLearningMastery.Com. https://machinelearningmastery.com/standardscaler-and-minmaxscaler-transforms-in-python/\n",
    "\n",
    "Brownlee, J. (2020d, January 12). How to Fix k-Fold Cross-Validation for Imbalanced Classification. MachineLearningMastery.Com. https://machinelearningmastery.com/cross-validation-for-imbalanced-classification/\n",
    "\n",
    "Czakon, J. (2022, July 21). F1 Score vs ROC AUC vs Accuracy vs PR AUC: Which Evaluation Metric Should You Choose? Neptune.Ai. https://neptune.ai/blog/f1-score-accuracy-roc-auc-pr-auc\n",
    "\n",
    "Filho, M. (2023, March 24). Do Decision Trees Need Feature Scaling Or Normalization? https://forecastegy.com/posts/do-decision-trees-need-feature-scaling-or-normalization/\n",
    "\n",
    "Kumar, A. (2020, July 27). MinMaxScaler vs StandardScaler—Python Examples. Data Analytics. https://vitalflux.com/minmaxscaler-standardscaler-python-examples/\n",
    "\n",
    "Malato, G. (2021, June 7). Precision, recall, accuracy. How to choose? Your Data Teacher. https://www.yourdatateacher.com/2021/06/07/precision-recall-accuracy-how-to-choose/\n",
    "\n",
    "Olugbenga, M. (2022, July 22). Balanced Accuracy: When Should You Use It? Neptune.Ai. https://neptune.ai/blog/balanced-accuracy\n",
    "\n",
    "Saxena, S. (2020, March 12). A Beginner’s Guide to Random Forest Hyperparameter Tuning. Analytics Vidhya. https://www.analyticsvidhya.com/blog/2020/03/beginners-guide-random-forest-hyperparameter-tuning/\n",
    "\n",
    "scikit-learn developers. (2023a). 3.3. Metrics and scoring: Quantifying the quality of predictions. Scikit-Learn. https://scikit-learn.org/stable/modules/model_evaluation.html\n",
    "\n",
    "scikit-learn developers. (2023b). Sklearn.tree.DecisionTreeClassifier. Scikit-Learn. https://scikit-learn/stable/modules/generated/sklearn.tree.DecisionTreeClassifier.html\n",
    "\n",
    "scikit-learn developers. (2023c). Sklearn.ensemble.ExtraTreesClassifier. Scikit-Learn. https://scikit-learn/stable/modules/generated/sklearn.ensemble.ExtraTreesClassifier.html\n",
    "\n",
    "So, A. (2023). Course Modules: 36106 Machine Learning Algorithms and Applications—Autumn 2023. Lab Solutions. https://canvas.uts.edu.au/courses/26202/modules\n",
    "\n"
   ]
  }
 ],
 "metadata": {
  "kernelspec": {
   "display_name": "Python 3 (ipykernel)",
   "language": "python",
   "name": "python3"
  },
  "language_info": {
   "codemirror_mode": {
    "name": "ipython",
    "version": 3
   },
   "file_extension": ".py",
   "mimetype": "text/x-python",
   "name": "python",
   "nbconvert_exporter": "python",
   "pygments_lexer": "ipython3",
   "version": "3.9.13"
  }
 },
 "nbformat": 4,
 "nbformat_minor": 5
}

{
 "cells": [
  {
   "cell_type": "markdown",
   "id": "6d4b9a86",
   "metadata": {},
   "source": [
    " # Experiment 5: Binary classification"
   ]
  },
  {
   "cell_type": "markdown",
   "id": "b75faa83",
   "metadata": {},
   "source": [
    "Content\n",
    "\n",
    "1. Introduction\n",
    "2. Used libraries\n",
    "3. Reading Clean Data from a CSV File\n",
    "4. Case of study and data understanding\n",
    "5. Split the data\n",
    "6. Assess Baseline Model\n",
    "7. Training a model\n",
    "    \n",
    "    7.1 Decision Tree Classifier with Grid Search\n",
    "    \n",
    "    7.2 Random Forest Classifier with Grid Search\n",
    "    \n",
    "    7.3 Extra trees Classifier with Grid Search\n",
    "    \n",
    "    7.4 Random Forest Classifier with Random Search\n",
    "    \n",
    "    7.5 Random Forest Classifier with Random Search based on feature importance\n",
    "    \n",
    "    7.6 Random Forest Classifier with Random Search using one hot encoder\n",
    "    \n",
    "    \n",
    "8. Conclusion\n",
    "9. References"
   ]
  },
  {
   "cell_type": "markdown",
   "id": "5422fb9f",
   "metadata": {},
   "source": [
    "## 1. Introduction"
   ]
  },
  {
   "cell_type": "markdown",
   "id": "67b8b574",
   "metadata": {},
   "source": [
    "In the following study, we will fit a binary classification model based on a Decision tree, random forest and extra trees classifier using Hyperparameters tuning and Cross-Validation to reduce overfitting.\n",
    "\n",
    "The objective is to predict if an existing customer is more likely to buy a new car as accurately as possible."
   ]
  },
  {
   "cell_type": "markdown",
   "id": "7b4cd5a1",
   "metadata": {},
   "source": [
    "## 2. Used libraries "
   ]
  },
  {
   "cell_type": "code",
   "execution_count": 1,
   "id": "aacb30aa",
   "metadata": {},
   "outputs": [],
   "source": [
    "#working with data\n",
    "import pandas as pd\n",
    "import numpy as np\n",
    "\n",
    "#plotting data\n",
    "import seaborn as sns\n",
    "import matplotlib.pyplot as plt "
   ]
  },
  {
   "cell_type": "code",
   "execution_count": 2,
   "id": "38952dd4",
   "metadata": {},
   "outputs": [],
   "source": [
    "import warnings\n",
    "warnings.filterwarnings('ignore')"
   ]
  },
  {
   "cell_type": "markdown",
   "id": "a01b38c1",
   "metadata": {},
   "source": [
    "## 3. Reading Clean Data from a CSV File"
   ]
  },
  {
   "cell_type": "markdown",
   "id": "a7b90b0d",
   "metadata": {},
   "source": [
    "Clean data:"
   ]
  },
  {
   "cell_type": "code",
   "execution_count": 267,
   "id": "bf3776f9",
   "metadata": {},
   "outputs": [],
   "source": [
    "df_cleaned = pd.read_csv(\"df_cleaned1.csv\")\n",
    "#clean columns\n",
    "df_cleaned.drop(df_cleaned.columns[0], axis=1, inplace=True)"
   ]
  },
  {
   "cell_type": "code",
   "execution_count": 268,
   "id": "c5c9eb4d",
   "metadata": {},
   "outputs": [
    {
     "data": {
      "text/plain": [
       "(131337, 17)"
      ]
     },
     "execution_count": 268,
     "metadata": {},
     "output_type": "execute_result"
    }
   ],
   "source": [
    "df_cleaned.shape"
   ]
  },
  {
   "cell_type": "code",
   "execution_count": 269,
   "id": "a8e50d06",
   "metadata": {},
   "outputs": [
    {
     "data": {
      "text/html": [
       "<div>\n",
       "<style scoped>\n",
       "    .dataframe tbody tr th:only-of-type {\n",
       "        vertical-align: middle;\n",
       "    }\n",
       "\n",
       "    .dataframe tbody tr th {\n",
       "        vertical-align: top;\n",
       "    }\n",
       "\n",
       "    .dataframe thead th {\n",
       "        text-align: right;\n",
       "    }\n",
       "</style>\n",
       "<table border=\"1\" class=\"dataframe\">\n",
       "  <thead>\n",
       "    <tr style=\"text-align: right;\">\n",
       "      <th></th>\n",
       "      <th>Target</th>\n",
       "      <th>age_band</th>\n",
       "      <th>car_model</th>\n",
       "      <th>car_segment</th>\n",
       "      <th>age_of_vehicle_years</th>\n",
       "      <th>sched_serv_warr</th>\n",
       "      <th>non_sched_serv_warr</th>\n",
       "      <th>sched_serv_paid</th>\n",
       "      <th>non_sched_serv_paid</th>\n",
       "      <th>total_paid_services</th>\n",
       "      <th>total_services</th>\n",
       "      <th>mth_since_last_serv</th>\n",
       "      <th>annualised_mileage</th>\n",
       "      <th>num_dealers_visited</th>\n",
       "      <th>num_serv_dealer_purchased</th>\n",
       "      <th>Female</th>\n",
       "      <th>Male</th>\n",
       "    </tr>\n",
       "  </thead>\n",
       "  <tbody>\n",
       "    <tr>\n",
       "      <th>0</th>\n",
       "      <td>0</td>\n",
       "      <td>3</td>\n",
       "      <td>1</td>\n",
       "      <td>3</td>\n",
       "      <td>9</td>\n",
       "      <td>2</td>\n",
       "      <td>10</td>\n",
       "      <td>3</td>\n",
       "      <td>7</td>\n",
       "      <td>5</td>\n",
       "      <td>6</td>\n",
       "      <td>9</td>\n",
       "      <td>8</td>\n",
       "      <td>10</td>\n",
       "      <td>4</td>\n",
       "      <td>0</td>\n",
       "      <td>1</td>\n",
       "    </tr>\n",
       "    <tr>\n",
       "      <th>1</th>\n",
       "      <td>0</td>\n",
       "      <td>0</td>\n",
       "      <td>2</td>\n",
       "      <td>1</td>\n",
       "      <td>6</td>\n",
       "      <td>10</td>\n",
       "      <td>3</td>\n",
       "      <td>10</td>\n",
       "      <td>4</td>\n",
       "      <td>9</td>\n",
       "      <td>10</td>\n",
       "      <td>6</td>\n",
       "      <td>10</td>\n",
       "      <td>7</td>\n",
       "      <td>10</td>\n",
       "      <td>0</td>\n",
       "      <td>0</td>\n",
       "    </tr>\n",
       "    <tr>\n",
       "      <th>2</th>\n",
       "      <td>0</td>\n",
       "      <td>0</td>\n",
       "      <td>3</td>\n",
       "      <td>2</td>\n",
       "      <td>9</td>\n",
       "      <td>10</td>\n",
       "      <td>9</td>\n",
       "      <td>10</td>\n",
       "      <td>9</td>\n",
       "      <td>10</td>\n",
       "      <td>10</td>\n",
       "      <td>7</td>\n",
       "      <td>10</td>\n",
       "      <td>6</td>\n",
       "      <td>10</td>\n",
       "      <td>0</td>\n",
       "      <td>1</td>\n",
       "    </tr>\n",
       "    <tr>\n",
       "      <th>3</th>\n",
       "      <td>0</td>\n",
       "      <td>0</td>\n",
       "      <td>3</td>\n",
       "      <td>2</td>\n",
       "      <td>5</td>\n",
       "      <td>8</td>\n",
       "      <td>5</td>\n",
       "      <td>8</td>\n",
       "      <td>4</td>\n",
       "      <td>5</td>\n",
       "      <td>6</td>\n",
       "      <td>4</td>\n",
       "      <td>10</td>\n",
       "      <td>9</td>\n",
       "      <td>7</td>\n",
       "      <td>0</td>\n",
       "      <td>0</td>\n",
       "    </tr>\n",
       "    <tr>\n",
       "      <th>4</th>\n",
       "      <td>0</td>\n",
       "      <td>0</td>\n",
       "      <td>2</td>\n",
       "      <td>1</td>\n",
       "      <td>8</td>\n",
       "      <td>9</td>\n",
       "      <td>4</td>\n",
       "      <td>10</td>\n",
       "      <td>7</td>\n",
       "      <td>9</td>\n",
       "      <td>8</td>\n",
       "      <td>5</td>\n",
       "      <td>4</td>\n",
       "      <td>4</td>\n",
       "      <td>9</td>\n",
       "      <td>1</td>\n",
       "      <td>0</td>\n",
       "    </tr>\n",
       "    <tr>\n",
       "      <th>...</th>\n",
       "      <td>...</td>\n",
       "      <td>...</td>\n",
       "      <td>...</td>\n",
       "      <td>...</td>\n",
       "      <td>...</td>\n",
       "      <td>...</td>\n",
       "      <td>...</td>\n",
       "      <td>...</td>\n",
       "      <td>...</td>\n",
       "      <td>...</td>\n",
       "      <td>...</td>\n",
       "      <td>...</td>\n",
       "      <td>...</td>\n",
       "      <td>...</td>\n",
       "      <td>...</td>\n",
       "      <td>...</td>\n",
       "      <td>...</td>\n",
       "    </tr>\n",
       "    <tr>\n",
       "      <th>131332</th>\n",
       "      <td>1</td>\n",
       "      <td>0</td>\n",
       "      <td>3</td>\n",
       "      <td>2</td>\n",
       "      <td>7</td>\n",
       "      <td>10</td>\n",
       "      <td>10</td>\n",
       "      <td>9</td>\n",
       "      <td>10</td>\n",
       "      <td>10</td>\n",
       "      <td>10</td>\n",
       "      <td>3</td>\n",
       "      <td>6</td>\n",
       "      <td>10</td>\n",
       "      <td>10</td>\n",
       "      <td>0</td>\n",
       "      <td>0</td>\n",
       "    </tr>\n",
       "    <tr>\n",
       "      <th>131333</th>\n",
       "      <td>1</td>\n",
       "      <td>0</td>\n",
       "      <td>3</td>\n",
       "      <td>2</td>\n",
       "      <td>4</td>\n",
       "      <td>10</td>\n",
       "      <td>10</td>\n",
       "      <td>10</td>\n",
       "      <td>10</td>\n",
       "      <td>10</td>\n",
       "      <td>10</td>\n",
       "      <td>2</td>\n",
       "      <td>3</td>\n",
       "      <td>10</td>\n",
       "      <td>10</td>\n",
       "      <td>0</td>\n",
       "      <td>0</td>\n",
       "    </tr>\n",
       "    <tr>\n",
       "      <th>131334</th>\n",
       "      <td>1</td>\n",
       "      <td>0</td>\n",
       "      <td>5</td>\n",
       "      <td>2</td>\n",
       "      <td>4</td>\n",
       "      <td>4</td>\n",
       "      <td>9</td>\n",
       "      <td>5</td>\n",
       "      <td>4</td>\n",
       "      <td>3</td>\n",
       "      <td>8</td>\n",
       "      <td>4</td>\n",
       "      <td>7</td>\n",
       "      <td>10</td>\n",
       "      <td>10</td>\n",
       "      <td>0</td>\n",
       "      <td>0</td>\n",
       "    </tr>\n",
       "    <tr>\n",
       "      <th>131335</th>\n",
       "      <td>1</td>\n",
       "      <td>0</td>\n",
       "      <td>5</td>\n",
       "      <td>2</td>\n",
       "      <td>2</td>\n",
       "      <td>1</td>\n",
       "      <td>10</td>\n",
       "      <td>1</td>\n",
       "      <td>10</td>\n",
       "      <td>9</td>\n",
       "      <td>8</td>\n",
       "      <td>3</td>\n",
       "      <td>6</td>\n",
       "      <td>7</td>\n",
       "      <td>10</td>\n",
       "      <td>0</td>\n",
       "      <td>0</td>\n",
       "    </tr>\n",
       "    <tr>\n",
       "      <th>131336</th>\n",
       "      <td>1</td>\n",
       "      <td>0</td>\n",
       "      <td>1</td>\n",
       "      <td>3</td>\n",
       "      <td>6</td>\n",
       "      <td>1</td>\n",
       "      <td>7</td>\n",
       "      <td>1</td>\n",
       "      <td>10</td>\n",
       "      <td>10</td>\n",
       "      <td>5</td>\n",
       "      <td>3</td>\n",
       "      <td>4</td>\n",
       "      <td>9</td>\n",
       "      <td>10</td>\n",
       "      <td>0</td>\n",
       "      <td>0</td>\n",
       "    </tr>\n",
       "  </tbody>\n",
       "</table>\n",
       "<p>131337 rows × 17 columns</p>\n",
       "</div>"
      ],
      "text/plain": [
       "        Target  age_band  car_model  car_segment  age_of_vehicle_years  \\\n",
       "0            0         3          1            3                     9   \n",
       "1            0         0          2            1                     6   \n",
       "2            0         0          3            2                     9   \n",
       "3            0         0          3            2                     5   \n",
       "4            0         0          2            1                     8   \n",
       "...        ...       ...        ...          ...                   ...   \n",
       "131332       1         0          3            2                     7   \n",
       "131333       1         0          3            2                     4   \n",
       "131334       1         0          5            2                     4   \n",
       "131335       1         0          5            2                     2   \n",
       "131336       1         0          1            3                     6   \n",
       "\n",
       "        sched_serv_warr  non_sched_serv_warr  sched_serv_paid  \\\n",
       "0                     2                   10                3   \n",
       "1                    10                    3               10   \n",
       "2                    10                    9               10   \n",
       "3                     8                    5                8   \n",
       "4                     9                    4               10   \n",
       "...                 ...                  ...              ...   \n",
       "131332               10                   10                9   \n",
       "131333               10                   10               10   \n",
       "131334                4                    9                5   \n",
       "131335                1                   10                1   \n",
       "131336                1                    7                1   \n",
       "\n",
       "        non_sched_serv_paid  total_paid_services  total_services  \\\n",
       "0                         7                    5               6   \n",
       "1                         4                    9              10   \n",
       "2                         9                   10              10   \n",
       "3                         4                    5               6   \n",
       "4                         7                    9               8   \n",
       "...                     ...                  ...             ...   \n",
       "131332                   10                   10              10   \n",
       "131333                   10                   10              10   \n",
       "131334                    4                    3               8   \n",
       "131335                   10                    9               8   \n",
       "131336                   10                   10               5   \n",
       "\n",
       "        mth_since_last_serv  annualised_mileage  num_dealers_visited  \\\n",
       "0                         9                   8                   10   \n",
       "1                         6                  10                    7   \n",
       "2                         7                  10                    6   \n",
       "3                         4                  10                    9   \n",
       "4                         5                   4                    4   \n",
       "...                     ...                 ...                  ...   \n",
       "131332                    3                   6                   10   \n",
       "131333                    2                   3                   10   \n",
       "131334                    4                   7                   10   \n",
       "131335                    3                   6                    7   \n",
       "131336                    3                   4                    9   \n",
       "\n",
       "        num_serv_dealer_purchased  Female  Male  \n",
       "0                               4       0     1  \n",
       "1                              10       0     0  \n",
       "2                              10       0     1  \n",
       "3                               7       0     0  \n",
       "4                               9       1     0  \n",
       "...                           ...     ...   ...  \n",
       "131332                         10       0     0  \n",
       "131333                         10       0     0  \n",
       "131334                         10       0     0  \n",
       "131335                         10       0     0  \n",
       "131336                         10       0     0  \n",
       "\n",
       "[131337 rows x 17 columns]"
      ]
     },
     "execution_count": 269,
     "metadata": {},
     "output_type": "execute_result"
    }
   ],
   "source": [
    "df_cleaned"
   ]
  },
  {
   "cell_type": "markdown",
   "id": "cc4b9505",
   "metadata": {},
   "source": [
    "## 4. Case of study and data understanding "
   ]
  },
  {
   "cell_type": "markdown",
   "id": "afd75be9",
   "metadata": {},
   "source": [
    "**[4.1]** Hypothesis"
   ]
  },
  {
   "cell_type": "markdown",
   "id": "c766bf9e",
   "metadata": {},
   "source": [
    "The case study has the following hypothesis:\n",
    "We will perform hyperparameters tuning and Cross-Validation decision trees-based algorithms to predict if an existing customer is more likely to buy a new car. Assuming that a combination of hyperparameters will allow reduced overfitting and perform better on the validation and test data."
   ]
  },
  {
   "cell_type": "markdown",
   "id": "b89f3624",
   "metadata": {},
   "source": [
    "## 5. Split the data "
   ]
  },
  {
   "cell_type": "markdown",
   "id": "33ab1467",
   "metadata": {},
   "source": [
    "**[5.1]** Split data and test"
   ]
  },
  {
   "cell_type": "markdown",
   "id": "b5c4a405",
   "metadata": {},
   "source": [
    "Stratify=y will be used to distribute the data for train, valid and test proportionally, preserving the distribution of the two classes (Brownlee, 2020a), (Brownlee, 2020d)."
   ]
  },
  {
   "cell_type": "code",
   "execution_count": 270,
   "id": "9f3a3fd2",
   "metadata": {},
   "outputs": [],
   "source": [
    "from sklearn.model_selection import train_test_split"
   ]
  },
  {
   "cell_type": "code",
   "execution_count": 271,
   "id": "2cdf5f17",
   "metadata": {},
   "outputs": [
    {
     "data": {
      "text/plain": [
       "Index(['Target', 'age_band', 'car_model', 'car_segment',\n",
       "       'age_of_vehicle_years', 'sched_serv_warr', 'non_sched_serv_warr',\n",
       "       'sched_serv_paid', 'non_sched_serv_paid', 'total_paid_services',\n",
       "       'total_services', 'mth_since_last_serv', 'annualised_mileage',\n",
       "       'num_dealers_visited', 'num_serv_dealer_purchased', 'Female', 'Male'],\n",
       "      dtype='object')"
      ]
     },
     "execution_count": 271,
     "metadata": {},
     "output_type": "execute_result"
    }
   ],
   "source": [
    "df_cleaned.columns"
   ]
  },
  {
   "cell_type": "code",
   "execution_count": 272,
   "id": "d1f43c09",
   "metadata": {},
   "outputs": [],
   "source": [
    "X = df_cleaned[['age_band', 'car_model', 'car_segment',\n",
    "       'age_of_vehicle_years', 'sched_serv_warr', 'non_sched_serv_warr',\n",
    "       'sched_serv_paid', 'non_sched_serv_paid', 'total_paid_services',\n",
    "       'total_services', 'mth_since_last_serv', 'annualised_mileage',\n",
    "       'num_dealers_visited', 'num_serv_dealer_purchased', 'Female', 'Male']].values\n",
    "y = df_cleaned['Target'].values"
   ]
  },
  {
   "cell_type": "code",
   "execution_count": 273,
   "id": "8bb60813",
   "metadata": {},
   "outputs": [],
   "source": [
    "X_data, X_test, y_data, y_test = train_test_split(X, y, test_size=0.2, random_state=42, stratify=y)"
   ]
  },
  {
   "cell_type": "code",
   "execution_count": 274,
   "id": "3c90aea8",
   "metadata": {},
   "outputs": [
    {
     "data": {
      "text/plain": [
       "(105069, 16)"
      ]
     },
     "execution_count": 274,
     "metadata": {},
     "output_type": "execute_result"
    }
   ],
   "source": [
    "X_data.shape"
   ]
  },
  {
   "cell_type": "code",
   "execution_count": 275,
   "id": "a7755585",
   "metadata": {},
   "outputs": [
    {
     "data": {
      "text/plain": [
       "(105069,)"
      ]
     },
     "execution_count": 275,
     "metadata": {},
     "output_type": "execute_result"
    }
   ],
   "source": [
    "y_data.shape"
   ]
  },
  {
   "cell_type": "code",
   "execution_count": 276,
   "id": "a75e422a",
   "metadata": {},
   "outputs": [
    {
     "data": {
      "text/plain": [
       "(26268, 16)"
      ]
     },
     "execution_count": 276,
     "metadata": {},
     "output_type": "execute_result"
    }
   ],
   "source": [
    "X_test.shape"
   ]
  },
  {
   "cell_type": "code",
   "execution_count": 277,
   "id": "91067afe",
   "metadata": {},
   "outputs": [
    {
     "data": {
      "text/plain": [
       "(26268,)"
      ]
     },
     "execution_count": 277,
     "metadata": {},
     "output_type": "execute_result"
    }
   ],
   "source": [
    "y_test.shape"
   ]
  },
  {
   "cell_type": "markdown",
   "id": "8c2162ff",
   "metadata": {},
   "source": [
    "**[5.2]** Split train and validation"
   ]
  },
  {
   "cell_type": "code",
   "execution_count": 278,
   "id": "b7ada005",
   "metadata": {},
   "outputs": [],
   "source": [
    "X_train, X_val, y_train, y_val = train_test_split(X_data, y_data, test_size=0.2, random_state=42)"
   ]
  },
  {
   "cell_type": "code",
   "execution_count": 279,
   "id": "a374003a",
   "metadata": {},
   "outputs": [
    {
     "name": "stdout",
     "output_type": "stream",
     "text": [
      "(84055, 16)\n",
      "(21014, 16)\n",
      "(26268, 16)\n",
      "(84055,)\n",
      "(21014,)\n",
      "(26268,)\n"
     ]
    }
   ],
   "source": [
    "print(X_train.shape)\n",
    "print(X_val.shape)\n",
    "print(X_test.shape)\n",
    "\n",
    "print(y_train.shape)\n",
    "print(y_val.shape)\n",
    "print(y_test.shape)"
   ]
  },
  {
   "cell_type": "markdown",
   "id": "8ae3b07b",
   "metadata": {},
   "source": [
    "**[5.3]** Count classes"
   ]
  },
  {
   "cell_type": "code",
   "execution_count": 280,
   "id": "ad259e35",
   "metadata": {},
   "outputs": [
    {
     "data": {
      "text/plain": [
       "(array([0, 1], dtype=int64), array([81803,  2252], dtype=int64))"
      ]
     },
     "execution_count": 280,
     "metadata": {},
     "output_type": "execute_result"
    }
   ],
   "source": [
    "np.unique(y_train, return_counts=True)"
   ]
  },
  {
   "cell_type": "code",
   "execution_count": 281,
   "id": "0ed9d274",
   "metadata": {},
   "outputs": [
    {
     "data": {
      "text/plain": [
       "(array([0, 1], dtype=int64), array([20449,   565], dtype=int64))"
      ]
     },
     "execution_count": 281,
     "metadata": {},
     "output_type": "execute_result"
    }
   ],
   "source": [
    "np.unique(y_val, return_counts=True)"
   ]
  },
  {
   "cell_type": "code",
   "execution_count": 282,
   "id": "bb59326f",
   "metadata": {},
   "outputs": [
    {
     "data": {
      "text/plain": [
       "(array([0, 1], dtype=int64), array([25564,   704], dtype=int64))"
      ]
     },
     "execution_count": 282,
     "metadata": {},
     "output_type": "execute_result"
    }
   ],
   "source": [
    "np.unique(y_test, return_counts=True)"
   ]
  },
  {
   "cell_type": "markdown",
   "id": "e6a97261",
   "metadata": {},
   "source": [
    "The count per label indicates that we are preserving the class distribution with 2,7% values class 1 over class 0."
   ]
  },
  {
   "cell_type": "markdown",
   "id": "45ac9307",
   "metadata": {},
   "source": [
    "## 6. Assess Baseline Model"
   ]
  },
  {
   "cell_type": "markdown",
   "id": "7c877ba8",
   "metadata": {},
   "source": [
    "This study will use F2 score. The reason behind the metric selection is based on the highly imbalanced dataset and the fact that we care more about positive class for the purpose of the prediction (Czakon, 2022) (Malato, 2021) and (Olugbenga, 2022). \n",
    "\n",
    "We want the prediction of repurchases to be as correct as possible and avoid false negative predictions (type II error) where the campaigns can lose potential clients. Moreover, we will prevent excessive type I error by predicting false potential clients.\n",
    "\n",
    "This phenomenon could occur easily in this dataset due to the unbalanced classes in the study. (Brownlee, 2020a)(Brownlee, 2020b)\n"
   ]
  },
  {
   "cell_type": "markdown",
   "id": "ce5b0bba",
   "metadata": {},
   "source": [
    "**[6.1]** base model"
   ]
  },
  {
   "cell_type": "code",
   "execution_count": 19,
   "id": "394d9558",
   "metadata": {},
   "outputs": [],
   "source": [
    "from statistics import mode"
   ]
  },
  {
   "cell_type": "code",
   "execution_count": 20,
   "id": "871c57b8",
   "metadata": {},
   "outputs": [
    {
     "data": {
      "text/plain": [
       "0"
      ]
     },
     "execution_count": 20,
     "metadata": {},
     "output_type": "execute_result"
    }
   ],
   "source": [
    "y_mode = mode(y_train)\n",
    "y_mode"
   ]
  },
  {
   "cell_type": "code",
   "execution_count": 21,
   "id": "082bb816",
   "metadata": {},
   "outputs": [
    {
     "data": {
      "text/plain": [
       "(84055,)"
      ]
     },
     "execution_count": 21,
     "metadata": {},
     "output_type": "execute_result"
    }
   ],
   "source": [
    "y_train.shape"
   ]
  },
  {
   "cell_type": "code",
   "execution_count": 22,
   "id": "f6d2acc9",
   "metadata": {},
   "outputs": [],
   "source": [
    "y_base = np.full(y_train.shape, y_mode)"
   ]
  },
  {
   "cell_type": "code",
   "execution_count": 23,
   "id": "800fd0ab",
   "metadata": {},
   "outputs": [
    {
     "data": {
      "text/plain": [
       "array([0, 0, 0, ..., 0, 0, 0], dtype=int64)"
      ]
     },
     "execution_count": 23,
     "metadata": {},
     "output_type": "execute_result"
    }
   ],
   "source": [
    "y_base"
   ]
  },
  {
   "cell_type": "code",
   "execution_count": 24,
   "id": "b6c4e24c",
   "metadata": {},
   "outputs": [
    {
     "data": {
      "text/plain": [
       "(84055,)"
      ]
     },
     "execution_count": 24,
     "metadata": {},
     "output_type": "execute_result"
    }
   ],
   "source": [
    "y_base.shape"
   ]
  },
  {
   "cell_type": "code",
   "execution_count": 25,
   "id": "10150f2f",
   "metadata": {},
   "outputs": [],
   "source": [
    "from sklearn.metrics import accuracy_score, precision_score, recall_score, f1_score, fbeta_score, average_precision_score"
   ]
  },
  {
   "cell_type": "code",
   "execution_count": 26,
   "id": "8b4ec535",
   "metadata": {},
   "outputs": [
    {
     "name": "stdout",
     "output_type": "stream",
     "text": [
      "0.9732080185592766\n",
      "0.9599939169916978\n",
      "0.0\n",
      "0.0\n",
      "0.026791981440723336\n",
      "0.0\n"
     ]
    }
   ],
   "source": [
    "print(accuracy_score(y_train, y_base))\n",
    "print(f1_score(y_train, y_base, average='weighted'))\n",
    "print(precision_score(y_train, y_base))\n",
    "print(recall_score(y_train, y_base))\n",
    "print(average_precision_score(y_train, y_base))\n",
    "print(fbeta_score(y_train, y_base, beta=2, pos_label=1, average='binary'))"
   ]
  },
  {
   "cell_type": "markdown",
   "id": "338c19d3",
   "metadata": {},
   "source": [
    "**[6.2]** confusion matrix"
   ]
  },
  {
   "cell_type": "code",
   "execution_count": 27,
   "id": "08bb18a2",
   "metadata": {},
   "outputs": [],
   "source": [
    "from sklearn.metrics import confusion_matrix"
   ]
  },
  {
   "cell_type": "code",
   "execution_count": 28,
   "id": "7b68bbb3",
   "metadata": {},
   "outputs": [
    {
     "name": "stdout",
     "output_type": "stream",
     "text": [
      "[[81803     0]\n",
      " [ 2252     0]]\n"
     ]
    }
   ],
   "source": [
    "results = confusion_matrix(y_train, y_base)\n",
    "print(results)"
   ]
  },
  {
   "cell_type": "markdown",
   "id": "9b37b147",
   "metadata": {},
   "source": [
    "**[6.3]** Count classes"
   ]
  },
  {
   "cell_type": "code",
   "execution_count": 29,
   "id": "3dcee03d",
   "metadata": {},
   "outputs": [
    {
     "data": {
      "text/plain": [
       "(array([0, 1], dtype=int64), array([81803,  2252], dtype=int64))"
      ]
     },
     "execution_count": 29,
     "metadata": {},
     "output_type": "execute_result"
    }
   ],
   "source": [
    "np.unique(y_train, return_counts=True)"
   ]
  },
  {
   "cell_type": "markdown",
   "id": "258d045f",
   "metadata": {},
   "source": [
    "## 7. Training a model"
   ]
  },
  {
   "cell_type": "markdown",
   "id": "83e07af9",
   "metadata": {},
   "source": [
    "Based on: (So, 2023), (scikit-learn developers, 2023a) and (scikit-learn developers, 2023b)"
   ]
  },
  {
   "cell_type": "markdown",
   "id": "c61638cb",
   "metadata": {},
   "source": [
    "note: We will not use data standardisation since algorithms based on decision trees are invariant according to the scale of the data and do not use distance metrics for the learning process (Filho, 2023)."
   ]
  },
  {
   "cell_type": "markdown",
   "id": "a8296ee8",
   "metadata": {},
   "source": [
    "**[7.1]** Decision Tree Classifier with Grid Search"
   ]
  },
  {
   "cell_type": "code",
   "execution_count": 140,
   "id": "17066ac0",
   "metadata": {},
   "outputs": [],
   "source": [
    "from sklearn.model_selection import GridSearchCV\n",
    "from sklearn.tree import DecisionTreeClassifier\n",
    "from sklearn.metrics import fbeta_score, make_scorer\n",
    "from sklearn.model_selection import StratifiedKFold"
   ]
  },
  {
   "cell_type": "code",
   "execution_count": 151,
   "id": "6af63906",
   "metadata": {},
   "outputs": [
    {
     "data": {
      "text/plain": [
       "{'max_depth': array([25, 30, 35, 40]),\n",
       " 'min_samples_split': array([1, 4, 7]),\n",
       " 'min_samples_leaf': array([ 1,  6, 11])}"
      ]
     },
     "execution_count": 151,
     "metadata": {},
     "output_type": "execute_result"
    }
   ],
   "source": [
    "hyperparams_grid = {\n",
    "    'max_depth': np.arange(25, 45, 5),\n",
    "    'min_samples_split': np.arange(1, 10, 3),\n",
    "    'min_samples_leaf': np.arange(1, 16, 5)\n",
    "    }\n",
    "hyperparams_grid"
   ]
  },
  {
   "cell_type": "code",
   "execution_count": 152,
   "id": "9007913b",
   "metadata": {},
   "outputs": [],
   "source": [
    "#instantiate the RandomForestClassifier \n",
    "dt = DecisionTreeClassifier(random_state=42, class_weight='balanced')"
   ]
  },
  {
   "cell_type": "code",
   "execution_count": 153,
   "id": "543f7974",
   "metadata": {},
   "outputs": [],
   "source": [
    "#custon metric for performance\n",
    "f2_scorer = make_scorer(fbeta_score, beta=2, pos_label=1, average='binary')"
   ]
  },
  {
   "cell_type": "code",
   "execution_count": 154,
   "id": "d64b540d",
   "metadata": {},
   "outputs": [],
   "source": [
    "#Instantiate a KFold \n",
    "kfold = StratifiedKFold(n_splits=5, shuffle=True, random_state=1)"
   ]
  },
  {
   "cell_type": "markdown",
   "id": "aa6432f7",
   "metadata": {},
   "source": [
    "Note: \n",
    "* shuffle = True, the data is shuffled by your random_state. Otherwise, the data is shuffled by np.random (as default)\n",
    "\n",
    "* For imbalanced classification, we will use stratified k-fold cross-validation that enforces the class distribution in each data split, preserving the original dataset's distribution. (Brownlee, 2020)"
   ]
  },
  {
   "cell_type": "code",
   "execution_count": 155,
   "id": "89221c87",
   "metadata": {},
   "outputs": [],
   "source": [
    "#Instantiate a GridSearchCV\n",
    "grid_search_dt = GridSearchCV(dt, hyperparams_grid, cv=kfold, scoring=f2_scorer, verbose=2, return_train_score = True, n_jobs= -1)"
   ]
  },
  {
   "cell_type": "markdown",
   "id": "60f61923",
   "metadata": {},
   "source": [
    "* verbosity: \n",
    "1 : the computation time for each fold and parameter candidate is displayed\n",
    "2 : the score is also displayed\n",
    "\n",
    "* cv: number of fold cross validation\n",
    "\n",
    "* return_train_score = True, the cv_results_ attribute will include training scores to get insights on how parameter impact the overfitting\n",
    "\n",
    "* n_jobs: -1 means using all processors. 1 as default means 1 job in parallel.\n",
    "\n",
    "* scoring: metric to evaluate the performance of the cross-validated model. Here we are defining a custom metric F2Beta \n",
    "\n",
    "Based on: (scikit-learn developers, 2023a), (scikit-learn developers, 2023b), (scikit-learn developers, 2023c), (scikit-learn developers, 2023d)"
   ]
  },
  {
   "cell_type": "code",
   "execution_count": 156,
   "id": "35da9b10",
   "metadata": {
    "scrolled": true
   },
   "outputs": [
    {
     "name": "stdout",
     "output_type": "stream",
     "text": [
      "Fitting 5 folds for each of 36 candidates, totalling 180 fits\n"
     ]
    },
    {
     "data": {
      "text/plain": [
       "GridSearchCV(cv=StratifiedKFold(n_splits=5, random_state=1, shuffle=True),\n",
       "             estimator=DecisionTreeClassifier(class_weight='balanced',\n",
       "                                              random_state=42),\n",
       "             n_jobs=-1,\n",
       "             param_grid={'max_depth': array([25, 30, 35, 40]),\n",
       "                         'min_samples_leaf': array([ 1,  6, 11]),\n",
       "                         'min_samples_split': array([1, 4, 7])},\n",
       "             return_train_score=True,\n",
       "             scoring=make_scorer(fbeta_score, beta=2, pos_label=1, average=binary),\n",
       "             verbose=2)"
      ]
     },
     "execution_count": 156,
     "metadata": {},
     "output_type": "execute_result"
    }
   ],
   "source": [
    "#Fit the GridSearchCV on the training set\n",
    "grid_search_dt.fit(X_train, y_train)"
   ]
  },
  {
   "cell_type": "code",
   "execution_count": 157,
   "id": "2e500f23",
   "metadata": {},
   "outputs": [
    {
     "data": {
      "text/plain": [
       "{'max_depth': 25, 'min_samples_leaf': 6, 'min_samples_split': 4}"
      ]
     },
     "execution_count": 157,
     "metadata": {},
     "output_type": "execute_result"
    }
   ],
   "source": [
    "grid_search_dt.best_params_"
   ]
  },
  {
   "cell_type": "code",
   "execution_count": 158,
   "id": "142f72f6",
   "metadata": {},
   "outputs": [
    {
     "name": "stdout",
     "output_type": "stream",
     "text": [
      "0.9008720697655812\n",
      "0.7536647546207774\n",
      "0.7547655847501288\n"
     ]
    }
   ],
   "source": [
    "print(grid_search_dt.score(X_train, y_train))\n",
    "print(grid_search_dt.score(X_val, y_val))\n",
    "print(grid_search_dt.score(X_test, y_test))"
   ]
  },
  {
   "cell_type": "markdown",
   "id": "e7255921",
   "metadata": {},
   "source": [
    "**[7.2]** Random Forest Classifier with Grid Search"
   ]
  },
  {
   "cell_type": "code",
   "execution_count": 98,
   "id": "daf3e859",
   "metadata": {},
   "outputs": [],
   "source": [
    "from sklearn.model_selection import GridSearchCV\n",
    "from sklearn.ensemble import RandomForestClassifier\n",
    "from sklearn.metrics import fbeta_score, make_scorer\n",
    "from sklearn.model_selection import StratifiedKFold"
   ]
  },
  {
   "cell_type": "code",
   "execution_count": 118,
   "id": "523cf7ca",
   "metadata": {},
   "outputs": [
    {
     "data": {
      "text/plain": [
       "{'n_estimators': array([50, 60, 70]),\n",
       " 'max_depth': array([10, 15, 20, 25]),\n",
       " 'min_samples_leaf': array([ 1,  6, 11]),\n",
       " 'max_features': array([1, 5, 9])}"
      ]
     },
     "execution_count": 118,
     "metadata": {},
     "output_type": "execute_result"
    }
   ],
   "source": [
    "hyperparams_grid = {\n",
    "    'n_estimators': np.arange(50, 80, 10),\n",
    "    'max_depth': np.arange(10, 30, 5),\n",
    "    'min_samples_leaf': np.arange(1, 16, 5),\n",
    "    'max_features': np.arange(1, 12, 4)\n",
    "    }\n",
    "hyperparams_grid"
   ]
  },
  {
   "cell_type": "code",
   "execution_count": 119,
   "id": "18f697b9",
   "metadata": {},
   "outputs": [],
   "source": [
    "#instantiate the RandomForestClassifier \n",
    "rf = RandomForestClassifier(random_state=42, class_weight='balanced')"
   ]
  },
  {
   "cell_type": "markdown",
   "id": "28152497",
   "metadata": {},
   "source": [
    "* verbosity: \n",
    "1 : the computation time for each fold and parameter candidate is displayed\n",
    "2 : the score is also displayed\n",
    "\n",
    "* cv: number of fold cross validation\n",
    "\n",
    "* return_train_score = True, the cv_results_ attribute will include training scores to get insights on how parameter impact the overfitting\n",
    "\n",
    "* n_jobs: -1 means using all processors. 1 as default means 1 job in parallel.\n",
    "\n",
    "* scoring: metric to evaluate the performance of the cross-validated model. Here we are defining a custom metric F2Beta \n",
    "\n",
    "Based on: (scikit-learn developers, 2023a), (scikit-learn developers, 2023b), (scikit-learn developers, 2023c), (scikit-learn developers, 2023d)"
   ]
  },
  {
   "cell_type": "code",
   "execution_count": 120,
   "id": "33afa07d",
   "metadata": {},
   "outputs": [],
   "source": [
    "f2_scorer = make_scorer(fbeta_score, beta=2, pos_label=1, average='binary')"
   ]
  },
  {
   "cell_type": "code",
   "execution_count": 121,
   "id": "034a46fc",
   "metadata": {},
   "outputs": [],
   "source": [
    "#Instantiate a KFold \n",
    "kfold = StratifiedKFold(n_splits=5, shuffle=True, random_state=1)"
   ]
  },
  {
   "cell_type": "markdown",
   "id": "99ff231e",
   "metadata": {},
   "source": [
    "Note: \n",
    "* shuffle = True, the data is shuffled by your random_state. Otherwise, the data is shuffled by np.random (as default)\n",
    "\n",
    "* For imbalanced classification, we will use stratified k-fold cross-validation that enforces the class distribution in each data split, preserving the original dataset's distribution. (Brownlee, 2020)"
   ]
  },
  {
   "cell_type": "code",
   "execution_count": 122,
   "id": "1212ef65",
   "metadata": {},
   "outputs": [],
   "source": [
    "#Instantiate a GridSearchCV\n",
    "grid_search_rf = GridSearchCV(rf, hyperparams_grid, cv=kfold, scoring=f2_scorer, verbose=2, return_train_score = True, n_jobs= -1)"
   ]
  },
  {
   "cell_type": "code",
   "execution_count": 123,
   "id": "cc1c5a8f",
   "metadata": {
    "scrolled": true
   },
   "outputs": [
    {
     "name": "stdout",
     "output_type": "stream",
     "text": [
      "Fitting 5 folds for each of 108 candidates, totalling 540 fits\n"
     ]
    },
    {
     "data": {
      "text/plain": [
       "GridSearchCV(cv=StratifiedKFold(n_splits=5, random_state=1, shuffle=True),\n",
       "             estimator=RandomForestClassifier(class_weight='balanced',\n",
       "                                              random_state=42),\n",
       "             n_jobs=-1,\n",
       "             param_grid={'max_depth': array([10, 15, 20, 25]),\n",
       "                         'max_features': array([1, 5, 9]),\n",
       "                         'min_samples_leaf': array([ 1,  6, 11]),\n",
       "                         'n_estimators': array([50, 60, 70])},\n",
       "             return_train_score=True,\n",
       "             scoring=make_scorer(fbeta_score, beta=2, pos_label=1, average=binary),\n",
       "             verbose=3)"
      ]
     },
     "execution_count": 123,
     "metadata": {},
     "output_type": "execute_result"
    }
   ],
   "source": [
    "#Fit the GridSearchCV on the training set\n",
    "grid_search_rf.fit(X_train, y_train)"
   ]
  },
  {
   "cell_type": "code",
   "execution_count": 124,
   "id": "a1797fd5",
   "metadata": {},
   "outputs": [
    {
     "data": {
      "text/plain": [
       "{'max_depth': 25, 'max_features': 5, 'min_samples_leaf': 6, 'n_estimators': 70}"
      ]
     },
     "execution_count": 124,
     "metadata": {},
     "output_type": "execute_result"
    }
   ],
   "source": [
    "grid_search_rf.best_params_"
   ]
  },
  {
   "cell_type": "code",
   "execution_count": 125,
   "id": "1d948a7c",
   "metadata": {},
   "outputs": [
    {
     "name": "stdout",
     "output_type": "stream",
     "text": [
      "0.9458663074591683\n",
      "0.8457627118644067\n",
      "0.8566058002148228\n"
     ]
    }
   ],
   "source": [
    "print(grid_search_rf.score(X_train, y_train))\n",
    "print(grid_search_rf.score(X_val, y_val))\n",
    "print(grid_search_rf.score(X_test, y_test))"
   ]
  },
  {
   "cell_type": "markdown",
   "id": "380ecd7d",
   "metadata": {},
   "source": [
    "**[7.3]** Extra trees Classifier with Grid Search"
   ]
  },
  {
   "cell_type": "code",
   "execution_count": 162,
   "id": "287b1c80",
   "metadata": {},
   "outputs": [],
   "source": [
    "from sklearn.model_selection import GridSearchCV\n",
    "from sklearn.ensemble import ExtraTreesClassifier\n",
    "from sklearn.metrics import fbeta_score, make_scorer\n",
    "from sklearn.model_selection import StratifiedKFold"
   ]
  },
  {
   "cell_type": "code",
   "execution_count": 163,
   "id": "ca71a802",
   "metadata": {},
   "outputs": [
    {
     "data": {
      "text/plain": [
       "{'n_estimators': array([50, 60, 70]),\n",
       " 'max_depth': array([10, 15, 20, 25]),\n",
       " 'min_samples_leaf': array([ 1,  6, 11]),\n",
       " 'max_features': array([1, 5, 9])}"
      ]
     },
     "execution_count": 163,
     "metadata": {},
     "output_type": "execute_result"
    }
   ],
   "source": [
    "hyperparams_grid = {\n",
    "    'n_estimators': np.arange(50, 80, 10),\n",
    "    'max_depth': np.arange(10, 30, 5),\n",
    "    'min_samples_leaf': np.arange(1, 16, 5),\n",
    "    'max_features': np.arange(1, 12, 4)\n",
    "    }\n",
    "hyperparams_grid"
   ]
  },
  {
   "cell_type": "code",
   "execution_count": 164,
   "id": "61d23ee0",
   "metadata": {},
   "outputs": [],
   "source": [
    "#instantiate the RandomForestClassifier \n",
    "et = ExtraTreesClassifier(random_state=42, class_weight='balanced')"
   ]
  },
  {
   "cell_type": "markdown",
   "id": "723f9507",
   "metadata": {},
   "source": [
    "* verbosity: \n",
    "1 : the computation time for each fold and parameter candidate is displayed\n",
    "2 : the score is also displayed\n",
    "\n",
    "* cv: number of fold cross validation\n",
    "\n",
    "* return_train_score = True, the cv_results_ attribute will include training scores to get insights on how parameter impact the overfitting\n",
    "\n",
    "* n_jobs: -1 means using all processors. 1 as default means 1 job in parallel.\n",
    "\n",
    "* scoring: metric to evaluate the performance of the cross-validated model. Here we are defining a custom metric F2Beta \n",
    "\n",
    "Based on: (scikit-learn developers, 2023a), (scikit-learn developers, 2023b), (scikit-learn developers, 2023c), (scikit-learn developers, 2023d)"
   ]
  },
  {
   "cell_type": "code",
   "execution_count": 165,
   "id": "d22046c1",
   "metadata": {},
   "outputs": [],
   "source": [
    "f2_scorer = make_scorer(fbeta_score, beta=2, pos_label=1, average='binary')"
   ]
  },
  {
   "cell_type": "code",
   "execution_count": 166,
   "id": "9a514a60",
   "metadata": {},
   "outputs": [],
   "source": [
    "#Instantiate a KFold \n",
    "kfold = StratifiedKFold(n_splits=5, shuffle=True, random_state=1)"
   ]
  },
  {
   "cell_type": "markdown",
   "id": "e4381f5d",
   "metadata": {},
   "source": [
    "Note: \n",
    "* shuffle = True, the data is shuffled by your random_state. Otherwise, the data is shuffled by np.random (as default)\n",
    "\n",
    "* For imbalanced classification, we will use stratified k-fold cross-validation that enforces the class distribution in each data split, preserving the original dataset's distribution. (Brownlee, 2020)"
   ]
  },
  {
   "cell_type": "code",
   "execution_count": 167,
   "id": "59649035",
   "metadata": {},
   "outputs": [],
   "source": [
    "#Instantiate a GridSearchCV\n",
    "grid_search_et = GridSearchCV(et, hyperparams_grid, cv=kfold, scoring=f2_scorer, verbose=2, return_train_score = True, n_jobs= -1)"
   ]
  },
  {
   "cell_type": "code",
   "execution_count": 168,
   "id": "00db483e",
   "metadata": {
    "scrolled": true
   },
   "outputs": [
    {
     "name": "stdout",
     "output_type": "stream",
     "text": [
      "Fitting 5 folds for each of 108 candidates, totalling 540 fits\n"
     ]
    },
    {
     "data": {
      "text/plain": [
       "GridSearchCV(cv=StratifiedKFold(n_splits=5, random_state=1, shuffle=True),\n",
       "             estimator=ExtraTreesClassifier(class_weight='balanced',\n",
       "                                            random_state=42),\n",
       "             n_jobs=-1,\n",
       "             param_grid={'max_depth': array([10, 15, 20, 25]),\n",
       "                         'max_features': array([1, 5, 9]),\n",
       "                         'min_samples_leaf': array([ 1,  6, 11]),\n",
       "                         'n_estimators': array([50, 60, 70])},\n",
       "             return_train_score=True,\n",
       "             scoring=make_scorer(fbeta_score, beta=2, pos_label=1, average=binary),\n",
       "             verbose=2)"
      ]
     },
     "execution_count": 168,
     "metadata": {},
     "output_type": "execute_result"
    }
   ],
   "source": [
    "#Fit the GridSearchCV on the training set\n",
    "grid_search_et.fit(X_train, y_train)"
   ]
  },
  {
   "cell_type": "code",
   "execution_count": 169,
   "id": "c2c433b4",
   "metadata": {},
   "outputs": [
    {
     "data": {
      "text/plain": [
       "{'max_depth': 25, 'max_features': 9, 'min_samples_leaf': 6, 'n_estimators': 70}"
      ]
     },
     "execution_count": 169,
     "metadata": {},
     "output_type": "execute_result"
    }
   ],
   "source": [
    "grid_search_et.best_params_"
   ]
  },
  {
   "cell_type": "code",
   "execution_count": 170,
   "id": "35f861d5",
   "metadata": {},
   "outputs": [
    {
     "name": "stdout",
     "output_type": "stream",
     "text": [
      "0.9354490321508682\n",
      "0.83994708994709\n",
      "0.844922592495408\n"
     ]
    }
   ],
   "source": [
    "print(grid_search_et.score(X_train, y_train))\n",
    "print(grid_search_et.score(X_val, y_val))\n",
    "print(grid_search_et.score(X_test, y_test))"
   ]
  },
  {
   "cell_type": "markdown",
   "id": "03ab2ce6",
   "metadata": {},
   "source": [
    "**[7.4]** Random Forest Classifier with Random Search"
   ]
  },
  {
   "cell_type": "code",
   "execution_count": 283,
   "id": "7880831a",
   "metadata": {},
   "outputs": [],
   "source": [
    "from scipy.stats import randint\n",
    "from sklearn.model_selection import RandomizedSearchCV\n",
    "\n",
    "from sklearn.ensemble import RandomForestClassifier\n",
    "from sklearn.metrics import fbeta_score, make_scorer\n",
    "from sklearn.model_selection import StratifiedKFold"
   ]
  },
  {
   "cell_type": "code",
   "execution_count": 284,
   "id": "c0dafe50",
   "metadata": {},
   "outputs": [
    {
     "data": {
      "text/plain": [
       "{'n_estimators': <scipy.stats._distn_infrastructure.rv_discrete_frozen at 0x22c1bc62880>,\n",
       " 'max_depth': <scipy.stats._distn_infrastructure.rv_discrete_frozen at 0x22c1d00a2b0>,\n",
       " 'min_samples_leaf': <scipy.stats._distn_infrastructure.rv_discrete_frozen at 0x22c1c2ec0a0>,\n",
       " 'max_features': <scipy.stats._distn_infrastructure.rv_discrete_frozen at 0x22c1ba8f4c0>}"
      ]
     },
     "execution_count": 284,
     "metadata": {},
     "output_type": "execute_result"
    }
   ],
   "source": [
    "hyperparams_dist = {\n",
    "    'n_estimators': randint(65, 80),\n",
    "    'max_depth': randint(20, 40),\n",
    "    'min_samples_leaf': randint(1, 11),\n",
    "    'max_features': randint(1, 9)\n",
    "    }\n",
    "hyperparams_dist"
   ]
  },
  {
   "cell_type": "code",
   "execution_count": 199,
   "id": "19bb158d",
   "metadata": {},
   "outputs": [],
   "source": [
    "#instantiate the RandomForestClassifier \n",
    "rf = RandomForestClassifier(random_state=42, class_weight='balanced')"
   ]
  },
  {
   "cell_type": "markdown",
   "id": "5091caf3",
   "metadata": {},
   "source": [
    "* verbosity: \n",
    "1 : the computation time for each fold and parameter candidate is displayed\n",
    "2 : the score is also displayed\n",
    "\n",
    "* cv: number of fold cross validation\n",
    "\n",
    "* return_train_score = True, the cv_results_ attribute will include training scores to get insights on how parameter impact the overfitting\n",
    "\n",
    "* n_jobs: -1 means using all processors. 1 as default means 1 job in parallel.\n",
    "\n",
    "* scoring: metric to evaluate the performance of the cross-validated model. Here we are defining a custom metric F2Beta \n",
    "\n",
    "Based on: (scikit-learn developers, 2023a), (scikit-learn developers, 2023b), (scikit-learn developers, 2023c), (scikit-learn developers, 2023d)"
   ]
  },
  {
   "cell_type": "code",
   "execution_count": 200,
   "id": "7f5abfc6",
   "metadata": {},
   "outputs": [],
   "source": [
    "f2_scorer = make_scorer(fbeta_score, beta=2, pos_label=1, average='binary')"
   ]
  },
  {
   "cell_type": "code",
   "execution_count": 201,
   "id": "1dfbc0e5",
   "metadata": {},
   "outputs": [],
   "source": [
    "#Instantiate a KFold \n",
    "kfold = StratifiedKFold(n_splits=10, shuffle=True, random_state=1)"
   ]
  },
  {
   "cell_type": "markdown",
   "id": "8f90158c",
   "metadata": {},
   "source": [
    "Note: \n",
    "* shuffle = True, the data is shuffled by your random_state. Otherwise, the data is shuffled by np.random (as default)\n",
    "\n",
    "* For imbalanced classification, we will use stratified k-fold cross-validation that enforces the class distribution in each data split, preserving the original dataset's distribution. (Brownlee, 2020)"
   ]
  },
  {
   "cell_type": "code",
   "execution_count": 202,
   "id": "335a4867",
   "metadata": {},
   "outputs": [],
   "source": [
    "#Instantiate a GridSearchCV\n",
    "random_search_rf = RandomizedSearchCV(rf, hyperparams_dist, cv=kfold, scoring=f2_scorer, verbose=2, return_train_score = True, n_jobs= -1, random_state=1)"
   ]
  },
  {
   "cell_type": "code",
   "execution_count": 203,
   "id": "83c0b51b",
   "metadata": {
    "scrolled": true
   },
   "outputs": [
    {
     "name": "stdout",
     "output_type": "stream",
     "text": [
      "Fitting 10 folds for each of 10 candidates, totalling 100 fits\n"
     ]
    },
    {
     "data": {
      "text/plain": [
       "RandomizedSearchCV(cv=StratifiedKFold(n_splits=10, random_state=1, shuffle=True),\n",
       "                   estimator=RandomForestClassifier(class_weight='balanced',\n",
       "                                                    random_state=42),\n",
       "                   n_jobs=-1,\n",
       "                   param_distributions={'max_depth': <scipy.stats._distn_infrastructure.rv_discrete_frozen object at 0x0000022C1BA13FA0>,\n",
       "                                        'max_features': <scipy.stats._distn_infrastructure.rv_discrete_frozen object at 0x0000022C1BA13C40>,\n",
       "                                        'min_samples_leaf': <scipy.stats._distn_infrastructure.rv_discrete_frozen object at 0x0000022C1BA23BB0>,\n",
       "                                        'n_estimators': <scipy.stats._distn_infrastructure.rv_discrete_frozen object at 0x0000022C2038A7F0>},\n",
       "                   random_state=1, return_train_score=True,\n",
       "                   scoring=make_scorer(fbeta_score, beta=2, pos_label=1, average=binary),\n",
       "                   verbose=2)"
      ]
     },
     "execution_count": 203,
     "metadata": {},
     "output_type": "execute_result"
    }
   ],
   "source": [
    "#Fit the random Search on the training set\n",
    "random_search_rf.fit(X_train, y_train)"
   ]
  },
  {
   "cell_type": "code",
   "execution_count": 204,
   "id": "d4c9cf74",
   "metadata": {},
   "outputs": [
    {
     "data": {
      "text/plain": [
       "{'max_depth': 27, 'max_features': 8, 'min_samples_leaf': 7, 'n_estimators': 74}"
      ]
     },
     "execution_count": 204,
     "metadata": {},
     "output_type": "execute_result"
    }
   ],
   "source": [
    "random_search_rf.best_params_"
   ]
  },
  {
   "cell_type": "code",
   "execution_count": 205,
   "id": "1f262514",
   "metadata": {},
   "outputs": [
    {
     "name": "stdout",
     "output_type": "stream",
     "text": [
      "0.9383355614973262\n",
      "0.8341742347796838\n",
      "0.8542780748663102\n"
     ]
    }
   ],
   "source": [
    "print(random_search_rf.score(X_train, y_train))\n",
    "print(random_search_rf.score(X_val, y_val))\n",
    "print(random_search_rf.score(X_test, y_test))"
   ]
  },
  {
   "cell_type": "markdown",
   "id": "01f7a56e",
   "metadata": {},
   "source": [
    "Build the model"
   ]
  },
  {
   "cell_type": "code",
   "execution_count": 183,
   "id": "ba8a6f5b",
   "metadata": {},
   "outputs": [],
   "source": [
    "rf = RandomForestClassifier(random_state=42, n_estimators= 76, max_depth = 25, min_samples_leaf= 5, max_features = 3, class_weight='balanced')"
   ]
  },
  {
   "cell_type": "code",
   "execution_count": 184,
   "id": "44f885e1",
   "metadata": {},
   "outputs": [
    {
     "data": {
      "text/plain": [
       "RandomForestClassifier(class_weight='balanced', max_depth=25, max_features=3,\n",
       "                       min_samples_leaf=5, n_estimators=76, random_state=42)"
      ]
     },
     "execution_count": 184,
     "metadata": {},
     "output_type": "execute_result"
    }
   ],
   "source": [
    "rf.fit(X_train, y_train)"
   ]
  },
  {
   "cell_type": "code",
   "execution_count": 185,
   "id": "4c4976a6",
   "metadata": {},
   "outputs": [],
   "source": [
    "y_train_preds = rf.predict(X_train)"
   ]
  },
  {
   "cell_type": "code",
   "execution_count": 186,
   "id": "89c9dda2",
   "metadata": {},
   "outputs": [
    {
     "name": "stdout",
     "output_type": "stream",
     "text": [
      "0.9929926833620843\n",
      "0.9933816934085385\n",
      "0.7932980599647266\n",
      "0.9986678507992895\n",
      "0.7922769595048811\n",
      "0.9495060373216245\n"
     ]
    }
   ],
   "source": [
    "#score for the train set\n",
    "print(accuracy_score(y_train, y_train_preds))\n",
    "print(f1_score(y_train, y_train_preds, average='weighted'))\n",
    "print(precision_score(y_train, y_train_preds))\n",
    "print(recall_score(y_train, y_train_preds))\n",
    "print(average_precision_score(y_train, y_train_preds))\n",
    "print(fbeta_score(y_train, y_train_preds, beta=2, pos_label=1, average='binary'))"
   ]
  },
  {
   "cell_type": "code",
   "execution_count": 187,
   "id": "922aa487",
   "metadata": {},
   "outputs": [
    {
     "name": "stdout",
     "output_type": "stream",
     "text": [
      "[[81217   586]\n",
      " [    3  2249]]\n"
     ]
    }
   ],
   "source": [
    "#confusion matrix\n",
    "results = confusion_matrix(y_train, y_train_preds)\n",
    "print(results)#confusion matrix"
   ]
  },
  {
   "cell_type": "code",
   "execution_count": 188,
   "id": "38549ab9",
   "metadata": {},
   "outputs": [
    {
     "name": "stdout",
     "output_type": "stream",
     "text": [
      "0.9878652327020082\n",
      "0.9884256044384562\n",
      "0.7266081871345029\n",
      "0.879646017699115\n",
      "0.64239393618657\n",
      "0.8440896739130433\n"
     ]
    }
   ],
   "source": [
    "#score for the validation set\n",
    "y_val_preds = rf.predict(X_val)\n",
    "print(accuracy_score(y_val, y_val_preds))\n",
    "print(f1_score(y_val, y_val_preds, average='weighted'))\n",
    "print(precision_score(y_val, y_val_preds))\n",
    "print(recall_score(y_val, y_val_preds))\n",
    "print(average_precision_score(y_val, y_val_preds))\n",
    "print(fbeta_score(y_val, y_val_preds, beta=2, pos_label=1, average='binary'))"
   ]
  },
  {
   "cell_type": "code",
   "execution_count": 189,
   "id": "54c605af",
   "metadata": {},
   "outputs": [
    {
     "name": "stdout",
     "output_type": "stream",
     "text": [
      "[[20262   187]\n",
      " [   68   497]]\n"
     ]
    }
   ],
   "source": [
    "#confusion matrix\n",
    "results = confusion_matrix(y_val, y_val_preds)\n",
    "print(results)"
   ]
  },
  {
   "cell_type": "code",
   "execution_count": 190,
   "id": "9b6958dc",
   "metadata": {},
   "outputs": [
    {
     "name": "stdout",
     "output_type": "stream",
     "text": [
      "0.9880082229328461\n",
      "0.9886374351904244\n",
      "0.7222857142857143\n",
      "0.8977272727272727\n",
      "0.651156562030934\n",
      "0.8561365483608777\n"
     ]
    }
   ],
   "source": [
    "#score for the test set\n",
    "y_test_preds = rf.predict(X_test)\n",
    "print(accuracy_score(y_test, y_test_preds))\n",
    "print(f1_score(y_test, y_test_preds, average='weighted'))\n",
    "print(precision_score(y_test, y_test_preds))\n",
    "print(recall_score(y_test, y_test_preds))\n",
    "print(average_precision_score(y_test, y_test_preds))\n",
    "print(fbeta_score(y_test, y_test_preds, beta=2, pos_label=1, average='binary'))"
   ]
  },
  {
   "cell_type": "code",
   "execution_count": 191,
   "id": "e6203e76",
   "metadata": {},
   "outputs": [
    {
     "name": "stdout",
     "output_type": "stream",
     "text": [
      "[[25321   243]\n",
      " [   72   632]]\n"
     ]
    }
   ],
   "source": [
    "#confusion matrix\n",
    "results = confusion_matrix(y_test, y_test_preds)\n",
    "print(results)"
   ]
  },
  {
   "cell_type": "markdown",
   "id": "0bad7d51",
   "metadata": {},
   "source": [
    "Analysing feature importance in the model"
   ]
  },
  {
   "cell_type": "code",
   "execution_count": 192,
   "id": "3809eedf",
   "metadata": {},
   "outputs": [
    {
     "data": {
      "text/plain": [
       "array([0.00218876, 0.01618675, 0.00691512, 0.08758958, 0.16093396,\n",
       "       0.03621833, 0.09749502, 0.02625439, 0.02908295, 0.12651989,\n",
       "       0.18847043, 0.10339187, 0.05121624, 0.05585553, 0.00327413,\n",
       "       0.00840705])"
      ]
     },
     "execution_count": 192,
     "metadata": {},
     "output_type": "execute_result"
    }
   ],
   "source": [
    "rf.feature_importances_"
   ]
  },
  {
   "cell_type": "code",
   "execution_count": 193,
   "id": "cc311ef8",
   "metadata": {},
   "outputs": [],
   "source": [
    "X = df_cleaned[['age_band', 'car_model', 'car_segment',\n",
    "       'age_of_vehicle_years', 'sched_serv_warr', 'non_sched_serv_warr',\n",
    "       'sched_serv_paid', 'non_sched_serv_paid', 'total_paid_services',\n",
    "       'total_services', 'mth_since_last_serv', 'annualised_mileage',\n",
    "       'num_dealers_visited', 'num_serv_dealer_purchased', 'Female', 'Male']]"
   ]
  },
  {
   "cell_type": "code",
   "execution_count": 194,
   "id": "026cf63b",
   "metadata": {},
   "outputs": [],
   "source": [
    "#dataframe with the values\n",
    "feat_imp_rf = pd.DataFrame(\n",
    "    {\n",
    "        'feature': X.columns,\n",
    "     'feature_importance': rf.feature_importances_\n",
    "     }\n",
    ")"
   ]
  },
  {
   "cell_type": "code",
   "execution_count": 195,
   "id": "7071256a",
   "metadata": {},
   "outputs": [
    {
     "data": {
      "text/html": [
       "<div>\n",
       "<style scoped>\n",
       "    .dataframe tbody tr th:only-of-type {\n",
       "        vertical-align: middle;\n",
       "    }\n",
       "\n",
       "    .dataframe tbody tr th {\n",
       "        vertical-align: top;\n",
       "    }\n",
       "\n",
       "    .dataframe thead th {\n",
       "        text-align: right;\n",
       "    }\n",
       "</style>\n",
       "<table border=\"1\" class=\"dataframe\">\n",
       "  <thead>\n",
       "    <tr style=\"text-align: right;\">\n",
       "      <th></th>\n",
       "      <th>feature</th>\n",
       "      <th>feature_importance</th>\n",
       "    </tr>\n",
       "  </thead>\n",
       "  <tbody>\n",
       "    <tr>\n",
       "      <th>0</th>\n",
       "      <td>mth_since_last_serv</td>\n",
       "      <td>0.188470</td>\n",
       "    </tr>\n",
       "    <tr>\n",
       "      <th>1</th>\n",
       "      <td>sched_serv_warr</td>\n",
       "      <td>0.160934</td>\n",
       "    </tr>\n",
       "    <tr>\n",
       "      <th>2</th>\n",
       "      <td>total_services</td>\n",
       "      <td>0.126520</td>\n",
       "    </tr>\n",
       "    <tr>\n",
       "      <th>3</th>\n",
       "      <td>annualised_mileage</td>\n",
       "      <td>0.103392</td>\n",
       "    </tr>\n",
       "    <tr>\n",
       "      <th>4</th>\n",
       "      <td>sched_serv_paid</td>\n",
       "      <td>0.097495</td>\n",
       "    </tr>\n",
       "    <tr>\n",
       "      <th>5</th>\n",
       "      <td>age_of_vehicle_years</td>\n",
       "      <td>0.087590</td>\n",
       "    </tr>\n",
       "    <tr>\n",
       "      <th>6</th>\n",
       "      <td>num_serv_dealer_purchased</td>\n",
       "      <td>0.055856</td>\n",
       "    </tr>\n",
       "    <tr>\n",
       "      <th>7</th>\n",
       "      <td>num_dealers_visited</td>\n",
       "      <td>0.051216</td>\n",
       "    </tr>\n",
       "    <tr>\n",
       "      <th>8</th>\n",
       "      <td>non_sched_serv_warr</td>\n",
       "      <td>0.036218</td>\n",
       "    </tr>\n",
       "    <tr>\n",
       "      <th>9</th>\n",
       "      <td>total_paid_services</td>\n",
       "      <td>0.029083</td>\n",
       "    </tr>\n",
       "    <tr>\n",
       "      <th>10</th>\n",
       "      <td>non_sched_serv_paid</td>\n",
       "      <td>0.026254</td>\n",
       "    </tr>\n",
       "    <tr>\n",
       "      <th>11</th>\n",
       "      <td>car_model</td>\n",
       "      <td>0.016187</td>\n",
       "    </tr>\n",
       "    <tr>\n",
       "      <th>12</th>\n",
       "      <td>Male</td>\n",
       "      <td>0.008407</td>\n",
       "    </tr>\n",
       "    <tr>\n",
       "      <th>13</th>\n",
       "      <td>car_segment</td>\n",
       "      <td>0.006915</td>\n",
       "    </tr>\n",
       "    <tr>\n",
       "      <th>14</th>\n",
       "      <td>Female</td>\n",
       "      <td>0.003274</td>\n",
       "    </tr>\n",
       "    <tr>\n",
       "      <th>15</th>\n",
       "      <td>age_band</td>\n",
       "      <td>0.002189</td>\n",
       "    </tr>\n",
       "  </tbody>\n",
       "</table>\n",
       "</div>"
      ],
      "text/plain": [
       "                      feature  feature_importance\n",
       "0         mth_since_last_serv            0.188470\n",
       "1             sched_serv_warr            0.160934\n",
       "2              total_services            0.126520\n",
       "3          annualised_mileage            0.103392\n",
       "4             sched_serv_paid            0.097495\n",
       "5        age_of_vehicle_years            0.087590\n",
       "6   num_serv_dealer_purchased            0.055856\n",
       "7         num_dealers_visited            0.051216\n",
       "8         non_sched_serv_warr            0.036218\n",
       "9         total_paid_services            0.029083\n",
       "10        non_sched_serv_paid            0.026254\n",
       "11                  car_model            0.016187\n",
       "12                       Male            0.008407\n",
       "13                car_segment            0.006915\n",
       "14                     Female            0.003274\n",
       "15                   age_band            0.002189"
      ]
     },
     "execution_count": 195,
     "metadata": {},
     "output_type": "execute_result"
    }
   ],
   "source": [
    "feat_imp_rf = feat_imp_rf.sort_values('feature_importance', ascending=False).reset_index(drop=True)\n",
    "feat_imp_rf"
   ]
  },
  {
   "cell_type": "code",
   "execution_count": 196,
   "id": "9966be38",
   "metadata": {},
   "outputs": [
    {
     "data": {
      "text/html": [
       "\n",
       "<div id=\"altair-viz-6ad9adc6d46044b59761e88a20f0ff83\"></div>\n",
       "<script type=\"text/javascript\">\n",
       "  var VEGA_DEBUG = (typeof VEGA_DEBUG == \"undefined\") ? {} : VEGA_DEBUG;\n",
       "  (function(spec, embedOpt){\n",
       "    let outputDiv = document.currentScript.previousElementSibling;\n",
       "    if (outputDiv.id !== \"altair-viz-6ad9adc6d46044b59761e88a20f0ff83\") {\n",
       "      outputDiv = document.getElementById(\"altair-viz-6ad9adc6d46044b59761e88a20f0ff83\");\n",
       "    }\n",
       "    const paths = {\n",
       "      \"vega\": \"https://cdn.jsdelivr.net/npm//vega@5?noext\",\n",
       "      \"vega-lib\": \"https://cdn.jsdelivr.net/npm//vega-lib?noext\",\n",
       "      \"vega-lite\": \"https://cdn.jsdelivr.net/npm//vega-lite@4.17.0?noext\",\n",
       "      \"vega-embed\": \"https://cdn.jsdelivr.net/npm//vega-embed@6?noext\",\n",
       "    };\n",
       "\n",
       "    function maybeLoadScript(lib, version) {\n",
       "      var key = `${lib.replace(\"-\", \"\")}_version`;\n",
       "      return (VEGA_DEBUG[key] == version) ?\n",
       "        Promise.resolve(paths[lib]) :\n",
       "        new Promise(function(resolve, reject) {\n",
       "          var s = document.createElement('script');\n",
       "          document.getElementsByTagName(\"head\")[0].appendChild(s);\n",
       "          s.async = true;\n",
       "          s.onload = () => {\n",
       "            VEGA_DEBUG[key] = version;\n",
       "            return resolve(paths[lib]);\n",
       "          };\n",
       "          s.onerror = () => reject(`Error loading script: ${paths[lib]}`);\n",
       "          s.src = paths[lib];\n",
       "        });\n",
       "    }\n",
       "\n",
       "    function showError(err) {\n",
       "      outputDiv.innerHTML = `<div class=\"error\" style=\"color:red;\">${err}</div>`;\n",
       "      throw err;\n",
       "    }\n",
       "\n",
       "    function displayChart(vegaEmbed) {\n",
       "      vegaEmbed(outputDiv, spec, embedOpt)\n",
       "        .catch(err => showError(`Javascript Error: ${err.message}<br>This usually means there's a typo in your chart specification. See the javascript console for the full traceback.`));\n",
       "    }\n",
       "\n",
       "    if(typeof define === \"function\" && define.amd) {\n",
       "      requirejs.config({paths});\n",
       "      require([\"vega-embed\"], displayChart, err => showError(`Error loading script: ${err.message}`));\n",
       "    } else {\n",
       "      maybeLoadScript(\"vega\", \"5\")\n",
       "        .then(() => maybeLoadScript(\"vega-lite\", \"4.17.0\"))\n",
       "        .then(() => maybeLoadScript(\"vega-embed\", \"6\"))\n",
       "        .catch(showError)\n",
       "        .then(() => displayChart(vegaEmbed));\n",
       "    }\n",
       "  })({\"config\": {\"view\": {\"continuousWidth\": 400, \"continuousHeight\": 300}}, \"data\": {\"name\": \"data-95f66ec8992b43b5d840f00f1e8f80ba\"}, \"mark\": \"bar\", \"encoding\": {\"tooltip\": [{\"field\": \"feature\", \"type\": \"nominal\"}, {\"field\": \"feature_importance\", \"type\": \"quantitative\"}], \"x\": {\"field\": \"feature_importance\", \"type\": \"quantitative\"}, \"y\": {\"field\": \"feature\", \"sort\": \"-x\", \"type\": \"nominal\"}}, \"$schema\": \"https://vega.github.io/schema/vega-lite/v4.17.0.json\", \"datasets\": {\"data-95f66ec8992b43b5d840f00f1e8f80ba\": [{\"feature\": \"mth_since_last_serv\", \"feature_importance\": 0.18847043074483094}, {\"feature\": \"sched_serv_warr\", \"feature_importance\": 0.16093395656611498}, {\"feature\": \"total_services\", \"feature_importance\": 0.12651989114305048}, {\"feature\": \"annualised_mileage\", \"feature_importance\": 0.10339187474424709}, {\"feature\": \"sched_serv_paid\", \"feature_importance\": 0.09749501602253137}, {\"feature\": \"age_of_vehicle_years\", \"feature_importance\": 0.08758957815703602}, {\"feature\": \"num_serv_dealer_purchased\", \"feature_importance\": 0.05585553064611087}, {\"feature\": \"num_dealers_visited\", \"feature_importance\": 0.051216242333475166}, {\"feature\": \"non_sched_serv_warr\", \"feature_importance\": 0.03621832945960069}, {\"feature\": \"total_paid_services\", \"feature_importance\": 0.029082948281561268}, {\"feature\": \"non_sched_serv_paid\", \"feature_importance\": 0.026254388866053344}, {\"feature\": \"car_model\", \"feature_importance\": 0.016186750459595476}, {\"feature\": \"Male\", \"feature_importance\": 0.008407051859440056}, {\"feature\": \"car_segment\", \"feature_importance\": 0.006915123538697754}, {\"feature\": \"Female\", \"feature_importance\": 0.003274131180781297}, {\"feature\": \"age_band\", \"feature_importance\": 0.002188755996873216}]}}, {\"mode\": \"vega-lite\"});\n",
       "</script>"
      ],
      "text/plain": [
       "alt.Chart(...)"
      ]
     },
     "execution_count": 196,
     "metadata": {},
     "output_type": "execute_result"
    }
   ],
   "source": [
    "import altair as alt\n",
    "\n",
    "alt.Chart(feat_imp_rf).mark_bar().encode(\n",
    "    x='feature_importance',\n",
    "    y=alt.Y(\"feature\", sort='-x'),\n",
    "    tooltip=['feature','feature_importance'])"
   ]
  },
  {
   "cell_type": "markdown",
   "id": "138ba737",
   "metadata": {},
   "source": [
    "**[7.5]** Random Forest Classifier with Random Search based on feature importance"
   ]
  },
  {
   "cell_type": "markdown",
   "id": "b83e5e2c",
   "metadata": {},
   "source": [
    "drop columns based on feature importance: Male, car_segment, Female, age_band"
   ]
  },
  {
   "cell_type": "code",
   "execution_count": 285,
   "id": "46fccb5c",
   "metadata": {},
   "outputs": [],
   "source": [
    "from sklearn.model_selection import train_test_split"
   ]
  },
  {
   "cell_type": "code",
   "execution_count": 287,
   "id": "7219d13b",
   "metadata": {},
   "outputs": [],
   "source": [
    "X = df_cleaned[['car_model',\n",
    "       'age_of_vehicle_years', 'sched_serv_warr', 'non_sched_serv_warr',\n",
    "       'sched_serv_paid', 'non_sched_serv_paid', 'total_paid_services',\n",
    "       'total_services', 'mth_since_last_serv', 'annualised_mileage',\n",
    "       'num_dealers_visited', 'num_serv_dealer_purchased']].values\n",
    "y = df_cleaned['Target'].values"
   ]
  },
  {
   "cell_type": "code",
   "execution_count": 288,
   "id": "5c554897",
   "metadata": {},
   "outputs": [],
   "source": [
    "X_data, X_test, y_data, y_test = train_test_split(X, y, test_size=0.2, random_state=42, stratify=y)\n",
    "X_train, X_val, y_train, y_val = train_test_split(X_data, y_data, test_size=0.2, random_state=42)"
   ]
  },
  {
   "cell_type": "code",
   "execution_count": 289,
   "id": "58eab378",
   "metadata": {},
   "outputs": [],
   "source": [
    "from scipy.stats import randint\n",
    "from sklearn.model_selection import RandomizedSearchCV\n",
    "\n",
    "from sklearn.ensemble import RandomForestClassifier\n",
    "from sklearn.metrics import fbeta_score, make_scorer\n",
    "from sklearn.model_selection import StratifiedKFold"
   ]
  },
  {
   "cell_type": "code",
   "execution_count": 219,
   "id": "723cadbd",
   "metadata": {},
   "outputs": [
    {
     "data": {
      "text/plain": [
       "{'n_estimators': <scipy.stats._distn_infrastructure.rv_discrete_frozen at 0x22c1ba281f0>,\n",
       " 'max_depth': <scipy.stats._distn_infrastructure.rv_discrete_frozen at 0x22c1ba89280>,\n",
       " 'min_samples_leaf': <scipy.stats._distn_infrastructure.rv_discrete_frozen at 0x22c1ba287f0>,\n",
       " 'max_features': <scipy.stats._distn_infrastructure.rv_discrete_frozen at 0x22c1fbf3370>}"
      ]
     },
     "execution_count": 219,
     "metadata": {},
     "output_type": "execute_result"
    }
   ],
   "source": [
    "hyperparams_dist = {\n",
    "    'n_estimators': randint(65, 80),\n",
    "    'max_depth': randint(20, 40),\n",
    "    'min_samples_leaf': randint(1, 11),\n",
    "    'max_features': randint(1, 9)\n",
    "    }\n",
    "hyperparams_dist"
   ]
  },
  {
   "cell_type": "code",
   "execution_count": 220,
   "id": "47ea440e",
   "metadata": {},
   "outputs": [],
   "source": [
    "#instantiate the RandomForestClassifier \n",
    "rf = RandomForestClassifier(random_state=42, class_weight='balanced')"
   ]
  },
  {
   "cell_type": "code",
   "execution_count": 221,
   "id": "29d3f7c5",
   "metadata": {},
   "outputs": [],
   "source": [
    "f2_scorer = make_scorer(fbeta_score, beta=2, pos_label=1, average='binary')"
   ]
  },
  {
   "cell_type": "code",
   "execution_count": 222,
   "id": "740114e4",
   "metadata": {},
   "outputs": [],
   "source": [
    "#Instantiate a KFold \n",
    "kfold = StratifiedKFold(n_splits=10, shuffle=True, random_state=1)"
   ]
  },
  {
   "cell_type": "code",
   "execution_count": 223,
   "id": "d837db4a",
   "metadata": {},
   "outputs": [],
   "source": [
    "#Instantiate a GridSearchCV\n",
    "random_search_rf = RandomizedSearchCV(rf, hyperparams_dist, cv=kfold, scoring=f2_scorer, verbose=2, return_train_score = True, n_jobs= -1, random_state=1)"
   ]
  },
  {
   "cell_type": "code",
   "execution_count": 224,
   "id": "b81c1229",
   "metadata": {
    "scrolled": true
   },
   "outputs": [
    {
     "name": "stdout",
     "output_type": "stream",
     "text": [
      "Fitting 10 folds for each of 10 candidates, totalling 100 fits\n"
     ]
    },
    {
     "data": {
      "text/plain": [
       "RandomizedSearchCV(cv=StratifiedKFold(n_splits=10, random_state=1, shuffle=True),\n",
       "                   estimator=RandomForestClassifier(class_weight='balanced',\n",
       "                                                    random_state=42),\n",
       "                   n_jobs=-1,\n",
       "                   param_distributions={'max_depth': <scipy.stats._distn_infrastructure.rv_discrete_frozen object at 0x0000022C1BA89280>,\n",
       "                                        'max_features': <scipy.stats._distn_infrastructure.rv_discrete_frozen object at 0x0000022C1FBF3370>,\n",
       "                                        'min_samples_leaf': <scipy.stats._distn_infrastructure.rv_discrete_frozen object at 0x0000022C1BA287F0>,\n",
       "                                        'n_estimators': <scipy.stats._distn_infrastructure.rv_discrete_frozen object at 0x0000022C1BA281F0>},\n",
       "                   random_state=1, return_train_score=True,\n",
       "                   scoring=make_scorer(fbeta_score, beta=2, pos_label=1, average=binary),\n",
       "                   verbose=2)"
      ]
     },
     "execution_count": 224,
     "metadata": {},
     "output_type": "execute_result"
    }
   ],
   "source": [
    "#Fit the random Search on the training set\n",
    "random_search_rf.fit(X_train, y_train)"
   ]
  },
  {
   "cell_type": "code",
   "execution_count": 225,
   "id": "28342c9d",
   "metadata": {},
   "outputs": [
    {
     "data": {
      "text/plain": [
       "{'max_depth': 25, 'max_features': 3, 'min_samples_leaf': 5, 'n_estimators': 76}"
      ]
     },
     "execution_count": 225,
     "metadata": {},
     "output_type": "execute_result"
    }
   ],
   "source": [
    "random_search_rf.best_params_"
   ]
  },
  {
   "cell_type": "code",
   "execution_count": 226,
   "id": "4c752d02",
   "metadata": {},
   "outputs": [
    {
     "name": "stdout",
     "output_type": "stream",
     "text": [
      "0.9436655192679035\n",
      "0.8358714043993232\n",
      "0.8490312163616792\n"
     ]
    }
   ],
   "source": [
    "print(random_search_rf.score(X_train, y_train))\n",
    "print(random_search_rf.score(X_val, y_val))\n",
    "print(random_search_rf.score(X_test, y_test))"
   ]
  },
  {
   "cell_type": "code",
   "execution_count": 290,
   "id": "59ee634c",
   "metadata": {},
   "outputs": [],
   "source": [
    "rf = RandomForestClassifier(random_state=42, n_estimators= 76, max_depth = 25, min_samples_leaf= 5, max_features = 3, class_weight='balanced')"
   ]
  },
  {
   "cell_type": "code",
   "execution_count": 291,
   "id": "3ad5046c",
   "metadata": {},
   "outputs": [
    {
     "data": {
      "text/plain": [
       "RandomForestClassifier(class_weight='balanced', max_depth=25, max_features=3,\n",
       "                       min_samples_leaf=5, n_estimators=76, random_state=42)"
      ]
     },
     "execution_count": 291,
     "metadata": {},
     "output_type": "execute_result"
    }
   ],
   "source": [
    "rf.fit(X_train, y_train)"
   ]
  },
  {
   "cell_type": "code",
   "execution_count": 292,
   "id": "37396ad9",
   "metadata": {},
   "outputs": [],
   "source": [
    "y_train_preds = rf.predict(X_train)"
   ]
  },
  {
   "cell_type": "code",
   "execution_count": 293,
   "id": "61fcd2a6",
   "metadata": {},
   "outputs": [
    {
     "name": "stdout",
     "output_type": "stream",
     "text": [
      "0.9921598953066445\n",
      "0.9926392792611729\n",
      "0.7743713399931106\n",
      "0.9982238010657194\n",
      "0.7730434903331597\n",
      "0.9436655192679035\n"
     ]
    }
   ],
   "source": [
    "#score for the train set\n",
    "print(accuracy_score(y_train, y_train_preds))\n",
    "print(f1_score(y_train, y_train_preds, average='weighted'))\n",
    "print(precision_score(y_train, y_train_preds))\n",
    "print(recall_score(y_train, y_train_preds))\n",
    "print(average_precision_score(y_train, y_train_preds))\n",
    "print(fbeta_score(y_train, y_train_preds, beta=2, pos_label=1, average='binary'))"
   ]
  },
  {
   "cell_type": "code",
   "execution_count": 294,
   "id": "ad0c1df1",
   "metadata": {},
   "outputs": [
    {
     "name": "stdout",
     "output_type": "stream",
     "text": [
      "[[81148   655]\n",
      " [    4  2248]]\n"
     ]
    }
   ],
   "source": [
    "#confusion matrix\n",
    "results = confusion_matrix(y_train, y_train_preds)\n",
    "print(results)#confusion matrix"
   ]
  },
  {
   "cell_type": "code",
   "execution_count": 295,
   "id": "a1c86e58",
   "metadata": {},
   "outputs": [
    {
     "name": "stdout",
     "output_type": "stream",
     "text": [
      "0.9870562482154754\n",
      "0.9877033440831045\n",
      "0.7107913669064748\n",
      "0.8743362831858407\n",
      "0.6248493817759332\n",
      "0.8358714043993232\n"
     ]
    }
   ],
   "source": [
    "#score for the validation set\n",
    "y_val_preds = rf.predict(X_val)\n",
    "print(accuracy_score(y_val, y_val_preds))\n",
    "print(f1_score(y_val, y_val_preds, average='weighted'))\n",
    "print(precision_score(y_val, y_val_preds))\n",
    "print(recall_score(y_val, y_val_preds))\n",
    "print(average_precision_score(y_val, y_val_preds))\n",
    "print(fbeta_score(y_val, y_val_preds, beta=2, pos_label=1, average='binary'))"
   ]
  },
  {
   "cell_type": "code",
   "execution_count": 296,
   "id": "50a65798",
   "metadata": {},
   "outputs": [
    {
     "name": "stdout",
     "output_type": "stream",
     "text": [
      "[[20248   201]\n",
      " [   71   494]]\n"
     ]
    }
   ],
   "source": [
    "#confusion matrix\n",
    "results = confusion_matrix(y_val, y_val_preds)\n",
    "print(results)"
   ]
  },
  {
   "cell_type": "code",
   "execution_count": 297,
   "id": "1a2118e9",
   "metadata": {},
   "outputs": [
    {
     "name": "stdout",
     "output_type": "stream",
     "text": [
      "0.98698035632709\n",
      "0.9877507692998947\n",
      "0.7011111111111111\n",
      "0.8963068181818182\n",
      "0.6311897159408152\n",
      "0.8490312163616792\n"
     ]
    }
   ],
   "source": [
    "#score for the test set\n",
    "y_test_preds = rf.predict(X_test)\n",
    "print(accuracy_score(y_test, y_test_preds))\n",
    "print(f1_score(y_test, y_test_preds, average='weighted'))\n",
    "print(precision_score(y_test, y_test_preds))\n",
    "print(recall_score(y_test, y_test_preds))\n",
    "print(average_precision_score(y_test, y_test_preds))\n",
    "print(fbeta_score(y_test, y_test_preds, beta=2, pos_label=1, average='binary'))"
   ]
  },
  {
   "cell_type": "code",
   "execution_count": 298,
   "id": "c2b0fcfe",
   "metadata": {},
   "outputs": [
    {
     "name": "stdout",
     "output_type": "stream",
     "text": [
      "[[25295   269]\n",
      " [   73   631]]\n"
     ]
    }
   ],
   "source": [
    "#confusion matrix\n",
    "results = confusion_matrix(y_test, y_test_preds)\n",
    "print(results)"
   ]
  },
  {
   "cell_type": "code",
   "execution_count": 299,
   "id": "4684f661",
   "metadata": {},
   "outputs": [],
   "source": [
    "from sklearn.metrics import confusion_matrix, ConfusionMatrixDisplay\n",
    "import matplotlib.pyplot as plt"
   ]
  },
  {
   "cell_type": "code",
   "execution_count": 300,
   "id": "00ae87d8",
   "metadata": {
    "scrolled": true
   },
   "outputs": [
    {
     "data": {
      "text/plain": [
       "<sklearn.metrics._plot.confusion_matrix.ConfusionMatrixDisplay at 0x22c1bc627c0>"
      ]
     },
     "execution_count": 300,
     "metadata": {},
     "output_type": "execute_result"
    },
    {
     "data": {
      "image/png": "[encoded data removed]",
      "text/plain": [
       "<Figure size 640x480 with 2 Axes>"
      ]
     },
     "metadata": {},
     "output_type": "display_data"
    },
    {
     "data": {
      "image/png": "[encoded data removed]",
      "text/plain": [
       "<Figure size 640x480 with 2 Axes>"
      ]
     },
     "metadata": {},
     "output_type": "display_data"
    },
    {
     "data": {
      "image/png": "[encoded data removed]",
      "text/plain": [
       "<Figure size 640x480 with 2 Axes>"
      ]
     },
     "metadata": {},
     "output_type": "display_data"
    }
   ],
   "source": [
    "ConfusionMatrixDisplay.from_estimator(rf, X_train, y_train, normalize='true')\n",
    "ConfusionMatrixDisplay.from_estimator(rf, X_val, y_val, normalize='true')\n",
    "ConfusionMatrixDisplay.from_estimator(rf, X_test, y_test, normalize='true')"
   ]
  },
  {
   "cell_type": "markdown",
   "id": "6a38af9c",
   "metadata": {},
   "source": [
    "Analysing feature importance in the model"
   ]
  },
  {
   "cell_type": "code",
   "execution_count": 301,
   "id": "e0380dcd",
   "metadata": {},
   "outputs": [
    {
     "data": {
      "text/plain": [
       "array([0.01730042, 0.10773397, 0.1939682 , 0.03851069, 0.09242864,\n",
       "       0.02369589, 0.02694833, 0.12341335, 0.16673294, 0.09925179,\n",
       "       0.04735441, 0.06266136])"
      ]
     },
     "execution_count": 301,
     "metadata": {},
     "output_type": "execute_result"
    }
   ],
   "source": [
    "rf.feature_importances_"
   ]
  },
  {
   "cell_type": "code",
   "execution_count": 303,
   "id": "12d12f06",
   "metadata": {},
   "outputs": [],
   "source": [
    "X = df_cleaned[['car_model',\n",
    "       'age_of_vehicle_years', 'sched_serv_warr', 'non_sched_serv_warr',\n",
    "       'sched_serv_paid', 'non_sched_serv_paid', 'total_paid_services',\n",
    "       'total_services', 'mth_since_last_serv', 'annualised_mileage',\n",
    "       'num_dealers_visited', 'num_serv_dealer_purchased']]"
   ]
  },
  {
   "cell_type": "code",
   "execution_count": 304,
   "id": "8ca47d71",
   "metadata": {},
   "outputs": [],
   "source": [
    "#dataframe with the values\n",
    "feat_imp_rf = pd.DataFrame(\n",
    "    {\n",
    "     'feature': X.columns,\n",
    "     'feature_importance': rf.feature_importances_\n",
    "     }\n",
    ")"
   ]
  },
  {
   "cell_type": "code",
   "execution_count": 305,
   "id": "50cdd852",
   "metadata": {},
   "outputs": [
    {
     "data": {
      "text/html": [
       "<div>\n",
       "<style scoped>\n",
       "    .dataframe tbody tr th:only-of-type {\n",
       "        vertical-align: middle;\n",
       "    }\n",
       "\n",
       "    .dataframe tbody tr th {\n",
       "        vertical-align: top;\n",
       "    }\n",
       "\n",
       "    .dataframe thead th {\n",
       "        text-align: right;\n",
       "    }\n",
       "</style>\n",
       "<table border=\"1\" class=\"dataframe\">\n",
       "  <thead>\n",
       "    <tr style=\"text-align: right;\">\n",
       "      <th></th>\n",
       "      <th>feature</th>\n",
       "      <th>feature_importance</th>\n",
       "    </tr>\n",
       "  </thead>\n",
       "  <tbody>\n",
       "    <tr>\n",
       "      <th>0</th>\n",
       "      <td>sched_serv_warr</td>\n",
       "      <td>0.193968</td>\n",
       "    </tr>\n",
       "    <tr>\n",
       "      <th>1</th>\n",
       "      <td>mth_since_last_serv</td>\n",
       "      <td>0.166733</td>\n",
       "    </tr>\n",
       "    <tr>\n",
       "      <th>2</th>\n",
       "      <td>total_services</td>\n",
       "      <td>0.123413</td>\n",
       "    </tr>\n",
       "    <tr>\n",
       "      <th>3</th>\n",
       "      <td>age_of_vehicle_years</td>\n",
       "      <td>0.107734</td>\n",
       "    </tr>\n",
       "    <tr>\n",
       "      <th>4</th>\n",
       "      <td>annualised_mileage</td>\n",
       "      <td>0.099252</td>\n",
       "    </tr>\n",
       "    <tr>\n",
       "      <th>5</th>\n",
       "      <td>sched_serv_paid</td>\n",
       "      <td>0.092429</td>\n",
       "    </tr>\n",
       "    <tr>\n",
       "      <th>6</th>\n",
       "      <td>num_serv_dealer_purchased</td>\n",
       "      <td>0.062661</td>\n",
       "    </tr>\n",
       "    <tr>\n",
       "      <th>7</th>\n",
       "      <td>num_dealers_visited</td>\n",
       "      <td>0.047354</td>\n",
       "    </tr>\n",
       "    <tr>\n",
       "      <th>8</th>\n",
       "      <td>non_sched_serv_warr</td>\n",
       "      <td>0.038511</td>\n",
       "    </tr>\n",
       "    <tr>\n",
       "      <th>9</th>\n",
       "      <td>total_paid_services</td>\n",
       "      <td>0.026948</td>\n",
       "    </tr>\n",
       "    <tr>\n",
       "      <th>10</th>\n",
       "      <td>non_sched_serv_paid</td>\n",
       "      <td>0.023696</td>\n",
       "    </tr>\n",
       "    <tr>\n",
       "      <th>11</th>\n",
       "      <td>car_model</td>\n",
       "      <td>0.017300</td>\n",
       "    </tr>\n",
       "  </tbody>\n",
       "</table>\n",
       "</div>"
      ],
      "text/plain": [
       "                      feature  feature_importance\n",
       "0             sched_serv_warr            0.193968\n",
       "1         mth_since_last_serv            0.166733\n",
       "2              total_services            0.123413\n",
       "3        age_of_vehicle_years            0.107734\n",
       "4          annualised_mileage            0.099252\n",
       "5             sched_serv_paid            0.092429\n",
       "6   num_serv_dealer_purchased            0.062661\n",
       "7         num_dealers_visited            0.047354\n",
       "8         non_sched_serv_warr            0.038511\n",
       "9         total_paid_services            0.026948\n",
       "10        non_sched_serv_paid            0.023696\n",
       "11                  car_model            0.017300"
      ]
     },
     "execution_count": 305,
     "metadata": {},
     "output_type": "execute_result"
    }
   ],
   "source": [
    "feat_imp_rf = feat_imp_rf.sort_values('feature_importance', ascending=False).reset_index(drop=True)\n",
    "feat_imp_rf"
   ]
  },
  {
   "cell_type": "code",
   "execution_count": 306,
   "id": "ebc14379",
   "metadata": {},
   "outputs": [
    {
     "data": {
      "text/html": [
       "\n",
       "<div id=\"altair-viz-638997e8543e45f0a1e83aefeafb4594\"></div>\n",
       "<script type=\"text/javascript\">\n",
       "  var VEGA_DEBUG = (typeof VEGA_DEBUG == \"undefined\") ? {} : VEGA_DEBUG;\n",
       "  (function(spec, embedOpt){\n",
       "    let outputDiv = document.currentScript.previousElementSibling;\n",
       "    if (outputDiv.id !== \"altair-viz-638997e8543e45f0a1e83aefeafb4594\") {\n",
       "      outputDiv = document.getElementById(\"altair-viz-638997e8543e45f0a1e83aefeafb4594\");\n",
       "    }\n",
       "    const paths = {\n",
       "      \"vega\": \"https://cdn.jsdelivr.net/npm//vega@5?noext\",\n",
       "      \"vega-lib\": \"https://cdn.jsdelivr.net/npm//vega-lib?noext\",\n",
       "      \"vega-lite\": \"https://cdn.jsdelivr.net/npm//vega-lite@4.17.0?noext\",\n",
       "      \"vega-embed\": \"https://cdn.jsdelivr.net/npm//vega-embed@6?noext\",\n",
       "    };\n",
       "\n",
       "    function maybeLoadScript(lib, version) {\n",
       "      var key = `${lib.replace(\"-\", \"\")}_version`;\n",
       "      return (VEGA_DEBUG[key] == version) ?\n",
       "        Promise.resolve(paths[lib]) :\n",
       "        new Promise(function(resolve, reject) {\n",
       "          var s = document.createElement('script');\n",
       "          document.getElementsByTagName(\"head\")[0].appendChild(s);\n",
       "          s.async = true;\n",
       "          s.onload = () => {\n",
       "            VEGA_DEBUG[key] = version;\n",
       "            return resolve(paths[lib]);\n",
       "          };\n",
       "          s.onerror = () => reject(`Error loading script: ${paths[lib]}`);\n",
       "          s.src = paths[lib];\n",
       "        });\n",
       "    }\n",
       "\n",
       "    function showError(err) {\n",
       "      outputDiv.innerHTML = `<div class=\"error\" style=\"color:red;\">${err}</div>`;\n",
       "      throw err;\n",
       "    }\n",
       "\n",
       "    function displayChart(vegaEmbed) {\n",
       "      vegaEmbed(outputDiv, spec, embedOpt)\n",
       "        .catch(err => showError(`Javascript Error: ${err.message}<br>This usually means there's a typo in your chart specification. See the javascript console for the full traceback.`));\n",
       "    }\n",
       "\n",
       "    if(typeof define === \"function\" && define.amd) {\n",
       "      requirejs.config({paths});\n",
       "      require([\"vega-embed\"], displayChart, err => showError(`Error loading script: ${err.message}`));\n",
       "    } else {\n",
       "      maybeLoadScript(\"vega\", \"5\")\n",
       "        .then(() => maybeLoadScript(\"vega-lite\", \"4.17.0\"))\n",
       "        .then(() => maybeLoadScript(\"vega-embed\", \"6\"))\n",
       "        .catch(showError)\n",
       "        .then(() => displayChart(vegaEmbed));\n",
       "    }\n",
       "  })({\"config\": {\"view\": {\"continuousWidth\": 400, \"continuousHeight\": 300}}, \"data\": {\"name\": \"data-c9aa5bd70ef5d56a8e50755125a58e00\"}, \"mark\": \"bar\", \"encoding\": {\"tooltip\": [{\"field\": \"feature\", \"type\": \"nominal\"}, {\"field\": \"feature_importance\", \"type\": \"quantitative\"}], \"x\": {\"field\": \"feature_importance\", \"type\": \"quantitative\"}, \"y\": {\"field\": \"feature\", \"sort\": \"-x\", \"type\": \"nominal\"}}, \"$schema\": \"https://vega.github.io/schema/vega-lite/v4.17.0.json\", \"datasets\": {\"data-c9aa5bd70ef5d56a8e50755125a58e00\": [{\"feature\": \"sched_serv_warr\", \"feature_importance\": 0.19396820459531514}, {\"feature\": \"mth_since_last_serv\", \"feature_importance\": 0.16673294190314752}, {\"feature\": \"total_services\", \"feature_importance\": 0.12341334892798594}, {\"feature\": \"age_of_vehicle_years\", \"feature_importance\": 0.10773396839316733}, {\"feature\": \"annualised_mileage\", \"feature_importance\": 0.09925179257233017}, {\"feature\": \"sched_serv_paid\", \"feature_importance\": 0.09242864322820418}, {\"feature\": \"num_serv_dealer_purchased\", \"feature_importance\": 0.06266136057428036}, {\"feature\": \"num_dealers_visited\", \"feature_importance\": 0.04735441157736818}, {\"feature\": \"non_sched_serv_warr\", \"feature_importance\": 0.03851069184694759}, {\"feature\": \"total_paid_services\", \"feature_importance\": 0.02694832660169663}, {\"feature\": \"non_sched_serv_paid\", \"feature_importance\": 0.02369589172337785}, {\"feature\": \"car_model\", \"feature_importance\": 0.017300418056179052}]}}, {\"mode\": \"vega-lite\"});\n",
       "</script>"
      ],
      "text/plain": [
       "alt.Chart(...)"
      ]
     },
     "execution_count": 306,
     "metadata": {},
     "output_type": "execute_result"
    }
   ],
   "source": [
    "import altair as alt\n",
    "\n",
    "alt.Chart(feat_imp_rf).mark_bar().encode(\n",
    "    x='feature_importance',\n",
    "    y=alt.Y(\"feature\", sort='-x'),\n",
    "    tooltip=['feature','feature_importance'])"
   ]
  },
  {
   "cell_type": "markdown",
   "id": "e663e8cb",
   "metadata": {},
   "source": [
    "In the random forest model, the variables Gender, car_segment, and age_band are not adding value to the learning process. The scores obtained with and without the variables are the same. This shows that we can remove these columns"
   ]
  },
  {
   "cell_type": "markdown",
   "id": "d36a5fb6",
   "metadata": {},
   "source": [
    "**[7.6]** Random Forest Classifier with Random Search using one hot encoder"
   ]
  },
  {
   "cell_type": "markdown",
   "id": "d91b827e",
   "metadata": {},
   "source": [
    "used data with model and car segment like one hot encoding"
   ]
  },
  {
   "cell_type": "code",
   "execution_count": 234,
   "id": "87af8e30",
   "metadata": {},
   "outputs": [],
   "source": [
    "df_cleaned2 = pd.read_csv(\"df_cleaned2.csv\")\n",
    "#clean columns\n",
    "df_cleaned2.drop(df_cleaned2.columns[0], axis=1, inplace=True)"
   ]
  },
  {
   "cell_type": "code",
   "execution_count": 235,
   "id": "eb811215",
   "metadata": {},
   "outputs": [
    {
     "data": {
      "text/plain": [
       "Index(['Target', 'age_of_vehicle_years', 'sched_serv_warr',\n",
       "       'non_sched_serv_warr', 'sched_serv_paid', 'non_sched_serv_paid',\n",
       "       'total_paid_services', 'total_services', 'mth_since_last_serv',\n",
       "       'annualised_mileage', 'num_dealers_visited',\n",
       "       'num_serv_dealer_purchased', 'LCV', 'Large/SUV', 'Other',\n",
       "       'Small/Medium', 'model_1', 'model_10', 'model_11', 'model_12',\n",
       "       'model_13', 'model_14', 'model_15', 'model_16', 'model_17', 'model_18',\n",
       "       'model_19', 'model_2', 'model_3', 'model_4', 'model_5', 'model_6',\n",
       "       'model_7', 'model_8', 'model_9'],\n",
       "      dtype='object')"
      ]
     },
     "execution_count": 235,
     "metadata": {},
     "output_type": "execute_result"
    }
   ],
   "source": [
    "df_cleaned2.columns"
   ]
  },
  {
   "cell_type": "code",
   "execution_count": 236,
   "id": "da1b4203",
   "metadata": {},
   "outputs": [],
   "source": [
    "from sklearn.model_selection import train_test_split"
   ]
  },
  {
   "cell_type": "code",
   "execution_count": 237,
   "id": "460fd333",
   "metadata": {},
   "outputs": [],
   "source": [
    "X = df_cleaned2[['age_of_vehicle_years', 'sched_serv_warr',\n",
    "       'non_sched_serv_warr', 'sched_serv_paid', 'non_sched_serv_paid',\n",
    "       'total_paid_services', 'total_services', 'mth_since_last_serv',\n",
    "       'annualised_mileage', 'num_dealers_visited',\n",
    "       'num_serv_dealer_purchased', 'LCV', 'Large/SUV', 'Other',\n",
    "       'Small/Medium', 'model_1', 'model_10', 'model_11', 'model_12',\n",
    "       'model_13', 'model_14', 'model_15', 'model_16', 'model_17', 'model_18',\n",
    "       'model_19', 'model_2', 'model_3', 'model_4', 'model_5', 'model_6',\n",
    "       'model_7', 'model_8', 'model_9']].values\n",
    "y = df_cleaned2['Target'].values"
   ]
  },
  {
   "cell_type": "code",
   "execution_count": 238,
   "id": "f8a38cb4",
   "metadata": {},
   "outputs": [],
   "source": [
    "X_data, X_test, y_data, y_test = train_test_split(X, y, test_size=0.2, random_state=42, stratify=y)\n",
    "X_train, X_val, y_train, y_val = train_test_split(X_data, y_data, test_size=0.2, random_state=42)"
   ]
  },
  {
   "cell_type": "code",
   "execution_count": 239,
   "id": "ef9b2daa",
   "metadata": {},
   "outputs": [],
   "source": [
    "from scipy.stats import randint\n",
    "from sklearn.model_selection import RandomizedSearchCV\n",
    "\n",
    "from sklearn.ensemble import RandomForestClassifier\n",
    "from sklearn.metrics import fbeta_score, make_scorer\n",
    "from sklearn.model_selection import StratifiedKFold"
   ]
  },
  {
   "cell_type": "code",
   "execution_count": 240,
   "id": "f28afff3",
   "metadata": {},
   "outputs": [
    {
     "data": {
      "text/plain": [
       "{'n_estimators': <scipy.stats._distn_infrastructure.rv_discrete_frozen at 0x22c1bacaf70>,\n",
       " 'max_depth': <scipy.stats._distn_infrastructure.rv_discrete_frozen at 0x22c1bac7250>,\n",
       " 'min_samples_leaf': <scipy.stats._distn_infrastructure.rv_discrete_frozen at 0x22c1ba2bd00>,\n",
       " 'max_features': <scipy.stats._distn_infrastructure.rv_discrete_frozen at 0x22c1bac7610>}"
      ]
     },
     "execution_count": 240,
     "metadata": {},
     "output_type": "execute_result"
    }
   ],
   "source": [
    "hyperparams_dist = {\n",
    "    'n_estimators': randint(65, 80),\n",
    "    'max_depth': randint(20, 40),\n",
    "    'min_samples_leaf': randint(1, 11),\n",
    "    'max_features': randint(1, 9)\n",
    "    }\n",
    "hyperparams_dist"
   ]
  },
  {
   "cell_type": "code",
   "execution_count": 241,
   "id": "bc5f7b60",
   "metadata": {},
   "outputs": [],
   "source": [
    "#instantiate the RandomForestClassifier \n",
    "rf = RandomForestClassifier(random_state=42, class_weight='balanced')"
   ]
  },
  {
   "cell_type": "code",
   "execution_count": 242,
   "id": "a768fbc1",
   "metadata": {},
   "outputs": [],
   "source": [
    "f2_scorer = make_scorer(fbeta_score, beta=2, pos_label=1, average='binary')"
   ]
  },
  {
   "cell_type": "code",
   "execution_count": 243,
   "id": "cd440e1f",
   "metadata": {},
   "outputs": [],
   "source": [
    "#Instantiate a KFold \n",
    "kfold = StratifiedKFold(n_splits=10, shuffle=True, random_state=1)"
   ]
  },
  {
   "cell_type": "code",
   "execution_count": 244,
   "id": "bb81be9f",
   "metadata": {},
   "outputs": [],
   "source": [
    "#Instantiate a GridSearchCV\n",
    "random_search_rf = RandomizedSearchCV(rf, hyperparams_dist, cv=kfold, scoring=f2_scorer, verbose=2, return_train_score = True, n_jobs= -1, random_state=1)"
   ]
  },
  {
   "cell_type": "code",
   "execution_count": 245,
   "id": "13bbc5ba",
   "metadata": {
    "scrolled": true
   },
   "outputs": [
    {
     "name": "stdout",
     "output_type": "stream",
     "text": [
      "Fitting 10 folds for each of 10 candidates, totalling 100 fits\n"
     ]
    },
    {
     "data": {
      "text/plain": [
       "RandomizedSearchCV(cv=StratifiedKFold(n_splits=10, random_state=1, shuffle=True),\n",
       "                   estimator=RandomForestClassifier(class_weight='balanced',\n",
       "                                                    random_state=42),\n",
       "                   n_jobs=-1,\n",
       "                   param_distributions={'max_depth': <scipy.stats._distn_infrastructure.rv_discrete_frozen object at 0x0000022C1BAC7250>,\n",
       "                                        'max_features': <scipy.stats._distn_infrastructure.rv_discrete_frozen object at 0x0000022C1BAC7610>,\n",
       "                                        'min_samples_leaf': <scipy.stats._distn_infrastructure.rv_discrete_frozen object at 0x0000022C1BA2BD00>,\n",
       "                                        'n_estimators': <scipy.stats._distn_infrastructure.rv_discrete_frozen object at 0x0000022C1BACAF70>},\n",
       "                   random_state=1, return_train_score=True,\n",
       "                   scoring=make_scorer(fbeta_score, beta=2, pos_label=1, average=binary),\n",
       "                   verbose=2)"
      ]
     },
     "execution_count": 245,
     "metadata": {},
     "output_type": "execute_result"
    }
   ],
   "source": [
    "#Fit the random Search on the training set\n",
    "random_search_rf.fit(X_train, y_train)"
   ]
  },
  {
   "cell_type": "code",
   "execution_count": 246,
   "id": "ad78dcbe",
   "metadata": {},
   "outputs": [
    {
     "data": {
      "text/plain": [
       "{'max_depth': 27, 'max_features': 8, 'min_samples_leaf': 7, 'n_estimators': 74}"
      ]
     },
     "execution_count": 246,
     "metadata": {},
     "output_type": "execute_result"
    }
   ],
   "source": [
    "random_search_rf.best_params_"
   ]
  },
  {
   "cell_type": "code",
   "execution_count": 247,
   "id": "cf797c41",
   "metadata": {},
   "outputs": [
    {
     "name": "stdout",
     "output_type": "stream",
     "text": [
      "0.9167686658506733\n",
      "0.8172289551261054\n",
      "0.8346293416277863\n"
     ]
    }
   ],
   "source": [
    "print(random_search_rf.score(X_train, y_train))\n",
    "print(random_search_rf.score(X_val, y_val))\n",
    "print(random_search_rf.score(X_test, y_test))"
   ]
  },
  {
   "cell_type": "markdown",
   "id": "cc8064a1",
   "metadata": {},
   "source": [
    "The performance of the model decreased. Variables with encoder are prefered."
   ]
  },
  {
   "cell_type": "markdown",
   "id": "d0114f38",
   "metadata": {},
   "source": [
    "## 8. Conclusion"
   ]
  },
  {
   "cell_type": "markdown",
   "id": "5450a906",
   "metadata": {},
   "source": [
    "Random forest with variables based on feature importance [7.5] is the model that best demonstrated fit to the data and obtained a higher f2 score performance than in the rest of the models.\n",
    "Compared to other algorithms, this model significantly increased performance in training and testing. However, it still overfits, but to a lower extent.\n",
    "\n",
    "Taking into account the objective of the training, this model presents acceptable results that can be used by the business to launch the sales campaign, with a final score of approx 84.9% in the test data."
   ]
  },
  {
   "cell_type": "markdown",
   "id": "23f84178",
   "metadata": {},
   "source": [
    "## 9. References"
   ]
  },
  {
   "cell_type": "markdown",
   "id": "247d2f03",
   "metadata": {},
   "source": [
    "Brownlee, J. (2020, January 12). How to Fix k-Fold Cross-Validation for Imbalanced Classification. MachineLearningMastery.Com. https://machinelearningmastery.com/cross-validation-for-imbalanced-classification/\n",
    "\n",
    "Catbuilts. (2018, October 6). Answer to ‘difference between StratifiedKFold and StratifiedShuffleSplit in sklearn’. Stack Overflow. https://stackoverflow.com/a/52677641\n",
    "\n",
    "Ellis, C. (2021, August 24). Random forest overfitting. Crunching the Data. https://crunchingthedata.com/random-forest-overfitting/\n",
    "\n",
    "Saxena, S. (2020, March 12). A Beginner’s Guide to Random Forest Hyperparameter Tuning. Analytics Vidhya. https://www.analyticsvidhya.com/blog/2020/03/beginners-guide-random-forest-hyperparameter-tuning/\n",
    "\n",
    "scikit-learn developers. (2023a). 3.3. Metrics and scoring: Quantifying the quality of predictions. Scikit-Learn. https://scikit-learn/stable/modules/model_evaluation.html\n",
    "\n",
    "scikit-learn developers. (2023b). Sklearn.metrics.make_scorer. Scikit-Learn. https://scikit-learn/stable/modules/generated/sklearn.metrics.make_scorer.html\n",
    "\n",
    "scikit-learn developers. (2023c). Sklearn.model_selection.GridSearchCV. Scikit-Learn. https://scikit-learn/stable/modules/generated/sklearn.model_selection.GridSearchCV.html\n",
    "\n",
    "scikit-learn developers. (2023d). Sklearn.model_selection.StratifiedKFold. Scikit-Learn. https://scikit-learn/stable/modules/generated/sklearn.model_selection.StratifiedKFold.html\n",
    "\n",
    "scikit-learn developers. (2023e). Sklearn.tree.DecisionTreeClassifier. Scikit-Learn. https://scikit-learn/stable/modules/generated/sklearn.tree.DecisionTreeClassifier.html\n",
    "\n",
    "scikit-learn developers. (2023f). Sklearn.ensemble.ExtraTreesClassifier. Scikit-Learn. https://scikit-learn/stable/modules/generated/sklearn.ensemble.ExtraTreesClassifier.html\n",
    "\n",
    "So, A. (2023). Course Modules: 36106 Machine Learning Algorithms and Applications—Autumn 2023. Lab Solutions. https://canvas.uts.edu.au/courses/26202/modules\n",
    "\n"
   ]
  }
 ],
 "metadata": {
  "kernelspec": {
   "display_name": "Python 3 (ipykernel)",
   "language": "python",
   "name": "python3"
  },
  "language_info": {
   "codemirror_mode": {
    "name": "ipython",
    "version": 3
   },
   "file_extension": ".py",
   "mimetype": "text/x-python",
   "name": "python",
   "nbconvert_exporter": "python",
   "pygments_lexer": "ipython3",
   "version": "3.9.13"
  }
 },
 "nbformat": 4,
 "nbformat_minor": 5
}

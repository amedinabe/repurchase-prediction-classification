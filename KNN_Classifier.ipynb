{
 "cells": [
  {
   "cell_type": "markdown",
   "id": "6d4b9a86",
   "metadata": {},
   "source": [
    " # Experiment 2: Binary classification"
   ]
  },
  {
   "cell_type": "markdown",
   "id": "400a83f6",
   "metadata": {},
   "source": [
    "Content\n",
    "\n",
    "1. Introduction\n",
    "2. Used libraries\n",
    "3. Reading Clean Data from a CSV File\n",
    "4. Case of study and data understanding\n",
    "5. Split the data\n",
    "6. Data Scaling\n",
    "    \n",
    "    6.1 Data Standardisation\n",
    "    \n",
    "    6.2 Data Normalisation\n",
    "    \n",
    "    \n",
    "7. Assess Baseline Model\n",
    "8. Training a model\n",
    "    \n",
    "    8.1 KNN Classifier default\n",
    "    \n",
    "    8.2 KNN Classifier with different hyperparameters values n_neighbors=10\n",
    "    \n",
    "    8.3 KNN Classifier with elbow method for n_neighbors\n",
    "    \n",
    "    8.4 KNN Classifier with PCA and elbow method for dimensionality reduction\n",
    "    \n",
    "    \n",
    "9. Conclusion\n",
    "10. References"
   ]
  },
  {
   "cell_type": "markdown",
   "id": "5422fb9f",
   "metadata": {},
   "source": [
    "## 1. Introduction"
   ]
  },
  {
   "cell_type": "markdown",
   "id": "67b8b574",
   "metadata": {},
   "source": [
    "In the following study, we will fit a binary classification model using KNN classifier to predict if an existing customer is more likely to buy a new car as accurate as possible."
   ]
  },
  {
   "cell_type": "markdown",
   "id": "7b4cd5a1",
   "metadata": {},
   "source": [
    "## 2. Used libraries "
   ]
  },
  {
   "cell_type": "code",
   "execution_count": 2,
   "id": "aacb30aa",
   "metadata": {},
   "outputs": [],
   "source": [
    "#working with data\n",
    "import pandas as pd\n",
    "import numpy as np\n",
    "\n",
    "#plotting data\n",
    "import seaborn as sns\n",
    "import matplotlib.pyplot as plt "
   ]
  },
  {
   "cell_type": "code",
   "execution_count": 3,
   "id": "38952dd4",
   "metadata": {},
   "outputs": [],
   "source": [
    "import warnings\n",
    "warnings.filterwarnings('ignore')"
   ]
  },
  {
   "cell_type": "markdown",
   "id": "a01b38c1",
   "metadata": {},
   "source": [
    "## 3. Reading Clean Data from a CSV File"
   ]
  },
  {
   "cell_type": "markdown",
   "id": "67eeb01a",
   "metadata": {},
   "source": [
    "Raw data:"
   ]
  },
  {
   "cell_type": "code",
   "execution_count": 4,
   "id": "b75aa9c5",
   "metadata": {},
   "outputs": [],
   "source": [
    "df = pd.read_csv('repurchase_training.csv')"
   ]
  },
  {
   "cell_type": "code",
   "execution_count": 5,
   "id": "0a1f9e6d",
   "metadata": {},
   "outputs": [
    {
     "data": {
      "text/html": [
       "<div>\n",
       "<style scoped>\n",
       "    .dataframe tbody tr th:only-of-type {\n",
       "        vertical-align: middle;\n",
       "    }\n",
       "\n",
       "    .dataframe tbody tr th {\n",
       "        vertical-align: top;\n",
       "    }\n",
       "\n",
       "    .dataframe thead th {\n",
       "        text-align: right;\n",
       "    }\n",
       "</style>\n",
       "<table border=\"1\" class=\"dataframe\">\n",
       "  <thead>\n",
       "    <tr style=\"text-align: right;\">\n",
       "      <th></th>\n",
       "      <th>ID</th>\n",
       "      <th>Target</th>\n",
       "      <th>age_band</th>\n",
       "      <th>gender</th>\n",
       "      <th>car_model</th>\n",
       "      <th>car_segment</th>\n",
       "      <th>age_of_vehicle_years</th>\n",
       "      <th>sched_serv_warr</th>\n",
       "      <th>non_sched_serv_warr</th>\n",
       "      <th>sched_serv_paid</th>\n",
       "      <th>non_sched_serv_paid</th>\n",
       "      <th>total_paid_services</th>\n",
       "      <th>total_services</th>\n",
       "      <th>mth_since_last_serv</th>\n",
       "      <th>annualised_mileage</th>\n",
       "      <th>num_dealers_visited</th>\n",
       "      <th>num_serv_dealer_purchased</th>\n",
       "    </tr>\n",
       "  </thead>\n",
       "  <tbody>\n",
       "    <tr>\n",
       "      <th>0</th>\n",
       "      <td>1</td>\n",
       "      <td>0</td>\n",
       "      <td>3. 35 to 44</td>\n",
       "      <td>Male</td>\n",
       "      <td>model_1</td>\n",
       "      <td>LCV</td>\n",
       "      <td>9</td>\n",
       "      <td>2</td>\n",
       "      <td>10</td>\n",
       "      <td>3</td>\n",
       "      <td>7</td>\n",
       "      <td>5</td>\n",
       "      <td>6</td>\n",
       "      <td>9</td>\n",
       "      <td>8</td>\n",
       "      <td>10</td>\n",
       "      <td>4</td>\n",
       "    </tr>\n",
       "    <tr>\n",
       "      <th>1</th>\n",
       "      <td>2</td>\n",
       "      <td>0</td>\n",
       "      <td>NaN</td>\n",
       "      <td>NaN</td>\n",
       "      <td>model_2</td>\n",
       "      <td>Small/Medium</td>\n",
       "      <td>6</td>\n",
       "      <td>10</td>\n",
       "      <td>3</td>\n",
       "      <td>10</td>\n",
       "      <td>4</td>\n",
       "      <td>9</td>\n",
       "      <td>10</td>\n",
       "      <td>6</td>\n",
       "      <td>10</td>\n",
       "      <td>7</td>\n",
       "      <td>10</td>\n",
       "    </tr>\n",
       "    <tr>\n",
       "      <th>2</th>\n",
       "      <td>3</td>\n",
       "      <td>0</td>\n",
       "      <td>NaN</td>\n",
       "      <td>Male</td>\n",
       "      <td>model_3</td>\n",
       "      <td>Large/SUV</td>\n",
       "      <td>9</td>\n",
       "      <td>10</td>\n",
       "      <td>9</td>\n",
       "      <td>10</td>\n",
       "      <td>9</td>\n",
       "      <td>10</td>\n",
       "      <td>10</td>\n",
       "      <td>7</td>\n",
       "      <td>10</td>\n",
       "      <td>6</td>\n",
       "      <td>10</td>\n",
       "    </tr>\n",
       "    <tr>\n",
       "      <th>3</th>\n",
       "      <td>5</td>\n",
       "      <td>0</td>\n",
       "      <td>NaN</td>\n",
       "      <td>NaN</td>\n",
       "      <td>model_3</td>\n",
       "      <td>Large/SUV</td>\n",
       "      <td>5</td>\n",
       "      <td>8</td>\n",
       "      <td>5</td>\n",
       "      <td>8</td>\n",
       "      <td>4</td>\n",
       "      <td>5</td>\n",
       "      <td>6</td>\n",
       "      <td>4</td>\n",
       "      <td>10</td>\n",
       "      <td>9</td>\n",
       "      <td>7</td>\n",
       "    </tr>\n",
       "    <tr>\n",
       "      <th>4</th>\n",
       "      <td>6</td>\n",
       "      <td>0</td>\n",
       "      <td>NaN</td>\n",
       "      <td>Female</td>\n",
       "      <td>model_2</td>\n",
       "      <td>Small/Medium</td>\n",
       "      <td>8</td>\n",
       "      <td>9</td>\n",
       "      <td>4</td>\n",
       "      <td>10</td>\n",
       "      <td>7</td>\n",
       "      <td>9</td>\n",
       "      <td>8</td>\n",
       "      <td>5</td>\n",
       "      <td>4</td>\n",
       "      <td>4</td>\n",
       "      <td>9</td>\n",
       "    </tr>\n",
       "    <tr>\n",
       "      <th>...</th>\n",
       "      <td>...</td>\n",
       "      <td>...</td>\n",
       "      <td>...</td>\n",
       "      <td>...</td>\n",
       "      <td>...</td>\n",
       "      <td>...</td>\n",
       "      <td>...</td>\n",
       "      <td>...</td>\n",
       "      <td>...</td>\n",
       "      <td>...</td>\n",
       "      <td>...</td>\n",
       "      <td>...</td>\n",
       "      <td>...</td>\n",
       "      <td>...</td>\n",
       "      <td>...</td>\n",
       "      <td>...</td>\n",
       "      <td>...</td>\n",
       "    </tr>\n",
       "    <tr>\n",
       "      <th>131332</th>\n",
       "      <td>154134</td>\n",
       "      <td>1</td>\n",
       "      <td>NaN</td>\n",
       "      <td>NaN</td>\n",
       "      <td>model_3</td>\n",
       "      <td>Large/SUV</td>\n",
       "      <td>7</td>\n",
       "      <td>10</td>\n",
       "      <td>10</td>\n",
       "      <td>9</td>\n",
       "      <td>10</td>\n",
       "      <td>10</td>\n",
       "      <td>10</td>\n",
       "      <td>3</td>\n",
       "      <td>6</td>\n",
       "      <td>10</td>\n",
       "      <td>10</td>\n",
       "    </tr>\n",
       "    <tr>\n",
       "      <th>131333</th>\n",
       "      <td>154135</td>\n",
       "      <td>1</td>\n",
       "      <td>NaN</td>\n",
       "      <td>NaN</td>\n",
       "      <td>model_3</td>\n",
       "      <td>Large/SUV</td>\n",
       "      <td>4</td>\n",
       "      <td>10</td>\n",
       "      <td>10</td>\n",
       "      <td>10</td>\n",
       "      <td>10</td>\n",
       "      <td>10</td>\n",
       "      <td>10</td>\n",
       "      <td>2</td>\n",
       "      <td>3</td>\n",
       "      <td>10</td>\n",
       "      <td>10</td>\n",
       "    </tr>\n",
       "    <tr>\n",
       "      <th>131334</th>\n",
       "      <td>154137</td>\n",
       "      <td>1</td>\n",
       "      <td>NaN</td>\n",
       "      <td>NaN</td>\n",
       "      <td>model_5</td>\n",
       "      <td>Large/SUV</td>\n",
       "      <td>4</td>\n",
       "      <td>4</td>\n",
       "      <td>9</td>\n",
       "      <td>5</td>\n",
       "      <td>4</td>\n",
       "      <td>3</td>\n",
       "      <td>8</td>\n",
       "      <td>4</td>\n",
       "      <td>7</td>\n",
       "      <td>10</td>\n",
       "      <td>10</td>\n",
       "    </tr>\n",
       "    <tr>\n",
       "      <th>131335</th>\n",
       "      <td>154138</td>\n",
       "      <td>1</td>\n",
       "      <td>NaN</td>\n",
       "      <td>NaN</td>\n",
       "      <td>model_5</td>\n",
       "      <td>Large/SUV</td>\n",
       "      <td>2</td>\n",
       "      <td>1</td>\n",
       "      <td>10</td>\n",
       "      <td>1</td>\n",
       "      <td>10</td>\n",
       "      <td>9</td>\n",
       "      <td>8</td>\n",
       "      <td>3</td>\n",
       "      <td>6</td>\n",
       "      <td>7</td>\n",
       "      <td>10</td>\n",
       "    </tr>\n",
       "    <tr>\n",
       "      <th>131336</th>\n",
       "      <td>154139</td>\n",
       "      <td>1</td>\n",
       "      <td>NaN</td>\n",
       "      <td>NaN</td>\n",
       "      <td>model_1</td>\n",
       "      <td>LCV</td>\n",
       "      <td>6</td>\n",
       "      <td>1</td>\n",
       "      <td>7</td>\n",
       "      <td>1</td>\n",
       "      <td>10</td>\n",
       "      <td>10</td>\n",
       "      <td>5</td>\n",
       "      <td>3</td>\n",
       "      <td>4</td>\n",
       "      <td>9</td>\n",
       "      <td>10</td>\n",
       "    </tr>\n",
       "  </tbody>\n",
       "</table>\n",
       "<p>131337 rows × 17 columns</p>\n",
       "</div>"
      ],
      "text/plain": [
       "            ID  Target     age_band  gender car_model   car_segment  \\\n",
       "0            1       0  3. 35 to 44    Male   model_1           LCV   \n",
       "1            2       0          NaN     NaN   model_2  Small/Medium   \n",
       "2            3       0          NaN    Male   model_3     Large/SUV   \n",
       "3            5       0          NaN     NaN   model_3     Large/SUV   \n",
       "4            6       0          NaN  Female   model_2  Small/Medium   \n",
       "...        ...     ...          ...     ...       ...           ...   \n",
       "131332  154134       1          NaN     NaN   model_3     Large/SUV   \n",
       "131333  154135       1          NaN     NaN   model_3     Large/SUV   \n",
       "131334  154137       1          NaN     NaN   model_5     Large/SUV   \n",
       "131335  154138       1          NaN     NaN   model_5     Large/SUV   \n",
       "131336  154139       1          NaN     NaN   model_1           LCV   \n",
       "\n",
       "        age_of_vehicle_years  sched_serv_warr  non_sched_serv_warr  \\\n",
       "0                          9                2                   10   \n",
       "1                          6               10                    3   \n",
       "2                          9               10                    9   \n",
       "3                          5                8                    5   \n",
       "4                          8                9                    4   \n",
       "...                      ...              ...                  ...   \n",
       "131332                     7               10                   10   \n",
       "131333                     4               10                   10   \n",
       "131334                     4                4                    9   \n",
       "131335                     2                1                   10   \n",
       "131336                     6                1                    7   \n",
       "\n",
       "        sched_serv_paid  non_sched_serv_paid  total_paid_services  \\\n",
       "0                     3                    7                    5   \n",
       "1                    10                    4                    9   \n",
       "2                    10                    9                   10   \n",
       "3                     8                    4                    5   \n",
       "4                    10                    7                    9   \n",
       "...                 ...                  ...                  ...   \n",
       "131332                9                   10                   10   \n",
       "131333               10                   10                   10   \n",
       "131334                5                    4                    3   \n",
       "131335                1                   10                    9   \n",
       "131336                1                   10                   10   \n",
       "\n",
       "        total_services  mth_since_last_serv  annualised_mileage  \\\n",
       "0                    6                    9                   8   \n",
       "1                   10                    6                  10   \n",
       "2                   10                    7                  10   \n",
       "3                    6                    4                  10   \n",
       "4                    8                    5                   4   \n",
       "...                ...                  ...                 ...   \n",
       "131332              10                    3                   6   \n",
       "131333              10                    2                   3   \n",
       "131334               8                    4                   7   \n",
       "131335               8                    3                   6   \n",
       "131336               5                    3                   4   \n",
       "\n",
       "        num_dealers_visited  num_serv_dealer_purchased  \n",
       "0                        10                          4  \n",
       "1                         7                         10  \n",
       "2                         6                         10  \n",
       "3                         9                          7  \n",
       "4                         4                          9  \n",
       "...                     ...                        ...  \n",
       "131332                   10                         10  \n",
       "131333                   10                         10  \n",
       "131334                   10                         10  \n",
       "131335                    7                         10  \n",
       "131336                    9                         10  \n",
       "\n",
       "[131337 rows x 17 columns]"
      ]
     },
     "execution_count": 5,
     "metadata": {},
     "output_type": "execute_result"
    }
   ],
   "source": [
    "df"
   ]
  },
  {
   "cell_type": "markdown",
   "id": "a7395c68",
   "metadata": {},
   "source": [
    "Clean data:"
   ]
  },
  {
   "cell_type": "markdown",
   "id": "0c74e4f5",
   "metadata": {},
   "source": [
    "We will use features based on One hot encoding and then apply them scaling techniques."
   ]
  },
  {
   "cell_type": "code",
   "execution_count": 6,
   "id": "360e8496",
   "metadata": {},
   "outputs": [],
   "source": [
    "df_cleaned = pd.read_csv(\"df_cleaned2.csv\")\n",
    "#clean columns\n",
    "df_cleaned.drop(df_cleaned.columns[0], axis=1, inplace=True)"
   ]
  },
  {
   "cell_type": "code",
   "execution_count": 7,
   "id": "198ce0eb",
   "metadata": {},
   "outputs": [
    {
     "data": {
      "text/plain": [
       "(131337, 37)"
      ]
     },
     "execution_count": 7,
     "metadata": {},
     "output_type": "execute_result"
    }
   ],
   "source": [
    "df_cleaned.shape"
   ]
  },
  {
   "cell_type": "code",
   "execution_count": 8,
   "id": "8f5856aa",
   "metadata": {},
   "outputs": [
    {
     "data": {
      "text/html": [
       "<div>\n",
       "<style scoped>\n",
       "    .dataframe tbody tr th:only-of-type {\n",
       "        vertical-align: middle;\n",
       "    }\n",
       "\n",
       "    .dataframe tbody tr th {\n",
       "        vertical-align: top;\n",
       "    }\n",
       "\n",
       "    .dataframe thead th {\n",
       "        text-align: right;\n",
       "    }\n",
       "</style>\n",
       "<table border=\"1\" class=\"dataframe\">\n",
       "  <thead>\n",
       "    <tr style=\"text-align: right;\">\n",
       "      <th></th>\n",
       "      <th>Target</th>\n",
       "      <th>age_band</th>\n",
       "      <th>age_of_vehicle_years</th>\n",
       "      <th>sched_serv_warr</th>\n",
       "      <th>non_sched_serv_warr</th>\n",
       "      <th>sched_serv_paid</th>\n",
       "      <th>non_sched_serv_paid</th>\n",
       "      <th>total_paid_services</th>\n",
       "      <th>total_services</th>\n",
       "      <th>mth_since_last_serv</th>\n",
       "      <th>...</th>\n",
       "      <th>model_18</th>\n",
       "      <th>model_19</th>\n",
       "      <th>model_2</th>\n",
       "      <th>model_3</th>\n",
       "      <th>model_4</th>\n",
       "      <th>model_5</th>\n",
       "      <th>model_6</th>\n",
       "      <th>model_7</th>\n",
       "      <th>model_8</th>\n",
       "      <th>model_9</th>\n",
       "    </tr>\n",
       "  </thead>\n",
       "  <tbody>\n",
       "    <tr>\n",
       "      <th>0</th>\n",
       "      <td>0</td>\n",
       "      <td>3</td>\n",
       "      <td>9</td>\n",
       "      <td>2</td>\n",
       "      <td>10</td>\n",
       "      <td>3</td>\n",
       "      <td>7</td>\n",
       "      <td>5</td>\n",
       "      <td>6</td>\n",
       "      <td>9</td>\n",
       "      <td>...</td>\n",
       "      <td>0</td>\n",
       "      <td>0</td>\n",
       "      <td>0</td>\n",
       "      <td>0</td>\n",
       "      <td>0</td>\n",
       "      <td>0</td>\n",
       "      <td>0</td>\n",
       "      <td>0</td>\n",
       "      <td>0</td>\n",
       "      <td>0</td>\n",
       "    </tr>\n",
       "    <tr>\n",
       "      <th>1</th>\n",
       "      <td>0</td>\n",
       "      <td>0</td>\n",
       "      <td>6</td>\n",
       "      <td>10</td>\n",
       "      <td>3</td>\n",
       "      <td>10</td>\n",
       "      <td>4</td>\n",
       "      <td>9</td>\n",
       "      <td>10</td>\n",
       "      <td>6</td>\n",
       "      <td>...</td>\n",
       "      <td>0</td>\n",
       "      <td>0</td>\n",
       "      <td>1</td>\n",
       "      <td>0</td>\n",
       "      <td>0</td>\n",
       "      <td>0</td>\n",
       "      <td>0</td>\n",
       "      <td>0</td>\n",
       "      <td>0</td>\n",
       "      <td>0</td>\n",
       "    </tr>\n",
       "    <tr>\n",
       "      <th>2</th>\n",
       "      <td>0</td>\n",
       "      <td>0</td>\n",
       "      <td>9</td>\n",
       "      <td>10</td>\n",
       "      <td>9</td>\n",
       "      <td>10</td>\n",
       "      <td>9</td>\n",
       "      <td>10</td>\n",
       "      <td>10</td>\n",
       "      <td>7</td>\n",
       "      <td>...</td>\n",
       "      <td>0</td>\n",
       "      <td>0</td>\n",
       "      <td>0</td>\n",
       "      <td>1</td>\n",
       "      <td>0</td>\n",
       "      <td>0</td>\n",
       "      <td>0</td>\n",
       "      <td>0</td>\n",
       "      <td>0</td>\n",
       "      <td>0</td>\n",
       "    </tr>\n",
       "    <tr>\n",
       "      <th>3</th>\n",
       "      <td>0</td>\n",
       "      <td>0</td>\n",
       "      <td>5</td>\n",
       "      <td>8</td>\n",
       "      <td>5</td>\n",
       "      <td>8</td>\n",
       "      <td>4</td>\n",
       "      <td>5</td>\n",
       "      <td>6</td>\n",
       "      <td>4</td>\n",
       "      <td>...</td>\n",
       "      <td>0</td>\n",
       "      <td>0</td>\n",
       "      <td>0</td>\n",
       "      <td>1</td>\n",
       "      <td>0</td>\n",
       "      <td>0</td>\n",
       "      <td>0</td>\n",
       "      <td>0</td>\n",
       "      <td>0</td>\n",
       "      <td>0</td>\n",
       "    </tr>\n",
       "    <tr>\n",
       "      <th>4</th>\n",
       "      <td>0</td>\n",
       "      <td>0</td>\n",
       "      <td>8</td>\n",
       "      <td>9</td>\n",
       "      <td>4</td>\n",
       "      <td>10</td>\n",
       "      <td>7</td>\n",
       "      <td>9</td>\n",
       "      <td>8</td>\n",
       "      <td>5</td>\n",
       "      <td>...</td>\n",
       "      <td>0</td>\n",
       "      <td>0</td>\n",
       "      <td>1</td>\n",
       "      <td>0</td>\n",
       "      <td>0</td>\n",
       "      <td>0</td>\n",
       "      <td>0</td>\n",
       "      <td>0</td>\n",
       "      <td>0</td>\n",
       "      <td>0</td>\n",
       "    </tr>\n",
       "    <tr>\n",
       "      <th>...</th>\n",
       "      <td>...</td>\n",
       "      <td>...</td>\n",
       "      <td>...</td>\n",
       "      <td>...</td>\n",
       "      <td>...</td>\n",
       "      <td>...</td>\n",
       "      <td>...</td>\n",
       "      <td>...</td>\n",
       "      <td>...</td>\n",
       "      <td>...</td>\n",
       "      <td>...</td>\n",
       "      <td>...</td>\n",
       "      <td>...</td>\n",
       "      <td>...</td>\n",
       "      <td>...</td>\n",
       "      <td>...</td>\n",
       "      <td>...</td>\n",
       "      <td>...</td>\n",
       "      <td>...</td>\n",
       "      <td>...</td>\n",
       "      <td>...</td>\n",
       "    </tr>\n",
       "    <tr>\n",
       "      <th>131332</th>\n",
       "      <td>1</td>\n",
       "      <td>0</td>\n",
       "      <td>7</td>\n",
       "      <td>10</td>\n",
       "      <td>10</td>\n",
       "      <td>9</td>\n",
       "      <td>10</td>\n",
       "      <td>10</td>\n",
       "      <td>10</td>\n",
       "      <td>3</td>\n",
       "      <td>...</td>\n",
       "      <td>0</td>\n",
       "      <td>0</td>\n",
       "      <td>0</td>\n",
       "      <td>1</td>\n",
       "      <td>0</td>\n",
       "      <td>0</td>\n",
       "      <td>0</td>\n",
       "      <td>0</td>\n",
       "      <td>0</td>\n",
       "      <td>0</td>\n",
       "    </tr>\n",
       "    <tr>\n",
       "      <th>131333</th>\n",
       "      <td>1</td>\n",
       "      <td>0</td>\n",
       "      <td>4</td>\n",
       "      <td>10</td>\n",
       "      <td>10</td>\n",
       "      <td>10</td>\n",
       "      <td>10</td>\n",
       "      <td>10</td>\n",
       "      <td>10</td>\n",
       "      <td>2</td>\n",
       "      <td>...</td>\n",
       "      <td>0</td>\n",
       "      <td>0</td>\n",
       "      <td>0</td>\n",
       "      <td>1</td>\n",
       "      <td>0</td>\n",
       "      <td>0</td>\n",
       "      <td>0</td>\n",
       "      <td>0</td>\n",
       "      <td>0</td>\n",
       "      <td>0</td>\n",
       "    </tr>\n",
       "    <tr>\n",
       "      <th>131334</th>\n",
       "      <td>1</td>\n",
       "      <td>0</td>\n",
       "      <td>4</td>\n",
       "      <td>4</td>\n",
       "      <td>9</td>\n",
       "      <td>5</td>\n",
       "      <td>4</td>\n",
       "      <td>3</td>\n",
       "      <td>8</td>\n",
       "      <td>4</td>\n",
       "      <td>...</td>\n",
       "      <td>0</td>\n",
       "      <td>0</td>\n",
       "      <td>0</td>\n",
       "      <td>0</td>\n",
       "      <td>0</td>\n",
       "      <td>1</td>\n",
       "      <td>0</td>\n",
       "      <td>0</td>\n",
       "      <td>0</td>\n",
       "      <td>0</td>\n",
       "    </tr>\n",
       "    <tr>\n",
       "      <th>131335</th>\n",
       "      <td>1</td>\n",
       "      <td>0</td>\n",
       "      <td>2</td>\n",
       "      <td>1</td>\n",
       "      <td>10</td>\n",
       "      <td>1</td>\n",
       "      <td>10</td>\n",
       "      <td>9</td>\n",
       "      <td>8</td>\n",
       "      <td>3</td>\n",
       "      <td>...</td>\n",
       "      <td>0</td>\n",
       "      <td>0</td>\n",
       "      <td>0</td>\n",
       "      <td>0</td>\n",
       "      <td>0</td>\n",
       "      <td>1</td>\n",
       "      <td>0</td>\n",
       "      <td>0</td>\n",
       "      <td>0</td>\n",
       "      <td>0</td>\n",
       "    </tr>\n",
       "    <tr>\n",
       "      <th>131336</th>\n",
       "      <td>1</td>\n",
       "      <td>0</td>\n",
       "      <td>6</td>\n",
       "      <td>1</td>\n",
       "      <td>7</td>\n",
       "      <td>1</td>\n",
       "      <td>10</td>\n",
       "      <td>10</td>\n",
       "      <td>5</td>\n",
       "      <td>3</td>\n",
       "      <td>...</td>\n",
       "      <td>0</td>\n",
       "      <td>0</td>\n",
       "      <td>0</td>\n",
       "      <td>0</td>\n",
       "      <td>0</td>\n",
       "      <td>0</td>\n",
       "      <td>0</td>\n",
       "      <td>0</td>\n",
       "      <td>0</td>\n",
       "      <td>0</td>\n",
       "    </tr>\n",
       "  </tbody>\n",
       "</table>\n",
       "<p>131337 rows × 37 columns</p>\n",
       "</div>"
      ],
      "text/plain": [
       "        Target  age_band  age_of_vehicle_years  sched_serv_warr  \\\n",
       "0            0         3                     9                2   \n",
       "1            0         0                     6               10   \n",
       "2            0         0                     9               10   \n",
       "3            0         0                     5                8   \n",
       "4            0         0                     8                9   \n",
       "...        ...       ...                   ...              ...   \n",
       "131332       1         0                     7               10   \n",
       "131333       1         0                     4               10   \n",
       "131334       1         0                     4                4   \n",
       "131335       1         0                     2                1   \n",
       "131336       1         0                     6                1   \n",
       "\n",
       "        non_sched_serv_warr  sched_serv_paid  non_sched_serv_paid  \\\n",
       "0                        10                3                    7   \n",
       "1                         3               10                    4   \n",
       "2                         9               10                    9   \n",
       "3                         5                8                    4   \n",
       "4                         4               10                    7   \n",
       "...                     ...              ...                  ...   \n",
       "131332                   10                9                   10   \n",
       "131333                   10               10                   10   \n",
       "131334                    9                5                    4   \n",
       "131335                   10                1                   10   \n",
       "131336                    7                1                   10   \n",
       "\n",
       "        total_paid_services  total_services  mth_since_last_serv  ...  \\\n",
       "0                         5               6                    9  ...   \n",
       "1                         9              10                    6  ...   \n",
       "2                        10              10                    7  ...   \n",
       "3                         5               6                    4  ...   \n",
       "4                         9               8                    5  ...   \n",
       "...                     ...             ...                  ...  ...   \n",
       "131332                   10              10                    3  ...   \n",
       "131333                   10              10                    2  ...   \n",
       "131334                    3               8                    4  ...   \n",
       "131335                    9               8                    3  ...   \n",
       "131336                   10               5                    3  ...   \n",
       "\n",
       "        model_18  model_19  model_2  model_3  model_4  model_5  model_6  \\\n",
       "0              0         0        0        0        0        0        0   \n",
       "1              0         0        1        0        0        0        0   \n",
       "2              0         0        0        1        0        0        0   \n",
       "3              0         0        0        1        0        0        0   \n",
       "4              0         0        1        0        0        0        0   \n",
       "...          ...       ...      ...      ...      ...      ...      ...   \n",
       "131332         0         0        0        1        0        0        0   \n",
       "131333         0         0        0        1        0        0        0   \n",
       "131334         0         0        0        0        0        1        0   \n",
       "131335         0         0        0        0        0        1        0   \n",
       "131336         0         0        0        0        0        0        0   \n",
       "\n",
       "        model_7  model_8  model_9  \n",
       "0             0        0        0  \n",
       "1             0        0        0  \n",
       "2             0        0        0  \n",
       "3             0        0        0  \n",
       "4             0        0        0  \n",
       "...         ...      ...      ...  \n",
       "131332        0        0        0  \n",
       "131333        0        0        0  \n",
       "131334        0        0        0  \n",
       "131335        0        0        0  \n",
       "131336        0        0        0  \n",
       "\n",
       "[131337 rows x 37 columns]"
      ]
     },
     "execution_count": 8,
     "metadata": {},
     "output_type": "execute_result"
    }
   ],
   "source": [
    "df_cleaned"
   ]
  },
  {
   "cell_type": "markdown",
   "id": "cc4b9505",
   "metadata": {},
   "source": [
    "## 4. Case of study and data understanding "
   ]
  },
  {
   "cell_type": "markdown",
   "id": "afd75be9",
   "metadata": {},
   "source": [
    "**[4.1]** Hypothesis"
   ]
  },
  {
   "cell_type": "markdown",
   "id": "c766bf9e",
   "metadata": {},
   "source": [
    "The case study has the following hypothesis:\n",
    "We will train a KNN model to predict if an existing customer is more likely to buy a new car. Assuming that the algorithm will perform better if the classes are far apart enough."
   ]
  },
  {
   "cell_type": "markdown",
   "id": "b89f3624",
   "metadata": {},
   "source": [
    "## 5. Split the data "
   ]
  },
  {
   "cell_type": "markdown",
   "id": "73f74bb4",
   "metadata": {},
   "source": [
    "**[5.1]** Split data and test"
   ]
  },
  {
   "cell_type": "markdown",
   "id": "213b5813",
   "metadata": {},
   "source": [
    "Stratify=y will be used to distribute the data for train, valid and test proportionally, preserving the distribution of the two classes (Brownlee, 2020a), (Brownlee, 2020d)."
   ]
  },
  {
   "cell_type": "code",
   "execution_count": 9,
   "id": "c38264cf",
   "metadata": {},
   "outputs": [],
   "source": [
    "from sklearn.model_selection import train_test_split"
   ]
  },
  {
   "cell_type": "code",
   "execution_count": 10,
   "id": "1a103499",
   "metadata": {},
   "outputs": [
    {
     "data": {
      "text/plain": [
       "Index(['Target', 'age_band', 'age_of_vehicle_years', 'sched_serv_warr',\n",
       "       'non_sched_serv_warr', 'sched_serv_paid', 'non_sched_serv_paid',\n",
       "       'total_paid_services', 'total_services', 'mth_since_last_serv',\n",
       "       'annualised_mileage', 'num_dealers_visited',\n",
       "       'num_serv_dealer_purchased', 'Male', 'LCV', 'Large/SUV', 'Other',\n",
       "       'Small/Medium', 'model_1', 'model_10', 'model_11', 'model_12',\n",
       "       'model_13', 'model_14', 'model_15', 'model_16', 'model_17', 'model_18',\n",
       "       'model_19', 'model_2', 'model_3', 'model_4', 'model_5', 'model_6',\n",
       "       'model_7', 'model_8', 'model_9'],\n",
       "      dtype='object')"
      ]
     },
     "execution_count": 10,
     "metadata": {},
     "output_type": "execute_result"
    }
   ],
   "source": [
    "df_cleaned.columns"
   ]
  },
  {
   "cell_type": "code",
   "execution_count": 11,
   "id": "d92c2016",
   "metadata": {},
   "outputs": [],
   "source": [
    "X = df_cleaned[['age_band', 'age_of_vehicle_years', 'sched_serv_warr',\n",
    "       'non_sched_serv_warr', 'sched_serv_paid', 'non_sched_serv_paid',\n",
    "       'total_paid_services', 'total_services', 'mth_since_last_serv',\n",
    "       'annualised_mileage', 'num_dealers_visited',\n",
    "       'num_serv_dealer_purchased', 'Male', 'LCV', 'Large/SUV', 'Other',\n",
    "       'Small/Medium', 'model_1', 'model_10', 'model_11', 'model_12',\n",
    "       'model_13', 'model_14', 'model_15', 'model_16', 'model_17', 'model_18',\n",
    "       'model_19', 'model_2', 'model_3', 'model_4', 'model_5', 'model_6',\n",
    "       'model_7', 'model_8', 'model_9']].values\n",
    "y = df_cleaned['Target'].values"
   ]
  },
  {
   "cell_type": "code",
   "execution_count": 12,
   "id": "8bb60813",
   "metadata": {},
   "outputs": [],
   "source": [
    "X_data, X_test, y_data, y_test = train_test_split(X, y, test_size=0.2, random_state=42, stratify=y)"
   ]
  },
  {
   "cell_type": "code",
   "execution_count": 13,
   "id": "37168fe8",
   "metadata": {},
   "outputs": [
    {
     "data": {
      "text/plain": [
       "(105069, 36)"
      ]
     },
     "execution_count": 13,
     "metadata": {},
     "output_type": "execute_result"
    }
   ],
   "source": [
    "X_data.shape"
   ]
  },
  {
   "cell_type": "code",
   "execution_count": 14,
   "id": "51f8b73d",
   "metadata": {},
   "outputs": [
    {
     "data": {
      "text/plain": [
       "(105069,)"
      ]
     },
     "execution_count": 14,
     "metadata": {},
     "output_type": "execute_result"
    }
   ],
   "source": [
    "y_data.shape"
   ]
  },
  {
   "cell_type": "code",
   "execution_count": 15,
   "id": "cd2cddeb",
   "metadata": {},
   "outputs": [
    {
     "data": {
      "text/plain": [
       "(26268, 36)"
      ]
     },
     "execution_count": 15,
     "metadata": {},
     "output_type": "execute_result"
    }
   ],
   "source": [
    "X_test.shape"
   ]
  },
  {
   "cell_type": "code",
   "execution_count": 16,
   "id": "b76cbddb",
   "metadata": {},
   "outputs": [
    {
     "data": {
      "text/plain": [
       "(26268,)"
      ]
     },
     "execution_count": 16,
     "metadata": {},
     "output_type": "execute_result"
    }
   ],
   "source": [
    "y_test.shape"
   ]
  },
  {
   "cell_type": "markdown",
   "id": "838b7bfe",
   "metadata": {},
   "source": [
    "**[5.2]** Split train and validation"
   ]
  },
  {
   "cell_type": "code",
   "execution_count": 17,
   "id": "32b01fc1",
   "metadata": {},
   "outputs": [],
   "source": [
    "X_train, X_val, y_train, y_val = train_test_split(X_data, y_data, test_size=0.2, random_state=42)"
   ]
  },
  {
   "cell_type": "code",
   "execution_count": 18,
   "id": "241ec4b0",
   "metadata": {},
   "outputs": [
    {
     "name": "stdout",
     "output_type": "stream",
     "text": [
      "(84055, 36)\n",
      "(21014, 36)\n",
      "(26268, 36)\n",
      "(84055,)\n",
      "(21014,)\n",
      "(26268,)\n"
     ]
    }
   ],
   "source": [
    "print(X_train.shape)\n",
    "print(X_val.shape)\n",
    "print(X_test.shape)\n",
    "\n",
    "print(y_train.shape)\n",
    "print(y_val.shape)\n",
    "print(y_test.shape)"
   ]
  },
  {
   "cell_type": "markdown",
   "id": "b92ae1ae",
   "metadata": {},
   "source": [
    "**[5.3]** Count classes"
   ]
  },
  {
   "cell_type": "code",
   "execution_count": 19,
   "id": "fad7933a",
   "metadata": {},
   "outputs": [
    {
     "data": {
      "text/plain": [
       "(array([0, 1], dtype=int64), array([81803,  2252], dtype=int64))"
      ]
     },
     "execution_count": 19,
     "metadata": {},
     "output_type": "execute_result"
    }
   ],
   "source": [
    "np.unique(y_train, return_counts=True)"
   ]
  },
  {
   "cell_type": "code",
   "execution_count": 20,
   "id": "94dbd6cc",
   "metadata": {},
   "outputs": [
    {
     "data": {
      "text/plain": [
       "(array([0, 1], dtype=int64), array([20449,   565], dtype=int64))"
      ]
     },
     "execution_count": 20,
     "metadata": {},
     "output_type": "execute_result"
    }
   ],
   "source": [
    "np.unique(y_val, return_counts=True)"
   ]
  },
  {
   "cell_type": "code",
   "execution_count": 21,
   "id": "6916dfc5",
   "metadata": {},
   "outputs": [
    {
     "data": {
      "text/plain": [
       "(array([0, 1], dtype=int64), array([25564,   704], dtype=int64))"
      ]
     },
     "execution_count": 21,
     "metadata": {},
     "output_type": "execute_result"
    }
   ],
   "source": [
    "np.unique(y_test, return_counts=True)"
   ]
  },
  {
   "cell_type": "markdown",
   "id": "6c7ca57c",
   "metadata": {},
   "source": [
    "The count per label indicates that we are preserving the class distribution with 2,7% values class 1 over class 0."
   ]
  },
  {
   "cell_type": "markdown",
   "id": "1cb72e72",
   "metadata": {},
   "source": [
    "## 6.  Data Scaling"
   ]
  },
  {
   "cell_type": "markdown",
   "id": "07a780fd",
   "metadata": {},
   "source": [
    "We will perform a data scaling to prevent an increased bias in the model in a specific range of values. We will have two scaling approaches: Normalisation and Standardisation. (Arsik36, 2020), (Kapkar, 2020)"
   ]
  },
  {
   "cell_type": "markdown",
   "id": "4bbe703e",
   "metadata": {},
   "source": [
    "**[6.1]** Data Standardisation"
   ]
  },
  {
   "cell_type": "markdown",
   "id": "a470405d",
   "metadata": {},
   "source": [
    "\"The Standardisation technique is used to center the feature columns at mean 0 with a standard deviation of 1 so that the feature columns have the same parameters as a standard normal distribution. Unlike Normalization, standardization maintains useful information about outliers and makes the algorithm less sensitive to them in contrast to min-max scaling, which scales the data to a limited range of values. Here is the formula for standardization.\" (Kumar, 2020)\n",
    "\n",
    "\"Standardization assumes that your observations fit a Gaussian distribution (bell curve) with a well-behaved mean and standard deviation. You can still standardize your data if this expectation is not met, but you may not get reliable results.\" (Brownlee, 2020c)"
   ]
  },
  {
   "cell_type": "code",
   "execution_count": 22,
   "id": "860faada",
   "metadata": {},
   "outputs": [],
   "source": [
    "from sklearn.preprocessing import StandardScaler"
   ]
  },
  {
   "cell_type": "code",
   "execution_count": 23,
   "id": "5253a681",
   "metadata": {},
   "outputs": [
    {
     "data": {
      "text/plain": [
       "StandardScaler()"
      ]
     },
     "execution_count": 23,
     "metadata": {},
     "output_type": "execute_result"
    }
   ],
   "source": [
    "scaler = StandardScaler()\n",
    "scaler.fit(X_train)"
   ]
  },
  {
   "cell_type": "code",
   "execution_count": 24,
   "id": "7de6570c",
   "metadata": {},
   "outputs": [
    {
     "data": {
      "text/plain": [
       "array([[ 3.69027246, -0.5248133 , -1.54443936, ..., -0.25852803,\n",
       "        -0.22682549, -0.08655235],\n",
       "       [-0.37610327, -0.17332784,  1.2296538 , ..., -0.25852803,\n",
       "        -0.22682549, -0.08655235],\n",
       "       [-0.37610327,  1.58409941, -0.15739278, ..., -0.25852803,\n",
       "        -0.22682549, -0.08655235],\n",
       "       ...,\n",
       "       [-0.37610327,  1.58409941,  0.53613051, ..., -0.25852803,\n",
       "        -0.22682549, -0.08655235],\n",
       "       [-0.37610327,  0.88112851, -0.85091607, ..., -0.25852803,\n",
       "        -0.22682549, -0.08655235],\n",
       "       [-0.37610327, -1.57926965, -1.19767771, ..., -0.25852803,\n",
       "        -0.22682549, -0.08655235]])"
      ]
     },
     "execution_count": 24,
     "metadata": {},
     "output_type": "execute_result"
    }
   ],
   "source": [
    "scaled = scaler.transform(X_train)\n",
    "scaled"
   ]
  },
  {
   "cell_type": "markdown",
   "id": "065dbe0b",
   "metadata": {},
   "source": [
    "**[6.2]** Data Normalisation"
   ]
  },
  {
   "cell_type": "markdown",
   "id": "a4520855",
   "metadata": {},
   "source": [
    "\"Normalization refers to the rescaling of the features to a range of [0, 1], which is a special case of min-max scaling. To normalize the data, the min-max scaling can be applied to one or more feature columns\" (Kumar, 2020)\n",
    "\n",
    "With this method, we will lose information from the data, like outliers. However, it is not a problem in the current study."
   ]
  },
  {
   "cell_type": "code",
   "execution_count": 25,
   "id": "e3c1b9c5",
   "metadata": {},
   "outputs": [],
   "source": [
    "from sklearn.preprocessing import MinMaxScaler"
   ]
  },
  {
   "cell_type": "code",
   "execution_count": 26,
   "id": "c82058f0",
   "metadata": {},
   "outputs": [
    {
     "data": {
      "text/plain": [
       "MinMaxScaler()"
      ]
     },
     "execution_count": 26,
     "metadata": {},
     "output_type": "execute_result"
    }
   ],
   "source": [
    "scaler_norm = MinMaxScaler()\n",
    "scaler_norm.fit(X_train)"
   ]
  },
  {
   "cell_type": "code",
   "execution_count": 27,
   "id": "ff45d9ac",
   "metadata": {},
   "outputs": [
    {
     "data": {
      "text/plain": [
       "array([[0.85714286, 0.33333333, 0.        , ..., 0.        , 0.        ,\n",
       "        0.        ],\n",
       "       [0.        , 0.44444444, 0.88888889, ..., 0.        , 0.        ,\n",
       "        0.        ],\n",
       "       [0.        , 1.        , 0.44444444, ..., 0.        , 0.        ,\n",
       "        0.        ],\n",
       "       ...,\n",
       "       [0.        , 1.        , 0.66666667, ..., 0.        , 0.        ,\n",
       "        0.        ],\n",
       "       [0.        , 0.77777778, 0.22222222, ..., 0.        , 0.        ,\n",
       "        0.        ],\n",
       "       [0.        , 0.        , 0.11111111, ..., 0.        , 0.        ,\n",
       "        0.        ]])"
      ]
     },
     "execution_count": 27,
     "metadata": {},
     "output_type": "execute_result"
    }
   ],
   "source": [
    "scaled_norm = scaler_norm.transform(X_train)\n",
    "scaled_norm"
   ]
  },
  {
   "cell_type": "markdown",
   "id": "8eebc363",
   "metadata": {},
   "source": [
    "**[6.3]** Replace features with scaler"
   ]
  },
  {
   "cell_type": "code",
   "execution_count": 28,
   "id": "bd3b53b0",
   "metadata": {},
   "outputs": [],
   "source": [
    "X_train = scaler.transform(X_train)\n",
    "X_val = scaler.transform(X_val)\n",
    "X_test = scaler.transform(X_test)"
   ]
  },
  {
   "cell_type": "code",
   "execution_count": 29,
   "id": "12171aa6",
   "metadata": {},
   "outputs": [],
   "source": [
    "X_train_norm = scaler_norm.transform(X_train)\n",
    "X_val_norm = scaler_norm.transform(X_val)\n",
    "X_test_norm = scaler_norm.transform(X_test)"
   ]
  },
  {
   "cell_type": "markdown",
   "id": "45ac9307",
   "metadata": {},
   "source": [
    "## 7. Assess Baseline Model"
   ]
  },
  {
   "cell_type": "markdown",
   "id": "7c877ba8",
   "metadata": {},
   "source": [
    "This study will use F2 score. The reason behind the metric selection is based on the highly imbalanced dataset and the fact that we care more about positive class for the purpose of the prediction (Czakon, 2022) (Malato, 2021) and (Olugbenga, 2022). \n",
    "\n",
    "We want the prediction of repurchases to be as correct as possible and avoid false negative predictions (type II error) where the campaigns can lose potential clients. Moreover, we will prevent excessive type I error by predicting false potential clients.\n",
    "\n",
    "This phenomenon could occur easily in this dataset due to the unbalanced classes in the study. (Brownlee, 2020a)(Brownlee, 2020b)\n"
   ]
  },
  {
   "cell_type": "markdown",
   "id": "ce5b0bba",
   "metadata": {},
   "source": [
    "**[7.1]** base model"
   ]
  },
  {
   "cell_type": "code",
   "execution_count": 30,
   "id": "394d9558",
   "metadata": {},
   "outputs": [],
   "source": [
    "from statistics import mode"
   ]
  },
  {
   "cell_type": "code",
   "execution_count": 43,
   "id": "871c57b8",
   "metadata": {},
   "outputs": [
    {
     "data": {
      "text/plain": [
       "0"
      ]
     },
     "execution_count": 43,
     "metadata": {},
     "output_type": "execute_result"
    }
   ],
   "source": [
    "y_mode = mode(y_train)\n",
    "y_mode"
   ]
  },
  {
   "cell_type": "code",
   "execution_count": 44,
   "id": "082bb816",
   "metadata": {},
   "outputs": [
    {
     "data": {
      "text/plain": [
       "(84055,)"
      ]
     },
     "execution_count": 44,
     "metadata": {},
     "output_type": "execute_result"
    }
   ],
   "source": [
    "y_train.shape"
   ]
  },
  {
   "cell_type": "code",
   "execution_count": 45,
   "id": "f6d2acc9",
   "metadata": {},
   "outputs": [],
   "source": [
    "y_base = np.full(y_train.shape, y_mode)"
   ]
  },
  {
   "cell_type": "code",
   "execution_count": 46,
   "id": "800fd0ab",
   "metadata": {},
   "outputs": [
    {
     "data": {
      "text/plain": [
       "array([0, 0, 0, ..., 0, 0, 0], dtype=int64)"
      ]
     },
     "execution_count": 46,
     "metadata": {},
     "output_type": "execute_result"
    }
   ],
   "source": [
    "y_base"
   ]
  },
  {
   "cell_type": "code",
   "execution_count": 47,
   "id": "b6c4e24c",
   "metadata": {},
   "outputs": [
    {
     "data": {
      "text/plain": [
       "(84055,)"
      ]
     },
     "execution_count": 47,
     "metadata": {},
     "output_type": "execute_result"
    }
   ],
   "source": [
    "y_base.shape"
   ]
  },
  {
   "cell_type": "code",
   "execution_count": 48,
   "id": "10150f2f",
   "metadata": {},
   "outputs": [],
   "source": [
    "from sklearn.metrics import accuracy_score, precision_score, recall_score, f1_score, average_precision_score, fbeta_score\n",
    "from sklearn.metrics import auc, precision_recall_curve"
   ]
  },
  {
   "cell_type": "code",
   "execution_count": 49,
   "id": "8b4ec535",
   "metadata": {},
   "outputs": [
    {
     "name": "stdout",
     "output_type": "stream",
     "text": [
      "0.9732080185592766\n",
      "0.9599939169916978\n",
      "0.0\n",
      "0.0\n",
      "0.026791981440723336\n",
      "0.0\n"
     ]
    }
   ],
   "source": [
    "print(accuracy_score(y_train, y_base))\n",
    "print(f1_score(y_train, y_base, average='weighted'))\n",
    "print(precision_score(y_train, y_base))\n",
    "print(recall_score(y_train, y_base))\n",
    "print(average_precision_score(y_train, y_base))\n",
    "print(fbeta_score(y_train, y_base, beta=2, pos_label=1, average='binary'))"
   ]
  },
  {
   "cell_type": "markdown",
   "id": "338c19d3",
   "metadata": {},
   "source": [
    "**[7.2]** confusion matrix"
   ]
  },
  {
   "cell_type": "code",
   "execution_count": 50,
   "id": "08bb18a2",
   "metadata": {},
   "outputs": [],
   "source": [
    "from sklearn.metrics import confusion_matrix"
   ]
  },
  {
   "cell_type": "code",
   "execution_count": 51,
   "id": "7b68bbb3",
   "metadata": {},
   "outputs": [
    {
     "name": "stdout",
     "output_type": "stream",
     "text": [
      "[[81803     0]\n",
      " [ 2252     0]]\n"
     ]
    }
   ],
   "source": [
    "results = confusion_matrix(y_train, y_base)\n",
    "print(results)"
   ]
  },
  {
   "cell_type": "markdown",
   "id": "9b37b147",
   "metadata": {},
   "source": [
    "**[7.3]** Count classes"
   ]
  },
  {
   "cell_type": "code",
   "execution_count": 52,
   "id": "3dcee03d",
   "metadata": {},
   "outputs": [
    {
     "data": {
      "text/plain": [
       "(array([0, 1], dtype=int64), array([81803,  2252], dtype=int64))"
      ]
     },
     "execution_count": 52,
     "metadata": {},
     "output_type": "execute_result"
    }
   ],
   "source": [
    "np.unique(y_train, return_counts=True)"
   ]
  },
  {
   "cell_type": "markdown",
   "id": "258d045f",
   "metadata": {},
   "source": [
    "## 8. Training a model"
   ]
  },
  {
   "cell_type": "markdown",
   "id": "83e07af9",
   "metadata": {},
   "source": [
    "Based on: (scikit-learn developers, 2023) and (So, 2023)  "
   ]
  },
  {
   "cell_type": "markdown",
   "id": "f724d190",
   "metadata": {},
   "source": [
    "note: \n",
    "\n",
    "When k=1 in KNN, the closest point is the actual data. In conclusion, the prediction will always be perfect. (David, 2019)"
   ]
  },
  {
   "cell_type": "markdown",
   "id": "a8296ee8",
   "metadata": {},
   "source": [
    "**[8.1]** KNN Classifier"
   ]
  },
  {
   "cell_type": "code",
   "execution_count": 32,
   "id": "976f16b2",
   "metadata": {},
   "outputs": [],
   "source": [
    "from sklearn.metrics import accuracy_score, precision_score, recall_score, f1_score, average_precision_score, fbeta_score\n",
    "from sklearn.metrics import auc, precision_recall_curve\n",
    "from sklearn.model_selection import cross_val_score\n",
    "\n",
    "from sklearn.neighbors import KNeighborsClassifier"
   ]
  },
  {
   "cell_type": "code",
   "execution_count": 54,
   "id": "625f9bde",
   "metadata": {},
   "outputs": [],
   "source": [
    "knn_default_class = KNeighborsClassifier(n_neighbors=5, metric='euclidean')"
   ]
  },
  {
   "cell_type": "code",
   "execution_count": 55,
   "id": "d4fde5fd",
   "metadata": {},
   "outputs": [
    {
     "data": {
      "text/plain": [
       "KNeighborsClassifier(metric='euclidean')"
      ]
     },
     "execution_count": 55,
     "metadata": {},
     "output_type": "execute_result"
    }
   ],
   "source": [
    "knn_default_class.fit(X_train, y_train)"
   ]
  },
  {
   "cell_type": "code",
   "execution_count": 56,
   "id": "f7882190",
   "metadata": {},
   "outputs": [],
   "source": [
    "y_train_preds_knn = knn_default_class.predict(X_train)"
   ]
  },
  {
   "cell_type": "code",
   "execution_count": 57,
   "id": "fffd5bbf",
   "metadata": {},
   "outputs": [
    {
     "name": "stdout",
     "output_type": "stream",
     "text": [
      "0.9878650883350187\n",
      "0.9864405317081778\n",
      "0.946376811594203\n",
      "0.5799289520426287\n",
      "0.5600858483059294\n",
      "0.6286099345398536\n"
     ]
    }
   ],
   "source": [
    "#score for the train set\n",
    "print(accuracy_score(y_train, y_train_preds_knn))\n",
    "print(f1_score(y_train, y_train_preds_knn, average='weighted'))\n",
    "print(precision_score(y_train, y_train_preds_knn))\n",
    "print(recall_score(y_train, y_train_preds_knn))\n",
    "print(average_precision_score(y_train, y_train_preds_knn))\n",
    "print(fbeta_score(y_train, y_train_preds_knn, beta=2, pos_label=1, average='binary'))"
   ]
  },
  {
   "cell_type": "code",
   "execution_count": 58,
   "id": "e399cfc0",
   "metadata": {},
   "outputs": [
    {
     "name": "stdout",
     "output_type": "stream",
     "text": [
      "[[81729    74]\n",
      " [  946  1306]]\n"
     ]
    }
   ],
   "source": [
    "#confusion matrix\n",
    "results = confusion_matrix(y_train, y_train_preds_knn)\n",
    "print(results)"
   ]
  },
  {
   "cell_type": "code",
   "execution_count": 59,
   "id": "7d53f310",
   "metadata": {},
   "outputs": [
    {
     "name": "stdout",
     "output_type": "stream",
     "text": [
      "KNN PR AUC: 0.920\n"
     ]
    }
   ],
   "source": [
    "#precision-recall auc curve\n",
    "probs = knn_default_class.predict_proba(X_train)\n",
    "pos_probs = probs[:, 1]\n",
    "# calculate the precision-recall auc\n",
    "precision, recall, thresholds = precision_recall_curve(y_train, pos_probs)\n",
    "\n",
    "# precision-recall auc score\n",
    "auc_score = auc(recall, precision)\n",
    "print('KNN PR AUC: %.3f' % auc_score)"
   ]
  },
  {
   "cell_type": "code",
   "execution_count": 60,
   "id": "0482eeb1",
   "metadata": {},
   "outputs": [
    {
     "data": {
      "image/png": "[encoded data removed]",
      "text/plain": [
       "<Figure size 640x480 with 1 Axes>"
      ]
     },
     "metadata": {},
     "output_type": "display_data"
    }
   ],
   "source": [
    "# plot the model precision-recall curve\n",
    "plt.plot(recall, precision, marker='.', label='KNN')\n",
    "# axis labels\n",
    "plt.xlabel('Recall')\n",
    "plt.ylabel('Precision')\n",
    "# show the legend\n",
    "plt.legend()\n",
    "# show the plot\n",
    "plt.show()"
   ]
  },
  {
   "cell_type": "code",
   "execution_count": 61,
   "id": "2d2a8d3b",
   "metadata": {},
   "outputs": [
    {
     "name": "stdout",
     "output_type": "stream",
     "text": [
      "0.9851527553059864\n",
      "0.9829152130732843\n",
      "0.9230769230769231\n",
      "0.48849557522123893\n",
      "0.46467172878297025\n",
      "0.5392731535756154\n"
     ]
    }
   ],
   "source": [
    "#score for the validation set\n",
    "y_val_preds = knn_default_class.predict(X_val)\n",
    "print(accuracy_score(y_val, y_val_preds))\n",
    "print(f1_score(y_val, y_val_preds, average='weighted'))\n",
    "print(precision_score(y_val, y_val_preds))\n",
    "print(recall_score(y_val, y_val_preds))\n",
    "print(average_precision_score(y_val, y_val_preds))\n",
    "print(fbeta_score(y_val, y_val_preds, beta=2, pos_label=1, average='binary'))"
   ]
  },
  {
   "cell_type": "code",
   "execution_count": 62,
   "id": "a9833633",
   "metadata": {},
   "outputs": [
    {
     "name": "stdout",
     "output_type": "stream",
     "text": [
      "KNN PR AUC: 0.770\n"
     ]
    }
   ],
   "source": [
    "#precision-recall auc curve\n",
    "probs = knn_default_class.predict_proba(X_val)\n",
    "pos_probs = probs[:, 1]\n",
    "# calculate the precision-recall auc\n",
    "precision, recall, thresholds = precision_recall_curve(y_val, pos_probs)\n",
    "\n",
    "# precision-recall auc score\n",
    "auc_score = auc(recall, precision)\n",
    "print('KNN PR AUC: %.3f' % auc_score)"
   ]
  },
  {
   "cell_type": "code",
   "execution_count": 63,
   "id": "bf5d5ccc",
   "metadata": {},
   "outputs": [
    {
     "name": "stdout",
     "output_type": "stream",
     "text": [
      "0.9839348256433683\n",
      "0.9814111404267399\n",
      "0.8895027624309392\n",
      "0.45738636363636365\n",
      "0.42138884296755835\n",
      "0.5066079295154186\n"
     ]
    }
   ],
   "source": [
    "#score for the test set\n",
    "y_test_preds = knn_default_class.predict(X_test)\n",
    "print(accuracy_score(y_test, y_test_preds))\n",
    "print(f1_score(y_test, y_test_preds, average='weighted'))\n",
    "print(precision_score(y_test, y_test_preds))\n",
    "print(recall_score(y_test, y_test_preds))\n",
    "print(average_precision_score(y_test, y_test_preds))\n",
    "print(fbeta_score(y_test, y_test_preds, beta=2, pos_label=1, average='binary'))"
   ]
  },
  {
   "cell_type": "code",
   "execution_count": 64,
   "id": "1a477bf8",
   "metadata": {},
   "outputs": [
    {
     "name": "stdout",
     "output_type": "stream",
     "text": [
      "KNN PR AUC: 0.742\n"
     ]
    }
   ],
   "source": [
    "#precision-recall auc curve\n",
    "probs = knn_default_class.predict_proba(X_test)\n",
    "pos_probs = probs[:, 1]\n",
    "# calculate the precision-recall auc\n",
    "precision, recall, thresholds = precision_recall_curve(y_test, pos_probs)\n",
    "\n",
    "# precision-recall auc score\n",
    "auc_score = auc(recall, precision)\n",
    "print('KNN PR AUC: %.3f' % auc_score)"
   ]
  },
  {
   "cell_type": "markdown",
   "id": "d3615e27",
   "metadata": {},
   "source": [
    "**[8.2]** KNN Classifier with different hyperparameters values n_neighbors=9"
   ]
  },
  {
   "cell_type": "code",
   "execution_count": 65,
   "id": "555b1eeb",
   "metadata": {},
   "outputs": [],
   "source": [
    "knn_class_9 = KNeighborsClassifier(n_neighbors=9, metric='euclidean')"
   ]
  },
  {
   "cell_type": "code",
   "execution_count": 66,
   "id": "692e1bd6",
   "metadata": {},
   "outputs": [
    {
     "data": {
      "text/plain": [
       "KNeighborsClassifier(metric='euclidean', n_neighbors=9)"
      ]
     },
     "execution_count": 66,
     "metadata": {},
     "output_type": "execute_result"
    }
   ],
   "source": [
    "knn_class_9.fit(X_train, y_train)"
   ]
  },
  {
   "cell_type": "code",
   "execution_count": 67,
   "id": "9c36254e",
   "metadata": {},
   "outputs": [],
   "source": [
    "y_train_preds_knn = knn_class_9.predict(X_train)"
   ]
  },
  {
   "cell_type": "code",
   "execution_count": 68,
   "id": "7dfdcd23",
   "metadata": {},
   "outputs": [
    {
     "name": "stdout",
     "output_type": "stream",
     "text": [
      "0.9851644756409493\n",
      "0.982814132049974\n",
      "0.9365768896611643\n",
      "0.4786856127886323\n",
      "0.46229292773807473\n",
      "0.5305640318929028\n"
     ]
    }
   ],
   "source": [
    "#score for the train set\n",
    "print(accuracy_score(y_train, y_train_preds_knn))\n",
    "print(f1_score(y_train, y_train_preds_knn, average='weighted'))\n",
    "print(precision_score(y_train, y_train_preds_knn))\n",
    "print(recall_score(y_train, y_train_preds_knn))\n",
    "print(average_precision_score(y_train, y_train_preds_knn))\n",
    "print(fbeta_score(y_train, y_train_preds_knn, beta=2, pos_label=1, average='binary'))"
   ]
  },
  {
   "cell_type": "code",
   "execution_count": 69,
   "id": "2c681c55",
   "metadata": {},
   "outputs": [
    {
     "name": "stdout",
     "output_type": "stream",
     "text": [
      "[[81730    73]\n",
      " [ 1174  1078]]\n"
     ]
    }
   ],
   "source": [
    "#confusion matrix\n",
    "results = confusion_matrix(y_train, y_train_preds_knn)\n",
    "print(results)"
   ]
  },
  {
   "cell_type": "code",
   "execution_count": 70,
   "id": "64767806",
   "metadata": {},
   "outputs": [
    {
     "name": "stdout",
     "output_type": "stream",
     "text": [
      "KNN PR AUC: 0.879\n"
     ]
    }
   ],
   "source": [
    "#precision-recall auc curve\n",
    "probs = knn_class_9.predict_proba(X_train)\n",
    "pos_probs = probs[:, 1]\n",
    "# calculate the precision-recall auc\n",
    "precision, recall, thresholds = precision_recall_curve(y_train, pos_probs)\n",
    "\n",
    "# precision-recall auc score\n",
    "auc_score = auc(recall, precision)\n",
    "print('KNN PR AUC: %.3f' % auc_score)"
   ]
  },
  {
   "cell_type": "markdown",
   "id": "43e43ebb",
   "metadata": {},
   "source": [
    "**[8.3]** KNN Classifier with elbow method for n_neighbors"
   ]
  },
  {
   "cell_type": "markdown",
   "id": "e2aab35d",
   "metadata": {},
   "source": [
    "Based on: (DataCamp, 2023) (scikit-learn developers, 2023a, 2023b, 2023c)"
   ]
  },
  {
   "cell_type": "code",
   "execution_count": 88,
   "id": "a8f36065",
   "metadata": {},
   "outputs": [],
   "source": [
    "k_values = [i for i in range (3,8,2)]\n",
    "scores = []\n",
    "\n",
    "for k in k_values:\n",
    "    knn = KNeighborsClassifier(n_neighbors=k, metric='euclidean')\n",
    "    knn.fit(X_train, y_train)\n",
    "    y_train_preds_knn = knn.predict(X_train)\n",
    "    score = fbeta_score(y_train, y_train_preds_knn, beta=2, pos_label=1, average='binary')\n",
    "    scores.append(score)"
   ]
  },
  {
   "cell_type": "code",
   "execution_count": 89,
   "id": "1730b572",
   "metadata": {},
   "outputs": [
    {
     "data": {
      "text/plain": [
       "Text(0, 0.5, 'f2 Score')"
      ]
     },
     "execution_count": 89,
     "metadata": {},
     "output_type": "execute_result"
    },
    {
     "data": {
      "image/png": "[encoded data removed]",
      "text/plain": [
       "<Figure size 640x480 with 1 Axes>"
      ]
     },
     "metadata": {},
     "output_type": "display_data"
    }
   ],
   "source": [
    "sns.lineplot(x = k_values, y = scores, marker = 'o')\n",
    "plt.xlabel(\"K Values\")\n",
    "plt.ylabel(\"f2 Score\")"
   ]
  },
  {
   "cell_type": "code",
   "execution_count": 90,
   "id": "4f0df49d",
   "metadata": {},
   "outputs": [
    {
     "data": {
      "text/plain": [
       "[0.7271872060206962, 0.6286099345398536, 0.5678602790516148]"
      ]
     },
     "execution_count": 90,
     "metadata": {},
     "output_type": "execute_result"
    }
   ],
   "source": [
    "scores"
   ]
  },
  {
   "cell_type": "markdown",
   "id": "187d347b",
   "metadata": {},
   "source": [
    "best n_neighbors"
   ]
  },
  {
   "cell_type": "code",
   "execution_count": 33,
   "id": "ab55c578",
   "metadata": {},
   "outputs": [],
   "source": [
    "knn_class_3 = KNeighborsClassifier(n_neighbors=3, metric='euclidean')"
   ]
  },
  {
   "cell_type": "code",
   "execution_count": 34,
   "id": "b395d2af",
   "metadata": {},
   "outputs": [
    {
     "data": {
      "text/plain": [
       "KNeighborsClassifier(metric='euclidean', n_neighbors=3)"
      ]
     },
     "execution_count": 34,
     "metadata": {},
     "output_type": "execute_result"
    }
   ],
   "source": [
    "knn_class_3.fit(X_train, y_train)"
   ]
  },
  {
   "cell_type": "code",
   "execution_count": 35,
   "id": "d8b2fbcc",
   "metadata": {},
   "outputs": [],
   "source": [
    "y_train_preds_knn = knn_class_3.predict(X_train)"
   ]
  },
  {
   "cell_type": "code",
   "execution_count": 36,
   "id": "d095cc13",
   "metadata": {},
   "outputs": [
    {
     "name": "stdout",
     "output_type": "stream",
     "text": [
      "0.9906965677235143\n",
      "0.9899579372133079\n",
      "0.9531442663378545\n",
      "0.6865008880994672\n",
      "0.6627336477155746\n",
      "0.7271872060206962\n"
     ]
    }
   ],
   "source": [
    "#score for the train set\n",
    "print(accuracy_score(y_train, y_train_preds_knn))\n",
    "print(f1_score(y_train, y_train_preds_knn, average='weighted'))\n",
    "print(precision_score(y_train, y_train_preds_knn))\n",
    "print(recall_score(y_train, y_train_preds_knn))\n",
    "print(average_precision_score(y_train, y_train_preds_knn))\n",
    "print(fbeta_score(y_train, y_train_preds_knn, beta=2, pos_label=1, average='binary'))"
   ]
  },
  {
   "cell_type": "code",
   "execution_count": 38,
   "id": "0911c34e",
   "metadata": {},
   "outputs": [
    {
     "name": "stdout",
     "output_type": "stream",
     "text": [
      "0.9857238031788331\n",
      "0.9840553939121541\n",
      "0.8818443804034583\n",
      "0.5415929203539823\n",
      "0.4899257898693978\n",
      "0.5868814729574223\n"
     ]
    }
   ],
   "source": [
    "#score for the validation set\n",
    "y_val_preds = knn_class_3.predict(X_val)\n",
    "print(accuracy_score(y_val, y_val_preds))\n",
    "print(f1_score(y_val, y_val_preds, average='weighted'))\n",
    "print(precision_score(y_val, y_val_preds))\n",
    "print(recall_score(y_val, y_val_preds))\n",
    "print(average_precision_score(y_val, y_val_preds))\n",
    "print(fbeta_score(y_val, y_val_preds, beta=2, pos_label=1, average='binary'))"
   ]
  },
  {
   "cell_type": "code",
   "execution_count": 39,
   "id": "5984a446",
   "metadata": {},
   "outputs": [
    {
     "name": "stdout",
     "output_type": "stream",
     "text": [
      "0.9842393787117405\n",
      "0.982169428087503\n",
      "0.8571428571428571\n",
      "0.4943181818181818\n",
      "0.43725391024385996\n",
      "0.5400372439478585\n"
     ]
    }
   ],
   "source": [
    "#score for the test set\n",
    "y_test_preds = knn_class_3.predict(X_test)\n",
    "print(accuracy_score(y_test, y_test_preds))\n",
    "print(f1_score(y_test, y_test_preds, average='weighted'))\n",
    "print(precision_score(y_test, y_test_preds))\n",
    "print(recall_score(y_test, y_test_preds))\n",
    "print(average_precision_score(y_test, y_test_preds))\n",
    "print(fbeta_score(y_test, y_test_preds, beta=2, pos_label=1, average='binary'))"
   ]
  },
  {
   "cell_type": "markdown",
   "id": "dde069e0",
   "metadata": {},
   "source": [
    "**[8.4]** KNN Classifier with PCA and elbow method for dimensionality reduction"
   ]
  },
  {
   "cell_type": "markdown",
   "id": "52ae2d07",
   "metadata": {},
   "source": [
    "Based on: (DataCamp, 2023) (scikit-learn developers, 2023a, 2023b, 2023c)"
   ]
  },
  {
   "cell_type": "code",
   "execution_count": 91,
   "id": "4268a4ff",
   "metadata": {},
   "outputs": [],
   "source": [
    "from sklearn.decomposition import PCA\n",
    "\n",
    "pca=PCA(0.95)"
   ]
  },
  {
   "cell_type": "code",
   "execution_count": 92,
   "id": "c4d97a0a",
   "metadata": {},
   "outputs": [],
   "source": [
    "X_pca = pca.fit_transform(X_train)\n",
    "X_val_pca = pca.transform(X_val)\n",
    "X_test_pca = pca.transform(X_test)"
   ]
  },
  {
   "cell_type": "code",
   "execution_count": 93,
   "id": "68907e9b",
   "metadata": {},
   "outputs": [
    {
     "data": {
      "text/plain": [
       "25"
      ]
     },
     "execution_count": 93,
     "metadata": {},
     "output_type": "execute_result"
    }
   ],
   "source": [
    "pca.n_components_"
   ]
  },
  {
   "cell_type": "code",
   "execution_count": 94,
   "id": "52b5bd2e",
   "metadata": {},
   "outputs": [],
   "source": [
    "k_values = [i for i in range (3,21,2)]\n",
    "scores = []\n",
    "\n",
    "for k in k_values:\n",
    "    knn = KNeighborsClassifier(n_neighbors=k, metric='euclidean')\n",
    "    knn.fit(X_pca, y_train)\n",
    "    y_train_preds_knn = knn.predict(X_pca)\n",
    "    score = fbeta_score(y_train, y_train_preds_knn, beta=2, pos_label=1, average='binary')\n",
    "    scores.append(score)"
   ]
  },
  {
   "cell_type": "code",
   "execution_count": 95,
   "id": "4bf3ef0c",
   "metadata": {},
   "outputs": [
    {
     "data": {
      "text/plain": [
       "Text(0, 0.5, 'f2 Score')"
      ]
     },
     "execution_count": 95,
     "metadata": {},
     "output_type": "execute_result"
    },
    {
     "data": {
      "image/png": "[encoded data removed]",
      "text/plain": [
       "<Figure size 640x480 with 1 Axes>"
      ]
     },
     "metadata": {},
     "output_type": "display_data"
    }
   ],
   "source": [
    "sns.lineplot(x = k_values, y = scores, marker = 'o')\n",
    "plt.xlabel(\"K Values\")\n",
    "plt.ylabel(\"f2 Score\")"
   ]
  },
  {
   "cell_type": "code",
   "execution_count": 96,
   "id": "11bc2791",
   "metadata": {
    "scrolled": true
   },
   "outputs": [
    {
     "data": {
      "text/plain": [
       "[0.6317844220148542,\n",
       " 0.519398025994332,\n",
       " 0.45409429280397023,\n",
       " 0.41842263696568327,\n",
       " 0.3828235770710959,\n",
       " 0.35415817366490016,\n",
       " 0.3275579249538651,\n",
       " 0.3117604691840724,\n",
       " 0.2886704604242111]"
      ]
     },
     "execution_count": 96,
     "metadata": {},
     "output_type": "execute_result"
    }
   ],
   "source": [
    "scores"
   ]
  },
  {
   "cell_type": "code",
   "execution_count": 97,
   "id": "44253379",
   "metadata": {},
   "outputs": [
    {
     "data": {
      "text/plain": [
       "3"
      ]
     },
     "execution_count": 97,
     "metadata": {},
     "output_type": "execute_result"
    }
   ],
   "source": [
    "best_index = np.argmax(scores)\n",
    "best_k = k_values[best_index]\n",
    "\n",
    "best_k"
   ]
  },
  {
   "cell_type": "markdown",
   "id": "baab3100",
   "metadata": {},
   "source": [
    "Model with best k (n_neighbors):"
   ]
  },
  {
   "cell_type": "code",
   "execution_count": 98,
   "id": "e6383878",
   "metadata": {},
   "outputs": [
    {
     "data": {
      "text/plain": [
       "KNeighborsClassifier(metric='euclidean', n_neighbors=3)"
      ]
     },
     "execution_count": 98,
     "metadata": {},
     "output_type": "execute_result"
    }
   ],
   "source": [
    "knn_class_best = KNeighborsClassifier(n_neighbors=best_k, metric='euclidean')\n",
    "knn_class_best.fit(X_pca, y_train)"
   ]
  },
  {
   "cell_type": "code",
   "execution_count": 99,
   "id": "f663b0a8",
   "metadata": {},
   "outputs": [],
   "source": [
    "y_train_preds_knn = knn_class_best.predict(X_pca)"
   ]
  },
  {
   "cell_type": "code",
   "execution_count": 100,
   "id": "9184d2c5",
   "metadata": {},
   "outputs": [
    {
     "name": "stdout",
     "output_type": "stream",
     "text": [
      "0.9870085063351377\n",
      "0.985724053875243\n",
      "0.8882195448460509\n",
      "0.5892539964476021\n",
      "0.5343916158274328\n",
      "0.6317844220148542\n"
     ]
    }
   ],
   "source": [
    "#score for the train set\n",
    "print(accuracy_score(y_train, y_train_preds_knn))\n",
    "print(f1_score(y_train, y_train_preds_knn, average='weighted'))\n",
    "print(precision_score(y_train, y_train_preds_knn))\n",
    "print(recall_score(y_train, y_train_preds_knn))\n",
    "print(average_precision_score(y_train, y_train_preds_knn))\n",
    "print(fbeta_score(y_train, y_train_preds_knn, beta=2, pos_label=1, average='binary'))"
   ]
  },
  {
   "cell_type": "code",
   "execution_count": 101,
   "id": "539e30c0",
   "metadata": {},
   "outputs": [
    {
     "name": "stdout",
     "output_type": "stream",
     "text": [
      "[[81636   167]\n",
      " [  925  1327]]\n"
     ]
    }
   ],
   "source": [
    "#confusion matrix\n",
    "results = confusion_matrix(y_train, y_train_preds_knn)\n",
    "print(results)"
   ]
  },
  {
   "cell_type": "code",
   "execution_count": 102,
   "id": "ffcc9560",
   "metadata": {},
   "outputs": [
    {
     "name": "stdout",
     "output_type": "stream",
     "text": [
      "KNN PR AUC: 0.883\n"
     ]
    }
   ],
   "source": [
    "#precision-recall auc curve\n",
    "probs = knn_class_best.predict_proba(X_pca)\n",
    "pos_probs = probs[:, 1]\n",
    "# calculate the precision-recall auc\n",
    "precision, recall, thresholds = precision_recall_curve(y_train, pos_probs)\n",
    "\n",
    "# precision-recall auc score\n",
    "auc_score = auc(recall, precision)\n",
    "print('KNN PR AUC: %.3f' % auc_score)"
   ]
  },
  {
   "cell_type": "code",
   "execution_count": 103,
   "id": "b8957a5c",
   "metadata": {},
   "outputs": [
    {
     "name": "stdout",
     "output_type": "stream",
     "text": [
      "0.9791567526410964\n",
      "0.9764072271370753\n",
      "0.6953846153846154\n",
      "0.4\n",
      "0.29428594856176465\n",
      "0.4371373307543521\n"
     ]
    }
   ],
   "source": [
    "#score for the validation set\n",
    "y_val_preds = knn_class_best.predict(X_val_pca)\n",
    "print(accuracy_score(y_val, y_val_preds))\n",
    "print(f1_score(y_val, y_val_preds, average='weighted'))\n",
    "print(precision_score(y_val, y_val_preds))\n",
    "print(recall_score(y_val, y_val_preds))\n",
    "print(average_precision_score(y_val, y_val_preds))\n",
    "print(fbeta_score(y_val, y_val_preds, beta=2, pos_label=1, average='binary'))"
   ]
  },
  {
   "cell_type": "code",
   "execution_count": 104,
   "id": "12339f67",
   "metadata": {},
   "outputs": [
    {
     "name": "stdout",
     "output_type": "stream",
     "text": [
      "KNN PR AUC: 0.567\n"
     ]
    }
   ],
   "source": [
    "#precision-recall auc curve\n",
    "probs = knn_class_best.predict_proba(X_val_pca)\n",
    "pos_probs = probs[:, 1]\n",
    "# calculate the precision-recall auc\n",
    "precision, recall, thresholds = precision_recall_curve(y_val, pos_probs)\n",
    "\n",
    "# precision-recall auc score\n",
    "auc_score = auc(recall, precision)\n",
    "print('KNN PR AUC: %.3f' % auc_score)"
   ]
  },
  {
   "cell_type": "code",
   "execution_count": 105,
   "id": "1f66ed2d",
   "metadata": {},
   "outputs": [
    {
     "name": "stdout",
     "output_type": "stream",
     "text": [
      "0.977615349474646\n",
      "0.974340521465617\n",
      "0.6526315789473685\n",
      "0.3522727272727273\n",
      "0.24726383111730907\n",
      "0.3879849812265332\n"
     ]
    }
   ],
   "source": [
    "#score for the test set\n",
    "y_test_preds = knn_class_best.predict(X_test_pca)\n",
    "print(accuracy_score(y_test, y_test_preds))\n",
    "print(f1_score(y_test, y_test_preds, average='weighted'))\n",
    "print(precision_score(y_test, y_test_preds))\n",
    "print(recall_score(y_test, y_test_preds))\n",
    "print(average_precision_score(y_test, y_test_preds))\n",
    "print(fbeta_score(y_test, y_test_preds, beta=2, pos_label=1, average='binary'))"
   ]
  },
  {
   "cell_type": "code",
   "execution_count": 106,
   "id": "725aebbe",
   "metadata": {},
   "outputs": [
    {
     "name": "stdout",
     "output_type": "stream",
     "text": [
      "KNN PR AUC: 0.520\n"
     ]
    }
   ],
   "source": [
    "#precision-recall auc curve\n",
    "probs = knn_class_best.predict_proba(X_test_pca)\n",
    "pos_probs = probs[:, 1]\n",
    "# calculate the precision-recall auc\n",
    "precision, recall, thresholds = precision_recall_curve(y_test, pos_probs)\n",
    "\n",
    "# precision-recall auc score\n",
    "auc_score = auc(recall, precision)\n",
    "print('KNN PR AUC: %.3f' % auc_score)"
   ]
  },
  {
   "cell_type": "markdown",
   "id": "d0114f38",
   "metadata": {},
   "source": [
    "## 9. Conclusion"
   ]
  },
  {
   "cell_type": "markdown",
   "id": "5450a906",
   "metadata": {},
   "source": [
    "Training with fewer features (PCA) was significantly faster and achieved better performance levels than logistic regression models.\n",
    "\n",
    "KNN Classifier with elbow method, model [8.3] was the model that obtained the best performance with n_neighbors = 3. However, the score is still low.\n",
    "\n",
    "Moreover, the model presents overfitting as its performance decreases in the validation and test data.\n",
    "\n",
    "The decision is to continue experimenting with other models and different techniques to improve performance."
   ]
  },
  {
   "cell_type": "markdown",
   "id": "23f84178",
   "metadata": {},
   "source": [
    "## 10. References"
   ]
  },
  {
   "cell_type": "markdown",
   "id": "80818a57",
   "metadata": {},
   "source": [
    "Arsik36. (2020, August 7). Answer to ‘Scaling of categorical variable’. Stack Overflow. https://stackoverflow.com/a/63304313\n",
    "\n",
    "Brownlee, J. (2020a, January 5). ROC Curves and Precision-Recall Curves for Imbalanced Classification. MachineLearningMastery.Com. https://machinelearningmastery.com/roc-curves-and-precision-recall-curves-for-imbalanced-classification/\n",
    "\n",
    "Brownlee, J. (2020b, January 26). Cost-Sensitive Logistic Regression for Imbalanced Classification. MachineLearningMastery.Com. https://machinelearningmastery.com/cost-sensitive-logistic-regression/\n",
    "\n",
    "Brownlee, J. (2020c, June 9). How to Use StandardScaler and MinMaxScaler Transforms in Python. MachineLearningMastery.Com. https://machinelearningmastery.com/standardscaler-and-minmaxscaler-transforms-in-python/\n",
    "\n",
    "Brownlee, J. (2020d, January 12). How to Fix k-Fold Cross-Validation for Imbalanced Classification. MachineLearningMastery.Com. https://machinelearningmastery.com/cross-validation-for-imbalanced-classification/\n",
    "\n",
    "Czakon, J. (2022, July 21). F1 Score vs ROC AUC vs Accuracy vs PR AUC: Which Evaluation Metric Should You Choose? Neptune.Ai. https://neptune.ai/blog/f1-score-accuracy-roc-auc-pr-auc\n",
    "\n",
    "DataCamp. (2023, February 1). K-Nearest Neighbors (KNN) Classification with scikit-learn. https://www.datacamp.com/tutorial/k-nearest-neighbor-classification-scikit-learn\n",
    "\n",
    "David. (2019, January 4). Answer to ‘Training error in KNN classifier when K=1’. Cross Validated. https://stats.stackexchange.com/a/385572\n",
    "\n",
    "Kapkar. (2020). Which Machine Learning requires Feature Scaling(Standardization and Normalization)? And Which not? | Data Science and Machine Learning. https://www.kaggle.com/getting-started/a\n",
    "\n",
    "Kumar, A. (2020, July 27). MinMaxScaler vs StandardScaler—Python Examples. Data Analytics. https://vitalflux.com/minmaxscaler-standardscaler-python-examples/\n",
    "\n",
    "Malato, G. (2021, June 7). Precision, recall, accuracy. How to choose? Your Data Teacher. https://www.yourdatateacher.com/2021/06/07/precision-recall-accuracy-how-to-choose/\n",
    "\n",
    "Olugbenga, M. (2022, July 22). Balanced Accuracy: When Should You Use It? Neptune.Ai. https://neptune.ai/blog/balanced-accuracy\n",
    "\n",
    "scikit-learn developers. (2023a). 3.3. Metrics and scoring: Quantifying the quality of predictions. Scikit-Learn. https://scikit-learn.org/stable/modules/model_evaluation.html\n",
    "\n",
    "scikit-learn developers. (2023b). Sklearn.model_selection.cross_val_score. Scikit-Learn. https://scikit-learn/stable/modules/generated/sklearn.model_selection.cross_val_score.html\n",
    "\n",
    "scikit-learn developers. (2023c). Sklearn.neighbors.KNeighborsClassifier. Scikit-Learn. https://scikit-learn/stable/modules/generated/sklearn.neighbors.KNeighborsClassifier.html\n",
    "\n",
    "So, A. (2023). Course Modules: 36106 Machine Learning Algorithms and Applications—Autumn 2023. Lab Solutions. https://canvas.uts.edu.au/courses/26202/modules\n",
    "\n"
   ]
  }
 ],
 "metadata": {
  "kernelspec": {
   "display_name": "Python 3 (ipykernel)",
   "language": "python",
   "name": "python3"
  },
  "language_info": {
   "codemirror_mode": {
    "name": "ipython",
    "version": 3
   },
   "file_extension": ".py",
   "mimetype": "text/x-python",
   "name": "python",
   "nbconvert_exporter": "python",
   "pygments_lexer": "ipython3",
   "version": "3.9.13"
  }
 },
 "nbformat": 4,
 "nbformat_minor": 5
}

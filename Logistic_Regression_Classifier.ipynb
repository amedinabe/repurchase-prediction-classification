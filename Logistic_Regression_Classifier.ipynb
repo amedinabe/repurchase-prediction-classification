{
 "cells": [
  {
   "cell_type": "markdown",
   "id": "6d4b9a86",
   "metadata": {},
   "source": [
    " # Experiment 1: Binary classification"
   ]
  },
  {
   "cell_type": "markdown",
   "id": "fa2fcf1e",
   "metadata": {},
   "source": [
    "Content\n",
    "\n",
    "1. Introduction\n",
    "2. Used libraries\n",
    "3. Reading Data from a CSV File\n",
    "4. Case of study and data understanding\n",
    "5. Exploratory Data Analysis (EDA)\n",
    "6. Data cleaning\n",
    "\n",
    "    6.1 Outliers\n",
    "    \n",
    "    6.2 Variants of the same values\n",
    "    \n",
    "    6.3 Cleaning data using encoder\n",
    "    \n",
    "    6.4 Cleaning data using one hot encoder\n",
    "    \n",
    "    6.5 Saving the dataset\n",
    "    \n",
    "7. Split the data\n",
    "8. Data Scaling\n",
    "    \n",
    "    8.1 Data Standardisation\n",
    "    \n",
    "    8.2 Data Normalisation\n",
    "    \n",
    "    \n",
    "9. Save the data for future work\n",
    "10. Assess Baseline Model\n",
    "11. Training a model\n",
    "    \n",
    "    11.1 Logistic Regression Classifier\n",
    "    \n",
    "    11.2 Logistic Regression Classifier with elasticnet\n",
    "    \n",
    "    11.3 Logistic Regression Classifier with L1 Regularisation and saga\n",
    "    \n",
    "    11.4 Logistic Regression Classifier with L1 Regularisation and liblinear\n",
    "    \n",
    "    11.5 Logistic Regression Classifier with L2 Regularisation and saga\n",
    "    \n",
    "    11.6 Logistic Regression Classifier with L2 Regularisation and newton-cg\n",
    "    \n",
    "    11.7 Logistic Regression Classifier with L2 Regularisation and newton-cg using normalised data\n",
    "    \n",
    "    11.8 Logistic Regression Classifier with L2 Regularisation and liblinear\n",
    "    \n",
    "    \n",
    "12. Conclusion\n",
    "13. References"
   ]
  },
  {
   "cell_type": "markdown",
   "id": "5422fb9f",
   "metadata": {},
   "source": [
    "## 1. Introduction"
   ]
  },
  {
   "cell_type": "markdown",
   "id": "67b8b574",
   "metadata": {},
   "source": [
    "In the following study, we will fit a binary classification model using logistic regression to predict if an existing customer is more likely to buy a new car as accurate as possible."
   ]
  },
  {
   "cell_type": "markdown",
   "id": "7b4cd5a1",
   "metadata": {},
   "source": [
    "## 2. Used libraries "
   ]
  },
  {
   "cell_type": "code",
   "execution_count": 1,
   "id": "aacb30aa",
   "metadata": {},
   "outputs": [],
   "source": [
    "#working with data\n",
    "import pandas as pd\n",
    "import numpy as np\n",
    "\n",
    "\n",
    "#plotting data\n",
    "import seaborn as sns\n",
    "import matplotlib.pyplot as plt "
   ]
  },
  {
   "cell_type": "code",
   "execution_count": 2,
   "id": "38952dd4",
   "metadata": {},
   "outputs": [],
   "source": [
    "import warnings\n",
    "warnings.filterwarnings('ignore')"
   ]
  },
  {
   "cell_type": "markdown",
   "id": "a01b38c1",
   "metadata": {},
   "source": [
    "## 3. Reading Data from a CSV File"
   ]
  },
  {
   "cell_type": "code",
   "execution_count": 3,
   "id": "b75aa9c5",
   "metadata": {},
   "outputs": [],
   "source": [
    "df = pd.read_csv('repurchase_training.csv')"
   ]
  },
  {
   "cell_type": "code",
   "execution_count": 4,
   "id": "0a1f9e6d",
   "metadata": {
    "scrolled": false
   },
   "outputs": [
    {
     "data": {
      "text/html": [
       "<div>\n",
       "<style scoped>\n",
       "    .dataframe tbody tr th:only-of-type {\n",
       "        vertical-align: middle;\n",
       "    }\n",
       "\n",
       "    .dataframe tbody tr th {\n",
       "        vertical-align: top;\n",
       "    }\n",
       "\n",
       "    .dataframe thead th {\n",
       "        text-align: right;\n",
       "    }\n",
       "</style>\n",
       "<table border=\"1\" class=\"dataframe\">\n",
       "  <thead>\n",
       "    <tr style=\"text-align: right;\">\n",
       "      <th></th>\n",
       "      <th>ID</th>\n",
       "      <th>Target</th>\n",
       "      <th>age_band</th>\n",
       "      <th>gender</th>\n",
       "      <th>car_model</th>\n",
       "      <th>car_segment</th>\n",
       "      <th>age_of_vehicle_years</th>\n",
       "      <th>sched_serv_warr</th>\n",
       "      <th>non_sched_serv_warr</th>\n",
       "      <th>sched_serv_paid</th>\n",
       "      <th>non_sched_serv_paid</th>\n",
       "      <th>total_paid_services</th>\n",
       "      <th>total_services</th>\n",
       "      <th>mth_since_last_serv</th>\n",
       "      <th>annualised_mileage</th>\n",
       "      <th>num_dealers_visited</th>\n",
       "      <th>num_serv_dealer_purchased</th>\n",
       "    </tr>\n",
       "  </thead>\n",
       "  <tbody>\n",
       "    <tr>\n",
       "      <th>0</th>\n",
       "      <td>1</td>\n",
       "      <td>0</td>\n",
       "      <td>3. 35 to 44</td>\n",
       "      <td>Male</td>\n",
       "      <td>model_1</td>\n",
       "      <td>LCV</td>\n",
       "      <td>9</td>\n",
       "      <td>2</td>\n",
       "      <td>10</td>\n",
       "      <td>3</td>\n",
       "      <td>7</td>\n",
       "      <td>5</td>\n",
       "      <td>6</td>\n",
       "      <td>9</td>\n",
       "      <td>8</td>\n",
       "      <td>10</td>\n",
       "      <td>4</td>\n",
       "    </tr>\n",
       "    <tr>\n",
       "      <th>1</th>\n",
       "      <td>2</td>\n",
       "      <td>0</td>\n",
       "      <td>NaN</td>\n",
       "      <td>NaN</td>\n",
       "      <td>model_2</td>\n",
       "      <td>Small/Medium</td>\n",
       "      <td>6</td>\n",
       "      <td>10</td>\n",
       "      <td>3</td>\n",
       "      <td>10</td>\n",
       "      <td>4</td>\n",
       "      <td>9</td>\n",
       "      <td>10</td>\n",
       "      <td>6</td>\n",
       "      <td>10</td>\n",
       "      <td>7</td>\n",
       "      <td>10</td>\n",
       "    </tr>\n",
       "    <tr>\n",
       "      <th>2</th>\n",
       "      <td>3</td>\n",
       "      <td>0</td>\n",
       "      <td>NaN</td>\n",
       "      <td>Male</td>\n",
       "      <td>model_3</td>\n",
       "      <td>Large/SUV</td>\n",
       "      <td>9</td>\n",
       "      <td>10</td>\n",
       "      <td>9</td>\n",
       "      <td>10</td>\n",
       "      <td>9</td>\n",
       "      <td>10</td>\n",
       "      <td>10</td>\n",
       "      <td>7</td>\n",
       "      <td>10</td>\n",
       "      <td>6</td>\n",
       "      <td>10</td>\n",
       "    </tr>\n",
       "    <tr>\n",
       "      <th>3</th>\n",
       "      <td>5</td>\n",
       "      <td>0</td>\n",
       "      <td>NaN</td>\n",
       "      <td>NaN</td>\n",
       "      <td>model_3</td>\n",
       "      <td>Large/SUV</td>\n",
       "      <td>5</td>\n",
       "      <td>8</td>\n",
       "      <td>5</td>\n",
       "      <td>8</td>\n",
       "      <td>4</td>\n",
       "      <td>5</td>\n",
       "      <td>6</td>\n",
       "      <td>4</td>\n",
       "      <td>10</td>\n",
       "      <td>9</td>\n",
       "      <td>7</td>\n",
       "    </tr>\n",
       "    <tr>\n",
       "      <th>4</th>\n",
       "      <td>6</td>\n",
       "      <td>0</td>\n",
       "      <td>NaN</td>\n",
       "      <td>Female</td>\n",
       "      <td>model_2</td>\n",
       "      <td>Small/Medium</td>\n",
       "      <td>8</td>\n",
       "      <td>9</td>\n",
       "      <td>4</td>\n",
       "      <td>10</td>\n",
       "      <td>7</td>\n",
       "      <td>9</td>\n",
       "      <td>8</td>\n",
       "      <td>5</td>\n",
       "      <td>4</td>\n",
       "      <td>4</td>\n",
       "      <td>9</td>\n",
       "    </tr>\n",
       "    <tr>\n",
       "      <th>...</th>\n",
       "      <td>...</td>\n",
       "      <td>...</td>\n",
       "      <td>...</td>\n",
       "      <td>...</td>\n",
       "      <td>...</td>\n",
       "      <td>...</td>\n",
       "      <td>...</td>\n",
       "      <td>...</td>\n",
       "      <td>...</td>\n",
       "      <td>...</td>\n",
       "      <td>...</td>\n",
       "      <td>...</td>\n",
       "      <td>...</td>\n",
       "      <td>...</td>\n",
       "      <td>...</td>\n",
       "      <td>...</td>\n",
       "      <td>...</td>\n",
       "    </tr>\n",
       "    <tr>\n",
       "      <th>131332</th>\n",
       "      <td>154134</td>\n",
       "      <td>1</td>\n",
       "      <td>NaN</td>\n",
       "      <td>NaN</td>\n",
       "      <td>model_3</td>\n",
       "      <td>Large/SUV</td>\n",
       "      <td>7</td>\n",
       "      <td>10</td>\n",
       "      <td>10</td>\n",
       "      <td>9</td>\n",
       "      <td>10</td>\n",
       "      <td>10</td>\n",
       "      <td>10</td>\n",
       "      <td>3</td>\n",
       "      <td>6</td>\n",
       "      <td>10</td>\n",
       "      <td>10</td>\n",
       "    </tr>\n",
       "    <tr>\n",
       "      <th>131333</th>\n",
       "      <td>154135</td>\n",
       "      <td>1</td>\n",
       "      <td>NaN</td>\n",
       "      <td>NaN</td>\n",
       "      <td>model_3</td>\n",
       "      <td>Large/SUV</td>\n",
       "      <td>4</td>\n",
       "      <td>10</td>\n",
       "      <td>10</td>\n",
       "      <td>10</td>\n",
       "      <td>10</td>\n",
       "      <td>10</td>\n",
       "      <td>10</td>\n",
       "      <td>2</td>\n",
       "      <td>3</td>\n",
       "      <td>10</td>\n",
       "      <td>10</td>\n",
       "    </tr>\n",
       "    <tr>\n",
       "      <th>131334</th>\n",
       "      <td>154137</td>\n",
       "      <td>1</td>\n",
       "      <td>NaN</td>\n",
       "      <td>NaN</td>\n",
       "      <td>model_5</td>\n",
       "      <td>Large/SUV</td>\n",
       "      <td>4</td>\n",
       "      <td>4</td>\n",
       "      <td>9</td>\n",
       "      <td>5</td>\n",
       "      <td>4</td>\n",
       "      <td>3</td>\n",
       "      <td>8</td>\n",
       "      <td>4</td>\n",
       "      <td>7</td>\n",
       "      <td>10</td>\n",
       "      <td>10</td>\n",
       "    </tr>\n",
       "    <tr>\n",
       "      <th>131335</th>\n",
       "      <td>154138</td>\n",
       "      <td>1</td>\n",
       "      <td>NaN</td>\n",
       "      <td>NaN</td>\n",
       "      <td>model_5</td>\n",
       "      <td>Large/SUV</td>\n",
       "      <td>2</td>\n",
       "      <td>1</td>\n",
       "      <td>10</td>\n",
       "      <td>1</td>\n",
       "      <td>10</td>\n",
       "      <td>9</td>\n",
       "      <td>8</td>\n",
       "      <td>3</td>\n",
       "      <td>6</td>\n",
       "      <td>7</td>\n",
       "      <td>10</td>\n",
       "    </tr>\n",
       "    <tr>\n",
       "      <th>131336</th>\n",
       "      <td>154139</td>\n",
       "      <td>1</td>\n",
       "      <td>NaN</td>\n",
       "      <td>NaN</td>\n",
       "      <td>model_1</td>\n",
       "      <td>LCV</td>\n",
       "      <td>6</td>\n",
       "      <td>1</td>\n",
       "      <td>7</td>\n",
       "      <td>1</td>\n",
       "      <td>10</td>\n",
       "      <td>10</td>\n",
       "      <td>5</td>\n",
       "      <td>3</td>\n",
       "      <td>4</td>\n",
       "      <td>9</td>\n",
       "      <td>10</td>\n",
       "    </tr>\n",
       "  </tbody>\n",
       "</table>\n",
       "<p>131337 rows × 17 columns</p>\n",
       "</div>"
      ],
      "text/plain": [
       "            ID  Target     age_band  gender car_model   car_segment  \\\n",
       "0            1       0  3. 35 to 44    Male   model_1           LCV   \n",
       "1            2       0          NaN     NaN   model_2  Small/Medium   \n",
       "2            3       0          NaN    Male   model_3     Large/SUV   \n",
       "3            5       0          NaN     NaN   model_3     Large/SUV   \n",
       "4            6       0          NaN  Female   model_2  Small/Medium   \n",
       "...        ...     ...          ...     ...       ...           ...   \n",
       "131332  154134       1          NaN     NaN   model_3     Large/SUV   \n",
       "131333  154135       1          NaN     NaN   model_3     Large/SUV   \n",
       "131334  154137       1          NaN     NaN   model_5     Large/SUV   \n",
       "131335  154138       1          NaN     NaN   model_5     Large/SUV   \n",
       "131336  154139       1          NaN     NaN   model_1           LCV   \n",
       "\n",
       "        age_of_vehicle_years  sched_serv_warr  non_sched_serv_warr  \\\n",
       "0                          9                2                   10   \n",
       "1                          6               10                    3   \n",
       "2                          9               10                    9   \n",
       "3                          5                8                    5   \n",
       "4                          8                9                    4   \n",
       "...                      ...              ...                  ...   \n",
       "131332                     7               10                   10   \n",
       "131333                     4               10                   10   \n",
       "131334                     4                4                    9   \n",
       "131335                     2                1                   10   \n",
       "131336                     6                1                    7   \n",
       "\n",
       "        sched_serv_paid  non_sched_serv_paid  total_paid_services  \\\n",
       "0                     3                    7                    5   \n",
       "1                    10                    4                    9   \n",
       "2                    10                    9                   10   \n",
       "3                     8                    4                    5   \n",
       "4                    10                    7                    9   \n",
       "...                 ...                  ...                  ...   \n",
       "131332                9                   10                   10   \n",
       "131333               10                   10                   10   \n",
       "131334                5                    4                    3   \n",
       "131335                1                   10                    9   \n",
       "131336                1                   10                   10   \n",
       "\n",
       "        total_services  mth_since_last_serv  annualised_mileage  \\\n",
       "0                    6                    9                   8   \n",
       "1                   10                    6                  10   \n",
       "2                   10                    7                  10   \n",
       "3                    6                    4                  10   \n",
       "4                    8                    5                   4   \n",
       "...                ...                  ...                 ...   \n",
       "131332              10                    3                   6   \n",
       "131333              10                    2                   3   \n",
       "131334               8                    4                   7   \n",
       "131335               8                    3                   6   \n",
       "131336               5                    3                   4   \n",
       "\n",
       "        num_dealers_visited  num_serv_dealer_purchased  \n",
       "0                        10                          4  \n",
       "1                         7                         10  \n",
       "2                         6                         10  \n",
       "3                         9                          7  \n",
       "4                         4                          9  \n",
       "...                     ...                        ...  \n",
       "131332                   10                         10  \n",
       "131333                   10                         10  \n",
       "131334                   10                         10  \n",
       "131335                    7                         10  \n",
       "131336                    9                         10  \n",
       "\n",
       "[131337 rows x 17 columns]"
      ]
     },
     "execution_count": 4,
     "metadata": {},
     "output_type": "execute_result"
    }
   ],
   "source": [
    "df"
   ]
  },
  {
   "cell_type": "markdown",
   "id": "cc4b9505",
   "metadata": {},
   "source": [
    "## 4. Case of study and data understanding "
   ]
  },
  {
   "cell_type": "markdown",
   "id": "afd75be9",
   "metadata": {},
   "source": [
    "**[4.1]** Hypothesis"
   ]
  },
  {
   "cell_type": "markdown",
   "id": "c766bf9e",
   "metadata": {},
   "source": [
    "The case study has the following hypothesis:\n",
    "Analysing the 15 features given to predict if an existing customer is more likely to buy a new car, only car-related variables are enough to explain the repurchase decision."
   ]
  },
  {
   "cell_type": "markdown",
   "id": "e3202982",
   "metadata": {},
   "source": [
    "**[4.2]** Explore the dataset"
   ]
  },
  {
   "cell_type": "code",
   "execution_count": 5,
   "id": "0190f6de",
   "metadata": {
    "scrolled": true
   },
   "outputs": [
    {
     "data": {
      "text/html": [
       "<div>\n",
       "<style scoped>\n",
       "    .dataframe tbody tr th:only-of-type {\n",
       "        vertical-align: middle;\n",
       "    }\n",
       "\n",
       "    .dataframe tbody tr th {\n",
       "        vertical-align: top;\n",
       "    }\n",
       "\n",
       "    .dataframe thead th {\n",
       "        text-align: right;\n",
       "    }\n",
       "</style>\n",
       "<table border=\"1\" class=\"dataframe\">\n",
       "  <thead>\n",
       "    <tr style=\"text-align: right;\">\n",
       "      <th></th>\n",
       "      <th>ID</th>\n",
       "      <th>Target</th>\n",
       "      <th>age_band</th>\n",
       "      <th>gender</th>\n",
       "      <th>car_model</th>\n",
       "      <th>car_segment</th>\n",
       "      <th>age_of_vehicle_years</th>\n",
       "      <th>sched_serv_warr</th>\n",
       "      <th>non_sched_serv_warr</th>\n",
       "      <th>sched_serv_paid</th>\n",
       "      <th>non_sched_serv_paid</th>\n",
       "      <th>total_paid_services</th>\n",
       "      <th>total_services</th>\n",
       "      <th>mth_since_last_serv</th>\n",
       "      <th>annualised_mileage</th>\n",
       "      <th>num_dealers_visited</th>\n",
       "      <th>num_serv_dealer_purchased</th>\n",
       "    </tr>\n",
       "  </thead>\n",
       "  <tbody>\n",
       "    <tr>\n",
       "      <th>0</th>\n",
       "      <td>1</td>\n",
       "      <td>0</td>\n",
       "      <td>3. 35 to 44</td>\n",
       "      <td>Male</td>\n",
       "      <td>model_1</td>\n",
       "      <td>LCV</td>\n",
       "      <td>9</td>\n",
       "      <td>2</td>\n",
       "      <td>10</td>\n",
       "      <td>3</td>\n",
       "      <td>7</td>\n",
       "      <td>5</td>\n",
       "      <td>6</td>\n",
       "      <td>9</td>\n",
       "      <td>8</td>\n",
       "      <td>10</td>\n",
       "      <td>4</td>\n",
       "    </tr>\n",
       "    <tr>\n",
       "      <th>1</th>\n",
       "      <td>2</td>\n",
       "      <td>0</td>\n",
       "      <td>NaN</td>\n",
       "      <td>NaN</td>\n",
       "      <td>model_2</td>\n",
       "      <td>Small/Medium</td>\n",
       "      <td>6</td>\n",
       "      <td>10</td>\n",
       "      <td>3</td>\n",
       "      <td>10</td>\n",
       "      <td>4</td>\n",
       "      <td>9</td>\n",
       "      <td>10</td>\n",
       "      <td>6</td>\n",
       "      <td>10</td>\n",
       "      <td>7</td>\n",
       "      <td>10</td>\n",
       "    </tr>\n",
       "    <tr>\n",
       "      <th>2</th>\n",
       "      <td>3</td>\n",
       "      <td>0</td>\n",
       "      <td>NaN</td>\n",
       "      <td>Male</td>\n",
       "      <td>model_3</td>\n",
       "      <td>Large/SUV</td>\n",
       "      <td>9</td>\n",
       "      <td>10</td>\n",
       "      <td>9</td>\n",
       "      <td>10</td>\n",
       "      <td>9</td>\n",
       "      <td>10</td>\n",
       "      <td>10</td>\n",
       "      <td>7</td>\n",
       "      <td>10</td>\n",
       "      <td>6</td>\n",
       "      <td>10</td>\n",
       "    </tr>\n",
       "    <tr>\n",
       "      <th>3</th>\n",
       "      <td>5</td>\n",
       "      <td>0</td>\n",
       "      <td>NaN</td>\n",
       "      <td>NaN</td>\n",
       "      <td>model_3</td>\n",
       "      <td>Large/SUV</td>\n",
       "      <td>5</td>\n",
       "      <td>8</td>\n",
       "      <td>5</td>\n",
       "      <td>8</td>\n",
       "      <td>4</td>\n",
       "      <td>5</td>\n",
       "      <td>6</td>\n",
       "      <td>4</td>\n",
       "      <td>10</td>\n",
       "      <td>9</td>\n",
       "      <td>7</td>\n",
       "    </tr>\n",
       "    <tr>\n",
       "      <th>4</th>\n",
       "      <td>6</td>\n",
       "      <td>0</td>\n",
       "      <td>NaN</td>\n",
       "      <td>Female</td>\n",
       "      <td>model_2</td>\n",
       "      <td>Small/Medium</td>\n",
       "      <td>8</td>\n",
       "      <td>9</td>\n",
       "      <td>4</td>\n",
       "      <td>10</td>\n",
       "      <td>7</td>\n",
       "      <td>9</td>\n",
       "      <td>8</td>\n",
       "      <td>5</td>\n",
       "      <td>4</td>\n",
       "      <td>4</td>\n",
       "      <td>9</td>\n",
       "    </tr>\n",
       "  </tbody>\n",
       "</table>\n",
       "</div>"
      ],
      "text/plain": [
       "   ID  Target     age_band  gender car_model   car_segment  \\\n",
       "0   1       0  3. 35 to 44    Male   model_1           LCV   \n",
       "1   2       0          NaN     NaN   model_2  Small/Medium   \n",
       "2   3       0          NaN    Male   model_3     Large/SUV   \n",
       "3   5       0          NaN     NaN   model_3     Large/SUV   \n",
       "4   6       0          NaN  Female   model_2  Small/Medium   \n",
       "\n",
       "   age_of_vehicle_years  sched_serv_warr  non_sched_serv_warr  \\\n",
       "0                     9                2                   10   \n",
       "1                     6               10                    3   \n",
       "2                     9               10                    9   \n",
       "3                     5                8                    5   \n",
       "4                     8                9                    4   \n",
       "\n",
       "   sched_serv_paid  non_sched_serv_paid  total_paid_services  total_services  \\\n",
       "0                3                    7                    5               6   \n",
       "1               10                    4                    9              10   \n",
       "2               10                    9                   10              10   \n",
       "3                8                    4                    5               6   \n",
       "4               10                    7                    9               8   \n",
       "\n",
       "   mth_since_last_serv  annualised_mileage  num_dealers_visited  \\\n",
       "0                    9                   8                   10   \n",
       "1                    6                  10                    7   \n",
       "2                    7                  10                    6   \n",
       "3                    4                  10                    9   \n",
       "4                    5                   4                    4   \n",
       "\n",
       "   num_serv_dealer_purchased  \n",
       "0                          4  \n",
       "1                         10  \n",
       "2                         10  \n",
       "3                          7  \n",
       "4                          9  "
      ]
     },
     "execution_count": 5,
     "metadata": {},
     "output_type": "execute_result"
    }
   ],
   "source": [
    "df.head(5)"
   ]
  },
  {
   "cell_type": "markdown",
   "id": "1f037a69",
   "metadata": {},
   "source": [
    "**[4.3]** Duplicate rows validation"
   ]
  },
  {
   "cell_type": "code",
   "execution_count": 6,
   "id": "e4ddea87",
   "metadata": {},
   "outputs": [
    {
     "data": {
      "text/plain": [
       "Series([], dtype: int64)"
      ]
     },
     "execution_count": 6,
     "metadata": {},
     "output_type": "execute_result"
    }
   ],
   "source": [
    "df2 = df.pivot_table(index = ['ID'], aggfunc ='size')\n",
    "df2[df2>1]"
   ]
  },
  {
   "cell_type": "code",
   "execution_count": 7,
   "id": "ab7c87ea",
   "metadata": {},
   "outputs": [
    {
     "data": {
      "text/html": [
       "<div>\n",
       "<style scoped>\n",
       "    .dataframe tbody tr th:only-of-type {\n",
       "        vertical-align: middle;\n",
       "    }\n",
       "\n",
       "    .dataframe tbody tr th {\n",
       "        vertical-align: top;\n",
       "    }\n",
       "\n",
       "    .dataframe thead th {\n",
       "        text-align: right;\n",
       "    }\n",
       "</style>\n",
       "<table border=\"1\" class=\"dataframe\">\n",
       "  <thead>\n",
       "    <tr style=\"text-align: right;\">\n",
       "      <th></th>\n",
       "      <th>ID</th>\n",
       "      <th>Target</th>\n",
       "      <th>age_band</th>\n",
       "      <th>gender</th>\n",
       "      <th>car_model</th>\n",
       "      <th>car_segment</th>\n",
       "      <th>age_of_vehicle_years</th>\n",
       "      <th>sched_serv_warr</th>\n",
       "      <th>non_sched_serv_warr</th>\n",
       "      <th>sched_serv_paid</th>\n",
       "      <th>non_sched_serv_paid</th>\n",
       "      <th>total_paid_services</th>\n",
       "      <th>total_services</th>\n",
       "      <th>mth_since_last_serv</th>\n",
       "      <th>annualised_mileage</th>\n",
       "      <th>num_dealers_visited</th>\n",
       "      <th>num_serv_dealer_purchased</th>\n",
       "    </tr>\n",
       "  </thead>\n",
       "  <tbody>\n",
       "  </tbody>\n",
       "</table>\n",
       "</div>"
      ],
      "text/plain": [
       "Empty DataFrame\n",
       "Columns: [ID, Target, age_band, gender, car_model, car_segment, age_of_vehicle_years, sched_serv_warr, non_sched_serv_warr, sched_serv_paid, non_sched_serv_paid, total_paid_services, total_services, mth_since_last_serv, annualised_mileage, num_dealers_visited, num_serv_dealer_purchased]\n",
       "Index: []"
      ]
     },
     "execution_count": 7,
     "metadata": {},
     "output_type": "execute_result"
    }
   ],
   "source": [
    "#duplicated rows in the dataframe\n",
    "dup = df.duplicated()\n",
    "df[dup]"
   ]
  },
  {
   "cell_type": "markdown",
   "id": "ddcd1dc0",
   "metadata": {},
   "source": [
    "There are no duplicate records"
   ]
  },
  {
   "cell_type": "markdown",
   "id": "e4b5801f",
   "metadata": {},
   "source": [
    "Let's explore the duplicates without ID"
   ]
  },
  {
   "cell_type": "code",
   "execution_count": 8,
   "id": "8c741c3a",
   "metadata": {},
   "outputs": [
    {
     "data": {
      "text/html": [
       "<div>\n",
       "<style scoped>\n",
       "    .dataframe tbody tr th:only-of-type {\n",
       "        vertical-align: middle;\n",
       "    }\n",
       "\n",
       "    .dataframe tbody tr th {\n",
       "        vertical-align: top;\n",
       "    }\n",
       "\n",
       "    .dataframe thead th {\n",
       "        text-align: right;\n",
       "    }\n",
       "</style>\n",
       "<table border=\"1\" class=\"dataframe\">\n",
       "  <thead>\n",
       "    <tr style=\"text-align: right;\">\n",
       "      <th></th>\n",
       "      <th>Target</th>\n",
       "      <th>age_band</th>\n",
       "      <th>gender</th>\n",
       "      <th>car_model</th>\n",
       "      <th>car_segment</th>\n",
       "      <th>age_of_vehicle_years</th>\n",
       "      <th>sched_serv_warr</th>\n",
       "      <th>non_sched_serv_warr</th>\n",
       "      <th>sched_serv_paid</th>\n",
       "      <th>non_sched_serv_paid</th>\n",
       "      <th>total_paid_services</th>\n",
       "      <th>total_services</th>\n",
       "      <th>mth_since_last_serv</th>\n",
       "      <th>annualised_mileage</th>\n",
       "      <th>num_dealers_visited</th>\n",
       "      <th>num_serv_dealer_purchased</th>\n",
       "    </tr>\n",
       "  </thead>\n",
       "  <tbody>\n",
       "    <tr>\n",
       "      <th>0</th>\n",
       "      <td>0</td>\n",
       "      <td>3. 35 to 44</td>\n",
       "      <td>Male</td>\n",
       "      <td>model_1</td>\n",
       "      <td>LCV</td>\n",
       "      <td>9</td>\n",
       "      <td>2</td>\n",
       "      <td>10</td>\n",
       "      <td>3</td>\n",
       "      <td>7</td>\n",
       "      <td>5</td>\n",
       "      <td>6</td>\n",
       "      <td>9</td>\n",
       "      <td>8</td>\n",
       "      <td>10</td>\n",
       "      <td>4</td>\n",
       "    </tr>\n",
       "    <tr>\n",
       "      <th>1</th>\n",
       "      <td>0</td>\n",
       "      <td>NaN</td>\n",
       "      <td>NaN</td>\n",
       "      <td>model_2</td>\n",
       "      <td>Small/Medium</td>\n",
       "      <td>6</td>\n",
       "      <td>10</td>\n",
       "      <td>3</td>\n",
       "      <td>10</td>\n",
       "      <td>4</td>\n",
       "      <td>9</td>\n",
       "      <td>10</td>\n",
       "      <td>6</td>\n",
       "      <td>10</td>\n",
       "      <td>7</td>\n",
       "      <td>10</td>\n",
       "    </tr>\n",
       "    <tr>\n",
       "      <th>2</th>\n",
       "      <td>0</td>\n",
       "      <td>NaN</td>\n",
       "      <td>Male</td>\n",
       "      <td>model_3</td>\n",
       "      <td>Large/SUV</td>\n",
       "      <td>9</td>\n",
       "      <td>10</td>\n",
       "      <td>9</td>\n",
       "      <td>10</td>\n",
       "      <td>9</td>\n",
       "      <td>10</td>\n",
       "      <td>10</td>\n",
       "      <td>7</td>\n",
       "      <td>10</td>\n",
       "      <td>6</td>\n",
       "      <td>10</td>\n",
       "    </tr>\n",
       "    <tr>\n",
       "      <th>3</th>\n",
       "      <td>0</td>\n",
       "      <td>NaN</td>\n",
       "      <td>NaN</td>\n",
       "      <td>model_3</td>\n",
       "      <td>Large/SUV</td>\n",
       "      <td>5</td>\n",
       "      <td>8</td>\n",
       "      <td>5</td>\n",
       "      <td>8</td>\n",
       "      <td>4</td>\n",
       "      <td>5</td>\n",
       "      <td>6</td>\n",
       "      <td>4</td>\n",
       "      <td>10</td>\n",
       "      <td>9</td>\n",
       "      <td>7</td>\n",
       "    </tr>\n",
       "    <tr>\n",
       "      <th>4</th>\n",
       "      <td>0</td>\n",
       "      <td>NaN</td>\n",
       "      <td>Female</td>\n",
       "      <td>model_2</td>\n",
       "      <td>Small/Medium</td>\n",
       "      <td>8</td>\n",
       "      <td>9</td>\n",
       "      <td>4</td>\n",
       "      <td>10</td>\n",
       "      <td>7</td>\n",
       "      <td>9</td>\n",
       "      <td>8</td>\n",
       "      <td>5</td>\n",
       "      <td>4</td>\n",
       "      <td>4</td>\n",
       "      <td>9</td>\n",
       "    </tr>\n",
       "    <tr>\n",
       "      <th>...</th>\n",
       "      <td>...</td>\n",
       "      <td>...</td>\n",
       "      <td>...</td>\n",
       "      <td>...</td>\n",
       "      <td>...</td>\n",
       "      <td>...</td>\n",
       "      <td>...</td>\n",
       "      <td>...</td>\n",
       "      <td>...</td>\n",
       "      <td>...</td>\n",
       "      <td>...</td>\n",
       "      <td>...</td>\n",
       "      <td>...</td>\n",
       "      <td>...</td>\n",
       "      <td>...</td>\n",
       "      <td>...</td>\n",
       "    </tr>\n",
       "    <tr>\n",
       "      <th>131332</th>\n",
       "      <td>1</td>\n",
       "      <td>NaN</td>\n",
       "      <td>NaN</td>\n",
       "      <td>model_3</td>\n",
       "      <td>Large/SUV</td>\n",
       "      <td>7</td>\n",
       "      <td>10</td>\n",
       "      <td>10</td>\n",
       "      <td>9</td>\n",
       "      <td>10</td>\n",
       "      <td>10</td>\n",
       "      <td>10</td>\n",
       "      <td>3</td>\n",
       "      <td>6</td>\n",
       "      <td>10</td>\n",
       "      <td>10</td>\n",
       "    </tr>\n",
       "    <tr>\n",
       "      <th>131333</th>\n",
       "      <td>1</td>\n",
       "      <td>NaN</td>\n",
       "      <td>NaN</td>\n",
       "      <td>model_3</td>\n",
       "      <td>Large/SUV</td>\n",
       "      <td>4</td>\n",
       "      <td>10</td>\n",
       "      <td>10</td>\n",
       "      <td>10</td>\n",
       "      <td>10</td>\n",
       "      <td>10</td>\n",
       "      <td>10</td>\n",
       "      <td>2</td>\n",
       "      <td>3</td>\n",
       "      <td>10</td>\n",
       "      <td>10</td>\n",
       "    </tr>\n",
       "    <tr>\n",
       "      <th>131334</th>\n",
       "      <td>1</td>\n",
       "      <td>NaN</td>\n",
       "      <td>NaN</td>\n",
       "      <td>model_5</td>\n",
       "      <td>Large/SUV</td>\n",
       "      <td>4</td>\n",
       "      <td>4</td>\n",
       "      <td>9</td>\n",
       "      <td>5</td>\n",
       "      <td>4</td>\n",
       "      <td>3</td>\n",
       "      <td>8</td>\n",
       "      <td>4</td>\n",
       "      <td>7</td>\n",
       "      <td>10</td>\n",
       "      <td>10</td>\n",
       "    </tr>\n",
       "    <tr>\n",
       "      <th>131335</th>\n",
       "      <td>1</td>\n",
       "      <td>NaN</td>\n",
       "      <td>NaN</td>\n",
       "      <td>model_5</td>\n",
       "      <td>Large/SUV</td>\n",
       "      <td>2</td>\n",
       "      <td>1</td>\n",
       "      <td>10</td>\n",
       "      <td>1</td>\n",
       "      <td>10</td>\n",
       "      <td>9</td>\n",
       "      <td>8</td>\n",
       "      <td>3</td>\n",
       "      <td>6</td>\n",
       "      <td>7</td>\n",
       "      <td>10</td>\n",
       "    </tr>\n",
       "    <tr>\n",
       "      <th>131336</th>\n",
       "      <td>1</td>\n",
       "      <td>NaN</td>\n",
       "      <td>NaN</td>\n",
       "      <td>model_1</td>\n",
       "      <td>LCV</td>\n",
       "      <td>6</td>\n",
       "      <td>1</td>\n",
       "      <td>7</td>\n",
       "      <td>1</td>\n",
       "      <td>10</td>\n",
       "      <td>10</td>\n",
       "      <td>5</td>\n",
       "      <td>3</td>\n",
       "      <td>4</td>\n",
       "      <td>9</td>\n",
       "      <td>10</td>\n",
       "    </tr>\n",
       "  </tbody>\n",
       "</table>\n",
       "<p>131337 rows × 16 columns</p>\n",
       "</div>"
      ],
      "text/plain": [
       "        Target     age_band  gender car_model   car_segment  \\\n",
       "0            0  3. 35 to 44    Male   model_1           LCV   \n",
       "1            0          NaN     NaN   model_2  Small/Medium   \n",
       "2            0          NaN    Male   model_3     Large/SUV   \n",
       "3            0          NaN     NaN   model_3     Large/SUV   \n",
       "4            0          NaN  Female   model_2  Small/Medium   \n",
       "...        ...          ...     ...       ...           ...   \n",
       "131332       1          NaN     NaN   model_3     Large/SUV   \n",
       "131333       1          NaN     NaN   model_3     Large/SUV   \n",
       "131334       1          NaN     NaN   model_5     Large/SUV   \n",
       "131335       1          NaN     NaN   model_5     Large/SUV   \n",
       "131336       1          NaN     NaN   model_1           LCV   \n",
       "\n",
       "        age_of_vehicle_years  sched_serv_warr  non_sched_serv_warr  \\\n",
       "0                          9                2                   10   \n",
       "1                          6               10                    3   \n",
       "2                          9               10                    9   \n",
       "3                          5                8                    5   \n",
       "4                          8                9                    4   \n",
       "...                      ...              ...                  ...   \n",
       "131332                     7               10                   10   \n",
       "131333                     4               10                   10   \n",
       "131334                     4                4                    9   \n",
       "131335                     2                1                   10   \n",
       "131336                     6                1                    7   \n",
       "\n",
       "        sched_serv_paid  non_sched_serv_paid  total_paid_services  \\\n",
       "0                     3                    7                    5   \n",
       "1                    10                    4                    9   \n",
       "2                    10                    9                   10   \n",
       "3                     8                    4                    5   \n",
       "4                    10                    7                    9   \n",
       "...                 ...                  ...                  ...   \n",
       "131332                9                   10                   10   \n",
       "131333               10                   10                   10   \n",
       "131334                5                    4                    3   \n",
       "131335                1                   10                    9   \n",
       "131336                1                   10                   10   \n",
       "\n",
       "        total_services  mth_since_last_serv  annualised_mileage  \\\n",
       "0                    6                    9                   8   \n",
       "1                   10                    6                  10   \n",
       "2                   10                    7                  10   \n",
       "3                    6                    4                  10   \n",
       "4                    8                    5                   4   \n",
       "...                ...                  ...                 ...   \n",
       "131332              10                    3                   6   \n",
       "131333              10                    2                   3   \n",
       "131334               8                    4                   7   \n",
       "131335               8                    3                   6   \n",
       "131336               5                    3                   4   \n",
       "\n",
       "        num_dealers_visited  num_serv_dealer_purchased  \n",
       "0                        10                          4  \n",
       "1                         7                         10  \n",
       "2                         6                         10  \n",
       "3                         9                          7  \n",
       "4                         4                          9  \n",
       "...                     ...                        ...  \n",
       "131332                   10                         10  \n",
       "131333                   10                         10  \n",
       "131334                   10                         10  \n",
       "131335                    7                         10  \n",
       "131336                    9                         10  \n",
       "\n",
       "[131337 rows x 16 columns]"
      ]
     },
     "execution_count": 8,
     "metadata": {},
     "output_type": "execute_result"
    }
   ],
   "source": [
    "df_copy = df.copy()\n",
    "df_copy = df_copy.drop(['ID'], axis=1)\n",
    "df_copy"
   ]
  },
  {
   "cell_type": "code",
   "execution_count": 9,
   "id": "49b88a10",
   "metadata": {},
   "outputs": [
    {
     "data": {
      "text/html": [
       "<div>\n",
       "<style scoped>\n",
       "    .dataframe tbody tr th:only-of-type {\n",
       "        vertical-align: middle;\n",
       "    }\n",
       "\n",
       "    .dataframe tbody tr th {\n",
       "        vertical-align: top;\n",
       "    }\n",
       "\n",
       "    .dataframe thead th {\n",
       "        text-align: right;\n",
       "    }\n",
       "</style>\n",
       "<table border=\"1\" class=\"dataframe\">\n",
       "  <thead>\n",
       "    <tr style=\"text-align: right;\">\n",
       "      <th></th>\n",
       "      <th>Target</th>\n",
       "      <th>age_band</th>\n",
       "      <th>gender</th>\n",
       "      <th>car_model</th>\n",
       "      <th>car_segment</th>\n",
       "      <th>age_of_vehicle_years</th>\n",
       "      <th>sched_serv_warr</th>\n",
       "      <th>non_sched_serv_warr</th>\n",
       "      <th>sched_serv_paid</th>\n",
       "      <th>non_sched_serv_paid</th>\n",
       "      <th>total_paid_services</th>\n",
       "      <th>total_services</th>\n",
       "      <th>mth_since_last_serv</th>\n",
       "      <th>annualised_mileage</th>\n",
       "      <th>num_dealers_visited</th>\n",
       "      <th>num_serv_dealer_purchased</th>\n",
       "    </tr>\n",
       "  </thead>\n",
       "  <tbody>\n",
       "    <tr>\n",
       "      <th>426</th>\n",
       "      <td>0</td>\n",
       "      <td>NaN</td>\n",
       "      <td>NaN</td>\n",
       "      <td>model_2</td>\n",
       "      <td>Small/Medium</td>\n",
       "      <td>4</td>\n",
       "      <td>1</td>\n",
       "      <td>1</td>\n",
       "      <td>2</td>\n",
       "      <td>3</td>\n",
       "      <td>1</td>\n",
       "      <td>1</td>\n",
       "      <td>2</td>\n",
       "      <td>1</td>\n",
       "      <td>1</td>\n",
       "      <td>1</td>\n",
       "    </tr>\n",
       "    <tr>\n",
       "      <th>1613</th>\n",
       "      <td>0</td>\n",
       "      <td>NaN</td>\n",
       "      <td>NaN</td>\n",
       "      <td>model_2</td>\n",
       "      <td>Small/Medium</td>\n",
       "      <td>1</td>\n",
       "      <td>1</td>\n",
       "      <td>1</td>\n",
       "      <td>2</td>\n",
       "      <td>2</td>\n",
       "      <td>1</td>\n",
       "      <td>1</td>\n",
       "      <td>1</td>\n",
       "      <td>1</td>\n",
       "      <td>1</td>\n",
       "      <td>1</td>\n",
       "    </tr>\n",
       "    <tr>\n",
       "      <th>2154</th>\n",
       "      <td>0</td>\n",
       "      <td>NaN</td>\n",
       "      <td>NaN</td>\n",
       "      <td>model_2</td>\n",
       "      <td>Small/Medium</td>\n",
       "      <td>4</td>\n",
       "      <td>1</td>\n",
       "      <td>1</td>\n",
       "      <td>2</td>\n",
       "      <td>3</td>\n",
       "      <td>1</td>\n",
       "      <td>1</td>\n",
       "      <td>1</td>\n",
       "      <td>1</td>\n",
       "      <td>1</td>\n",
       "      <td>1</td>\n",
       "    </tr>\n",
       "    <tr>\n",
       "      <th>3254</th>\n",
       "      <td>0</td>\n",
       "      <td>NaN</td>\n",
       "      <td>NaN</td>\n",
       "      <td>model_2</td>\n",
       "      <td>Small/Medium</td>\n",
       "      <td>3</td>\n",
       "      <td>1</td>\n",
       "      <td>1</td>\n",
       "      <td>2</td>\n",
       "      <td>2</td>\n",
       "      <td>1</td>\n",
       "      <td>1</td>\n",
       "      <td>1</td>\n",
       "      <td>1</td>\n",
       "      <td>1</td>\n",
       "      <td>1</td>\n",
       "    </tr>\n",
       "    <tr>\n",
       "      <th>3434</th>\n",
       "      <td>0</td>\n",
       "      <td>NaN</td>\n",
       "      <td>NaN</td>\n",
       "      <td>model_3</td>\n",
       "      <td>Large/SUV</td>\n",
       "      <td>3</td>\n",
       "      <td>1</td>\n",
       "      <td>1</td>\n",
       "      <td>2</td>\n",
       "      <td>2</td>\n",
       "      <td>2</td>\n",
       "      <td>1</td>\n",
       "      <td>2</td>\n",
       "      <td>1</td>\n",
       "      <td>1</td>\n",
       "      <td>1</td>\n",
       "    </tr>\n",
       "    <tr>\n",
       "      <th>...</th>\n",
       "      <td>...</td>\n",
       "      <td>...</td>\n",
       "      <td>...</td>\n",
       "      <td>...</td>\n",
       "      <td>...</td>\n",
       "      <td>...</td>\n",
       "      <td>...</td>\n",
       "      <td>...</td>\n",
       "      <td>...</td>\n",
       "      <td>...</td>\n",
       "      <td>...</td>\n",
       "      <td>...</td>\n",
       "      <td>...</td>\n",
       "      <td>...</td>\n",
       "      <td>...</td>\n",
       "      <td>...</td>\n",
       "    </tr>\n",
       "    <tr>\n",
       "      <th>127689</th>\n",
       "      <td>0</td>\n",
       "      <td>NaN</td>\n",
       "      <td>NaN</td>\n",
       "      <td>model_2</td>\n",
       "      <td>Small/Medium</td>\n",
       "      <td>2</td>\n",
       "      <td>2</td>\n",
       "      <td>1</td>\n",
       "      <td>1</td>\n",
       "      <td>2</td>\n",
       "      <td>2</td>\n",
       "      <td>2</td>\n",
       "      <td>2</td>\n",
       "      <td>2</td>\n",
       "      <td>2</td>\n",
       "      <td>2</td>\n",
       "    </tr>\n",
       "    <tr>\n",
       "      <th>127690</th>\n",
       "      <td>0</td>\n",
       "      <td>NaN</td>\n",
       "      <td>NaN</td>\n",
       "      <td>model_4</td>\n",
       "      <td>Small/Medium</td>\n",
       "      <td>3</td>\n",
       "      <td>1</td>\n",
       "      <td>1</td>\n",
       "      <td>1</td>\n",
       "      <td>1</td>\n",
       "      <td>2</td>\n",
       "      <td>1</td>\n",
       "      <td>1</td>\n",
       "      <td>1</td>\n",
       "      <td>1</td>\n",
       "      <td>1</td>\n",
       "    </tr>\n",
       "    <tr>\n",
       "      <th>127698</th>\n",
       "      <td>0</td>\n",
       "      <td>2. 25 to 34</td>\n",
       "      <td>Female</td>\n",
       "      <td>model_6</td>\n",
       "      <td>Small/Medium</td>\n",
       "      <td>6</td>\n",
       "      <td>1</td>\n",
       "      <td>1</td>\n",
       "      <td>1</td>\n",
       "      <td>1</td>\n",
       "      <td>1</td>\n",
       "      <td>1</td>\n",
       "      <td>1</td>\n",
       "      <td>1</td>\n",
       "      <td>1</td>\n",
       "      <td>1</td>\n",
       "    </tr>\n",
       "    <tr>\n",
       "      <th>127749</th>\n",
       "      <td>0</td>\n",
       "      <td>NaN</td>\n",
       "      <td>NaN</td>\n",
       "      <td>model_2</td>\n",
       "      <td>Small/Medium</td>\n",
       "      <td>3</td>\n",
       "      <td>1</td>\n",
       "      <td>1</td>\n",
       "      <td>1</td>\n",
       "      <td>2</td>\n",
       "      <td>1</td>\n",
       "      <td>1</td>\n",
       "      <td>2</td>\n",
       "      <td>1</td>\n",
       "      <td>1</td>\n",
       "      <td>1</td>\n",
       "    </tr>\n",
       "    <tr>\n",
       "      <th>127810</th>\n",
       "      <td>0</td>\n",
       "      <td>NaN</td>\n",
       "      <td>NaN</td>\n",
       "      <td>model_3</td>\n",
       "      <td>Large/SUV</td>\n",
       "      <td>3</td>\n",
       "      <td>1</td>\n",
       "      <td>1</td>\n",
       "      <td>1</td>\n",
       "      <td>1</td>\n",
       "      <td>1</td>\n",
       "      <td>1</td>\n",
       "      <td>1</td>\n",
       "      <td>1</td>\n",
       "      <td>1</td>\n",
       "      <td>1</td>\n",
       "    </tr>\n",
       "  </tbody>\n",
       "</table>\n",
       "<p>2726 rows × 16 columns</p>\n",
       "</div>"
      ],
      "text/plain": [
       "        Target     age_band  gender car_model   car_segment  \\\n",
       "426          0          NaN     NaN   model_2  Small/Medium   \n",
       "1613         0          NaN     NaN   model_2  Small/Medium   \n",
       "2154         0          NaN     NaN   model_2  Small/Medium   \n",
       "3254         0          NaN     NaN   model_2  Small/Medium   \n",
       "3434         0          NaN     NaN   model_3     Large/SUV   \n",
       "...        ...          ...     ...       ...           ...   \n",
       "127689       0          NaN     NaN   model_2  Small/Medium   \n",
       "127690       0          NaN     NaN   model_4  Small/Medium   \n",
       "127698       0  2. 25 to 34  Female   model_6  Small/Medium   \n",
       "127749       0          NaN     NaN   model_2  Small/Medium   \n",
       "127810       0          NaN     NaN   model_3     Large/SUV   \n",
       "\n",
       "        age_of_vehicle_years  sched_serv_warr  non_sched_serv_warr  \\\n",
       "426                        4                1                    1   \n",
       "1613                       1                1                    1   \n",
       "2154                       4                1                    1   \n",
       "3254                       3                1                    1   \n",
       "3434                       3                1                    1   \n",
       "...                      ...              ...                  ...   \n",
       "127689                     2                2                    1   \n",
       "127690                     3                1                    1   \n",
       "127698                     6                1                    1   \n",
       "127749                     3                1                    1   \n",
       "127810                     3                1                    1   \n",
       "\n",
       "        sched_serv_paid  non_sched_serv_paid  total_paid_services  \\\n",
       "426                   2                    3                    1   \n",
       "1613                  2                    2                    1   \n",
       "2154                  2                    3                    1   \n",
       "3254                  2                    2                    1   \n",
       "3434                  2                    2                    2   \n",
       "...                 ...                  ...                  ...   \n",
       "127689                1                    2                    2   \n",
       "127690                1                    1                    2   \n",
       "127698                1                    1                    1   \n",
       "127749                1                    2                    1   \n",
       "127810                1                    1                    1   \n",
       "\n",
       "        total_services  mth_since_last_serv  annualised_mileage  \\\n",
       "426                  1                    2                   1   \n",
       "1613                 1                    1                   1   \n",
       "2154                 1                    1                   1   \n",
       "3254                 1                    1                   1   \n",
       "3434                 1                    2                   1   \n",
       "...                ...                  ...                 ...   \n",
       "127689               2                    2                   2   \n",
       "127690               1                    1                   1   \n",
       "127698               1                    1                   1   \n",
       "127749               1                    2                   1   \n",
       "127810               1                    1                   1   \n",
       "\n",
       "        num_dealers_visited  num_serv_dealer_purchased  \n",
       "426                       1                          1  \n",
       "1613                      1                          1  \n",
       "2154                      1                          1  \n",
       "3254                      1                          1  \n",
       "3434                      1                          1  \n",
       "...                     ...                        ...  \n",
       "127689                    2                          2  \n",
       "127690                    1                          1  \n",
       "127698                    1                          1  \n",
       "127749                    1                          1  \n",
       "127810                    1                          1  \n",
       "\n",
       "[2726 rows x 16 columns]"
      ]
     },
     "execution_count": 9,
     "metadata": {},
     "output_type": "execute_result"
    }
   ],
   "source": [
    "#duplicated rows in the dataframe\n",
    "dup = df_copy.duplicated()\n",
    "df_copy[dup]"
   ]
  },
  {
   "cell_type": "markdown",
   "id": "0376d559",
   "metadata": {},
   "source": [
    "Duplicate records are detected if the customer's unique identifier is not considered.\n",
    "Since it may be possible to have clients with the same characteristics (apparently duplicates), the decision is to leave these records since we do not have sufficient evidence of whether or not they are real duplicate records. However, the client's ID on this list should be reviewed with the stakeholders or product owner to determine the quality of the information provided.\n",
    "\n",
    "\"Consider a scenario in which there are just two distinct objects. Your original data contains 99 of object A and 1 of object B. After throwing out duplicates, you have 1 object A and 1 object B. A classifier trained on the de-duplicated data will be substantially different than one trained on the original data\" (Dodier, 2014)."
   ]
  },
  {
   "cell_type": "markdown",
   "id": "bc5a7b32",
   "metadata": {},
   "source": [
    "**[4.4]** General information about the DataFrame "
   ]
  },
  {
   "cell_type": "code",
   "execution_count": 10,
   "id": "ef10279c",
   "metadata": {},
   "outputs": [
    {
     "name": "stdout",
     "output_type": "stream",
     "text": [
      "<class 'pandas.core.frame.DataFrame'>\n",
      "RangeIndex: 131337 entries, 0 to 131336\n",
      "Data columns (total 17 columns):\n",
      " #   Column                     Non-Null Count   Dtype \n",
      "---  ------                     --------------   ----- \n",
      " 0   ID                         131337 non-null  int64 \n",
      " 1   Target                     131337 non-null  int64 \n",
      " 2   age_band                   18962 non-null   object\n",
      " 3   gender                     62029 non-null   object\n",
      " 4   car_model                  131337 non-null  object\n",
      " 5   car_segment                131337 non-null  object\n",
      " 6   age_of_vehicle_years       131337 non-null  int64 \n",
      " 7   sched_serv_warr            131337 non-null  int64 \n",
      " 8   non_sched_serv_warr        131337 non-null  int64 \n",
      " 9   sched_serv_paid            131337 non-null  int64 \n",
      " 10  non_sched_serv_paid        131337 non-null  int64 \n",
      " 11  total_paid_services        131337 non-null  int64 \n",
      " 12  total_services             131337 non-null  int64 \n",
      " 13  mth_since_last_serv        131337 non-null  int64 \n",
      " 14  annualised_mileage         131337 non-null  int64 \n",
      " 15  num_dealers_visited        131337 non-null  int64 \n",
      " 16  num_serv_dealer_purchased  131337 non-null  int64 \n",
      "dtypes: int64(13), object(4)\n",
      "memory usage: 17.0+ MB\n"
     ]
    }
   ],
   "source": [
    "df.info()"
   ]
  },
  {
   "cell_type": "markdown",
   "id": "25e103ad",
   "metadata": {},
   "source": [
    "It shows the features and its data type,and Null count.\n",
    "There are missing values in age_band and gender columns. These columns might not be a good option to train the model, because we can miss data dropping rows with no value related on these columns.\n"
   ]
  },
  {
   "cell_type": "markdown",
   "id": "4f8e9ca2",
   "metadata": {},
   "source": [
    "## 5. Exploratory Data Analysis (EDA)"
   ]
  },
  {
   "cell_type": "markdown",
   "id": "52759d14",
   "metadata": {},
   "source": [
    "Based on: (AGRAWAL, 2019) and (Hoffman, 2020)"
   ]
  },
  {
   "cell_type": "code",
   "execution_count": 11,
   "id": "18fd2140",
   "metadata": {},
   "outputs": [],
   "source": [
    "sns.set_theme(style=\"whitegrid\")"
   ]
  },
  {
   "cell_type": "code",
   "execution_count": 12,
   "id": "bc1eccd0",
   "metadata": {},
   "outputs": [
    {
     "data": {
      "text/plain": [
       "<AxesSubplot:xlabel='Target', ylabel='count'>"
      ]
     },
     "execution_count": 12,
     "metadata": {},
     "output_type": "execute_result"
    },
    {
     "data": {
      "image/png": "[encoded data removed]",
      "text/plain": [
       "<Figure size 640x480 with 1 Axes>"
      ]
     },
     "metadata": {},
     "output_type": "display_data"
    }
   ],
   "source": [
    "sns.countplot(data = df, x = 'Target')"
   ]
  },
  {
   "cell_type": "markdown",
   "id": "52fd7747",
   "metadata": {},
   "source": [
    "The dataset is unbalanced where the most significant number of records belong to the target: only one purchase"
   ]
  },
  {
   "cell_type": "code",
   "execution_count": 13,
   "id": "0524facf",
   "metadata": {},
   "outputs": [
    {
     "data": {
      "text/plain": [
       "<AxesSubplot:xlabel='count', ylabel='age_band'>"
      ]
     },
     "execution_count": 13,
     "metadata": {},
     "output_type": "execute_result"
    },
    {
     "data": {
      "image/png": "[encoded data removed]",
      "text/plain": [
       "<Figure size 640x480 with 1 Axes>"
      ]
     },
     "metadata": {},
     "output_type": "display_data"
    }
   ],
   "source": [
    "sns.countplot(data = df, y = 'age_band', hue=\"Target\")"
   ]
  },
  {
   "cell_type": "code",
   "execution_count": 14,
   "id": "becebb2b",
   "metadata": {},
   "outputs": [
    {
     "data": {
      "text/plain": [
       "<AxesSubplot:xlabel='gender', ylabel='count'>"
      ]
     },
     "execution_count": 14,
     "metadata": {},
     "output_type": "execute_result"
    },
    {
     "data": {
      "image/png": "[encoded data removed]",
      "text/plain": [
       "<Figure size 640x480 with 1 Axes>"
      ]
     },
     "metadata": {},
     "output_type": "display_data"
    }
   ],
   "source": [
    "sns.countplot(data = df, x = 'gender', hue=\"Target\")"
   ]
  },
  {
   "cell_type": "code",
   "execution_count": 15,
   "id": "190a98f7",
   "metadata": {},
   "outputs": [
    {
     "data": {
      "text/html": [
       "<div>\n",
       "<style scoped>\n",
       "    .dataframe tbody tr th:only-of-type {\n",
       "        vertical-align: middle;\n",
       "    }\n",
       "\n",
       "    .dataframe tbody tr th {\n",
       "        vertical-align: top;\n",
       "    }\n",
       "\n",
       "    .dataframe thead th {\n",
       "        text-align: right;\n",
       "    }\n",
       "</style>\n",
       "<table border=\"1\" class=\"dataframe\">\n",
       "  <thead>\n",
       "    <tr style=\"text-align: right;\">\n",
       "      <th>Target</th>\n",
       "      <th>0</th>\n",
       "      <th>1</th>\n",
       "    </tr>\n",
       "    <tr>\n",
       "      <th>gender</th>\n",
       "      <th></th>\n",
       "      <th></th>\n",
       "    </tr>\n",
       "  </thead>\n",
       "  <tbody>\n",
       "    <tr>\n",
       "      <th>Female</th>\n",
       "      <td>25570</td>\n",
       "      <td>387</td>\n",
       "    </tr>\n",
       "    <tr>\n",
       "      <th>Male</th>\n",
       "      <td>35115</td>\n",
       "      <td>957</td>\n",
       "    </tr>\n",
       "  </tbody>\n",
       "</table>\n",
       "</div>"
      ],
      "text/plain": [
       "Target      0    1\n",
       "gender            \n",
       "Female  25570  387\n",
       "Male    35115  957"
      ]
     },
     "execution_count": 15,
     "metadata": {},
     "output_type": "execute_result"
    }
   ],
   "source": [
    "counts_df = df.groupby([\"gender\", \"Target\"])[\"ID\"].count().unstack()\n",
    "counts_df"
   ]
  },
  {
   "cell_type": "code",
   "execution_count": 16,
   "id": "db86cf59",
   "metadata": {},
   "outputs": [
    {
     "data": {
      "text/plain": [
       "Text(0.5, 0.98, 'Gender vs. Repurchase')"
      ]
     },
     "execution_count": 16,
     "metadata": {},
     "output_type": "execute_result"
    },
    {
     "data": {
      "image/png": "[encoded data removed]",
      "text/plain": [
       "<Figure size 640x480 with 1 Axes>"
      ]
     },
     "metadata": {},
     "output_type": "display_data"
    }
   ],
   "source": [
    "# Divide by the total number and transpose for plotting\n",
    "pclass_percents_df = counts_df.div(counts_df.sum()).T\n",
    "fig, ax = plt.subplots()\n",
    "\n",
    "pclass_percents_df.plot(kind=\"bar\", stacked=True, color=[\"yellow\", \"orange\"], ax=ax)\n",
    "\n",
    "ax.legend(title=\"Gender\")\n",
    "ax.set_xticklabels([\"just one vehicle\", \"repurchase\"], rotation=0)\n",
    "ax.set_xlabel(\"\")\n",
    "ax.set_ylabel(\"Proportion\")\n",
    "\n",
    "fig.suptitle(\"Gender vs. Repurchase\")"
   ]
  },
  {
   "cell_type": "markdown",
   "id": "7896061e",
   "metadata": {},
   "source": [
    "Men have repurchased in a higher proportion than women"
   ]
  },
  {
   "cell_type": "code",
   "execution_count": 17,
   "id": "6c86c0c6",
   "metadata": {},
   "outputs": [
    {
     "data": {
      "text/plain": [
       "<AxesSubplot:xlabel='count', ylabel='car_model'>"
      ]
     },
     "execution_count": 17,
     "metadata": {},
     "output_type": "execute_result"
    },
    {
     "data": {
      "image/png": "[encoded data removed]",
      "text/plain": [
       "<Figure size 640x480 with 1 Axes>"
      ]
     },
     "metadata": {},
     "output_type": "display_data"
    }
   ],
   "source": [
    "sns.countplot(data = df, y = 'car_model')"
   ]
  },
  {
   "cell_type": "markdown",
   "id": "99c72ae1",
   "metadata": {},
   "source": [
    "Model 2 and model 5 have the highest representation in the data sample."
   ]
  },
  {
   "cell_type": "code",
   "execution_count": 18,
   "id": "72111b78",
   "metadata": {},
   "outputs": [
    {
     "data": {
      "text/plain": [
       "<AxesSubplot:xlabel='car_segment', ylabel='count'>"
      ]
     },
     "execution_count": 18,
     "metadata": {},
     "output_type": "execute_result"
    },
    {
     "data": {
      "image/png": "[encoded data removed]",
      "text/plain": [
       "<Figure size 640x480 with 1 Axes>"
      ]
     },
     "metadata": {},
     "output_type": "display_data"
    }
   ],
   "source": [
    "sns.countplot(data = df, x = 'car_segment', hue=\"Target\")"
   ]
  },
  {
   "cell_type": "code",
   "execution_count": 19,
   "id": "fb456063",
   "metadata": {},
   "outputs": [
    {
     "data": {
      "text/html": [
       "<div>\n",
       "<style scoped>\n",
       "    .dataframe tbody tr th:only-of-type {\n",
       "        vertical-align: middle;\n",
       "    }\n",
       "\n",
       "    .dataframe tbody tr th {\n",
       "        vertical-align: top;\n",
       "    }\n",
       "\n",
       "    .dataframe thead th {\n",
       "        text-align: right;\n",
       "    }\n",
       "</style>\n",
       "<table border=\"1\" class=\"dataframe\">\n",
       "  <thead>\n",
       "    <tr style=\"text-align: right;\">\n",
       "      <th>Target</th>\n",
       "      <th>0</th>\n",
       "      <th>1</th>\n",
       "    </tr>\n",
       "    <tr>\n",
       "      <th>car_segment</th>\n",
       "      <th></th>\n",
       "      <th></th>\n",
       "    </tr>\n",
       "  </thead>\n",
       "  <tbody>\n",
       "    <tr>\n",
       "      <th>LCV</th>\n",
       "      <td>23861</td>\n",
       "      <td>745</td>\n",
       "    </tr>\n",
       "    <tr>\n",
       "      <th>Large/SUV</th>\n",
       "      <td>50569</td>\n",
       "      <td>1551</td>\n",
       "    </tr>\n",
       "    <tr>\n",
       "      <th>Other</th>\n",
       "      <td>57</td>\n",
       "      <td>1</td>\n",
       "    </tr>\n",
       "    <tr>\n",
       "      <th>Small/Medium</th>\n",
       "      <td>53329</td>\n",
       "      <td>1224</td>\n",
       "    </tr>\n",
       "  </tbody>\n",
       "</table>\n",
       "</div>"
      ],
      "text/plain": [
       "Target            0     1\n",
       "car_segment              \n",
       "LCV           23861   745\n",
       "Large/SUV     50569  1551\n",
       "Other            57     1\n",
       "Small/Medium  53329  1224"
      ]
     },
     "execution_count": 19,
     "metadata": {},
     "output_type": "execute_result"
    }
   ],
   "source": [
    "counts_df = df.groupby([\"car_segment\", \"Target\"])[\"ID\"].count().unstack()\n",
    "counts_df"
   ]
  },
  {
   "cell_type": "code",
   "execution_count": 20,
   "id": "10130fc8",
   "metadata": {},
   "outputs": [
    {
     "data": {
      "text/html": [
       "<div>\n",
       "<style scoped>\n",
       "    .dataframe tbody tr th:only-of-type {\n",
       "        vertical-align: middle;\n",
       "    }\n",
       "\n",
       "    .dataframe tbody tr th {\n",
       "        vertical-align: top;\n",
       "    }\n",
       "\n",
       "    .dataframe thead th {\n",
       "        text-align: right;\n",
       "    }\n",
       "</style>\n",
       "<table border=\"1\" class=\"dataframe\">\n",
       "  <thead>\n",
       "    <tr style=\"text-align: right;\">\n",
       "      <th>car_segment</th>\n",
       "      <th>LCV</th>\n",
       "      <th>Large/SUV</th>\n",
       "      <th>Other</th>\n",
       "      <th>Small/Medium</th>\n",
       "    </tr>\n",
       "    <tr>\n",
       "      <th>Target</th>\n",
       "      <th></th>\n",
       "      <th></th>\n",
       "      <th></th>\n",
       "      <th></th>\n",
       "    </tr>\n",
       "  </thead>\n",
       "  <tbody>\n",
       "    <tr>\n",
       "      <th>0</th>\n",
       "      <td>0.186682</td>\n",
       "      <td>0.395639</td>\n",
       "      <td>0.000446</td>\n",
       "      <td>0.417233</td>\n",
       "    </tr>\n",
       "    <tr>\n",
       "      <th>1</th>\n",
       "      <td>0.211588</td>\n",
       "      <td>0.440500</td>\n",
       "      <td>0.000284</td>\n",
       "      <td>0.347629</td>\n",
       "    </tr>\n",
       "  </tbody>\n",
       "</table>\n",
       "</div>"
      ],
      "text/plain": [
       "car_segment       LCV  Large/SUV     Other  Small/Medium\n",
       "Target                                                  \n",
       "0            0.186682   0.395639  0.000446      0.417233\n",
       "1            0.211588   0.440500  0.000284      0.347629"
      ]
     },
     "execution_count": 20,
     "metadata": {},
     "output_type": "execute_result"
    }
   ],
   "source": [
    "# Divide by the total number and transpose for plotting\n",
    "pclass_percents_df = counts_df.div(counts_df.sum()).T\n",
    "pclass_percents_df"
   ]
  },
  {
   "cell_type": "code",
   "execution_count": 21,
   "id": "8e600794",
   "metadata": {},
   "outputs": [
    {
     "data": {
      "text/plain": [
       "Text(0.5, 0.98, 'car segment vs. Repurchase')"
      ]
     },
     "execution_count": 21,
     "metadata": {},
     "output_type": "execute_result"
    },
    {
     "data": {
      "image/png": "[encoded data removed]",
      "text/plain": [
       "<Figure size 640x480 with 1 Axes>"
      ]
     },
     "metadata": {},
     "output_type": "display_data"
    }
   ],
   "source": [
    "fig, ax = plt.subplots()\n",
    "\n",
    "pclass_percents_df.plot(kind=\"bar\", stacked=True, color=[\"green\", \"blue\", \"grey\", \"brown\"], ax=ax)\n",
    "\n",
    "ax.legend(title=\"car segment\")\n",
    "ax.set_xticklabels([\"just one vehicle\", \"repurchase\"], rotation=0)\n",
    "ax.set_xlabel(\"\")\n",
    "ax.set_ylabel(\"Proportion\")\n",
    "\n",
    "fig.suptitle(\"car segment vs. Repurchase\")"
   ]
  },
  {
   "cell_type": "markdown",
   "id": "b1899418",
   "metadata": {},
   "source": [
    "Large/SUV has a higher buyback percentage. While the rate of the total repurchase for Small/Medium decreases compared to the first-time purchase."
   ]
  },
  {
   "cell_type": "code",
   "execution_count": 22,
   "id": "bbc03a38",
   "metadata": {},
   "outputs": [
    {
     "data": {
      "text/plain": [
       "<AxesSubplot:xlabel='count', ylabel='mth_since_last_serv'>"
      ]
     },
     "execution_count": 22,
     "metadata": {},
     "output_type": "execute_result"
    },
    {
     "data": {
      "image/png": "[encoded data removed]",
      "text/plain": [
       "<Figure size 640x480 with 1 Axes>"
      ]
     },
     "metadata": {},
     "output_type": "display_data"
    }
   ],
   "source": [
    "sns.countplot(data = df, y = 'mth_since_last_serv') "
   ]
  },
  {
   "cell_type": "markdown",
   "id": "f861993f",
   "metadata": {},
   "source": [
    "The number of months since the last service presents more records for decile 3 and a lower number for decile 2."
   ]
  },
  {
   "cell_type": "markdown",
   "id": "e5bf14f2",
   "metadata": {},
   "source": [
    "There is no pattern to highlight in the other variables"
   ]
  },
  {
   "cell_type": "markdown",
   "id": "375d737c",
   "metadata": {},
   "source": [
    "## 6. Data cleaning"
   ]
  },
  {
   "cell_type": "markdown",
   "id": "b860f90b",
   "metadata": {},
   "source": [
    "**[6.1]** Outliers"
   ]
  },
  {
   "cell_type": "markdown",
   "id": "2bfd7f3f",
   "metadata": {},
   "source": [
    "After analysing the variables' values, they are all categorical variables. However, there are no values out of the range of the variables."
   ]
  },
  {
   "cell_type": "code",
   "execution_count": 25,
   "id": "82b941ea",
   "metadata": {},
   "outputs": [
    {
     "data": {
      "text/plain": [
       "array([0, 1], dtype=int64)"
      ]
     },
     "execution_count": 25,
     "metadata": {},
     "output_type": "execute_result"
    }
   ],
   "source": [
    "df['Target'].unique()"
   ]
  },
  {
   "cell_type": "code",
   "execution_count": 26,
   "id": "da86c067",
   "metadata": {},
   "outputs": [
    {
     "data": {
      "text/plain": [
       "array(['3. 35 to 44', nan, '1. <25', '4. 45 to 54', '2. 25 to 34',\n",
       "       '7. 75+', '5. 55 to 64', '6. 65 to 74'], dtype=object)"
      ]
     },
     "execution_count": 26,
     "metadata": {},
     "output_type": "execute_result"
    }
   ],
   "source": [
    "df['age_band'].unique()"
   ]
  },
  {
   "cell_type": "code",
   "execution_count": 27,
   "id": "841ae1ec",
   "metadata": {},
   "outputs": [
    {
     "data": {
      "text/plain": [
       "array(['Male', nan, 'Female'], dtype=object)"
      ]
     },
     "execution_count": 27,
     "metadata": {},
     "output_type": "execute_result"
    }
   ],
   "source": [
    "df['gender'].unique()"
   ]
  },
  {
   "cell_type": "code",
   "execution_count": 28,
   "id": "daa68f4d",
   "metadata": {},
   "outputs": [
    {
     "data": {
      "text/plain": [
       "array(['model_1', 'model_2', 'model_3', 'model_5', 'model_6', 'model_4',\n",
       "       'model_7', 'model_8', 'model_9', 'model_10', 'model_11',\n",
       "       'model_13', 'model_12', 'model_14', 'model_15', 'model_16',\n",
       "       'model_17', 'model_18', 'model_19'], dtype=object)"
      ]
     },
     "execution_count": 28,
     "metadata": {},
     "output_type": "execute_result"
    }
   ],
   "source": [
    "df['car_model'].unique()"
   ]
  },
  {
   "cell_type": "code",
   "execution_count": 29,
   "id": "87dca32f",
   "metadata": {},
   "outputs": [
    {
     "data": {
      "text/plain": [
       "array(['LCV', 'Small/Medium', 'Large/SUV', 'Other'], dtype=object)"
      ]
     },
     "execution_count": 29,
     "metadata": {},
     "output_type": "execute_result"
    }
   ],
   "source": [
    "df['car_segment'].unique()"
   ]
  },
  {
   "cell_type": "code",
   "execution_count": 30,
   "id": "ea275b51",
   "metadata": {},
   "outputs": [
    {
     "data": {
      "text/plain": [
       "array([ 9,  6,  5,  8,  7,  1,  3,  4, 10,  2], dtype=int64)"
      ]
     },
     "execution_count": 30,
     "metadata": {},
     "output_type": "execute_result"
    }
   ],
   "source": [
    "df['age_of_vehicle_years'].unique()"
   ]
  },
  {
   "cell_type": "code",
   "execution_count": 31,
   "id": "fab7d208",
   "metadata": {},
   "outputs": [
    {
     "data": {
      "text/plain": [
       "array([ 2, 10,  8,  9,  4,  1,  3,  7,  5,  6], dtype=int64)"
      ]
     },
     "execution_count": 31,
     "metadata": {},
     "output_type": "execute_result"
    }
   ],
   "source": [
    "df['sched_serv_warr'].unique()"
   ]
  },
  {
   "cell_type": "markdown",
   "id": "c25f831f",
   "metadata": {},
   "source": [
    "**[6.2]** Variants of the same values"
   ]
  },
  {
   "cell_type": "markdown",
   "id": "a4ae57f3",
   "metadata": {},
   "source": [
    "All categories have one variant of the same values. There is no need to perform any transformation."
   ]
  },
  {
   "cell_type": "markdown",
   "id": "35e3a354",
   "metadata": {},
   "source": [
    "**[6.3]** Cleaning data using encoder"
   ]
  },
  {
   "cell_type": "code",
   "execution_count": 55,
   "id": "d3675545",
   "metadata": {},
   "outputs": [],
   "source": [
    "df_cleaned1 = df.copy()"
   ]
  },
  {
   "cell_type": "code",
   "execution_count": 56,
   "id": "012a0412",
   "metadata": {},
   "outputs": [],
   "source": [
    "df_cleaned1[\"age_band\"] = df_cleaned1[\"age_band\"].fillna(0)"
   ]
  },
  {
   "cell_type": "code",
   "execution_count": 57,
   "id": "f2eabf95",
   "metadata": {},
   "outputs": [],
   "source": [
    "df_cleaned1[\"gender\"] = df_cleaned1[\"gender\"].fillna('A.Other')"
   ]
  },
  {
   "cell_type": "code",
   "execution_count": 58,
   "id": "ce12f1bf",
   "metadata": {},
   "outputs": [
    {
     "data": {
      "text/html": [
       "<div>\n",
       "<style scoped>\n",
       "    .dataframe tbody tr th:only-of-type {\n",
       "        vertical-align: middle;\n",
       "    }\n",
       "\n",
       "    .dataframe tbody tr th {\n",
       "        vertical-align: top;\n",
       "    }\n",
       "\n",
       "    .dataframe thead th {\n",
       "        text-align: right;\n",
       "    }\n",
       "</style>\n",
       "<table border=\"1\" class=\"dataframe\">\n",
       "  <thead>\n",
       "    <tr style=\"text-align: right;\">\n",
       "      <th></th>\n",
       "      <th>ID</th>\n",
       "      <th>Target</th>\n",
       "      <th>age_band</th>\n",
       "      <th>gender</th>\n",
       "      <th>car_model</th>\n",
       "      <th>car_segment</th>\n",
       "      <th>age_of_vehicle_years</th>\n",
       "      <th>sched_serv_warr</th>\n",
       "      <th>non_sched_serv_warr</th>\n",
       "      <th>sched_serv_paid</th>\n",
       "      <th>non_sched_serv_paid</th>\n",
       "      <th>total_paid_services</th>\n",
       "      <th>total_services</th>\n",
       "      <th>mth_since_last_serv</th>\n",
       "      <th>annualised_mileage</th>\n",
       "      <th>num_dealers_visited</th>\n",
       "      <th>num_serv_dealer_purchased</th>\n",
       "    </tr>\n",
       "  </thead>\n",
       "  <tbody>\n",
       "    <tr>\n",
       "      <th>0</th>\n",
       "      <td>1</td>\n",
       "      <td>0</td>\n",
       "      <td>3. 35 to 44</td>\n",
       "      <td>Male</td>\n",
       "      <td>model_1</td>\n",
       "      <td>LCV</td>\n",
       "      <td>9</td>\n",
       "      <td>2</td>\n",
       "      <td>10</td>\n",
       "      <td>3</td>\n",
       "      <td>7</td>\n",
       "      <td>5</td>\n",
       "      <td>6</td>\n",
       "      <td>9</td>\n",
       "      <td>8</td>\n",
       "      <td>10</td>\n",
       "      <td>4</td>\n",
       "    </tr>\n",
       "    <tr>\n",
       "      <th>1</th>\n",
       "      <td>2</td>\n",
       "      <td>0</td>\n",
       "      <td>0</td>\n",
       "      <td>A.Other</td>\n",
       "      <td>model_2</td>\n",
       "      <td>Small/Medium</td>\n",
       "      <td>6</td>\n",
       "      <td>10</td>\n",
       "      <td>3</td>\n",
       "      <td>10</td>\n",
       "      <td>4</td>\n",
       "      <td>9</td>\n",
       "      <td>10</td>\n",
       "      <td>6</td>\n",
       "      <td>10</td>\n",
       "      <td>7</td>\n",
       "      <td>10</td>\n",
       "    </tr>\n",
       "    <tr>\n",
       "      <th>2</th>\n",
       "      <td>3</td>\n",
       "      <td>0</td>\n",
       "      <td>0</td>\n",
       "      <td>Male</td>\n",
       "      <td>model_3</td>\n",
       "      <td>Large/SUV</td>\n",
       "      <td>9</td>\n",
       "      <td>10</td>\n",
       "      <td>9</td>\n",
       "      <td>10</td>\n",
       "      <td>9</td>\n",
       "      <td>10</td>\n",
       "      <td>10</td>\n",
       "      <td>7</td>\n",
       "      <td>10</td>\n",
       "      <td>6</td>\n",
       "      <td>10</td>\n",
       "    </tr>\n",
       "    <tr>\n",
       "      <th>3</th>\n",
       "      <td>5</td>\n",
       "      <td>0</td>\n",
       "      <td>0</td>\n",
       "      <td>A.Other</td>\n",
       "      <td>model_3</td>\n",
       "      <td>Large/SUV</td>\n",
       "      <td>5</td>\n",
       "      <td>8</td>\n",
       "      <td>5</td>\n",
       "      <td>8</td>\n",
       "      <td>4</td>\n",
       "      <td>5</td>\n",
       "      <td>6</td>\n",
       "      <td>4</td>\n",
       "      <td>10</td>\n",
       "      <td>9</td>\n",
       "      <td>7</td>\n",
       "    </tr>\n",
       "    <tr>\n",
       "      <th>4</th>\n",
       "      <td>6</td>\n",
       "      <td>0</td>\n",
       "      <td>0</td>\n",
       "      <td>Female</td>\n",
       "      <td>model_2</td>\n",
       "      <td>Small/Medium</td>\n",
       "      <td>8</td>\n",
       "      <td>9</td>\n",
       "      <td>4</td>\n",
       "      <td>10</td>\n",
       "      <td>7</td>\n",
       "      <td>9</td>\n",
       "      <td>8</td>\n",
       "      <td>5</td>\n",
       "      <td>4</td>\n",
       "      <td>4</td>\n",
       "      <td>9</td>\n",
       "    </tr>\n",
       "    <tr>\n",
       "      <th>...</th>\n",
       "      <td>...</td>\n",
       "      <td>...</td>\n",
       "      <td>...</td>\n",
       "      <td>...</td>\n",
       "      <td>...</td>\n",
       "      <td>...</td>\n",
       "      <td>...</td>\n",
       "      <td>...</td>\n",
       "      <td>...</td>\n",
       "      <td>...</td>\n",
       "      <td>...</td>\n",
       "      <td>...</td>\n",
       "      <td>...</td>\n",
       "      <td>...</td>\n",
       "      <td>...</td>\n",
       "      <td>...</td>\n",
       "      <td>...</td>\n",
       "    </tr>\n",
       "    <tr>\n",
       "      <th>131332</th>\n",
       "      <td>154134</td>\n",
       "      <td>1</td>\n",
       "      <td>0</td>\n",
       "      <td>A.Other</td>\n",
       "      <td>model_3</td>\n",
       "      <td>Large/SUV</td>\n",
       "      <td>7</td>\n",
       "      <td>10</td>\n",
       "      <td>10</td>\n",
       "      <td>9</td>\n",
       "      <td>10</td>\n",
       "      <td>10</td>\n",
       "      <td>10</td>\n",
       "      <td>3</td>\n",
       "      <td>6</td>\n",
       "      <td>10</td>\n",
       "      <td>10</td>\n",
       "    </tr>\n",
       "    <tr>\n",
       "      <th>131333</th>\n",
       "      <td>154135</td>\n",
       "      <td>1</td>\n",
       "      <td>0</td>\n",
       "      <td>A.Other</td>\n",
       "      <td>model_3</td>\n",
       "      <td>Large/SUV</td>\n",
       "      <td>4</td>\n",
       "      <td>10</td>\n",
       "      <td>10</td>\n",
       "      <td>10</td>\n",
       "      <td>10</td>\n",
       "      <td>10</td>\n",
       "      <td>10</td>\n",
       "      <td>2</td>\n",
       "      <td>3</td>\n",
       "      <td>10</td>\n",
       "      <td>10</td>\n",
       "    </tr>\n",
       "    <tr>\n",
       "      <th>131334</th>\n",
       "      <td>154137</td>\n",
       "      <td>1</td>\n",
       "      <td>0</td>\n",
       "      <td>A.Other</td>\n",
       "      <td>model_5</td>\n",
       "      <td>Large/SUV</td>\n",
       "      <td>4</td>\n",
       "      <td>4</td>\n",
       "      <td>9</td>\n",
       "      <td>5</td>\n",
       "      <td>4</td>\n",
       "      <td>3</td>\n",
       "      <td>8</td>\n",
       "      <td>4</td>\n",
       "      <td>7</td>\n",
       "      <td>10</td>\n",
       "      <td>10</td>\n",
       "    </tr>\n",
       "    <tr>\n",
       "      <th>131335</th>\n",
       "      <td>154138</td>\n",
       "      <td>1</td>\n",
       "      <td>0</td>\n",
       "      <td>A.Other</td>\n",
       "      <td>model_5</td>\n",
       "      <td>Large/SUV</td>\n",
       "      <td>2</td>\n",
       "      <td>1</td>\n",
       "      <td>10</td>\n",
       "      <td>1</td>\n",
       "      <td>10</td>\n",
       "      <td>9</td>\n",
       "      <td>8</td>\n",
       "      <td>3</td>\n",
       "      <td>6</td>\n",
       "      <td>7</td>\n",
       "      <td>10</td>\n",
       "    </tr>\n",
       "    <tr>\n",
       "      <th>131336</th>\n",
       "      <td>154139</td>\n",
       "      <td>1</td>\n",
       "      <td>0</td>\n",
       "      <td>A.Other</td>\n",
       "      <td>model_1</td>\n",
       "      <td>LCV</td>\n",
       "      <td>6</td>\n",
       "      <td>1</td>\n",
       "      <td>7</td>\n",
       "      <td>1</td>\n",
       "      <td>10</td>\n",
       "      <td>10</td>\n",
       "      <td>5</td>\n",
       "      <td>3</td>\n",
       "      <td>4</td>\n",
       "      <td>9</td>\n",
       "      <td>10</td>\n",
       "    </tr>\n",
       "  </tbody>\n",
       "</table>\n",
       "<p>131337 rows × 17 columns</p>\n",
       "</div>"
      ],
      "text/plain": [
       "            ID  Target     age_band   gender car_model   car_segment  \\\n",
       "0            1       0  3. 35 to 44     Male   model_1           LCV   \n",
       "1            2       0            0  A.Other   model_2  Small/Medium   \n",
       "2            3       0            0     Male   model_3     Large/SUV   \n",
       "3            5       0            0  A.Other   model_3     Large/SUV   \n",
       "4            6       0            0   Female   model_2  Small/Medium   \n",
       "...        ...     ...          ...      ...       ...           ...   \n",
       "131332  154134       1            0  A.Other   model_3     Large/SUV   \n",
       "131333  154135       1            0  A.Other   model_3     Large/SUV   \n",
       "131334  154137       1            0  A.Other   model_5     Large/SUV   \n",
       "131335  154138       1            0  A.Other   model_5     Large/SUV   \n",
       "131336  154139       1            0  A.Other   model_1           LCV   \n",
       "\n",
       "        age_of_vehicle_years  sched_serv_warr  non_sched_serv_warr  \\\n",
       "0                          9                2                   10   \n",
       "1                          6               10                    3   \n",
       "2                          9               10                    9   \n",
       "3                          5                8                    5   \n",
       "4                          8                9                    4   \n",
       "...                      ...              ...                  ...   \n",
       "131332                     7               10                   10   \n",
       "131333                     4               10                   10   \n",
       "131334                     4                4                    9   \n",
       "131335                     2                1                   10   \n",
       "131336                     6                1                    7   \n",
       "\n",
       "        sched_serv_paid  non_sched_serv_paid  total_paid_services  \\\n",
       "0                     3                    7                    5   \n",
       "1                    10                    4                    9   \n",
       "2                    10                    9                   10   \n",
       "3                     8                    4                    5   \n",
       "4                    10                    7                    9   \n",
       "...                 ...                  ...                  ...   \n",
       "131332                9                   10                   10   \n",
       "131333               10                   10                   10   \n",
       "131334                5                    4                    3   \n",
       "131335                1                   10                    9   \n",
       "131336                1                   10                   10   \n",
       "\n",
       "        total_services  mth_since_last_serv  annualised_mileage  \\\n",
       "0                    6                    9                   8   \n",
       "1                   10                    6                  10   \n",
       "2                   10                    7                  10   \n",
       "3                    6                    4                  10   \n",
       "4                    8                    5                   4   \n",
       "...                ...                  ...                 ...   \n",
       "131332              10                    3                   6   \n",
       "131333              10                    2                   3   \n",
       "131334               8                    4                   7   \n",
       "131335               8                    3                   6   \n",
       "131336               5                    3                   4   \n",
       "\n",
       "        num_dealers_visited  num_serv_dealer_purchased  \n",
       "0                        10                          4  \n",
       "1                         7                         10  \n",
       "2                         6                         10  \n",
       "3                         9                          7  \n",
       "4                         4                          9  \n",
       "...                     ...                        ...  \n",
       "131332                   10                         10  \n",
       "131333                   10                         10  \n",
       "131334                   10                         10  \n",
       "131335                    7                         10  \n",
       "131336                    9                         10  \n",
       "\n",
       "[131337 rows x 17 columns]"
      ]
     },
     "execution_count": 58,
     "metadata": {},
     "output_type": "execute_result"
    }
   ],
   "source": [
    "df_cleaned1"
   ]
  },
  {
   "cell_type": "code",
   "execution_count": 59,
   "id": "12976b8d",
   "metadata": {},
   "outputs": [
    {
     "data": {
      "text/plain": [
       "array(['3', '0', '1', '4', '2', '7', '5', '6'], dtype=object)"
      ]
     },
     "execution_count": 59,
     "metadata": {},
     "output_type": "execute_result"
    }
   ],
   "source": [
    "#encode the age_band with the first string\n",
    "df_cleaned1['age_band'] = df_cleaned1['age_band'].astype(str).str[0]\n",
    "df_cleaned1['age_band'].unique()"
   ]
  },
  {
   "cell_type": "code",
   "execution_count": 60,
   "id": "60a35a03",
   "metadata": {},
   "outputs": [
    {
     "data": {
      "text/plain": [
       "array(['1', '2', '3', '5', '6', '4', '7', '8', '9', '0'], dtype=object)"
      ]
     },
     "execution_count": 60,
     "metadata": {},
     "output_type": "execute_result"
    }
   ],
   "source": [
    "#encode the car_model with the last string\n",
    "df_cleaned1['car_model'] = df_cleaned1['car_model'].astype(str).str[-1]\n",
    "df_cleaned1['car_model'].unique()"
   ]
  },
  {
   "cell_type": "code",
   "execution_count": 61,
   "id": "58e62a67",
   "metadata": {},
   "outputs": [
    {
     "data": {
      "text/html": [
       "<div>\n",
       "<style scoped>\n",
       "    .dataframe tbody tr th:only-of-type {\n",
       "        vertical-align: middle;\n",
       "    }\n",
       "\n",
       "    .dataframe tbody tr th {\n",
       "        vertical-align: top;\n",
       "    }\n",
       "\n",
       "    .dataframe thead th {\n",
       "        text-align: right;\n",
       "    }\n",
       "</style>\n",
       "<table border=\"1\" class=\"dataframe\">\n",
       "  <thead>\n",
       "    <tr style=\"text-align: right;\">\n",
       "      <th></th>\n",
       "      <th>ID</th>\n",
       "      <th>Target</th>\n",
       "      <th>age_band</th>\n",
       "      <th>gender</th>\n",
       "      <th>car_model</th>\n",
       "      <th>car_segment</th>\n",
       "      <th>age_of_vehicle_years</th>\n",
       "      <th>sched_serv_warr</th>\n",
       "      <th>non_sched_serv_warr</th>\n",
       "      <th>sched_serv_paid</th>\n",
       "      <th>non_sched_serv_paid</th>\n",
       "      <th>total_paid_services</th>\n",
       "      <th>total_services</th>\n",
       "      <th>mth_since_last_serv</th>\n",
       "      <th>annualised_mileage</th>\n",
       "      <th>num_dealers_visited</th>\n",
       "      <th>num_serv_dealer_purchased</th>\n",
       "    </tr>\n",
       "  </thead>\n",
       "  <tbody>\n",
       "    <tr>\n",
       "      <th>0</th>\n",
       "      <td>1</td>\n",
       "      <td>0</td>\n",
       "      <td>3</td>\n",
       "      <td>Male</td>\n",
       "      <td>1</td>\n",
       "      <td>LCV</td>\n",
       "      <td>9</td>\n",
       "      <td>2</td>\n",
       "      <td>10</td>\n",
       "      <td>3</td>\n",
       "      <td>7</td>\n",
       "      <td>5</td>\n",
       "      <td>6</td>\n",
       "      <td>9</td>\n",
       "      <td>8</td>\n",
       "      <td>10</td>\n",
       "      <td>4</td>\n",
       "    </tr>\n",
       "    <tr>\n",
       "      <th>1</th>\n",
       "      <td>2</td>\n",
       "      <td>0</td>\n",
       "      <td>0</td>\n",
       "      <td>A.Other</td>\n",
       "      <td>2</td>\n",
       "      <td>Small/Medium</td>\n",
       "      <td>6</td>\n",
       "      <td>10</td>\n",
       "      <td>3</td>\n",
       "      <td>10</td>\n",
       "      <td>4</td>\n",
       "      <td>9</td>\n",
       "      <td>10</td>\n",
       "      <td>6</td>\n",
       "      <td>10</td>\n",
       "      <td>7</td>\n",
       "      <td>10</td>\n",
       "    </tr>\n",
       "    <tr>\n",
       "      <th>2</th>\n",
       "      <td>3</td>\n",
       "      <td>0</td>\n",
       "      <td>0</td>\n",
       "      <td>Male</td>\n",
       "      <td>3</td>\n",
       "      <td>Large/SUV</td>\n",
       "      <td>9</td>\n",
       "      <td>10</td>\n",
       "      <td>9</td>\n",
       "      <td>10</td>\n",
       "      <td>9</td>\n",
       "      <td>10</td>\n",
       "      <td>10</td>\n",
       "      <td>7</td>\n",
       "      <td>10</td>\n",
       "      <td>6</td>\n",
       "      <td>10</td>\n",
       "    </tr>\n",
       "    <tr>\n",
       "      <th>3</th>\n",
       "      <td>5</td>\n",
       "      <td>0</td>\n",
       "      <td>0</td>\n",
       "      <td>A.Other</td>\n",
       "      <td>3</td>\n",
       "      <td>Large/SUV</td>\n",
       "      <td>5</td>\n",
       "      <td>8</td>\n",
       "      <td>5</td>\n",
       "      <td>8</td>\n",
       "      <td>4</td>\n",
       "      <td>5</td>\n",
       "      <td>6</td>\n",
       "      <td>4</td>\n",
       "      <td>10</td>\n",
       "      <td>9</td>\n",
       "      <td>7</td>\n",
       "    </tr>\n",
       "    <tr>\n",
       "      <th>4</th>\n",
       "      <td>6</td>\n",
       "      <td>0</td>\n",
       "      <td>0</td>\n",
       "      <td>Female</td>\n",
       "      <td>2</td>\n",
       "      <td>Small/Medium</td>\n",
       "      <td>8</td>\n",
       "      <td>9</td>\n",
       "      <td>4</td>\n",
       "      <td>10</td>\n",
       "      <td>7</td>\n",
       "      <td>9</td>\n",
       "      <td>8</td>\n",
       "      <td>5</td>\n",
       "      <td>4</td>\n",
       "      <td>4</td>\n",
       "      <td>9</td>\n",
       "    </tr>\n",
       "    <tr>\n",
       "      <th>...</th>\n",
       "      <td>...</td>\n",
       "      <td>...</td>\n",
       "      <td>...</td>\n",
       "      <td>...</td>\n",
       "      <td>...</td>\n",
       "      <td>...</td>\n",
       "      <td>...</td>\n",
       "      <td>...</td>\n",
       "      <td>...</td>\n",
       "      <td>...</td>\n",
       "      <td>...</td>\n",
       "      <td>...</td>\n",
       "      <td>...</td>\n",
       "      <td>...</td>\n",
       "      <td>...</td>\n",
       "      <td>...</td>\n",
       "      <td>...</td>\n",
       "    </tr>\n",
       "    <tr>\n",
       "      <th>131332</th>\n",
       "      <td>154134</td>\n",
       "      <td>1</td>\n",
       "      <td>0</td>\n",
       "      <td>A.Other</td>\n",
       "      <td>3</td>\n",
       "      <td>Large/SUV</td>\n",
       "      <td>7</td>\n",
       "      <td>10</td>\n",
       "      <td>10</td>\n",
       "      <td>9</td>\n",
       "      <td>10</td>\n",
       "      <td>10</td>\n",
       "      <td>10</td>\n",
       "      <td>3</td>\n",
       "      <td>6</td>\n",
       "      <td>10</td>\n",
       "      <td>10</td>\n",
       "    </tr>\n",
       "    <tr>\n",
       "      <th>131333</th>\n",
       "      <td>154135</td>\n",
       "      <td>1</td>\n",
       "      <td>0</td>\n",
       "      <td>A.Other</td>\n",
       "      <td>3</td>\n",
       "      <td>Large/SUV</td>\n",
       "      <td>4</td>\n",
       "      <td>10</td>\n",
       "      <td>10</td>\n",
       "      <td>10</td>\n",
       "      <td>10</td>\n",
       "      <td>10</td>\n",
       "      <td>10</td>\n",
       "      <td>2</td>\n",
       "      <td>3</td>\n",
       "      <td>10</td>\n",
       "      <td>10</td>\n",
       "    </tr>\n",
       "    <tr>\n",
       "      <th>131334</th>\n",
       "      <td>154137</td>\n",
       "      <td>1</td>\n",
       "      <td>0</td>\n",
       "      <td>A.Other</td>\n",
       "      <td>5</td>\n",
       "      <td>Large/SUV</td>\n",
       "      <td>4</td>\n",
       "      <td>4</td>\n",
       "      <td>9</td>\n",
       "      <td>5</td>\n",
       "      <td>4</td>\n",
       "      <td>3</td>\n",
       "      <td>8</td>\n",
       "      <td>4</td>\n",
       "      <td>7</td>\n",
       "      <td>10</td>\n",
       "      <td>10</td>\n",
       "    </tr>\n",
       "    <tr>\n",
       "      <th>131335</th>\n",
       "      <td>154138</td>\n",
       "      <td>1</td>\n",
       "      <td>0</td>\n",
       "      <td>A.Other</td>\n",
       "      <td>5</td>\n",
       "      <td>Large/SUV</td>\n",
       "      <td>2</td>\n",
       "      <td>1</td>\n",
       "      <td>10</td>\n",
       "      <td>1</td>\n",
       "      <td>10</td>\n",
       "      <td>9</td>\n",
       "      <td>8</td>\n",
       "      <td>3</td>\n",
       "      <td>6</td>\n",
       "      <td>7</td>\n",
       "      <td>10</td>\n",
       "    </tr>\n",
       "    <tr>\n",
       "      <th>131336</th>\n",
       "      <td>154139</td>\n",
       "      <td>1</td>\n",
       "      <td>0</td>\n",
       "      <td>A.Other</td>\n",
       "      <td>1</td>\n",
       "      <td>LCV</td>\n",
       "      <td>6</td>\n",
       "      <td>1</td>\n",
       "      <td>7</td>\n",
       "      <td>1</td>\n",
       "      <td>10</td>\n",
       "      <td>10</td>\n",
       "      <td>5</td>\n",
       "      <td>3</td>\n",
       "      <td>4</td>\n",
       "      <td>9</td>\n",
       "      <td>10</td>\n",
       "    </tr>\n",
       "  </tbody>\n",
       "</table>\n",
       "<p>131337 rows × 17 columns</p>\n",
       "</div>"
      ],
      "text/plain": [
       "            ID  Target age_band   gender car_model   car_segment  \\\n",
       "0            1       0        3     Male         1           LCV   \n",
       "1            2       0        0  A.Other         2  Small/Medium   \n",
       "2            3       0        0     Male         3     Large/SUV   \n",
       "3            5       0        0  A.Other         3     Large/SUV   \n",
       "4            6       0        0   Female         2  Small/Medium   \n",
       "...        ...     ...      ...      ...       ...           ...   \n",
       "131332  154134       1        0  A.Other         3     Large/SUV   \n",
       "131333  154135       1        0  A.Other         3     Large/SUV   \n",
       "131334  154137       1        0  A.Other         5     Large/SUV   \n",
       "131335  154138       1        0  A.Other         5     Large/SUV   \n",
       "131336  154139       1        0  A.Other         1           LCV   \n",
       "\n",
       "        age_of_vehicle_years  sched_serv_warr  non_sched_serv_warr  \\\n",
       "0                          9                2                   10   \n",
       "1                          6               10                    3   \n",
       "2                          9               10                    9   \n",
       "3                          5                8                    5   \n",
       "4                          8                9                    4   \n",
       "...                      ...              ...                  ...   \n",
       "131332                     7               10                   10   \n",
       "131333                     4               10                   10   \n",
       "131334                     4                4                    9   \n",
       "131335                     2                1                   10   \n",
       "131336                     6                1                    7   \n",
       "\n",
       "        sched_serv_paid  non_sched_serv_paid  total_paid_services  \\\n",
       "0                     3                    7                    5   \n",
       "1                    10                    4                    9   \n",
       "2                    10                    9                   10   \n",
       "3                     8                    4                    5   \n",
       "4                    10                    7                    9   \n",
       "...                 ...                  ...                  ...   \n",
       "131332                9                   10                   10   \n",
       "131333               10                   10                   10   \n",
       "131334                5                    4                    3   \n",
       "131335                1                   10                    9   \n",
       "131336                1                   10                   10   \n",
       "\n",
       "        total_services  mth_since_last_serv  annualised_mileage  \\\n",
       "0                    6                    9                   8   \n",
       "1                   10                    6                  10   \n",
       "2                   10                    7                  10   \n",
       "3                    6                    4                  10   \n",
       "4                    8                    5                   4   \n",
       "...                ...                  ...                 ...   \n",
       "131332              10                    3                   6   \n",
       "131333              10                    2                   3   \n",
       "131334               8                    4                   7   \n",
       "131335               8                    3                   6   \n",
       "131336               5                    3                   4   \n",
       "\n",
       "        num_dealers_visited  num_serv_dealer_purchased  \n",
       "0                        10                          4  \n",
       "1                         7                         10  \n",
       "2                         6                         10  \n",
       "3                         9                          7  \n",
       "4                         4                          9  \n",
       "...                     ...                        ...  \n",
       "131332                   10                         10  \n",
       "131333                   10                         10  \n",
       "131334                   10                         10  \n",
       "131335                    7                         10  \n",
       "131336                    9                         10  \n",
       "\n",
       "[131337 rows x 17 columns]"
      ]
     },
     "execution_count": 61,
     "metadata": {},
     "output_type": "execute_result"
    }
   ],
   "source": [
    "df_cleaned1"
   ]
  },
  {
   "cell_type": "code",
   "execution_count": 62,
   "id": "81ed253d",
   "metadata": {},
   "outputs": [
    {
     "data": {
      "text/html": [
       "<div>\n",
       "<style scoped>\n",
       "    .dataframe tbody tr th:only-of-type {\n",
       "        vertical-align: middle;\n",
       "    }\n",
       "\n",
       "    .dataframe tbody tr th {\n",
       "        vertical-align: top;\n",
       "    }\n",
       "\n",
       "    .dataframe thead th {\n",
       "        text-align: right;\n",
       "    }\n",
       "</style>\n",
       "<table border=\"1\" class=\"dataframe\">\n",
       "  <thead>\n",
       "    <tr style=\"text-align: right;\">\n",
       "      <th></th>\n",
       "      <th>Female</th>\n",
       "      <th>Male</th>\n",
       "    </tr>\n",
       "  </thead>\n",
       "  <tbody>\n",
       "    <tr>\n",
       "      <th>0</th>\n",
       "      <td>0</td>\n",
       "      <td>1</td>\n",
       "    </tr>\n",
       "    <tr>\n",
       "      <th>1</th>\n",
       "      <td>0</td>\n",
       "      <td>0</td>\n",
       "    </tr>\n",
       "    <tr>\n",
       "      <th>2</th>\n",
       "      <td>0</td>\n",
       "      <td>1</td>\n",
       "    </tr>\n",
       "    <tr>\n",
       "      <th>3</th>\n",
       "      <td>0</td>\n",
       "      <td>0</td>\n",
       "    </tr>\n",
       "    <tr>\n",
       "      <th>4</th>\n",
       "      <td>1</td>\n",
       "      <td>0</td>\n",
       "    </tr>\n",
       "    <tr>\n",
       "      <th>...</th>\n",
       "      <td>...</td>\n",
       "      <td>...</td>\n",
       "    </tr>\n",
       "    <tr>\n",
       "      <th>131332</th>\n",
       "      <td>0</td>\n",
       "      <td>0</td>\n",
       "    </tr>\n",
       "    <tr>\n",
       "      <th>131333</th>\n",
       "      <td>0</td>\n",
       "      <td>0</td>\n",
       "    </tr>\n",
       "    <tr>\n",
       "      <th>131334</th>\n",
       "      <td>0</td>\n",
       "      <td>0</td>\n",
       "    </tr>\n",
       "    <tr>\n",
       "      <th>131335</th>\n",
       "      <td>0</td>\n",
       "      <td>0</td>\n",
       "    </tr>\n",
       "    <tr>\n",
       "      <th>131336</th>\n",
       "      <td>0</td>\n",
       "      <td>0</td>\n",
       "    </tr>\n",
       "  </tbody>\n",
       "</table>\n",
       "<p>131337 rows × 2 columns</p>\n",
       "</div>"
      ],
      "text/plain": [
       "        Female  Male\n",
       "0            0     1\n",
       "1            0     0\n",
       "2            0     1\n",
       "3            0     0\n",
       "4            1     0\n",
       "...        ...   ...\n",
       "131332       0     0\n",
       "131333       0     0\n",
       "131334       0     0\n",
       "131335       0     0\n",
       "131336       0     0\n",
       "\n",
       "[131337 rows x 2 columns]"
      ]
     },
     "execution_count": 62,
     "metadata": {},
     "output_type": "execute_result"
    }
   ],
   "source": [
    "#one hot encoding for gender feature\n",
    "df_cat = pd.get_dummies(df_cleaned1[\"gender\"], drop_first=True)\n",
    "df_cat"
   ]
  },
  {
   "cell_type": "code",
   "execution_count": 63,
   "id": "d7e69009",
   "metadata": {},
   "outputs": [
    {
     "data": {
      "text/html": [
       "<div>\n",
       "<style scoped>\n",
       "    .dataframe tbody tr th:only-of-type {\n",
       "        vertical-align: middle;\n",
       "    }\n",
       "\n",
       "    .dataframe tbody tr th {\n",
       "        vertical-align: top;\n",
       "    }\n",
       "\n",
       "    .dataframe thead th {\n",
       "        text-align: right;\n",
       "    }\n",
       "</style>\n",
       "<table border=\"1\" class=\"dataframe\">\n",
       "  <thead>\n",
       "    <tr style=\"text-align: right;\">\n",
       "      <th></th>\n",
       "      <th>ID</th>\n",
       "      <th>Target</th>\n",
       "      <th>age_band</th>\n",
       "      <th>gender</th>\n",
       "      <th>car_model</th>\n",
       "      <th>car_segment</th>\n",
       "      <th>age_of_vehicle_years</th>\n",
       "      <th>sched_serv_warr</th>\n",
       "      <th>non_sched_serv_warr</th>\n",
       "      <th>sched_serv_paid</th>\n",
       "      <th>non_sched_serv_paid</th>\n",
       "      <th>total_paid_services</th>\n",
       "      <th>total_services</th>\n",
       "      <th>mth_since_last_serv</th>\n",
       "      <th>annualised_mileage</th>\n",
       "      <th>num_dealers_visited</th>\n",
       "      <th>num_serv_dealer_purchased</th>\n",
       "      <th>Female</th>\n",
       "      <th>Male</th>\n",
       "    </tr>\n",
       "  </thead>\n",
       "  <tbody>\n",
       "    <tr>\n",
       "      <th>0</th>\n",
       "      <td>1</td>\n",
       "      <td>0</td>\n",
       "      <td>3</td>\n",
       "      <td>Male</td>\n",
       "      <td>1</td>\n",
       "      <td>LCV</td>\n",
       "      <td>9</td>\n",
       "      <td>2</td>\n",
       "      <td>10</td>\n",
       "      <td>3</td>\n",
       "      <td>7</td>\n",
       "      <td>5</td>\n",
       "      <td>6</td>\n",
       "      <td>9</td>\n",
       "      <td>8</td>\n",
       "      <td>10</td>\n",
       "      <td>4</td>\n",
       "      <td>0</td>\n",
       "      <td>1</td>\n",
       "    </tr>\n",
       "    <tr>\n",
       "      <th>1</th>\n",
       "      <td>2</td>\n",
       "      <td>0</td>\n",
       "      <td>0</td>\n",
       "      <td>A.Other</td>\n",
       "      <td>2</td>\n",
       "      <td>Small/Medium</td>\n",
       "      <td>6</td>\n",
       "      <td>10</td>\n",
       "      <td>3</td>\n",
       "      <td>10</td>\n",
       "      <td>4</td>\n",
       "      <td>9</td>\n",
       "      <td>10</td>\n",
       "      <td>6</td>\n",
       "      <td>10</td>\n",
       "      <td>7</td>\n",
       "      <td>10</td>\n",
       "      <td>0</td>\n",
       "      <td>0</td>\n",
       "    </tr>\n",
       "    <tr>\n",
       "      <th>2</th>\n",
       "      <td>3</td>\n",
       "      <td>0</td>\n",
       "      <td>0</td>\n",
       "      <td>Male</td>\n",
       "      <td>3</td>\n",
       "      <td>Large/SUV</td>\n",
       "      <td>9</td>\n",
       "      <td>10</td>\n",
       "      <td>9</td>\n",
       "      <td>10</td>\n",
       "      <td>9</td>\n",
       "      <td>10</td>\n",
       "      <td>10</td>\n",
       "      <td>7</td>\n",
       "      <td>10</td>\n",
       "      <td>6</td>\n",
       "      <td>10</td>\n",
       "      <td>0</td>\n",
       "      <td>1</td>\n",
       "    </tr>\n",
       "    <tr>\n",
       "      <th>3</th>\n",
       "      <td>5</td>\n",
       "      <td>0</td>\n",
       "      <td>0</td>\n",
       "      <td>A.Other</td>\n",
       "      <td>3</td>\n",
       "      <td>Large/SUV</td>\n",
       "      <td>5</td>\n",
       "      <td>8</td>\n",
       "      <td>5</td>\n",
       "      <td>8</td>\n",
       "      <td>4</td>\n",
       "      <td>5</td>\n",
       "      <td>6</td>\n",
       "      <td>4</td>\n",
       "      <td>10</td>\n",
       "      <td>9</td>\n",
       "      <td>7</td>\n",
       "      <td>0</td>\n",
       "      <td>0</td>\n",
       "    </tr>\n",
       "    <tr>\n",
       "      <th>4</th>\n",
       "      <td>6</td>\n",
       "      <td>0</td>\n",
       "      <td>0</td>\n",
       "      <td>Female</td>\n",
       "      <td>2</td>\n",
       "      <td>Small/Medium</td>\n",
       "      <td>8</td>\n",
       "      <td>9</td>\n",
       "      <td>4</td>\n",
       "      <td>10</td>\n",
       "      <td>7</td>\n",
       "      <td>9</td>\n",
       "      <td>8</td>\n",
       "      <td>5</td>\n",
       "      <td>4</td>\n",
       "      <td>4</td>\n",
       "      <td>9</td>\n",
       "      <td>1</td>\n",
       "      <td>0</td>\n",
       "    </tr>\n",
       "    <tr>\n",
       "      <th>...</th>\n",
       "      <td>...</td>\n",
       "      <td>...</td>\n",
       "      <td>...</td>\n",
       "      <td>...</td>\n",
       "      <td>...</td>\n",
       "      <td>...</td>\n",
       "      <td>...</td>\n",
       "      <td>...</td>\n",
       "      <td>...</td>\n",
       "      <td>...</td>\n",
       "      <td>...</td>\n",
       "      <td>...</td>\n",
       "      <td>...</td>\n",
       "      <td>...</td>\n",
       "      <td>...</td>\n",
       "      <td>...</td>\n",
       "      <td>...</td>\n",
       "      <td>...</td>\n",
       "      <td>...</td>\n",
       "    </tr>\n",
       "    <tr>\n",
       "      <th>131332</th>\n",
       "      <td>154134</td>\n",
       "      <td>1</td>\n",
       "      <td>0</td>\n",
       "      <td>A.Other</td>\n",
       "      <td>3</td>\n",
       "      <td>Large/SUV</td>\n",
       "      <td>7</td>\n",
       "      <td>10</td>\n",
       "      <td>10</td>\n",
       "      <td>9</td>\n",
       "      <td>10</td>\n",
       "      <td>10</td>\n",
       "      <td>10</td>\n",
       "      <td>3</td>\n",
       "      <td>6</td>\n",
       "      <td>10</td>\n",
       "      <td>10</td>\n",
       "      <td>0</td>\n",
       "      <td>0</td>\n",
       "    </tr>\n",
       "    <tr>\n",
       "      <th>131333</th>\n",
       "      <td>154135</td>\n",
       "      <td>1</td>\n",
       "      <td>0</td>\n",
       "      <td>A.Other</td>\n",
       "      <td>3</td>\n",
       "      <td>Large/SUV</td>\n",
       "      <td>4</td>\n",
       "      <td>10</td>\n",
       "      <td>10</td>\n",
       "      <td>10</td>\n",
       "      <td>10</td>\n",
       "      <td>10</td>\n",
       "      <td>10</td>\n",
       "      <td>2</td>\n",
       "      <td>3</td>\n",
       "      <td>10</td>\n",
       "      <td>10</td>\n",
       "      <td>0</td>\n",
       "      <td>0</td>\n",
       "    </tr>\n",
       "    <tr>\n",
       "      <th>131334</th>\n",
       "      <td>154137</td>\n",
       "      <td>1</td>\n",
       "      <td>0</td>\n",
       "      <td>A.Other</td>\n",
       "      <td>5</td>\n",
       "      <td>Large/SUV</td>\n",
       "      <td>4</td>\n",
       "      <td>4</td>\n",
       "      <td>9</td>\n",
       "      <td>5</td>\n",
       "      <td>4</td>\n",
       "      <td>3</td>\n",
       "      <td>8</td>\n",
       "      <td>4</td>\n",
       "      <td>7</td>\n",
       "      <td>10</td>\n",
       "      <td>10</td>\n",
       "      <td>0</td>\n",
       "      <td>0</td>\n",
       "    </tr>\n",
       "    <tr>\n",
       "      <th>131335</th>\n",
       "      <td>154138</td>\n",
       "      <td>1</td>\n",
       "      <td>0</td>\n",
       "      <td>A.Other</td>\n",
       "      <td>5</td>\n",
       "      <td>Large/SUV</td>\n",
       "      <td>2</td>\n",
       "      <td>1</td>\n",
       "      <td>10</td>\n",
       "      <td>1</td>\n",
       "      <td>10</td>\n",
       "      <td>9</td>\n",
       "      <td>8</td>\n",
       "      <td>3</td>\n",
       "      <td>6</td>\n",
       "      <td>7</td>\n",
       "      <td>10</td>\n",
       "      <td>0</td>\n",
       "      <td>0</td>\n",
       "    </tr>\n",
       "    <tr>\n",
       "      <th>131336</th>\n",
       "      <td>154139</td>\n",
       "      <td>1</td>\n",
       "      <td>0</td>\n",
       "      <td>A.Other</td>\n",
       "      <td>1</td>\n",
       "      <td>LCV</td>\n",
       "      <td>6</td>\n",
       "      <td>1</td>\n",
       "      <td>7</td>\n",
       "      <td>1</td>\n",
       "      <td>10</td>\n",
       "      <td>10</td>\n",
       "      <td>5</td>\n",
       "      <td>3</td>\n",
       "      <td>4</td>\n",
       "      <td>9</td>\n",
       "      <td>10</td>\n",
       "      <td>0</td>\n",
       "      <td>0</td>\n",
       "    </tr>\n",
       "  </tbody>\n",
       "</table>\n",
       "<p>131337 rows × 19 columns</p>\n",
       "</div>"
      ],
      "text/plain": [
       "            ID  Target age_band   gender car_model   car_segment  \\\n",
       "0            1       0        3     Male         1           LCV   \n",
       "1            2       0        0  A.Other         2  Small/Medium   \n",
       "2            3       0        0     Male         3     Large/SUV   \n",
       "3            5       0        0  A.Other         3     Large/SUV   \n",
       "4            6       0        0   Female         2  Small/Medium   \n",
       "...        ...     ...      ...      ...       ...           ...   \n",
       "131332  154134       1        0  A.Other         3     Large/SUV   \n",
       "131333  154135       1        0  A.Other         3     Large/SUV   \n",
       "131334  154137       1        0  A.Other         5     Large/SUV   \n",
       "131335  154138       1        0  A.Other         5     Large/SUV   \n",
       "131336  154139       1        0  A.Other         1           LCV   \n",
       "\n",
       "        age_of_vehicle_years  sched_serv_warr  non_sched_serv_warr  \\\n",
       "0                          9                2                   10   \n",
       "1                          6               10                    3   \n",
       "2                          9               10                    9   \n",
       "3                          5                8                    5   \n",
       "4                          8                9                    4   \n",
       "...                      ...              ...                  ...   \n",
       "131332                     7               10                   10   \n",
       "131333                     4               10                   10   \n",
       "131334                     4                4                    9   \n",
       "131335                     2                1                   10   \n",
       "131336                     6                1                    7   \n",
       "\n",
       "        sched_serv_paid  non_sched_serv_paid  total_paid_services  \\\n",
       "0                     3                    7                    5   \n",
       "1                    10                    4                    9   \n",
       "2                    10                    9                   10   \n",
       "3                     8                    4                    5   \n",
       "4                    10                    7                    9   \n",
       "...                 ...                  ...                  ...   \n",
       "131332                9                   10                   10   \n",
       "131333               10                   10                   10   \n",
       "131334                5                    4                    3   \n",
       "131335                1                   10                    9   \n",
       "131336                1                   10                   10   \n",
       "\n",
       "        total_services  mth_since_last_serv  annualised_mileage  \\\n",
       "0                    6                    9                   8   \n",
       "1                   10                    6                  10   \n",
       "2                   10                    7                  10   \n",
       "3                    6                    4                  10   \n",
       "4                    8                    5                   4   \n",
       "...                ...                  ...                 ...   \n",
       "131332              10                    3                   6   \n",
       "131333              10                    2                   3   \n",
       "131334               8                    4                   7   \n",
       "131335               8                    3                   6   \n",
       "131336               5                    3                   4   \n",
       "\n",
       "        num_dealers_visited  num_serv_dealer_purchased  Female  Male  \n",
       "0                        10                          4       0     1  \n",
       "1                         7                         10       0     0  \n",
       "2                         6                         10       0     1  \n",
       "3                         9                          7       0     0  \n",
       "4                         4                          9       1     0  \n",
       "...                     ...                        ...     ...   ...  \n",
       "131332                   10                         10       0     0  \n",
       "131333                   10                         10       0     0  \n",
       "131334                   10                         10       0     0  \n",
       "131335                    7                         10       0     0  \n",
       "131336                    9                         10       0     0  \n",
       "\n",
       "[131337 rows x 19 columns]"
      ]
     },
     "execution_count": 63,
     "metadata": {},
     "output_type": "execute_result"
    }
   ],
   "source": [
    "#join the one hot encoding in the clean dataset\n",
    "df_cleaned1 = pd.concat([df_cleaned1, df_cat], axis=1)\n",
    "df_cleaned1"
   ]
  },
  {
   "cell_type": "code",
   "execution_count": 64,
   "id": "c0560125",
   "metadata": {},
   "outputs": [],
   "source": [
    "#dropping source column of gender\n",
    "df_cleaned1 = df_cleaned1.drop(['gender'], axis=1)\n"
   ]
  },
  {
   "cell_type": "code",
   "execution_count": 65,
   "id": "e9363641",
   "metadata": {},
   "outputs": [],
   "source": [
    "#encoding car_segment with pre-defined order\n",
    "df_cleaned1['car_segment'] = df_cleaned1['car_segment'].replace('Small/Medium', 1)\n",
    "df_cleaned1['car_segment'] = df_cleaned1['car_segment'].replace('Large/SUV', 2)\n",
    "df_cleaned1['car_segment'] = df_cleaned1['car_segment'].replace('LCV', 3)\n",
    "df_cleaned1['car_segment'] = df_cleaned1['car_segment'].replace('Other', 0)"
   ]
  },
  {
   "cell_type": "code",
   "execution_count": 66,
   "id": "511ef85e",
   "metadata": {},
   "outputs": [],
   "source": [
    "#drop ID column that is not useful for the modeling process\n",
    "df_cleaned1 = df_cleaned1.drop(['ID'], axis=1)"
   ]
  },
  {
   "cell_type": "code",
   "execution_count": 67,
   "id": "f64d31e7",
   "metadata": {},
   "outputs": [
    {
     "data": {
      "text/html": [
       "<div>\n",
       "<style scoped>\n",
       "    .dataframe tbody tr th:only-of-type {\n",
       "        vertical-align: middle;\n",
       "    }\n",
       "\n",
       "    .dataframe tbody tr th {\n",
       "        vertical-align: top;\n",
       "    }\n",
       "\n",
       "    .dataframe thead th {\n",
       "        text-align: right;\n",
       "    }\n",
       "</style>\n",
       "<table border=\"1\" class=\"dataframe\">\n",
       "  <thead>\n",
       "    <tr style=\"text-align: right;\">\n",
       "      <th></th>\n",
       "      <th>Target</th>\n",
       "      <th>age_band</th>\n",
       "      <th>car_model</th>\n",
       "      <th>car_segment</th>\n",
       "      <th>age_of_vehicle_years</th>\n",
       "      <th>sched_serv_warr</th>\n",
       "      <th>non_sched_serv_warr</th>\n",
       "      <th>sched_serv_paid</th>\n",
       "      <th>non_sched_serv_paid</th>\n",
       "      <th>total_paid_services</th>\n",
       "      <th>total_services</th>\n",
       "      <th>mth_since_last_serv</th>\n",
       "      <th>annualised_mileage</th>\n",
       "      <th>num_dealers_visited</th>\n",
       "      <th>num_serv_dealer_purchased</th>\n",
       "      <th>Female</th>\n",
       "      <th>Male</th>\n",
       "    </tr>\n",
       "  </thead>\n",
       "  <tbody>\n",
       "    <tr>\n",
       "      <th>0</th>\n",
       "      <td>0</td>\n",
       "      <td>3</td>\n",
       "      <td>1</td>\n",
       "      <td>3</td>\n",
       "      <td>9</td>\n",
       "      <td>2</td>\n",
       "      <td>10</td>\n",
       "      <td>3</td>\n",
       "      <td>7</td>\n",
       "      <td>5</td>\n",
       "      <td>6</td>\n",
       "      <td>9</td>\n",
       "      <td>8</td>\n",
       "      <td>10</td>\n",
       "      <td>4</td>\n",
       "      <td>0</td>\n",
       "      <td>1</td>\n",
       "    </tr>\n",
       "    <tr>\n",
       "      <th>1</th>\n",
       "      <td>0</td>\n",
       "      <td>0</td>\n",
       "      <td>2</td>\n",
       "      <td>1</td>\n",
       "      <td>6</td>\n",
       "      <td>10</td>\n",
       "      <td>3</td>\n",
       "      <td>10</td>\n",
       "      <td>4</td>\n",
       "      <td>9</td>\n",
       "      <td>10</td>\n",
       "      <td>6</td>\n",
       "      <td>10</td>\n",
       "      <td>7</td>\n",
       "      <td>10</td>\n",
       "      <td>0</td>\n",
       "      <td>0</td>\n",
       "    </tr>\n",
       "    <tr>\n",
       "      <th>2</th>\n",
       "      <td>0</td>\n",
       "      <td>0</td>\n",
       "      <td>3</td>\n",
       "      <td>2</td>\n",
       "      <td>9</td>\n",
       "      <td>10</td>\n",
       "      <td>9</td>\n",
       "      <td>10</td>\n",
       "      <td>9</td>\n",
       "      <td>10</td>\n",
       "      <td>10</td>\n",
       "      <td>7</td>\n",
       "      <td>10</td>\n",
       "      <td>6</td>\n",
       "      <td>10</td>\n",
       "      <td>0</td>\n",
       "      <td>1</td>\n",
       "    </tr>\n",
       "    <tr>\n",
       "      <th>3</th>\n",
       "      <td>0</td>\n",
       "      <td>0</td>\n",
       "      <td>3</td>\n",
       "      <td>2</td>\n",
       "      <td>5</td>\n",
       "      <td>8</td>\n",
       "      <td>5</td>\n",
       "      <td>8</td>\n",
       "      <td>4</td>\n",
       "      <td>5</td>\n",
       "      <td>6</td>\n",
       "      <td>4</td>\n",
       "      <td>10</td>\n",
       "      <td>9</td>\n",
       "      <td>7</td>\n",
       "      <td>0</td>\n",
       "      <td>0</td>\n",
       "    </tr>\n",
       "    <tr>\n",
       "      <th>4</th>\n",
       "      <td>0</td>\n",
       "      <td>0</td>\n",
       "      <td>2</td>\n",
       "      <td>1</td>\n",
       "      <td>8</td>\n",
       "      <td>9</td>\n",
       "      <td>4</td>\n",
       "      <td>10</td>\n",
       "      <td>7</td>\n",
       "      <td>9</td>\n",
       "      <td>8</td>\n",
       "      <td>5</td>\n",
       "      <td>4</td>\n",
       "      <td>4</td>\n",
       "      <td>9</td>\n",
       "      <td>1</td>\n",
       "      <td>0</td>\n",
       "    </tr>\n",
       "    <tr>\n",
       "      <th>...</th>\n",
       "      <td>...</td>\n",
       "      <td>...</td>\n",
       "      <td>...</td>\n",
       "      <td>...</td>\n",
       "      <td>...</td>\n",
       "      <td>...</td>\n",
       "      <td>...</td>\n",
       "      <td>...</td>\n",
       "      <td>...</td>\n",
       "      <td>...</td>\n",
       "      <td>...</td>\n",
       "      <td>...</td>\n",
       "      <td>...</td>\n",
       "      <td>...</td>\n",
       "      <td>...</td>\n",
       "      <td>...</td>\n",
       "      <td>...</td>\n",
       "    </tr>\n",
       "    <tr>\n",
       "      <th>131332</th>\n",
       "      <td>1</td>\n",
       "      <td>0</td>\n",
       "      <td>3</td>\n",
       "      <td>2</td>\n",
       "      <td>7</td>\n",
       "      <td>10</td>\n",
       "      <td>10</td>\n",
       "      <td>9</td>\n",
       "      <td>10</td>\n",
       "      <td>10</td>\n",
       "      <td>10</td>\n",
       "      <td>3</td>\n",
       "      <td>6</td>\n",
       "      <td>10</td>\n",
       "      <td>10</td>\n",
       "      <td>0</td>\n",
       "      <td>0</td>\n",
       "    </tr>\n",
       "    <tr>\n",
       "      <th>131333</th>\n",
       "      <td>1</td>\n",
       "      <td>0</td>\n",
       "      <td>3</td>\n",
       "      <td>2</td>\n",
       "      <td>4</td>\n",
       "      <td>10</td>\n",
       "      <td>10</td>\n",
       "      <td>10</td>\n",
       "      <td>10</td>\n",
       "      <td>10</td>\n",
       "      <td>10</td>\n",
       "      <td>2</td>\n",
       "      <td>3</td>\n",
       "      <td>10</td>\n",
       "      <td>10</td>\n",
       "      <td>0</td>\n",
       "      <td>0</td>\n",
       "    </tr>\n",
       "    <tr>\n",
       "      <th>131334</th>\n",
       "      <td>1</td>\n",
       "      <td>0</td>\n",
       "      <td>5</td>\n",
       "      <td>2</td>\n",
       "      <td>4</td>\n",
       "      <td>4</td>\n",
       "      <td>9</td>\n",
       "      <td>5</td>\n",
       "      <td>4</td>\n",
       "      <td>3</td>\n",
       "      <td>8</td>\n",
       "      <td>4</td>\n",
       "      <td>7</td>\n",
       "      <td>10</td>\n",
       "      <td>10</td>\n",
       "      <td>0</td>\n",
       "      <td>0</td>\n",
       "    </tr>\n",
       "    <tr>\n",
       "      <th>131335</th>\n",
       "      <td>1</td>\n",
       "      <td>0</td>\n",
       "      <td>5</td>\n",
       "      <td>2</td>\n",
       "      <td>2</td>\n",
       "      <td>1</td>\n",
       "      <td>10</td>\n",
       "      <td>1</td>\n",
       "      <td>10</td>\n",
       "      <td>9</td>\n",
       "      <td>8</td>\n",
       "      <td>3</td>\n",
       "      <td>6</td>\n",
       "      <td>7</td>\n",
       "      <td>10</td>\n",
       "      <td>0</td>\n",
       "      <td>0</td>\n",
       "    </tr>\n",
       "    <tr>\n",
       "      <th>131336</th>\n",
       "      <td>1</td>\n",
       "      <td>0</td>\n",
       "      <td>1</td>\n",
       "      <td>3</td>\n",
       "      <td>6</td>\n",
       "      <td>1</td>\n",
       "      <td>7</td>\n",
       "      <td>1</td>\n",
       "      <td>10</td>\n",
       "      <td>10</td>\n",
       "      <td>5</td>\n",
       "      <td>3</td>\n",
       "      <td>4</td>\n",
       "      <td>9</td>\n",
       "      <td>10</td>\n",
       "      <td>0</td>\n",
       "      <td>0</td>\n",
       "    </tr>\n",
       "  </tbody>\n",
       "</table>\n",
       "<p>131337 rows × 17 columns</p>\n",
       "</div>"
      ],
      "text/plain": [
       "        Target age_band car_model  car_segment  age_of_vehicle_years  \\\n",
       "0            0        3         1            3                     9   \n",
       "1            0        0         2            1                     6   \n",
       "2            0        0         3            2                     9   \n",
       "3            0        0         3            2                     5   \n",
       "4            0        0         2            1                     8   \n",
       "...        ...      ...       ...          ...                   ...   \n",
       "131332       1        0         3            2                     7   \n",
       "131333       1        0         3            2                     4   \n",
       "131334       1        0         5            2                     4   \n",
       "131335       1        0         5            2                     2   \n",
       "131336       1        0         1            3                     6   \n",
       "\n",
       "        sched_serv_warr  non_sched_serv_warr  sched_serv_paid  \\\n",
       "0                     2                   10                3   \n",
       "1                    10                    3               10   \n",
       "2                    10                    9               10   \n",
       "3                     8                    5                8   \n",
       "4                     9                    4               10   \n",
       "...                 ...                  ...              ...   \n",
       "131332               10                   10                9   \n",
       "131333               10                   10               10   \n",
       "131334                4                    9                5   \n",
       "131335                1                   10                1   \n",
       "131336                1                    7                1   \n",
       "\n",
       "        non_sched_serv_paid  total_paid_services  total_services  \\\n",
       "0                         7                    5               6   \n",
       "1                         4                    9              10   \n",
       "2                         9                   10              10   \n",
       "3                         4                    5               6   \n",
       "4                         7                    9               8   \n",
       "...                     ...                  ...             ...   \n",
       "131332                   10                   10              10   \n",
       "131333                   10                   10              10   \n",
       "131334                    4                    3               8   \n",
       "131335                   10                    9               8   \n",
       "131336                   10                   10               5   \n",
       "\n",
       "        mth_since_last_serv  annualised_mileage  num_dealers_visited  \\\n",
       "0                         9                   8                   10   \n",
       "1                         6                  10                    7   \n",
       "2                         7                  10                    6   \n",
       "3                         4                  10                    9   \n",
       "4                         5                   4                    4   \n",
       "...                     ...                 ...                  ...   \n",
       "131332                    3                   6                   10   \n",
       "131333                    2                   3                   10   \n",
       "131334                    4                   7                   10   \n",
       "131335                    3                   6                    7   \n",
       "131336                    3                   4                    9   \n",
       "\n",
       "        num_serv_dealer_purchased  Female  Male  \n",
       "0                               4       0     1  \n",
       "1                              10       0     0  \n",
       "2                              10       0     1  \n",
       "3                               7       0     0  \n",
       "4                               9       1     0  \n",
       "...                           ...     ...   ...  \n",
       "131332                         10       0     0  \n",
       "131333                         10       0     0  \n",
       "131334                         10       0     0  \n",
       "131335                         10       0     0  \n",
       "131336                         10       0     0  \n",
       "\n",
       "[131337 rows x 17 columns]"
      ]
     },
     "execution_count": 67,
     "metadata": {},
     "output_type": "execute_result"
    }
   ],
   "source": [
    "#display dataset\n",
    "df_cleaned1"
   ]
  },
  {
   "cell_type": "markdown",
   "id": "7a2a1dbb",
   "metadata": {},
   "source": [
    "**[6.4]** Cleaning data using one hot encoder"
   ]
  },
  {
   "cell_type": "markdown",
   "id": "b7d55cc9",
   "metadata": {},
   "source": [
    "Deleting rows with missing values is not a good approach because the amount of data we will lose represents a high proportion of the data.\n",
    "\n",
    "Since we don't have extra information to confirm if we encounter errors in the data, and considering that we don't have any clue to fill missing values.\n",
    "\n",
    "The decision is to fill values with 0 and create a new category for each column: age_band and gender.\n"
   ]
  },
  {
   "cell_type": "code",
   "execution_count": 68,
   "id": "067260a1",
   "metadata": {},
   "outputs": [],
   "source": [
    "df_cleaned2 = df.copy()"
   ]
  },
  {
   "cell_type": "code",
   "execution_count": 69,
   "id": "e2c136f3",
   "metadata": {},
   "outputs": [
    {
     "data": {
      "text/plain": [
       "age_band    112375\n",
       "gender       69308\n",
       "dtype: int64"
      ]
     },
     "execution_count": 69,
     "metadata": {},
     "output_type": "execute_result"
    }
   ],
   "source": [
    "missing_values = df.isnull().sum(min_count=1)\n",
    "missing_values = missing_values[missing_values != 0]\n",
    "missing_values"
   ]
  },
  {
   "cell_type": "code",
   "execution_count": 70,
   "id": "02c5c50a",
   "metadata": {},
   "outputs": [],
   "source": [
    "#fill age_band missing values with 0\n",
    "df_cleaned2[\"age_band\"] = df_cleaned2[\"age_band\"].fillna(0)"
   ]
  },
  {
   "cell_type": "code",
   "execution_count": 71,
   "id": "b0409d0b",
   "metadata": {},
   "outputs": [
    {
     "data": {
      "text/plain": [
       "array(['3', '0', '1', '4', '2', '7', '5', '6'], dtype=object)"
      ]
     },
     "execution_count": 71,
     "metadata": {},
     "output_type": "execute_result"
    }
   ],
   "source": [
    "#encode the age_band with the first string\n",
    "df_cleaned2['age_band'] = df_cleaned2['age_band'].astype(str).str[0]\n",
    "df_cleaned2['age_band'].unique()"
   ]
  },
  {
   "cell_type": "markdown",
   "id": "e955f8ea",
   "metadata": {},
   "source": [
    "Transforming categorical values - one hot encoding: \n",
    "\n",
    "The following process transforms the categorical data using the get_dummies() function."
   ]
  },
  {
   "cell_type": "markdown",
   "id": "9359b061",
   "metadata": {},
   "source": [
    "One hot encoding for gender"
   ]
  },
  {
   "cell_type": "code",
   "execution_count": 72,
   "id": "d3cb2bdf",
   "metadata": {},
   "outputs": [
    {
     "data": {
      "text/html": [
       "<div>\n",
       "<style scoped>\n",
       "    .dataframe tbody tr th:only-of-type {\n",
       "        vertical-align: middle;\n",
       "    }\n",
       "\n",
       "    .dataframe tbody tr th {\n",
       "        vertical-align: top;\n",
       "    }\n",
       "\n",
       "    .dataframe thead th {\n",
       "        text-align: right;\n",
       "    }\n",
       "</style>\n",
       "<table border=\"1\" class=\"dataframe\">\n",
       "  <thead>\n",
       "    <tr style=\"text-align: right;\">\n",
       "      <th></th>\n",
       "      <th>Male</th>\n",
       "    </tr>\n",
       "  </thead>\n",
       "  <tbody>\n",
       "    <tr>\n",
       "      <th>0</th>\n",
       "      <td>1</td>\n",
       "    </tr>\n",
       "    <tr>\n",
       "      <th>1</th>\n",
       "      <td>0</td>\n",
       "    </tr>\n",
       "    <tr>\n",
       "      <th>2</th>\n",
       "      <td>1</td>\n",
       "    </tr>\n",
       "    <tr>\n",
       "      <th>3</th>\n",
       "      <td>0</td>\n",
       "    </tr>\n",
       "    <tr>\n",
       "      <th>4</th>\n",
       "      <td>0</td>\n",
       "    </tr>\n",
       "    <tr>\n",
       "      <th>...</th>\n",
       "      <td>...</td>\n",
       "    </tr>\n",
       "    <tr>\n",
       "      <th>131332</th>\n",
       "      <td>0</td>\n",
       "    </tr>\n",
       "    <tr>\n",
       "      <th>131333</th>\n",
       "      <td>0</td>\n",
       "    </tr>\n",
       "    <tr>\n",
       "      <th>131334</th>\n",
       "      <td>0</td>\n",
       "    </tr>\n",
       "    <tr>\n",
       "      <th>131335</th>\n",
       "      <td>0</td>\n",
       "    </tr>\n",
       "    <tr>\n",
       "      <th>131336</th>\n",
       "      <td>0</td>\n",
       "    </tr>\n",
       "  </tbody>\n",
       "</table>\n",
       "<p>131337 rows × 1 columns</p>\n",
       "</div>"
      ],
      "text/plain": [
       "        Male\n",
       "0          1\n",
       "1          0\n",
       "2          1\n",
       "3          0\n",
       "4          0\n",
       "...      ...\n",
       "131332     0\n",
       "131333     0\n",
       "131334     0\n",
       "131335     0\n",
       "131336     0\n",
       "\n",
       "[131337 rows x 1 columns]"
      ]
     },
     "execution_count": 72,
     "metadata": {},
     "output_type": "execute_result"
    }
   ],
   "source": [
    "#one hot encoding for gender feature\n",
    "df_cat = pd.get_dummies(df_cleaned2[\"gender\"], drop_first=True)\n",
    "df_cat"
   ]
  },
  {
   "cell_type": "code",
   "execution_count": 73,
   "id": "d3d4737c",
   "metadata": {},
   "outputs": [],
   "source": [
    "#join the one hot encoding in the clean dataset\n",
    "df_cleaned2 = pd.concat([df_cleaned2, df_cat], axis=1)"
   ]
  },
  {
   "cell_type": "code",
   "execution_count": 74,
   "id": "7eaf3485",
   "metadata": {},
   "outputs": [],
   "source": [
    "#dropping source column of gender\n",
    "df_cleaned2 = df_cleaned2.drop(['gender'], axis=1)"
   ]
  },
  {
   "cell_type": "markdown",
   "id": "0a3d0f44",
   "metadata": {},
   "source": [
    "Same process for car_segment"
   ]
  },
  {
   "cell_type": "code",
   "execution_count": 75,
   "id": "bcc98afc",
   "metadata": {},
   "outputs": [
    {
     "data": {
      "text/html": [
       "<div>\n",
       "<style scoped>\n",
       "    .dataframe tbody tr th:only-of-type {\n",
       "        vertical-align: middle;\n",
       "    }\n",
       "\n",
       "    .dataframe tbody tr th {\n",
       "        vertical-align: top;\n",
       "    }\n",
       "\n",
       "    .dataframe thead th {\n",
       "        text-align: right;\n",
       "    }\n",
       "</style>\n",
       "<table border=\"1\" class=\"dataframe\">\n",
       "  <thead>\n",
       "    <tr style=\"text-align: right;\">\n",
       "      <th></th>\n",
       "      <th>LCV</th>\n",
       "      <th>Large/SUV</th>\n",
       "      <th>Other</th>\n",
       "      <th>Small/Medium</th>\n",
       "    </tr>\n",
       "  </thead>\n",
       "  <tbody>\n",
       "    <tr>\n",
       "      <th>0</th>\n",
       "      <td>1</td>\n",
       "      <td>0</td>\n",
       "      <td>0</td>\n",
       "      <td>0</td>\n",
       "    </tr>\n",
       "    <tr>\n",
       "      <th>1</th>\n",
       "      <td>0</td>\n",
       "      <td>0</td>\n",
       "      <td>0</td>\n",
       "      <td>1</td>\n",
       "    </tr>\n",
       "    <tr>\n",
       "      <th>2</th>\n",
       "      <td>0</td>\n",
       "      <td>1</td>\n",
       "      <td>0</td>\n",
       "      <td>0</td>\n",
       "    </tr>\n",
       "    <tr>\n",
       "      <th>3</th>\n",
       "      <td>0</td>\n",
       "      <td>1</td>\n",
       "      <td>0</td>\n",
       "      <td>0</td>\n",
       "    </tr>\n",
       "    <tr>\n",
       "      <th>4</th>\n",
       "      <td>0</td>\n",
       "      <td>0</td>\n",
       "      <td>0</td>\n",
       "      <td>1</td>\n",
       "    </tr>\n",
       "    <tr>\n",
       "      <th>...</th>\n",
       "      <td>...</td>\n",
       "      <td>...</td>\n",
       "      <td>...</td>\n",
       "      <td>...</td>\n",
       "    </tr>\n",
       "    <tr>\n",
       "      <th>131332</th>\n",
       "      <td>0</td>\n",
       "      <td>1</td>\n",
       "      <td>0</td>\n",
       "      <td>0</td>\n",
       "    </tr>\n",
       "    <tr>\n",
       "      <th>131333</th>\n",
       "      <td>0</td>\n",
       "      <td>1</td>\n",
       "      <td>0</td>\n",
       "      <td>0</td>\n",
       "    </tr>\n",
       "    <tr>\n",
       "      <th>131334</th>\n",
       "      <td>0</td>\n",
       "      <td>1</td>\n",
       "      <td>0</td>\n",
       "      <td>0</td>\n",
       "    </tr>\n",
       "    <tr>\n",
       "      <th>131335</th>\n",
       "      <td>0</td>\n",
       "      <td>1</td>\n",
       "      <td>0</td>\n",
       "      <td>0</td>\n",
       "    </tr>\n",
       "    <tr>\n",
       "      <th>131336</th>\n",
       "      <td>1</td>\n",
       "      <td>0</td>\n",
       "      <td>0</td>\n",
       "      <td>0</td>\n",
       "    </tr>\n",
       "  </tbody>\n",
       "</table>\n",
       "<p>131337 rows × 4 columns</p>\n",
       "</div>"
      ],
      "text/plain": [
       "        LCV  Large/SUV  Other  Small/Medium\n",
       "0         1          0      0             0\n",
       "1         0          0      0             1\n",
       "2         0          1      0             0\n",
       "3         0          1      0             0\n",
       "4         0          0      0             1\n",
       "...     ...        ...    ...           ...\n",
       "131332    0          1      0             0\n",
       "131333    0          1      0             0\n",
       "131334    0          1      0             0\n",
       "131335    0          1      0             0\n",
       "131336    1          0      0             0\n",
       "\n",
       "[131337 rows x 4 columns]"
      ]
     },
     "execution_count": 75,
     "metadata": {},
     "output_type": "execute_result"
    }
   ],
   "source": [
    "#one hot encoding for car_segment feature\n",
    "df_cat = pd.get_dummies(df_cleaned2[\"car_segment\"])\n",
    "df_cat"
   ]
  },
  {
   "cell_type": "code",
   "execution_count": 76,
   "id": "fc968ad0",
   "metadata": {},
   "outputs": [],
   "source": [
    "#Combine the one-hot encoded columns contained in df_cat into df_cleaned2\n",
    "df_cleaned2 = pd.concat([df_cleaned2, df_cat], axis=1)"
   ]
  },
  {
   "cell_type": "code",
   "execution_count": 77,
   "id": "f0130c81",
   "metadata": {},
   "outputs": [],
   "source": [
    "#dropping source column\n",
    "df_cleaned2 = df_cleaned2.drop(['car_segment'], axis=1)"
   ]
  },
  {
   "cell_type": "markdown",
   "id": "41cea6ec",
   "metadata": {},
   "source": [
    "Same process for car_model"
   ]
  },
  {
   "cell_type": "code",
   "execution_count": 78,
   "id": "2a03a4ca",
   "metadata": {},
   "outputs": [
    {
     "data": {
      "text/html": [
       "<div>\n",
       "<style scoped>\n",
       "    .dataframe tbody tr th:only-of-type {\n",
       "        vertical-align: middle;\n",
       "    }\n",
       "\n",
       "    .dataframe tbody tr th {\n",
       "        vertical-align: top;\n",
       "    }\n",
       "\n",
       "    .dataframe thead th {\n",
       "        text-align: right;\n",
       "    }\n",
       "</style>\n",
       "<table border=\"1\" class=\"dataframe\">\n",
       "  <thead>\n",
       "    <tr style=\"text-align: right;\">\n",
       "      <th></th>\n",
       "      <th>model_1</th>\n",
       "      <th>model_10</th>\n",
       "      <th>model_11</th>\n",
       "      <th>model_12</th>\n",
       "      <th>model_13</th>\n",
       "      <th>model_14</th>\n",
       "      <th>model_15</th>\n",
       "      <th>model_16</th>\n",
       "      <th>model_17</th>\n",
       "      <th>model_18</th>\n",
       "      <th>model_19</th>\n",
       "      <th>model_2</th>\n",
       "      <th>model_3</th>\n",
       "      <th>model_4</th>\n",
       "      <th>model_5</th>\n",
       "      <th>model_6</th>\n",
       "      <th>model_7</th>\n",
       "      <th>model_8</th>\n",
       "      <th>model_9</th>\n",
       "    </tr>\n",
       "  </thead>\n",
       "  <tbody>\n",
       "    <tr>\n",
       "      <th>0</th>\n",
       "      <td>1</td>\n",
       "      <td>0</td>\n",
       "      <td>0</td>\n",
       "      <td>0</td>\n",
       "      <td>0</td>\n",
       "      <td>0</td>\n",
       "      <td>0</td>\n",
       "      <td>0</td>\n",
       "      <td>0</td>\n",
       "      <td>0</td>\n",
       "      <td>0</td>\n",
       "      <td>0</td>\n",
       "      <td>0</td>\n",
       "      <td>0</td>\n",
       "      <td>0</td>\n",
       "      <td>0</td>\n",
       "      <td>0</td>\n",
       "      <td>0</td>\n",
       "      <td>0</td>\n",
       "    </tr>\n",
       "    <tr>\n",
       "      <th>1</th>\n",
       "      <td>0</td>\n",
       "      <td>0</td>\n",
       "      <td>0</td>\n",
       "      <td>0</td>\n",
       "      <td>0</td>\n",
       "      <td>0</td>\n",
       "      <td>0</td>\n",
       "      <td>0</td>\n",
       "      <td>0</td>\n",
       "      <td>0</td>\n",
       "      <td>0</td>\n",
       "      <td>1</td>\n",
       "      <td>0</td>\n",
       "      <td>0</td>\n",
       "      <td>0</td>\n",
       "      <td>0</td>\n",
       "      <td>0</td>\n",
       "      <td>0</td>\n",
       "      <td>0</td>\n",
       "    </tr>\n",
       "    <tr>\n",
       "      <th>2</th>\n",
       "      <td>0</td>\n",
       "      <td>0</td>\n",
       "      <td>0</td>\n",
       "      <td>0</td>\n",
       "      <td>0</td>\n",
       "      <td>0</td>\n",
       "      <td>0</td>\n",
       "      <td>0</td>\n",
       "      <td>0</td>\n",
       "      <td>0</td>\n",
       "      <td>0</td>\n",
       "      <td>0</td>\n",
       "      <td>1</td>\n",
       "      <td>0</td>\n",
       "      <td>0</td>\n",
       "      <td>0</td>\n",
       "      <td>0</td>\n",
       "      <td>0</td>\n",
       "      <td>0</td>\n",
       "    </tr>\n",
       "    <tr>\n",
       "      <th>3</th>\n",
       "      <td>0</td>\n",
       "      <td>0</td>\n",
       "      <td>0</td>\n",
       "      <td>0</td>\n",
       "      <td>0</td>\n",
       "      <td>0</td>\n",
       "      <td>0</td>\n",
       "      <td>0</td>\n",
       "      <td>0</td>\n",
       "      <td>0</td>\n",
       "      <td>0</td>\n",
       "      <td>0</td>\n",
       "      <td>1</td>\n",
       "      <td>0</td>\n",
       "      <td>0</td>\n",
       "      <td>0</td>\n",
       "      <td>0</td>\n",
       "      <td>0</td>\n",
       "      <td>0</td>\n",
       "    </tr>\n",
       "    <tr>\n",
       "      <th>4</th>\n",
       "      <td>0</td>\n",
       "      <td>0</td>\n",
       "      <td>0</td>\n",
       "      <td>0</td>\n",
       "      <td>0</td>\n",
       "      <td>0</td>\n",
       "      <td>0</td>\n",
       "      <td>0</td>\n",
       "      <td>0</td>\n",
       "      <td>0</td>\n",
       "      <td>0</td>\n",
       "      <td>1</td>\n",
       "      <td>0</td>\n",
       "      <td>0</td>\n",
       "      <td>0</td>\n",
       "      <td>0</td>\n",
       "      <td>0</td>\n",
       "      <td>0</td>\n",
       "      <td>0</td>\n",
       "    </tr>\n",
       "    <tr>\n",
       "      <th>...</th>\n",
       "      <td>...</td>\n",
       "      <td>...</td>\n",
       "      <td>...</td>\n",
       "      <td>...</td>\n",
       "      <td>...</td>\n",
       "      <td>...</td>\n",
       "      <td>...</td>\n",
       "      <td>...</td>\n",
       "      <td>...</td>\n",
       "      <td>...</td>\n",
       "      <td>...</td>\n",
       "      <td>...</td>\n",
       "      <td>...</td>\n",
       "      <td>...</td>\n",
       "      <td>...</td>\n",
       "      <td>...</td>\n",
       "      <td>...</td>\n",
       "      <td>...</td>\n",
       "      <td>...</td>\n",
       "    </tr>\n",
       "    <tr>\n",
       "      <th>131332</th>\n",
       "      <td>0</td>\n",
       "      <td>0</td>\n",
       "      <td>0</td>\n",
       "      <td>0</td>\n",
       "      <td>0</td>\n",
       "      <td>0</td>\n",
       "      <td>0</td>\n",
       "      <td>0</td>\n",
       "      <td>0</td>\n",
       "      <td>0</td>\n",
       "      <td>0</td>\n",
       "      <td>0</td>\n",
       "      <td>1</td>\n",
       "      <td>0</td>\n",
       "      <td>0</td>\n",
       "      <td>0</td>\n",
       "      <td>0</td>\n",
       "      <td>0</td>\n",
       "      <td>0</td>\n",
       "    </tr>\n",
       "    <tr>\n",
       "      <th>131333</th>\n",
       "      <td>0</td>\n",
       "      <td>0</td>\n",
       "      <td>0</td>\n",
       "      <td>0</td>\n",
       "      <td>0</td>\n",
       "      <td>0</td>\n",
       "      <td>0</td>\n",
       "      <td>0</td>\n",
       "      <td>0</td>\n",
       "      <td>0</td>\n",
       "      <td>0</td>\n",
       "      <td>0</td>\n",
       "      <td>1</td>\n",
       "      <td>0</td>\n",
       "      <td>0</td>\n",
       "      <td>0</td>\n",
       "      <td>0</td>\n",
       "      <td>0</td>\n",
       "      <td>0</td>\n",
       "    </tr>\n",
       "    <tr>\n",
       "      <th>131334</th>\n",
       "      <td>0</td>\n",
       "      <td>0</td>\n",
       "      <td>0</td>\n",
       "      <td>0</td>\n",
       "      <td>0</td>\n",
       "      <td>0</td>\n",
       "      <td>0</td>\n",
       "      <td>0</td>\n",
       "      <td>0</td>\n",
       "      <td>0</td>\n",
       "      <td>0</td>\n",
       "      <td>0</td>\n",
       "      <td>0</td>\n",
       "      <td>0</td>\n",
       "      <td>1</td>\n",
       "      <td>0</td>\n",
       "      <td>0</td>\n",
       "      <td>0</td>\n",
       "      <td>0</td>\n",
       "    </tr>\n",
       "    <tr>\n",
       "      <th>131335</th>\n",
       "      <td>0</td>\n",
       "      <td>0</td>\n",
       "      <td>0</td>\n",
       "      <td>0</td>\n",
       "      <td>0</td>\n",
       "      <td>0</td>\n",
       "      <td>0</td>\n",
       "      <td>0</td>\n",
       "      <td>0</td>\n",
       "      <td>0</td>\n",
       "      <td>0</td>\n",
       "      <td>0</td>\n",
       "      <td>0</td>\n",
       "      <td>0</td>\n",
       "      <td>1</td>\n",
       "      <td>0</td>\n",
       "      <td>0</td>\n",
       "      <td>0</td>\n",
       "      <td>0</td>\n",
       "    </tr>\n",
       "    <tr>\n",
       "      <th>131336</th>\n",
       "      <td>1</td>\n",
       "      <td>0</td>\n",
       "      <td>0</td>\n",
       "      <td>0</td>\n",
       "      <td>0</td>\n",
       "      <td>0</td>\n",
       "      <td>0</td>\n",
       "      <td>0</td>\n",
       "      <td>0</td>\n",
       "      <td>0</td>\n",
       "      <td>0</td>\n",
       "      <td>0</td>\n",
       "      <td>0</td>\n",
       "      <td>0</td>\n",
       "      <td>0</td>\n",
       "      <td>0</td>\n",
       "      <td>0</td>\n",
       "      <td>0</td>\n",
       "      <td>0</td>\n",
       "    </tr>\n",
       "  </tbody>\n",
       "</table>\n",
       "<p>131337 rows × 19 columns</p>\n",
       "</div>"
      ],
      "text/plain": [
       "        model_1  model_10  model_11  model_12  model_13  model_14  model_15  \\\n",
       "0             1         0         0         0         0         0         0   \n",
       "1             0         0         0         0         0         0         0   \n",
       "2             0         0         0         0         0         0         0   \n",
       "3             0         0         0         0         0         0         0   \n",
       "4             0         0         0         0         0         0         0   \n",
       "...         ...       ...       ...       ...       ...       ...       ...   \n",
       "131332        0         0         0         0         0         0         0   \n",
       "131333        0         0         0         0         0         0         0   \n",
       "131334        0         0         0         0         0         0         0   \n",
       "131335        0         0         0         0         0         0         0   \n",
       "131336        1         0         0         0         0         0         0   \n",
       "\n",
       "        model_16  model_17  model_18  model_19  model_2  model_3  model_4  \\\n",
       "0              0         0         0         0        0        0        0   \n",
       "1              0         0         0         0        1        0        0   \n",
       "2              0         0         0         0        0        1        0   \n",
       "3              0         0         0         0        0        1        0   \n",
       "4              0         0         0         0        1        0        0   \n",
       "...          ...       ...       ...       ...      ...      ...      ...   \n",
       "131332         0         0         0         0        0        1        0   \n",
       "131333         0         0         0         0        0        1        0   \n",
       "131334         0         0         0         0        0        0        0   \n",
       "131335         0         0         0         0        0        0        0   \n",
       "131336         0         0         0         0        0        0        0   \n",
       "\n",
       "        model_5  model_6  model_7  model_8  model_9  \n",
       "0             0        0        0        0        0  \n",
       "1             0        0        0        0        0  \n",
       "2             0        0        0        0        0  \n",
       "3             0        0        0        0        0  \n",
       "4             0        0        0        0        0  \n",
       "...         ...      ...      ...      ...      ...  \n",
       "131332        0        0        0        0        0  \n",
       "131333        0        0        0        0        0  \n",
       "131334        1        0        0        0        0  \n",
       "131335        1        0        0        0        0  \n",
       "131336        0        0        0        0        0  \n",
       "\n",
       "[131337 rows x 19 columns]"
      ]
     },
     "execution_count": 78,
     "metadata": {},
     "output_type": "execute_result"
    }
   ],
   "source": [
    "df_cat = pd.get_dummies(df_cleaned2[\"car_model\"])\n",
    "df_cat"
   ]
  },
  {
   "cell_type": "code",
   "execution_count": 79,
   "id": "cf9e6374",
   "metadata": {},
   "outputs": [],
   "source": [
    "#join the one hot encoding in the clean dataset\n",
    "df_cleaned2 = pd.concat([df_cleaned2, df_cat], axis=1)"
   ]
  },
  {
   "cell_type": "code",
   "execution_count": 80,
   "id": "88c2fbc9",
   "metadata": {},
   "outputs": [],
   "source": [
    "#dropping source column\n",
    "df_cleaned2 = df_cleaned2.drop(['car_model'], axis=1)"
   ]
  },
  {
   "cell_type": "code",
   "execution_count": 81,
   "id": "5078bde2",
   "metadata": {},
   "outputs": [
    {
     "data": {
      "text/plain": [
       "(131337, 38)"
      ]
     },
     "execution_count": 81,
     "metadata": {},
     "output_type": "execute_result"
    }
   ],
   "source": [
    "#validate data\n",
    "df_cleaned2.shape"
   ]
  },
  {
   "cell_type": "markdown",
   "id": "7854303b",
   "metadata": {},
   "source": [
    "Drop columns with no meaning for the trainig"
   ]
  },
  {
   "cell_type": "code",
   "execution_count": 82,
   "id": "af352218",
   "metadata": {
    "scrolled": true
   },
   "outputs": [],
   "source": [
    "df_cleaned2 = df_cleaned2.drop(['ID'], axis=1)"
   ]
  },
  {
   "cell_type": "code",
   "execution_count": 83,
   "id": "1af3361f",
   "metadata": {},
   "outputs": [
    {
     "data": {
      "text/html": [
       "<div>\n",
       "<style scoped>\n",
       "    .dataframe tbody tr th:only-of-type {\n",
       "        vertical-align: middle;\n",
       "    }\n",
       "\n",
       "    .dataframe tbody tr th {\n",
       "        vertical-align: top;\n",
       "    }\n",
       "\n",
       "    .dataframe thead th {\n",
       "        text-align: right;\n",
       "    }\n",
       "</style>\n",
       "<table border=\"1\" class=\"dataframe\">\n",
       "  <thead>\n",
       "    <tr style=\"text-align: right;\">\n",
       "      <th></th>\n",
       "      <th>Target</th>\n",
       "      <th>age_band</th>\n",
       "      <th>age_of_vehicle_years</th>\n",
       "      <th>sched_serv_warr</th>\n",
       "      <th>non_sched_serv_warr</th>\n",
       "      <th>sched_serv_paid</th>\n",
       "      <th>non_sched_serv_paid</th>\n",
       "      <th>total_paid_services</th>\n",
       "      <th>total_services</th>\n",
       "      <th>mth_since_last_serv</th>\n",
       "      <th>...</th>\n",
       "      <th>model_18</th>\n",
       "      <th>model_19</th>\n",
       "      <th>model_2</th>\n",
       "      <th>model_3</th>\n",
       "      <th>model_4</th>\n",
       "      <th>model_5</th>\n",
       "      <th>model_6</th>\n",
       "      <th>model_7</th>\n",
       "      <th>model_8</th>\n",
       "      <th>model_9</th>\n",
       "    </tr>\n",
       "  </thead>\n",
       "  <tbody>\n",
       "    <tr>\n",
       "      <th>0</th>\n",
       "      <td>0</td>\n",
       "      <td>3</td>\n",
       "      <td>9</td>\n",
       "      <td>2</td>\n",
       "      <td>10</td>\n",
       "      <td>3</td>\n",
       "      <td>7</td>\n",
       "      <td>5</td>\n",
       "      <td>6</td>\n",
       "      <td>9</td>\n",
       "      <td>...</td>\n",
       "      <td>0</td>\n",
       "      <td>0</td>\n",
       "      <td>0</td>\n",
       "      <td>0</td>\n",
       "      <td>0</td>\n",
       "      <td>0</td>\n",
       "      <td>0</td>\n",
       "      <td>0</td>\n",
       "      <td>0</td>\n",
       "      <td>0</td>\n",
       "    </tr>\n",
       "    <tr>\n",
       "      <th>1</th>\n",
       "      <td>0</td>\n",
       "      <td>0</td>\n",
       "      <td>6</td>\n",
       "      <td>10</td>\n",
       "      <td>3</td>\n",
       "      <td>10</td>\n",
       "      <td>4</td>\n",
       "      <td>9</td>\n",
       "      <td>10</td>\n",
       "      <td>6</td>\n",
       "      <td>...</td>\n",
       "      <td>0</td>\n",
       "      <td>0</td>\n",
       "      <td>1</td>\n",
       "      <td>0</td>\n",
       "      <td>0</td>\n",
       "      <td>0</td>\n",
       "      <td>0</td>\n",
       "      <td>0</td>\n",
       "      <td>0</td>\n",
       "      <td>0</td>\n",
       "    </tr>\n",
       "    <tr>\n",
       "      <th>2</th>\n",
       "      <td>0</td>\n",
       "      <td>0</td>\n",
       "      <td>9</td>\n",
       "      <td>10</td>\n",
       "      <td>9</td>\n",
       "      <td>10</td>\n",
       "      <td>9</td>\n",
       "      <td>10</td>\n",
       "      <td>10</td>\n",
       "      <td>7</td>\n",
       "      <td>...</td>\n",
       "      <td>0</td>\n",
       "      <td>0</td>\n",
       "      <td>0</td>\n",
       "      <td>1</td>\n",
       "      <td>0</td>\n",
       "      <td>0</td>\n",
       "      <td>0</td>\n",
       "      <td>0</td>\n",
       "      <td>0</td>\n",
       "      <td>0</td>\n",
       "    </tr>\n",
       "    <tr>\n",
       "      <th>3</th>\n",
       "      <td>0</td>\n",
       "      <td>0</td>\n",
       "      <td>5</td>\n",
       "      <td>8</td>\n",
       "      <td>5</td>\n",
       "      <td>8</td>\n",
       "      <td>4</td>\n",
       "      <td>5</td>\n",
       "      <td>6</td>\n",
       "      <td>4</td>\n",
       "      <td>...</td>\n",
       "      <td>0</td>\n",
       "      <td>0</td>\n",
       "      <td>0</td>\n",
       "      <td>1</td>\n",
       "      <td>0</td>\n",
       "      <td>0</td>\n",
       "      <td>0</td>\n",
       "      <td>0</td>\n",
       "      <td>0</td>\n",
       "      <td>0</td>\n",
       "    </tr>\n",
       "    <tr>\n",
       "      <th>4</th>\n",
       "      <td>0</td>\n",
       "      <td>0</td>\n",
       "      <td>8</td>\n",
       "      <td>9</td>\n",
       "      <td>4</td>\n",
       "      <td>10</td>\n",
       "      <td>7</td>\n",
       "      <td>9</td>\n",
       "      <td>8</td>\n",
       "      <td>5</td>\n",
       "      <td>...</td>\n",
       "      <td>0</td>\n",
       "      <td>0</td>\n",
       "      <td>1</td>\n",
       "      <td>0</td>\n",
       "      <td>0</td>\n",
       "      <td>0</td>\n",
       "      <td>0</td>\n",
       "      <td>0</td>\n",
       "      <td>0</td>\n",
       "      <td>0</td>\n",
       "    </tr>\n",
       "    <tr>\n",
       "      <th>...</th>\n",
       "      <td>...</td>\n",
       "      <td>...</td>\n",
       "      <td>...</td>\n",
       "      <td>...</td>\n",
       "      <td>...</td>\n",
       "      <td>...</td>\n",
       "      <td>...</td>\n",
       "      <td>...</td>\n",
       "      <td>...</td>\n",
       "      <td>...</td>\n",
       "      <td>...</td>\n",
       "      <td>...</td>\n",
       "      <td>...</td>\n",
       "      <td>...</td>\n",
       "      <td>...</td>\n",
       "      <td>...</td>\n",
       "      <td>...</td>\n",
       "      <td>...</td>\n",
       "      <td>...</td>\n",
       "      <td>...</td>\n",
       "      <td>...</td>\n",
       "    </tr>\n",
       "    <tr>\n",
       "      <th>131332</th>\n",
       "      <td>1</td>\n",
       "      <td>0</td>\n",
       "      <td>7</td>\n",
       "      <td>10</td>\n",
       "      <td>10</td>\n",
       "      <td>9</td>\n",
       "      <td>10</td>\n",
       "      <td>10</td>\n",
       "      <td>10</td>\n",
       "      <td>3</td>\n",
       "      <td>...</td>\n",
       "      <td>0</td>\n",
       "      <td>0</td>\n",
       "      <td>0</td>\n",
       "      <td>1</td>\n",
       "      <td>0</td>\n",
       "      <td>0</td>\n",
       "      <td>0</td>\n",
       "      <td>0</td>\n",
       "      <td>0</td>\n",
       "      <td>0</td>\n",
       "    </tr>\n",
       "    <tr>\n",
       "      <th>131333</th>\n",
       "      <td>1</td>\n",
       "      <td>0</td>\n",
       "      <td>4</td>\n",
       "      <td>10</td>\n",
       "      <td>10</td>\n",
       "      <td>10</td>\n",
       "      <td>10</td>\n",
       "      <td>10</td>\n",
       "      <td>10</td>\n",
       "      <td>2</td>\n",
       "      <td>...</td>\n",
       "      <td>0</td>\n",
       "      <td>0</td>\n",
       "      <td>0</td>\n",
       "      <td>1</td>\n",
       "      <td>0</td>\n",
       "      <td>0</td>\n",
       "      <td>0</td>\n",
       "      <td>0</td>\n",
       "      <td>0</td>\n",
       "      <td>0</td>\n",
       "    </tr>\n",
       "    <tr>\n",
       "      <th>131334</th>\n",
       "      <td>1</td>\n",
       "      <td>0</td>\n",
       "      <td>4</td>\n",
       "      <td>4</td>\n",
       "      <td>9</td>\n",
       "      <td>5</td>\n",
       "      <td>4</td>\n",
       "      <td>3</td>\n",
       "      <td>8</td>\n",
       "      <td>4</td>\n",
       "      <td>...</td>\n",
       "      <td>0</td>\n",
       "      <td>0</td>\n",
       "      <td>0</td>\n",
       "      <td>0</td>\n",
       "      <td>0</td>\n",
       "      <td>1</td>\n",
       "      <td>0</td>\n",
       "      <td>0</td>\n",
       "      <td>0</td>\n",
       "      <td>0</td>\n",
       "    </tr>\n",
       "    <tr>\n",
       "      <th>131335</th>\n",
       "      <td>1</td>\n",
       "      <td>0</td>\n",
       "      <td>2</td>\n",
       "      <td>1</td>\n",
       "      <td>10</td>\n",
       "      <td>1</td>\n",
       "      <td>10</td>\n",
       "      <td>9</td>\n",
       "      <td>8</td>\n",
       "      <td>3</td>\n",
       "      <td>...</td>\n",
       "      <td>0</td>\n",
       "      <td>0</td>\n",
       "      <td>0</td>\n",
       "      <td>0</td>\n",
       "      <td>0</td>\n",
       "      <td>1</td>\n",
       "      <td>0</td>\n",
       "      <td>0</td>\n",
       "      <td>0</td>\n",
       "      <td>0</td>\n",
       "    </tr>\n",
       "    <tr>\n",
       "      <th>131336</th>\n",
       "      <td>1</td>\n",
       "      <td>0</td>\n",
       "      <td>6</td>\n",
       "      <td>1</td>\n",
       "      <td>7</td>\n",
       "      <td>1</td>\n",
       "      <td>10</td>\n",
       "      <td>10</td>\n",
       "      <td>5</td>\n",
       "      <td>3</td>\n",
       "      <td>...</td>\n",
       "      <td>0</td>\n",
       "      <td>0</td>\n",
       "      <td>0</td>\n",
       "      <td>0</td>\n",
       "      <td>0</td>\n",
       "      <td>0</td>\n",
       "      <td>0</td>\n",
       "      <td>0</td>\n",
       "      <td>0</td>\n",
       "      <td>0</td>\n",
       "    </tr>\n",
       "  </tbody>\n",
       "</table>\n",
       "<p>131337 rows × 37 columns</p>\n",
       "</div>"
      ],
      "text/plain": [
       "        Target age_band  age_of_vehicle_years  sched_serv_warr  \\\n",
       "0            0        3                     9                2   \n",
       "1            0        0                     6               10   \n",
       "2            0        0                     9               10   \n",
       "3            0        0                     5                8   \n",
       "4            0        0                     8                9   \n",
       "...        ...      ...                   ...              ...   \n",
       "131332       1        0                     7               10   \n",
       "131333       1        0                     4               10   \n",
       "131334       1        0                     4                4   \n",
       "131335       1        0                     2                1   \n",
       "131336       1        0                     6                1   \n",
       "\n",
       "        non_sched_serv_warr  sched_serv_paid  non_sched_serv_paid  \\\n",
       "0                        10                3                    7   \n",
       "1                         3               10                    4   \n",
       "2                         9               10                    9   \n",
       "3                         5                8                    4   \n",
       "4                         4               10                    7   \n",
       "...                     ...              ...                  ...   \n",
       "131332                   10                9                   10   \n",
       "131333                   10               10                   10   \n",
       "131334                    9                5                    4   \n",
       "131335                   10                1                   10   \n",
       "131336                    7                1                   10   \n",
       "\n",
       "        total_paid_services  total_services  mth_since_last_serv  ...  \\\n",
       "0                         5               6                    9  ...   \n",
       "1                         9              10                    6  ...   \n",
       "2                        10              10                    7  ...   \n",
       "3                         5               6                    4  ...   \n",
       "4                         9               8                    5  ...   \n",
       "...                     ...             ...                  ...  ...   \n",
       "131332                   10              10                    3  ...   \n",
       "131333                   10              10                    2  ...   \n",
       "131334                    3               8                    4  ...   \n",
       "131335                    9               8                    3  ...   \n",
       "131336                   10               5                    3  ...   \n",
       "\n",
       "        model_18  model_19  model_2  model_3  model_4  model_5  model_6  \\\n",
       "0              0         0        0        0        0        0        0   \n",
       "1              0         0        1        0        0        0        0   \n",
       "2              0         0        0        1        0        0        0   \n",
       "3              0         0        0        1        0        0        0   \n",
       "4              0         0        1        0        0        0        0   \n",
       "...          ...       ...      ...      ...      ...      ...      ...   \n",
       "131332         0         0        0        1        0        0        0   \n",
       "131333         0         0        0        1        0        0        0   \n",
       "131334         0         0        0        0        0        1        0   \n",
       "131335         0         0        0        0        0        1        0   \n",
       "131336         0         0        0        0        0        0        0   \n",
       "\n",
       "        model_7  model_8  model_9  \n",
       "0             0        0        0  \n",
       "1             0        0        0  \n",
       "2             0        0        0  \n",
       "3             0        0        0  \n",
       "4             0        0        0  \n",
       "...         ...      ...      ...  \n",
       "131332        0        0        0  \n",
       "131333        0        0        0  \n",
       "131334        0        0        0  \n",
       "131335        0        0        0  \n",
       "131336        0        0        0  \n",
       "\n",
       "[131337 rows x 37 columns]"
      ]
     },
     "execution_count": 83,
     "metadata": {},
     "output_type": "execute_result"
    }
   ],
   "source": [
    "df_cleaned2"
   ]
  },
  {
   "cell_type": "markdown",
   "id": "203fa5b5",
   "metadata": {},
   "source": [
    "**[6.5]** Saving the dataset df_clean"
   ]
  },
  {
   "cell_type": "markdown",
   "id": "e401d56f",
   "metadata": {},
   "source": [
    "In the following step, we will save the dataset with the cleaning process 2 to use during the Logistic Regression modelling."
   ]
  },
  {
   "cell_type": "code",
   "execution_count": 84,
   "id": "1f86eddc",
   "metadata": {},
   "outputs": [],
   "source": [
    "df_cleaned = df_cleaned2.copy()"
   ]
  },
  {
   "cell_type": "markdown",
   "id": "a813c3c6",
   "metadata": {},
   "source": [
    "Save the clean data on a CSV file"
   ]
  },
  {
   "cell_type": "code",
   "execution_count": 85,
   "id": "9406e1e6",
   "metadata": {},
   "outputs": [],
   "source": [
    "pd.DataFrame(df_cleaned1).to_csv(\"df_cleaned1.csv\")\n",
    "pd.DataFrame(df_cleaned2).to_csv(\"df_cleaned2.csv\")"
   ]
  },
  {
   "cell_type": "markdown",
   "id": "b89f3624",
   "metadata": {},
   "source": [
    "## 7. Split the data "
   ]
  },
  {
   "cell_type": "markdown",
   "id": "015a30c9",
   "metadata": {},
   "source": [
    "**[7.1]** Split data and test"
   ]
  },
  {
   "cell_type": "markdown",
   "id": "cb4875b1",
   "metadata": {},
   "source": [
    "Stratify=y will be used to distribute the data for train, valid and test proportionally, preserving the distribution of the two classes (Brownlee, 2020a), (Brownlee, 2020d)."
   ]
  },
  {
   "cell_type": "code",
   "execution_count": 86,
   "id": "eebb19ea",
   "metadata": {},
   "outputs": [],
   "source": [
    "from sklearn.model_selection import train_test_split"
   ]
  },
  {
   "cell_type": "code",
   "execution_count": 87,
   "id": "5c475b22",
   "metadata": {},
   "outputs": [
    {
     "data": {
      "text/plain": [
       "Index(['Target', 'age_band', 'age_of_vehicle_years', 'sched_serv_warr',\n",
       "       'non_sched_serv_warr', 'sched_serv_paid', 'non_sched_serv_paid',\n",
       "       'total_paid_services', 'total_services', 'mth_since_last_serv',\n",
       "       'annualised_mileage', 'num_dealers_visited',\n",
       "       'num_serv_dealer_purchased', 'Male', 'LCV', 'Large/SUV', 'Other',\n",
       "       'Small/Medium', 'model_1', 'model_10', 'model_11', 'model_12',\n",
       "       'model_13', 'model_14', 'model_15', 'model_16', 'model_17', 'model_18',\n",
       "       'model_19', 'model_2', 'model_3', 'model_4', 'model_5', 'model_6',\n",
       "       'model_7', 'model_8', 'model_9'],\n",
       "      dtype='object')"
      ]
     },
     "execution_count": 87,
     "metadata": {},
     "output_type": "execute_result"
    }
   ],
   "source": [
    "df_cleaned.columns"
   ]
  },
  {
   "cell_type": "code",
   "execution_count": 88,
   "id": "945f2bd0",
   "metadata": {},
   "outputs": [],
   "source": [
    "X = df_cleaned[['age_band', 'age_of_vehicle_years', 'sched_serv_warr',\n",
    "       'non_sched_serv_warr', 'sched_serv_paid', 'non_sched_serv_paid',\n",
    "       'total_paid_services', 'total_services', 'mth_since_last_serv',\n",
    "       'annualised_mileage', 'num_dealers_visited',\n",
    "       'num_serv_dealer_purchased', 'Male', 'LCV', 'Large/SUV', 'Other',\n",
    "       'Small/Medium', 'model_1', 'model_10', 'model_11', 'model_12',\n",
    "       'model_13', 'model_14', 'model_15', 'model_16', 'model_17', 'model_18',\n",
    "       'model_19', 'model_2', 'model_3', 'model_4', 'model_5', 'model_6',\n",
    "       'model_7', 'model_8', 'model_9']].values\n",
    "y = df_cleaned['Target'].values"
   ]
  },
  {
   "cell_type": "code",
   "execution_count": 89,
   "id": "8bb60813",
   "metadata": {},
   "outputs": [],
   "source": [
    "X_data, X_test, y_data, y_test = train_test_split(X, y, test_size=0.2, random_state=42, stratify=y)"
   ]
  },
  {
   "cell_type": "markdown",
   "id": "c3194702",
   "metadata": {},
   "source": [
    "**[7.2]** Split train and validation"
   ]
  },
  {
   "cell_type": "code",
   "execution_count": 90,
   "id": "4df40eaa",
   "metadata": {},
   "outputs": [],
   "source": [
    "X_train, X_val, y_train, y_val = train_test_split(X_data, y_data, test_size=0.2, random_state=42)"
   ]
  },
  {
   "cell_type": "code",
   "execution_count": 91,
   "id": "b9bf6d83",
   "metadata": {},
   "outputs": [
    {
     "name": "stdout",
     "output_type": "stream",
     "text": [
      "(84055, 36)\n",
      "(21014, 36)\n",
      "(26268, 36)\n",
      "(84055,)\n",
      "(21014,)\n",
      "(26268,)\n"
     ]
    }
   ],
   "source": [
    "print(X_train.shape)\n",
    "print(X_val.shape)\n",
    "print(X_test.shape)\n",
    "\n",
    "print(y_train.shape)\n",
    "print(y_val.shape)\n",
    "print(y_test.shape)"
   ]
  },
  {
   "cell_type": "markdown",
   "id": "bb0d6edb",
   "metadata": {},
   "source": [
    "**[7.3]** Count classes"
   ]
  },
  {
   "cell_type": "code",
   "execution_count": 92,
   "id": "c0e4b39c",
   "metadata": {},
   "outputs": [
    {
     "data": {
      "text/plain": [
       "(array([0, 1], dtype=int64), array([81803,  2252], dtype=int64))"
      ]
     },
     "execution_count": 92,
     "metadata": {},
     "output_type": "execute_result"
    }
   ],
   "source": [
    "np.unique(y_train, return_counts=True)"
   ]
  },
  {
   "cell_type": "code",
   "execution_count": 93,
   "id": "fe09ee27",
   "metadata": {},
   "outputs": [
    {
     "data": {
      "text/plain": [
       "(array([0, 1], dtype=int64), array([20449,   565], dtype=int64))"
      ]
     },
     "execution_count": 93,
     "metadata": {},
     "output_type": "execute_result"
    }
   ],
   "source": [
    "np.unique(y_val, return_counts=True)"
   ]
  },
  {
   "cell_type": "code",
   "execution_count": 94,
   "id": "cf3cb824",
   "metadata": {},
   "outputs": [
    {
     "data": {
      "text/plain": [
       "(array([0, 1], dtype=int64), array([25564,   704], dtype=int64))"
      ]
     },
     "execution_count": 94,
     "metadata": {},
     "output_type": "execute_result"
    }
   ],
   "source": [
    "np.unique(y_test, return_counts=True)"
   ]
  },
  {
   "cell_type": "markdown",
   "id": "6c7ca57c",
   "metadata": {},
   "source": [
    "The count per label indicates that we are preserving the class distribution with 2,7% values class 1 over class 0."
   ]
  },
  {
   "cell_type": "markdown",
   "id": "316d8ae5",
   "metadata": {},
   "source": [
    "## 8.  Data Scaling"
   ]
  },
  {
   "cell_type": "markdown",
   "id": "b03cf07c",
   "metadata": {},
   "source": [
    "We will perform a data scaling to prevent an increased bias in the model in a specific range of values. We will have two scaling approaches: Normalisation and Standardisation. (Arsik36, 2020), (Kapkar, 2020)"
   ]
  },
  {
   "cell_type": "markdown",
   "id": "34071000",
   "metadata": {},
   "source": [
    "**[8.1]** Data Standardisation"
   ]
  },
  {
   "cell_type": "markdown",
   "id": "4572b94c",
   "metadata": {},
   "source": [
    "\"The Standardisation technique is used to center the feature columns at mean 0 with a standard deviation of 1 so that the feature columns have the same parameters as a standard normal distribution. Unlike Normalization, standardization maintains useful information about **outliers** and makes the algorithm less sensitive to them in contrast to min-max scaling, which scales the data to a limited range of values. Here is the formula for standardization.\" (Kumar, 2020)\n",
    "\n",
    "\"Standardization assumes that your observations fit a Gaussian distribution (bell curve) with a well-behaved mean and standard deviation. You can still standardize your data if this expectation is not met, but you may not get reliable results.\" (Brownlee, 2020c)"
   ]
  },
  {
   "cell_type": "code",
   "execution_count": 95,
   "id": "2820c71a",
   "metadata": {},
   "outputs": [],
   "source": [
    "from sklearn.preprocessing import StandardScaler"
   ]
  },
  {
   "cell_type": "code",
   "execution_count": 96,
   "id": "515c30c7",
   "metadata": {},
   "outputs": [
    {
     "data": {
      "text/plain": [
       "StandardScaler()"
      ]
     },
     "execution_count": 96,
     "metadata": {},
     "output_type": "execute_result"
    }
   ],
   "source": [
    "scaler = StandardScaler()\n",
    "scaler.fit(X_train)"
   ]
  },
  {
   "cell_type": "code",
   "execution_count": 97,
   "id": "c0fa5e26",
   "metadata": {},
   "outputs": [
    {
     "data": {
      "text/plain": [
       "array([[ 3.69027246, -0.5248133 , -1.54443936, ..., -0.25852803,\n",
       "        -0.22682549, -0.08655235],\n",
       "       [-0.37610327, -0.17332784,  1.2296538 , ..., -0.25852803,\n",
       "        -0.22682549, -0.08655235],\n",
       "       [-0.37610327,  1.58409941, -0.15739278, ..., -0.25852803,\n",
       "        -0.22682549, -0.08655235],\n",
       "       ...,\n",
       "       [-0.37610327,  1.58409941,  0.53613051, ..., -0.25852803,\n",
       "        -0.22682549, -0.08655235],\n",
       "       [-0.37610327,  0.88112851, -0.85091607, ..., -0.25852803,\n",
       "        -0.22682549, -0.08655235],\n",
       "       [-0.37610327, -1.57926965, -1.19767771, ..., -0.25852803,\n",
       "        -0.22682549, -0.08655235]])"
      ]
     },
     "execution_count": 97,
     "metadata": {},
     "output_type": "execute_result"
    }
   ],
   "source": [
    "scaled = scaler.transform(X_train)\n",
    "scaled"
   ]
  },
  {
   "cell_type": "markdown",
   "id": "2686fbfc",
   "metadata": {},
   "source": [
    "**[8.2]** Data Normalisation"
   ]
  },
  {
   "cell_type": "markdown",
   "id": "bdf63b97",
   "metadata": {},
   "source": [
    "\"Normalization refers to the rescaling of the features to a range of [0, 1], which is a special case of min-max scaling. To normalize the data, the min-max scaling can be applied to one or more feature columns\" (Kumar, 2020)\n",
    "\n",
    "With this method, we will lose information from the data, like outliers. However, it is not a problem in the current study."
   ]
  },
  {
   "cell_type": "code",
   "execution_count": 98,
   "id": "c152cf50",
   "metadata": {},
   "outputs": [],
   "source": [
    "from sklearn.preprocessing import MinMaxScaler"
   ]
  },
  {
   "cell_type": "code",
   "execution_count": 99,
   "id": "3ec1643c",
   "metadata": {},
   "outputs": [
    {
     "data": {
      "text/plain": [
       "MinMaxScaler()"
      ]
     },
     "execution_count": 99,
     "metadata": {},
     "output_type": "execute_result"
    }
   ],
   "source": [
    "scaler_norm = MinMaxScaler()\n",
    "scaler_norm.fit(X_train)"
   ]
  },
  {
   "cell_type": "code",
   "execution_count": 100,
   "id": "502dca2e",
   "metadata": {},
   "outputs": [
    {
     "data": {
      "text/plain": [
       "array([[0.85714286, 0.33333333, 0.        , ..., 0.        , 0.        ,\n",
       "        0.        ],\n",
       "       [0.        , 0.44444444, 0.88888889, ..., 0.        , 0.        ,\n",
       "        0.        ],\n",
       "       [0.        , 1.        , 0.44444444, ..., 0.        , 0.        ,\n",
       "        0.        ],\n",
       "       ...,\n",
       "       [0.        , 1.        , 0.66666667, ..., 0.        , 0.        ,\n",
       "        0.        ],\n",
       "       [0.        , 0.77777778, 0.22222222, ..., 0.        , 0.        ,\n",
       "        0.        ],\n",
       "       [0.        , 0.        , 0.11111111, ..., 0.        , 0.        ,\n",
       "        0.        ]])"
      ]
     },
     "execution_count": 100,
     "metadata": {},
     "output_type": "execute_result"
    }
   ],
   "source": [
    "scaled_norm = scaler_norm.transform(X_train)\n",
    "scaled_norm"
   ]
  },
  {
   "cell_type": "markdown",
   "id": "74aaccba",
   "metadata": {},
   "source": [
    "## 9.  Save the data"
   ]
  },
  {
   "cell_type": "markdown",
   "id": "038af13e",
   "metadata": {},
   "source": [
    "**[9.1]** Replace features with scaler"
   ]
  },
  {
   "cell_type": "code",
   "execution_count": 101,
   "id": "31693fbf",
   "metadata": {},
   "outputs": [],
   "source": [
    "#using StandardScaler\n",
    "X_train = scaler.transform(X_train)\n",
    "X_val = scaler.transform(X_val)\n",
    "X_test = scaler.transform(X_test)"
   ]
  },
  {
   "cell_type": "code",
   "execution_count": 102,
   "id": "29b8e661",
   "metadata": {},
   "outputs": [],
   "source": [
    "# using MinMaxScaler\n",
    "X_train_norm = scaler_norm.transform(X_train)\n",
    "X_val_norm = scaler_norm.transform(X_val)\n",
    "X_test_norm = scaler_norm.transform(X_test)"
   ]
  },
  {
   "cell_type": "markdown",
   "id": "01f2ff0c",
   "metadata": {},
   "source": [
    "**[9.2]** Save the pre-processed data on a CSV file"
   ]
  },
  {
   "cell_type": "code",
   "execution_count": 103,
   "id": "f84369c7",
   "metadata": {},
   "outputs": [],
   "source": [
    "#features with StandardScaler\n",
    "pd.DataFrame(X_train).to_csv(\"X_train.csv\")\n",
    "pd.DataFrame(X_val).to_csv(\"X_val.csv\")\n",
    "pd.DataFrame(X_test).to_csv(\"X_test.csv\")"
   ]
  },
  {
   "cell_type": "code",
   "execution_count": 104,
   "id": "73c31c2c",
   "metadata": {},
   "outputs": [],
   "source": [
    "#features with MinMaxScaler\n",
    "pd.DataFrame(X_train_norm).to_csv(\"X_train_norm.csv\")\n",
    "pd.DataFrame(X_val_norm).to_csv(\"X_val_norm.csv\")\n",
    "pd.DataFrame(X_test_norm).to_csv(\"X_test_norm.csv\")"
   ]
  },
  {
   "cell_type": "code",
   "execution_count": 105,
   "id": "a70a7bf9",
   "metadata": {},
   "outputs": [],
   "source": [
    "#target\n",
    "pd.DataFrame(y_train).to_csv(\"y_train.csv\")\n",
    "pd.DataFrame(y_val).to_csv(\"y_val.csv\")\n",
    "pd.DataFrame(y_test).to_csv(\"y_test.csv\")"
   ]
  },
  {
   "cell_type": "markdown",
   "id": "4a5e57c1",
   "metadata": {},
   "source": [
    "## 10. Assess Baseline Model"
   ]
  },
  {
   "cell_type": "markdown",
   "id": "05d92487",
   "metadata": {},
   "source": [
    "This study will use F2 score. The reason behind the metric selection is based on the highly imbalanced dataset and the fact that we care more about positive class for the purpose of the prediction (Czakon, 2022) (Malato, 2021) and (Olugbenga, 2022). \n",
    "\n",
    "We want the prediction of repurchases to be as correct as possible and avoid false negative predictions (type II error) where the campaigns can lose potential clients. Moreover, we will prevent excessive type I error by predicting false potential clients.\n",
    "\n",
    "This phenomenon could occur easily in this dataset due to the unbalanced classes in the study. (Brownlee, 2020a)(Brownlee, 2020b)\n"
   ]
  },
  {
   "cell_type": "markdown",
   "id": "ff3ea6a6",
   "metadata": {},
   "source": [
    "**[10.1]** base model"
   ]
  },
  {
   "cell_type": "code",
   "execution_count": 106,
   "id": "5e9a52fd",
   "metadata": {},
   "outputs": [],
   "source": [
    "from sklearn.metrics import accuracy_score, precision_score, recall_score, f1_score, average_precision_score, fbeta_score\n",
    "from sklearn.metrics import auc, precision_recall_curve"
   ]
  },
  {
   "cell_type": "code",
   "execution_count": 107,
   "id": "5b12566e",
   "metadata": {},
   "outputs": [],
   "source": [
    "from statistics import mode"
   ]
  },
  {
   "cell_type": "code",
   "execution_count": 108,
   "id": "1c953837",
   "metadata": {},
   "outputs": [
    {
     "data": {
      "text/plain": [
       "0"
      ]
     },
     "execution_count": 108,
     "metadata": {},
     "output_type": "execute_result"
    }
   ],
   "source": [
    "y_mode = mode(y_train)\n",
    "y_mode"
   ]
  },
  {
   "cell_type": "code",
   "execution_count": 109,
   "id": "0d56b4c3",
   "metadata": {},
   "outputs": [
    {
     "data": {
      "text/plain": [
       "(84055,)"
      ]
     },
     "execution_count": 109,
     "metadata": {},
     "output_type": "execute_result"
    }
   ],
   "source": [
    "y_train.shape"
   ]
  },
  {
   "cell_type": "code",
   "execution_count": 110,
   "id": "e2acdd21",
   "metadata": {},
   "outputs": [],
   "source": [
    "y_base = np.full(y_train.shape, y_mode)"
   ]
  },
  {
   "cell_type": "code",
   "execution_count": 111,
   "id": "145bb287",
   "metadata": {},
   "outputs": [
    {
     "data": {
      "text/plain": [
       "array([0, 0, 0, ..., 0, 0, 0], dtype=int64)"
      ]
     },
     "execution_count": 111,
     "metadata": {},
     "output_type": "execute_result"
    }
   ],
   "source": [
    "y_base"
   ]
  },
  {
   "cell_type": "code",
   "execution_count": 112,
   "id": "f530cbfe",
   "metadata": {},
   "outputs": [
    {
     "data": {
      "text/plain": [
       "(84055,)"
      ]
     },
     "execution_count": 112,
     "metadata": {},
     "output_type": "execute_result"
    }
   ],
   "source": [
    "y_base.shape"
   ]
  },
  {
   "cell_type": "code",
   "execution_count": 113,
   "id": "477c3efe",
   "metadata": {},
   "outputs": [
    {
     "name": "stdout",
     "output_type": "stream",
     "text": [
      "0.9732080185592766\n",
      "0.9599939169916978\n",
      "0.0\n",
      "0.0\n",
      "0.026791981440723336\n",
      "0.0\n"
     ]
    }
   ],
   "source": [
    "print(accuracy_score(y_train, y_base))\n",
    "print(f1_score(y_train, y_base, average='weighted'))\n",
    "print(precision_score(y_train, y_base))\n",
    "print(recall_score(y_train, y_base))\n",
    "print(average_precision_score(y_train, y_base))\n",
    "print(fbeta_score(y_train, y_base, beta=2, pos_label=1, average='binary'))"
   ]
  },
  {
   "cell_type": "markdown",
   "id": "94aa99e4",
   "metadata": {},
   "source": [
    "**[10.2]** confusion matrix"
   ]
  },
  {
   "cell_type": "code",
   "execution_count": 114,
   "id": "aed87eb3",
   "metadata": {},
   "outputs": [],
   "source": [
    "from sklearn.metrics import confusion_matrix"
   ]
  },
  {
   "cell_type": "code",
   "execution_count": 115,
   "id": "6c67657e",
   "metadata": {},
   "outputs": [
    {
     "name": "stdout",
     "output_type": "stream",
     "text": [
      "[[81803     0]\n",
      " [ 2252     0]]\n"
     ]
    }
   ],
   "source": [
    "results = confusion_matrix(y_train, y_base)\n",
    "print(results)"
   ]
  },
  {
   "cell_type": "markdown",
   "id": "11a3f68f",
   "metadata": {},
   "source": [
    "**[10.3]** Count classes"
   ]
  },
  {
   "cell_type": "code",
   "execution_count": 116,
   "id": "2195fd49",
   "metadata": {},
   "outputs": [
    {
     "data": {
      "text/plain": [
       "(array([0, 1], dtype=int64), array([81803,  2252], dtype=int64))"
      ]
     },
     "execution_count": 116,
     "metadata": {},
     "output_type": "execute_result"
    }
   ],
   "source": [
    "np.unique(y_train, return_counts=True)"
   ]
  },
  {
   "cell_type": "markdown",
   "id": "13079acb",
   "metadata": {},
   "source": [
    "## 11. Training a model"
   ]
  },
  {
   "cell_type": "markdown",
   "id": "314092e6",
   "metadata": {},
   "source": [
    "Based on: (scikit-learn developers, 2023) and (So, 2023)\n",
    "\n",
    "We will use features based on StandardScaler, and at the end we will compared models training with features based on MinMaxScaler."
   ]
  },
  {
   "cell_type": "markdown",
   "id": "b1d871e4",
   "metadata": {},
   "source": [
    "**[11.1]** Logistic Regression Classifier"
   ]
  },
  {
   "cell_type": "code",
   "execution_count": 124,
   "id": "e510e033",
   "metadata": {},
   "outputs": [],
   "source": [
    "from sklearn.linear_model import LogisticRegression\n",
    "from sklearn.metrics import accuracy_score, precision_score, recall_score, f1_score, average_precision_score, fbeta_score\n",
    "from sklearn.metrics import auc, precision_recall_curve"
   ]
  },
  {
   "cell_type": "code",
   "execution_count": 118,
   "id": "36939dde",
   "metadata": {},
   "outputs": [],
   "source": [
    "log_reg = LogisticRegression(class_weight='balanced')"
   ]
  },
  {
   "cell_type": "code",
   "execution_count": 119,
   "id": "58fc7e6d",
   "metadata": {},
   "outputs": [
    {
     "data": {
      "text/plain": [
       "LogisticRegression(class_weight='balanced')"
      ]
     },
     "execution_count": 119,
     "metadata": {},
     "output_type": "execute_result"
    }
   ],
   "source": [
    "log_reg.fit(X_train, y_train)"
   ]
  },
  {
   "cell_type": "code",
   "execution_count": 120,
   "id": "9788dcbd",
   "metadata": {},
   "outputs": [],
   "source": [
    "y_train_preds = log_reg.predict(X_train)"
   ]
  },
  {
   "cell_type": "code",
   "execution_count": 121,
   "id": "c69bda68",
   "metadata": {},
   "outputs": [
    {
     "name": "stdout",
     "output_type": "stream",
     "text": [
      "0.7767057283921242\n",
      "0.8522261535891441\n",
      "0.09554826387188403\n",
      "0.8663410301953819\n",
      "0.08635836999453973\n",
      "0.3314982838889456\n"
     ]
    }
   ],
   "source": [
    "#score for the train set\n",
    "print(accuracy_score(y_train, y_train_preds))\n",
    "print(f1_score(y_train, y_train_preds, average='weighted'))\n",
    "print(precision_score(y_train, y_train_preds))\n",
    "print(recall_score(y_train, y_train_preds))\n",
    "print(average_precision_score(y_train, y_train_preds))\n",
    "print(fbeta_score(y_train, y_train_preds, beta=2, pos_label=1, average='binary'))"
   ]
  },
  {
   "cell_type": "code",
   "execution_count": 122,
   "id": "2d836b69",
   "metadata": {},
   "outputs": [
    {
     "name": "stdout",
     "output_type": "stream",
     "text": [
      "[[63335 18468]\n",
      " [  301  1951]]\n"
     ]
    }
   ],
   "source": [
    "#confusion matrix\n",
    "results = confusion_matrix(y_train, y_train_preds)\n",
    "print(results)"
   ]
  },
  {
   "cell_type": "code",
   "execution_count": 125,
   "id": "c184267e",
   "metadata": {},
   "outputs": [
    {
     "name": "stdout",
     "output_type": "stream",
     "text": [
      "Logistic PR AUC: 0.397\n"
     ]
    }
   ],
   "source": [
    "#precision-recall auc curve\n",
    "probs = log_reg.predict_proba(X_train)\n",
    "pos_probs = probs[:, 1]\n",
    "# calculate the precision-recall auc\n",
    "precision, recall, thresholds = precision_recall_curve(y_train, pos_probs)\n",
    "\n",
    "# precision-recall auc score\n",
    "auc_score = auc(recall, precision)\n",
    "print('Logistic PR AUC: %.3f' % auc_score)"
   ]
  },
  {
   "cell_type": "code",
   "execution_count": 126,
   "id": "43591ad8",
   "metadata": {},
   "outputs": [
    {
     "data": {
      "image/png": "[encoded data removed]",
      "text/plain": [
       "<Figure size 640x480 with 1 Axes>"
      ]
     },
     "metadata": {},
     "output_type": "display_data"
    }
   ],
   "source": [
    "# plot the model precision-recall curve\n",
    "plt.plot(recall, precision, marker='.', label='Logistic')\n",
    "# axis labels\n",
    "plt.xlabel('Recall')\n",
    "plt.ylabel('Precision')\n",
    "# show the legend\n",
    "plt.legend()\n",
    "# show the plot\n",
    "plt.show()"
   ]
  },
  {
   "cell_type": "code",
   "execution_count": 127,
   "id": "74a740f5",
   "metadata": {},
   "outputs": [
    {
     "name": "stdout",
     "output_type": "stream",
     "text": [
      "0.7809555534405634\n",
      "0.8549175588618895\n",
      "0.0962\n",
      "0.8513274336283185\n",
      "0.08589503422497095\n",
      "0.331267217630854\n"
     ]
    }
   ],
   "source": [
    "#score for the validation set\n",
    "y_val_preds = log_reg.predict(X_val)\n",
    "print(accuracy_score(y_val, y_val_preds))\n",
    "print(f1_score(y_val, y_val_preds, average='weighted'))\n",
    "print(precision_score(y_val, y_val_preds))\n",
    "print(recall_score(y_val, y_val_preds))\n",
    "print(average_precision_score(y_val, y_val_preds))\n",
    "print(fbeta_score(y_val, y_val_preds, beta=2, pos_label=1, average='binary'))"
   ]
  },
  {
   "cell_type": "code",
   "execution_count": 128,
   "id": "8c2ea600",
   "metadata": {},
   "outputs": [
    {
     "name": "stdout",
     "output_type": "stream",
     "text": [
      "Logistic PR AUC: 0.376\n"
     ]
    }
   ],
   "source": [
    "#precision-recall auc curve\n",
    "probs = log_reg.predict_proba(X_val)\n",
    "pos_probs = probs[:, 1]\n",
    "# calculate the precision-recall auc\n",
    "precision, recall, thresholds = precision_recall_curve(y_val, pos_probs)\n",
    "\n",
    "# precision-recall auc score\n",
    "auc_score = auc(recall, precision)\n",
    "print('Logistic PR AUC: %.3f' % auc_score)"
   ]
  },
  {
   "cell_type": "code",
   "execution_count": 129,
   "id": "b08cb7ad",
   "metadata": {},
   "outputs": [
    {
     "name": "stdout",
     "output_type": "stream",
     "text": [
      "0.7744023146033197\n",
      "0.8507171250498018\n",
      "0.09481688392302917\n",
      "0.8678977272727273\n",
      "0.08583178748370542\n",
      "0.3299136069114471\n"
     ]
    }
   ],
   "source": [
    "#score for the test set\n",
    "y_test_preds = log_reg.predict(X_test)\n",
    "print(accuracy_score(y_test, y_test_preds))\n",
    "print(f1_score(y_test, y_test_preds, average='weighted'))\n",
    "print(precision_score(y_test, y_test_preds))\n",
    "print(recall_score(y_test, y_test_preds))\n",
    "print(average_precision_score(y_test, y_test_preds))\n",
    "print(fbeta_score(y_test, y_test_preds, beta=2, pos_label=1, average='binary'))"
   ]
  },
  {
   "cell_type": "code",
   "execution_count": 130,
   "id": "aa134d2b",
   "metadata": {},
   "outputs": [
    {
     "name": "stdout",
     "output_type": "stream",
     "text": [
      "Logistic PR AUC: 0.401\n"
     ]
    }
   ],
   "source": [
    "#precision-recall auc curve\n",
    "probs = log_reg.predict_proba(X_test)\n",
    "pos_probs = probs[:, 1]\n",
    "# calculate the precision-recall auc\n",
    "precision, recall, thresholds = precision_recall_curve(y_test, pos_probs)\n",
    "\n",
    "# precision-recall auc score\n",
    "auc_score = auc(recall, precision)\n",
    "print('Logistic PR AUC: %.3f' % auc_score)"
   ]
  },
  {
   "cell_type": "markdown",
   "id": "80b3a367",
   "metadata": {},
   "source": [
    "**[11.2]** Logistic Regression Classifier with elasticnet"
   ]
  },
  {
   "cell_type": "markdown",
   "id": "a96c8da9",
   "metadata": {},
   "source": [
    "note:\n",
    "\n",
    "* if penalty='elasticnet': both L1 and L2 penalty terms are added\n",
    "* if penalty='elasticnet', The algorithm to use in the optimization problem (solver) is ‘saga’\n",
    "* ‘saga’ fast convergence is only guaranteed on features with approximately the same scale   \n",
    "* l1_ratio: 0 < l1_ratio <1, the penalty is a combination of L1 and L2. Only used if penalty='elasticnet'\n",
    "\n",
    "(scikit-learn developers, 2023)\n"
   ]
  },
  {
   "cell_type": "code",
   "execution_count": 131,
   "id": "8077477b",
   "metadata": {},
   "outputs": [
    {
     "name": "stdout",
     "output_type": "stream",
     "text": [
      "0.7750639462256855\n",
      "0.8511556814143918\n",
      "0.09510380706957748\n",
      "0.8685612788632326\n",
      "0.08612498807040304\n",
      "0.3306846999154691\n"
     ]
    }
   ],
   "source": [
    "log_elastic_reg = LogisticRegression(penalty='elasticnet', l1_ratio=0.5, solver='saga', class_weight='balanced')\n",
    "\n",
    "log_elastic_reg.fit(X_train, y_train)\n",
    "\n",
    "y_train_preds_elastic = log_elastic_reg.predict(X_train)\n",
    "\n",
    "print(accuracy_score(y_train, y_train_preds_elastic))\n",
    "print(f1_score(y_train, y_train_preds_elastic, average='weighted'))\n",
    "print(precision_score(y_train, y_train_preds_elastic))\n",
    "print(recall_score(y_train, y_train_preds_elastic))\n",
    "print(average_precision_score(y_train, y_train_preds_elastic))\n",
    "print(fbeta_score(y_train, y_train_preds_elastic, beta=2, pos_label=1, average='binary'))"
   ]
  },
  {
   "cell_type": "code",
   "execution_count": 132,
   "id": "e4394ea1",
   "metadata": {},
   "outputs": [
    {
     "name": "stdout",
     "output_type": "stream",
     "text": [
      "[[63192 18611]\n",
      " [  296  1956]]\n"
     ]
    }
   ],
   "source": [
    "results = confusion_matrix(y_train, y_train_preds_elastic)\n",
    "print(results)"
   ]
  },
  {
   "cell_type": "code",
   "execution_count": 133,
   "id": "6997101a",
   "metadata": {},
   "outputs": [
    {
     "name": "stdout",
     "output_type": "stream",
     "text": [
      "Logistic PR AUC: 0.398\n"
     ]
    }
   ],
   "source": [
    "#precision-recall auc curve\n",
    "probs = log_elastic_reg.predict_proba(X_train)\n",
    "pos_probs = probs[:, 1]\n",
    "# calculate the precision-recall auc\n",
    "precision, recall, thresholds = precision_recall_curve(y_train, pos_probs)\n",
    "\n",
    "# precision-recall auc score\n",
    "auc_score = auc(recall, precision)\n",
    "print('Logistic PR AUC: %.3f' % auc_score)"
   ]
  },
  {
   "cell_type": "markdown",
   "id": "717eaa6c",
   "metadata": {},
   "source": [
    "**[11.3]** Logistic Regression Classifier with L1 Regularisation and saga"
   ]
  },
  {
   "cell_type": "markdown",
   "id": "143ee771",
   "metadata": {},
   "source": [
    "note:\n",
    "\n",
    "* using l1 penalty with saga solver"
   ]
  },
  {
   "cell_type": "code",
   "execution_count": 134,
   "id": "38030a71",
   "metadata": {},
   "outputs": [
    {
     "name": "stdout",
     "output_type": "stream",
     "text": [
      "0.7750401522812445\n",
      "0.8511399365242891\n",
      "0.09505518549132105\n",
      "0.8681172291296625\n",
      "0.08605244499264098\n",
      "0.33051563820794594\n"
     ]
    }
   ],
   "source": [
    "log_reg_l1_saga = LogisticRegression(penalty='l1', solver='saga', class_weight='balanced')\n",
    "\n",
    "log_reg_l1_saga.fit(X_train, y_train)\n",
    "\n",
    "y_train_preds_l1_saga = log_reg_l1_saga.predict(X_train)\n",
    "\n",
    "print(accuracy_score(y_train, y_train_preds_l1_saga))\n",
    "print(f1_score(y_train, y_train_preds_l1_saga, average='weighted'))\n",
    "print(precision_score(y_train, y_train_preds_l1_saga))\n",
    "print(recall_score(y_train, y_train_preds_l1_saga))\n",
    "print(average_precision_score(y_train, y_train_preds_l1_saga))\n",
    "print(fbeta_score(y_train, y_train_preds_l1_saga, beta=2, pos_label=1, average='binary'))"
   ]
  },
  {
   "cell_type": "code",
   "execution_count": 135,
   "id": "2bf18c90",
   "metadata": {},
   "outputs": [
    {
     "name": "stdout",
     "output_type": "stream",
     "text": [
      "[[63191 18612]\n",
      " [  297  1955]]\n"
     ]
    }
   ],
   "source": [
    "results = confusion_matrix(y_train, y_train_preds_l1_saga)\n",
    "print(results)"
   ]
  },
  {
   "cell_type": "code",
   "execution_count": 136,
   "id": "5fac53e6",
   "metadata": {},
   "outputs": [
    {
     "name": "stdout",
     "output_type": "stream",
     "text": [
      "Logistic PR AUC: 0.398\n"
     ]
    }
   ],
   "source": [
    "#precision-recall auc curve\n",
    "probs = log_reg_l1_saga.predict_proba(X_train)\n",
    "pos_probs = probs[:, 1]\n",
    "# calculate the precision-recall auc\n",
    "precision, recall, thresholds = precision_recall_curve(y_train, pos_probs)\n",
    "\n",
    "# precision-recall auc score\n",
    "auc_score = auc(recall, precision)\n",
    "print('Logistic PR AUC: %.3f' % auc_score)"
   ]
  },
  {
   "cell_type": "markdown",
   "id": "11644e95",
   "metadata": {},
   "source": [
    "**[11.4]** Logistic Regression Classifier with L1 Regularisation and liblinear"
   ]
  },
  {
   "cell_type": "markdown",
   "id": "e70864e7",
   "metadata": {},
   "source": [
    "note:\n",
    "\n",
    "* For small datasets, ‘liblinear’ is a good choice\n",
    "* ‘liblinear’ is limited to one-versus-rest schemes\n",
    "\n",
    "(scikit-learn developers, 2023)"
   ]
  },
  {
   "cell_type": "code",
   "execution_count": 137,
   "id": "afb7f562",
   "metadata": {},
   "outputs": [
    {
     "name": "stdout",
     "output_type": "stream",
     "text": [
      "0.7766700374754625\n",
      "0.8522028778063117\n",
      "0.09553422779355597\n",
      "0.8663410301953819\n",
      "0.0863462099639811\n",
      "0.33146449201495076\n"
     ]
    }
   ],
   "source": [
    "log_reg_l1_lib = LogisticRegression(penalty='l1', solver='liblinear', class_weight='balanced')\n",
    "\n",
    "log_reg_l1_lib.fit(X_train, y_train)\n",
    "\n",
    "y_train_preds_l1_lib = log_reg_l1_lib.predict(X_train)\n",
    "\n",
    "print(accuracy_score(y_train, y_train_preds_l1_lib))\n",
    "print(f1_score(y_train, y_train_preds_l1_lib, average='weighted'))\n",
    "print(precision_score(y_train, y_train_preds_l1_lib))\n",
    "print(recall_score(y_train, y_train_preds_l1_lib))\n",
    "print(average_precision_score(y_train, y_train_preds_l1_lib))\n",
    "print(fbeta_score(y_train, y_train_preds_l1_lib, beta=2, pos_label=1, average='binary'))"
   ]
  },
  {
   "cell_type": "code",
   "execution_count": 138,
   "id": "f83bb52d",
   "metadata": {},
   "outputs": [
    {
     "name": "stdout",
     "output_type": "stream",
     "text": [
      "[[63332 18471]\n",
      " [  301  1951]]\n"
     ]
    }
   ],
   "source": [
    "results = confusion_matrix(y_train, y_train_preds_l1_lib)\n",
    "print(results)"
   ]
  },
  {
   "cell_type": "code",
   "execution_count": 139,
   "id": "c5f06565",
   "metadata": {},
   "outputs": [
    {
     "name": "stdout",
     "output_type": "stream",
     "text": [
      "Logistic PR AUC: 0.397\n"
     ]
    }
   ],
   "source": [
    "#precision-recall auc curve\n",
    "probs = log_reg_l1_lib.predict_proba(X_train)\n",
    "pos_probs = probs[:, 1]\n",
    "# calculate the precision-recall auc\n",
    "precision, recall, thresholds = precision_recall_curve(y_train, pos_probs)\n",
    "\n",
    "# precision-recall auc score\n",
    "auc_score = auc(recall, precision)\n",
    "print('Logistic PR AUC: %.3f' % auc_score)"
   ]
  },
  {
   "cell_type": "markdown",
   "id": "49f655b9",
   "metadata": {},
   "source": [
    "**[11.5]** Logistic Regression Classifier with L2 Regularisation and saga"
   ]
  },
  {
   "cell_type": "code",
   "execution_count": 140,
   "id": "d3dcb75c",
   "metadata": {},
   "outputs": [
    {
     "name": "stdout",
     "output_type": "stream",
     "text": [
      "0.7750282553090239\n",
      "0.8511323671588085\n",
      "0.09508993680116674\n",
      "0.8685612788632326\n",
      "0.08611294089233404\n",
      "0.3306511596456826\n"
     ]
    }
   ],
   "source": [
    "log_reg_l2_saga = LogisticRegression(penalty='l2', solver='saga', class_weight='balanced')\n",
    "\n",
    "log_reg_l2_saga.fit(X_train, y_train)\n",
    "\n",
    "y_train_preds_l2_saga = log_reg_l2_saga.predict(X_train)\n",
    "\n",
    "print(accuracy_score(y_train, y_train_preds_l2_saga))\n",
    "print(f1_score(y_train, y_train_preds_l2_saga, average='weighted'))\n",
    "print(precision_score(y_train, y_train_preds_l2_saga))\n",
    "print(recall_score(y_train, y_train_preds_l2_saga))\n",
    "print(average_precision_score(y_train, y_train_preds_l2_saga))\n",
    "print(fbeta_score(y_train, y_train_preds_l2_saga, beta=2, pos_label=1, average='binary'))"
   ]
  },
  {
   "cell_type": "code",
   "execution_count": 141,
   "id": "ae87ef8c",
   "metadata": {},
   "outputs": [
    {
     "name": "stdout",
     "output_type": "stream",
     "text": [
      "[[63189 18614]\n",
      " [  296  1956]]\n"
     ]
    }
   ],
   "source": [
    "results = confusion_matrix(y_train, y_train_preds_l2_saga)\n",
    "print(results)"
   ]
  },
  {
   "cell_type": "code",
   "execution_count": 142,
   "id": "5413189e",
   "metadata": {},
   "outputs": [
    {
     "name": "stdout",
     "output_type": "stream",
     "text": [
      "Logistic PR AUC: 0.398\n"
     ]
    }
   ],
   "source": [
    "#precision-recall auc curve\n",
    "probs = log_reg_l2_saga.predict_proba(X_train)\n",
    "pos_probs = probs[:, 1]\n",
    "# calculate the precision-recall auc\n",
    "precision, recall, thresholds = precision_recall_curve(y_train, pos_probs)\n",
    "\n",
    "# precision-recall auc score\n",
    "auc_score = auc(recall, precision)\n",
    "print('Logistic PR AUC: %.3f' % auc_score)"
   ]
  },
  {
   "cell_type": "markdown",
   "id": "a9823bc8",
   "metadata": {},
   "source": [
    "**[11.6]** Logistic Regression Classifier with L2 Regularisation and newton-cg"
   ]
  },
  {
   "cell_type": "markdown",
   "id": "b27dd61a",
   "metadata": {},
   "source": [
    "note:\n",
    "\n",
    "* ‘newton-cholesky’ is a good choice for n_samples >> n_features, especially with one-hot encoded categorical features with rare categories. \n",
    "* it is limited to binary classification\n",
    "\n",
    "(scikit-learn developers, 2023)"
   ]
  },
  {
   "cell_type": "code",
   "execution_count": 143,
   "id": "fe0c1c03",
   "metadata": {},
   "outputs": [
    {
     "name": "stdout",
     "output_type": "stream",
     "text": [
      "0.7767176253643447\n",
      "0.8522339120115162\n",
      "0.09555294348124205\n",
      "0.8663410301953819\n",
      "0.08636242413213187\n",
      "0.33150954937810106\n"
     ]
    }
   ],
   "source": [
    "log_reg_l2_cg = LogisticRegression(penalty='l2', solver='newton-cg', class_weight='balanced')\n",
    "\n",
    "log_reg_l2_cg.fit(X_train, y_train)\n",
    "\n",
    "y_train_preds_l2_cg = log_reg_l2_cg.predict(X_train)\n",
    "\n",
    "print(accuracy_score(y_train, y_train_preds_l2_cg))\n",
    "print(f1_score(y_train, y_train_preds_l2_cg, average='weighted'))\n",
    "print(precision_score(y_train, y_train_preds_l2_cg))\n",
    "print(recall_score(y_train, y_train_preds_l2_cg))\n",
    "print(average_precision_score(y_train, y_train_preds_l2_cg))\n",
    "print(fbeta_score(y_train, y_train_preds_l2_cg, beta=2, pos_label=1, average='binary'))"
   ]
  },
  {
   "cell_type": "code",
   "execution_count": 144,
   "id": "190d46e8",
   "metadata": {},
   "outputs": [
    {
     "name": "stdout",
     "output_type": "stream",
     "text": [
      "[[63336 18467]\n",
      " [  301  1951]]\n"
     ]
    }
   ],
   "source": [
    "results = confusion_matrix(y_train, y_train_preds_l2_cg)\n",
    "print(results)"
   ]
  },
  {
   "cell_type": "code",
   "execution_count": 145,
   "id": "8edaac54",
   "metadata": {},
   "outputs": [
    {
     "name": "stdout",
     "output_type": "stream",
     "text": [
      "Logistic PR AUC: 0.397\n"
     ]
    }
   ],
   "source": [
    "#precision-recall auc curve\n",
    "probs = log_reg_l2_cg.predict_proba(X_train)\n",
    "pos_probs = probs[:, 1]\n",
    "# calculate the precision-recall auc\n",
    "precision, recall, thresholds = precision_recall_curve(y_train, pos_probs)\n",
    "\n",
    "# precision-recall auc score\n",
    "auc_score = auc(recall, precision)\n",
    "print('Logistic PR AUC: %.3f' % auc_score)"
   ]
  },
  {
   "cell_type": "code",
   "execution_count": 146,
   "id": "769d185e",
   "metadata": {},
   "outputs": [
    {
     "name": "stdout",
     "output_type": "stream",
     "text": [
      "0.7809555534405634\n",
      "0.8549175588618895\n",
      "0.0962\n",
      "0.8513274336283185\n",
      "0.08589503422497095\n",
      "0.331267217630854\n"
     ]
    }
   ],
   "source": [
    "#score for the validation set\n",
    "y_val_preds = log_reg_l2_cg.predict(X_val)\n",
    "print(accuracy_score(y_val, y_val_preds))\n",
    "print(f1_score(y_val, y_val_preds, average='weighted'))\n",
    "print(precision_score(y_val, y_val_preds))\n",
    "print(recall_score(y_val, y_val_preds))\n",
    "print(average_precision_score(y_val, y_val_preds))\n",
    "print(fbeta_score(y_val, y_val_preds, beta=2, pos_label=1, average='binary'))"
   ]
  },
  {
   "cell_type": "code",
   "execution_count": 147,
   "id": "fa9ea0cb",
   "metadata": {},
   "outputs": [
    {
     "name": "stdout",
     "output_type": "stream",
     "text": [
      "Logistic PR AUC: 0.376\n"
     ]
    }
   ],
   "source": [
    "#precision-recall auc curve\n",
    "probs = log_reg_l2_cg.predict_proba(X_val)\n",
    "pos_probs = probs[:, 1]\n",
    "# calculate the precision-recall auc\n",
    "precision, recall, thresholds = precision_recall_curve(y_val, pos_probs)\n",
    "\n",
    "# precision-recall auc score\n",
    "auc_score = auc(recall, precision)\n",
    "print('Logistic PR AUC: %.3f' % auc_score)"
   ]
  },
  {
   "cell_type": "code",
   "execution_count": 148,
   "id": "1340e7d4",
   "metadata": {},
   "outputs": [
    {
     "name": "stdout",
     "output_type": "stream",
     "text": [
      "0.7744023146033197\n",
      "0.8507171250498018\n",
      "0.09481688392302917\n",
      "0.8678977272727273\n",
      "0.08583178748370542\n",
      "0.3299136069114471\n"
     ]
    }
   ],
   "source": [
    "#score for the test set\n",
    "y_test_preds = log_reg_l2_cg.predict(X_test)\n",
    "print(accuracy_score(y_test, y_test_preds))\n",
    "print(f1_score(y_test, y_test_preds, average='weighted'))\n",
    "print(precision_score(y_test, y_test_preds))\n",
    "print(recall_score(y_test, y_test_preds))\n",
    "print(average_precision_score(y_test, y_test_preds))\n",
    "print(fbeta_score(y_test, y_test_preds, beta=2, pos_label=1, average='binary'))"
   ]
  },
  {
   "cell_type": "code",
   "execution_count": 149,
   "id": "978ad703",
   "metadata": {},
   "outputs": [
    {
     "name": "stdout",
     "output_type": "stream",
     "text": [
      "Logistic PR AUC: 0.401\n"
     ]
    }
   ],
   "source": [
    "#precision-recall auc curve\n",
    "probs = log_reg_l2_cg.predict_proba(X_test)\n",
    "pos_probs = probs[:, 1]\n",
    "# calculate the precision-recall auc\n",
    "precision, recall, thresholds = precision_recall_curve(y_test, pos_probs)\n",
    "\n",
    "# precision-recall auc score\n",
    "auc_score = auc(recall, precision)\n",
    "print('Logistic PR AUC: %.3f' % auc_score)"
   ]
  },
  {
   "cell_type": "markdown",
   "id": "71a8cb0e",
   "metadata": {},
   "source": [
    "**[11.7]** Logistic Regression Classifier with L2 Regularisation and newton-cg using normalised data"
   ]
  },
  {
   "cell_type": "code",
   "execution_count": 150,
   "id": "51e6de85",
   "metadata": {},
   "outputs": [
    {
     "name": "stdout",
     "output_type": "stream",
     "text": [
      "0.7758967342811255\n",
      "0.8516994597986376\n",
      "0.09542859930721569\n",
      "0.8685612788632326\n",
      "0.08640709003169093\n",
      "0.33146924250127097\n"
     ]
    }
   ],
   "source": [
    "log_reg_l2_cg = LogisticRegression(penalty='l2', solver='newton-cg', class_weight='balanced')\n",
    "\n",
    "log_reg_l2_cg.fit(X_train_norm, y_train)\n",
    "\n",
    "y_train_preds_l2_cg = log_reg_l2_cg.predict(X_train_norm)\n",
    "\n",
    "print(accuracy_score(y_train, y_train_preds_l2_cg))\n",
    "print(f1_score(y_train, y_train_preds_l2_cg, average='weighted'))\n",
    "print(precision_score(y_train, y_train_preds_l2_cg))\n",
    "print(recall_score(y_train, y_train_preds_l2_cg))\n",
    "print(average_precision_score(y_train, y_train_preds_l2_cg))\n",
    "print(fbeta_score(y_train, y_train_preds_l2_cg, beta=2, pos_label=1, average='binary'))"
   ]
  },
  {
   "cell_type": "code",
   "execution_count": 151,
   "id": "2223544a",
   "metadata": {},
   "outputs": [
    {
     "name": "stdout",
     "output_type": "stream",
     "text": [
      "[[63262 18541]\n",
      " [  296  1956]]\n"
     ]
    }
   ],
   "source": [
    "results = confusion_matrix(y_train, y_train_preds_l2_cg)\n",
    "print(results)"
   ]
  },
  {
   "cell_type": "code",
   "execution_count": 152,
   "id": "58ce7b31",
   "metadata": {},
   "outputs": [
    {
     "name": "stdout",
     "output_type": "stream",
     "text": [
      "Logistic PR AUC: 0.395\n"
     ]
    }
   ],
   "source": [
    "#precision-recall auc curve\n",
    "probs = log_reg_l2_cg.predict_proba(X_train_norm)\n",
    "pos_probs = probs[:, 1]\n",
    "# calculate the precision-recall auc\n",
    "precision, recall, thresholds = precision_recall_curve(y_train, pos_probs)\n",
    "\n",
    "# precision-recall auc score\n",
    "auc_score = auc(recall, precision)\n",
    "print('Logistic PR AUC: %.3f' % auc_score)"
   ]
  },
  {
   "cell_type": "code",
   "execution_count": 153,
   "id": "10e1374c",
   "metadata": {},
   "outputs": [
    {
     "name": "stdout",
     "output_type": "stream",
     "text": [
      "0.7795279337584468\n",
      "0.853991357008815\n",
      "0.09578696343402225\n",
      "0.8530973451327434\n",
      "0.08566535199108105\n",
      "0.3304991771804718\n"
     ]
    }
   ],
   "source": [
    "#score for the validation set\n",
    "y_val_preds = log_reg_l2_cg.predict(X_val_norm)\n",
    "print(accuracy_score(y_val, y_val_preds))\n",
    "print(f1_score(y_val, y_val_preds, average='weighted'))\n",
    "print(precision_score(y_val, y_val_preds))\n",
    "print(recall_score(y_val, y_val_preds))\n",
    "print(average_precision_score(y_val, y_val_preds))\n",
    "print(fbeta_score(y_val, y_val_preds, beta=2, pos_label=1, average='binary'))"
   ]
  },
  {
   "cell_type": "code",
   "execution_count": 154,
   "id": "a8b8a3d7",
   "metadata": {},
   "outputs": [
    {
     "name": "stdout",
     "output_type": "stream",
     "text": [
      "Logistic PR AUC: 0.374\n"
     ]
    }
   ],
   "source": [
    "#precision-recall auc curve\n",
    "probs = log_reg_l2_cg.predict_proba(X_val_norm)\n",
    "pos_probs = probs[:, 1]\n",
    "# calculate the precision-recall auc\n",
    "precision, recall, thresholds = precision_recall_curve(y_val, pos_probs)\n",
    "\n",
    "# precision-recall auc score\n",
    "auc_score = auc(recall, precision)\n",
    "print('Logistic PR AUC: %.3f' % auc_score)"
   ]
  },
  {
   "cell_type": "code",
   "execution_count": 155,
   "id": "63ccd0f9",
   "metadata": {},
   "outputs": [
    {
     "name": "stdout",
     "output_type": "stream",
     "text": [
      "0.7736028627988427\n",
      "0.8501955499227944\n",
      "0.0947596228165095\n",
      "0.8707386363636364\n",
      "0.08597515590631337\n",
      "0.3301023155627356\n"
     ]
    }
   ],
   "source": [
    "#score for the test set\n",
    "y_test_preds = log_reg_l2_cg.predict(X_test_norm)\n",
    "print(accuracy_score(y_test, y_test_preds))\n",
    "print(f1_score(y_test, y_test_preds, average='weighted'))\n",
    "print(precision_score(y_test, y_test_preds))\n",
    "print(recall_score(y_test, y_test_preds))\n",
    "print(average_precision_score(y_test, y_test_preds))\n",
    "print(fbeta_score(y_test, y_test_preds, beta=2, pos_label=1, average='binary'))"
   ]
  },
  {
   "cell_type": "code",
   "execution_count": 156,
   "id": "d6df376e",
   "metadata": {},
   "outputs": [
    {
     "name": "stdout",
     "output_type": "stream",
     "text": [
      "Logistic PR AUC: 0.400\n"
     ]
    }
   ],
   "source": [
    "#precision-recall auc curve\n",
    "probs = log_reg_l2_cg.predict_proba(X_test_norm)\n",
    "pos_probs = probs[:, 1]\n",
    "# calculate the precision-recall auc\n",
    "precision, recall, thresholds = precision_recall_curve(y_test, pos_probs)\n",
    "\n",
    "# precision-recall auc score\n",
    "auc_score = auc(recall, precision)\n",
    "print('Logistic PR AUC: %.3f' % auc_score)"
   ]
  },
  {
   "cell_type": "markdown",
   "id": "68c4747c",
   "metadata": {},
   "source": [
    "**[11.8]** Logistic Regression Classifier with L2 Regularisation and liblinear"
   ]
  },
  {
   "cell_type": "code",
   "execution_count": 157,
   "id": "2e60dde9",
   "metadata": {},
   "outputs": [
    {
     "name": "stdout",
     "output_type": "stream",
     "text": [
      "0.7766700374754625\n",
      "0.8522028778063117\n",
      "0.09553422779355597\n",
      "0.8663410301953819\n",
      "0.0863462099639811\n",
      "0.33146449201495076\n"
     ]
    }
   ],
   "source": [
    "log_reg_l2_lib = LogisticRegression(penalty='l2', solver='liblinear', class_weight='balanced')\n",
    "\n",
    "log_reg_l2_lib.fit(X_train, y_train)\n",
    "\n",
    "y_train_preds_l2_lib = log_reg_l2_lib.predict(X_train)\n",
    "\n",
    "print(accuracy_score(y_train, y_train_preds_l2_lib))\n",
    "print(f1_score(y_train, y_train_preds_l2_lib, average='weighted'))\n",
    "print(precision_score(y_train, y_train_preds_l2_lib))\n",
    "print(recall_score(y_train, y_train_preds_l2_lib))\n",
    "print(average_precision_score(y_train, y_train_preds_l2_lib))\n",
    "print(fbeta_score(y_train, y_train_preds_l2_lib, beta=2, pos_label=1, average='binary'))"
   ]
  },
  {
   "cell_type": "code",
   "execution_count": 158,
   "id": "5330f431",
   "metadata": {},
   "outputs": [
    {
     "name": "stdout",
     "output_type": "stream",
     "text": [
      "[[63332 18471]\n",
      " [  301  1951]]\n"
     ]
    }
   ],
   "source": [
    "results = confusion_matrix(y_train, y_train_preds_l2_lib)\n",
    "print(results)"
   ]
  },
  {
   "cell_type": "code",
   "execution_count": 159,
   "id": "e3cc560b",
   "metadata": {},
   "outputs": [
    {
     "name": "stdout",
     "output_type": "stream",
     "text": [
      "Logistic PR AUC: 0.397\n"
     ]
    }
   ],
   "source": [
    "#precision-recall auc curve\n",
    "probs = log_reg_l2_lib.predict_proba(X_train)\n",
    "pos_probs = probs[:, 1]\n",
    "# calculate the precision-recall auc\n",
    "precision, recall, thresholds = precision_recall_curve(y_train, pos_probs)\n",
    "\n",
    "# precision-recall auc score\n",
    "auc_score = auc(recall, precision)\n",
    "print('Logistic PR AUC: %.3f' % auc_score)"
   ]
  },
  {
   "cell_type": "markdown",
   "id": "50bf1399",
   "metadata": {},
   "source": [
    "## 12. Conclusion"
   ]
  },
  {
   "cell_type": "markdown",
   "id": "3712dfb6",
   "metadata": {},
   "source": [
    "All models had similar behaviour. The model with the default parameters is chosen [11.1] Logistic Regression Classifier. It improved the prediction compared to the base model. However, the model's performance is still low.\n",
    "The decision is to try other algorithms to validate whether the data fits better using another learning method.\n"
   ]
  },
  {
   "cell_type": "markdown",
   "id": "0a97257e",
   "metadata": {},
   "source": [
    "## 13. References"
   ]
  },
  {
   "cell_type": "markdown",
   "id": "4967e5cd",
   "metadata": {},
   "source": [
    "AGRAWAL, S. (2019). EDA for Categorical Variables—A Beginner’s Way. https://kaggle.com/code/nextbigwhat/eda-for-categorical-variables-a-beginner-s-way\n",
    "\n",
    "Arsik36. (2020, August 7). Answer to ‘Scaling of categorical variable’. Stack Overflow. https://stackoverflow.com/a/63304313\n",
    "\n",
    "Brownlee, J. (2020a, January 5). ROC Curves and Precision-Recall Curves for Imbalanced Classification. MachineLearningMastery.Com. https://machinelearningmastery.com/roc-curves-and-precision-recall-curves-for-imbalanced-classification/\n",
    "\n",
    "Brownlee, J. (2020b, January 26). Cost-Sensitive Logistic Regression for Imbalanced Classification. MachineLearningMastery.Com. https://machinelearningmastery.com/cost-sensitive-logistic-regression/\n",
    "\n",
    "Brownlee, J. (2020c, June 9). How to Use StandardScaler and MinMaxScaler Transforms in Python. MachineLearningMastery.Com. https://machinelearningmastery.com/standardscaler-and-minmaxscaler-transforms-in-python/\n",
    "\n",
    "Brownlee, J. (2020d, January 12). How to Fix k-Fold Cross-Validation for Imbalanced Classification. MachineLearningMastery.Com. https://machinelearningmastery.com/cross-validation-for-imbalanced-classification/\n",
    "\n",
    "Brownlee, J. (2020e, January 7). Tour of Evaluation Metrics for Imbalanced Classification. MachineLearningMastery.Com. https://machinelearningmastery.com/tour-of-evaluation-metrics-for-imbalanced-classification/\n",
    "\n",
    "Brownlee, J. (2020f, June 11). Ordinal and One-Hot Encodings for Categorical Data. MachineLearningMastery.Com. https://machinelearningmastery.com/one-hot-encoding-for-categorical-data/\n",
    "\n",
    "Czakon, J. (2022, July 21). F1 Score vs ROC AUC vs Accuracy vs PR AUC: Which Evaluation Metric Should You Choose? Neptune.Ai. https://neptune.ai/blog/f1-score-accuracy-roc-auc-pr-auc\n",
    "\n",
    "Dodier, R. (2014, October 5). Answer to ‘Should I keep/remove identical training examples that represent different objects?’ Stack Overflow. https://stackoverflow.com/a/26199916\n",
    "\n",
    "Hoffman, E. (2020, July 15). Tutorial: Exploratory Data Analysis (EDA) with Categorical Variables. Analytics Vidhya. https://medium.com/analytics-vidhya/tutorial-exploratory-data-analysis-eda-with-categorical-variables-6a569a3aea55\n",
    "\n",
    "Kapkar. (2020). Which Machine Learning requires Feature Scaling(Standardization and Normalization)? And Which not? | Data Science and Machine Learning. https://www.kaggle.com/getting-started/a\n",
    "\n",
    "Kumar, A. (2020, July 27). MinMaxScaler vs StandardScaler—Python Examples. Data Analytics. https://vitalflux.com/minmaxscaler-standardscaler-python-examples/\n",
    "\n",
    "Malato, G. (2021, June 7). Precision, recall, accuracy. How to choose? Your Data Teacher. https://www.yourdatateacher.com/2021/06/07/precision-recall-accuracy-how-to-choose/\n",
    "\n",
    "Olugbenga, M. (2022, July 22). Balanced Accuracy: When Should You Use It? Neptune.Ai. https://neptune.ai/blog/balanced-accuracy\n",
    "\n",
    "scikit-learn developers. (2023). Sklearn.linear_model.LogisticRegression. Scikit-Learn. https://scikit-learn/stable/modules/generated/sklearn.linear_model.LogisticRegression.html\n",
    "\n",
    "scikit-learn developers. (2023). Sklearn.metrics.fbeta_score. Scikit-Learn. https://scikit-learn/stable/modules/generated/sklearn.metrics.fbeta_score.html\n",
    "\n",
    "\n",
    "Sethi, A. (2020, March 5). One-Hot Encoding vs. Label Encoding using Scikit-Learn. Analytics Vidhya. https://www.analyticsvidhya.com/blog/2020/03/one-hot-encoding-vs-label-encoding-using-scikit-learn/\n",
    "\n",
    "So, A. (2023). Course Modules: 36106 Machine Learning Algorithms and Applications—Autumn 2023. Lab Solutions. https://canvas.uts.edu.au/courses/26202/modules\n"
   ]
  }
 ],
 "metadata": {
  "kernelspec": {
   "display_name": "Python 3 (ipykernel)",
   "language": "python",
   "name": "python3"
  },
  "language_info": {
   "codemirror_mode": {
    "name": "ipython",
    "version": 3
   },
   "file_extension": ".py",
   "mimetype": "text/x-python",
   "name": "python",
   "nbconvert_exporter": "python",
   "pygments_lexer": "ipython3",
   "version": "3.9.13"
  }
 },
 "nbformat": 4,
 "nbformat_minor": 5
}
